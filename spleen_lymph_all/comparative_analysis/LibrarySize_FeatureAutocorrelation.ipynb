{
 "cells": [
  {
   "cell_type": "markdown",
   "metadata": {},
   "source": [
    "# Exploration of protein and RNA library size and feature autocorrelations\n",
    "\n",
    "Zoë Steier\n",
    "\n",
    "* Dataset: SLN-all\n",
    "* Compare RNA and protein library sizes\n",
    "* Explore heterogeneity of library sizes within B cells\n",
    "* Compare autocorrelations of features in different latent spaces"
   ]
  },
  {
   "cell_type": "markdown",
   "metadata": {
    "heading_collapsed": true
   },
   "source": [
    "## Imports and settings"
   ]
  },
  {
   "cell_type": "code",
   "execution_count": 1,
   "metadata": {
    "hidden": true
   },
   "outputs": [],
   "source": [
    "# Import required packages\n",
    "\n",
    "import os\n",
    "import seaborn as sns\n",
    "import numpy as np\n",
    "import torch\n",
    "\n",
    "from scvi.dataset import CellMeasurement, AnnDatasetFromAnnData, GeneExpressionDataset\n",
    "from scvi.models import VAE, TOTALVI\n",
    "from scvi.inference import TotalPosterior, TotalTrainer, UnsupervisedTrainer\n",
    "\n",
    "import anndata\n",
    "import scanpy as sc\n",
    "import pandas as pd\n",
    "import matplotlib.pyplot as plt\n",
    "from natsort import natsorted\n",
    "import matplotlib.colors\n",
    "from scipy.stats import spearmanr\n",
    "from scipy.stats import pearsonr\n",
    "from scipy.stats import ttest_ind\n",
    "from scipy.stats import sem\n",
    "from scipy.stats import ranksums\n",
    "\n",
    "from plotnine import *\n",
    "from sklearn.preprocessing import StandardScaler\n",
    "from statsmodels.stats.multitest import multipletests\n",
    "\n",
    "from scvi import set_seed\n",
    "\n",
    "save_path = \"/data/yosef2/users/adamgayoso/projects/totalVI_journal/data/\"\n",
    "\n",
    "set_seed(0)\n",
    "\n",
    "%load_ext autoreload\n",
    "%autoreload 2\n",
    "%matplotlib inline"
   ]
  },
  {
   "cell_type": "code",
   "execution_count": 2,
   "metadata": {
    "hidden": true
   },
   "outputs": [],
   "source": [
    "# GPU settings\n",
    "\n",
    "os.environ[\"CUDA_DEVICE_ORDER\"] = \"PCI_BUS_ID\"\n",
    "os.environ[\"CUDA_VISIBLE_DEVICES\"] = \"0\""
   ]
  },
  {
   "cell_type": "code",
   "execution_count": 3,
   "metadata": {
    "hidden": true
   },
   "outputs": [],
   "source": [
    "# Plotting settings\n",
    "\n",
    "colors = [\"#3B7EA1\", \"#FDB515\", \"#D9661F\", \"#859438\", \"#EE1F60\", \"#00A598\"]\n",
    "sns.set(context=\"notebook\", font_scale=1.3, style=\"ticks\")\n",
    "sns.set_palette(sns.color_palette(colors))\n",
    "plt.rcParams['svg.fonttype'] = 'none'\n",
    "plt.rcParams['pdf.fonttype'] = 42\n",
    "plt.rcParams['savefig.transparent'] = True\n",
    "sc.settings._vector_friendly = True\n",
    "DPI = 300"
   ]
  },
  {
   "cell_type": "markdown",
   "metadata": {
    "heading_collapsed": true
   },
   "source": [
    "## Load data"
   ]
  },
  {
   "cell_type": "code",
   "execution_count": 4,
   "metadata": {
    "hidden": true
   },
   "outputs": [
    {
     "name": "stderr",
     "output_type": "stream",
     "text": [
      "Observation names are not unique. To make them unique, call `.obs_names_make_unique`.\n"
     ]
    }
   ],
   "source": [
    "post_adata = anndata.read(\"/data/yosef2/users/zsteier/totalVI/totalVI_journal/spleen_lymph_all/totalVI/sln_all_intersect_results_post_adata.h5ad\")"
   ]
  },
  {
   "cell_type": "markdown",
   "metadata": {
    "heading_collapsed": true
   },
   "source": [
    "## Compare RNA and protein library sizes"
   ]
  },
  {
   "cell_type": "code",
   "execution_count": 5,
   "metadata": {
    "hidden": true
   },
   "outputs": [],
   "source": [
    "include_cells = [\n",
    "    c not in [\"16,0\", \"17\", \"19\", \"21\", \"23\", \"24,0\", \"24,2\", \"25\", \"29\"]\n",
    "    for c in post_adata.obs[\"leiden_subclusters\"]\n",
    "]"
   ]
  },
  {
   "cell_type": "code",
   "execution_count": 6,
   "metadata": {
    "hidden": true
   },
   "outputs": [],
   "source": [
    "# Calculate library size of 111 panel\n",
    "\n",
    "post_adata.obs[\"n_protein_counts_111\"] = post_adata.obsm[\"protein_expression\"].sum(axis=1)\n"
   ]
  },
  {
   "cell_type": "code",
   "execution_count": 7,
   "metadata": {
    "hidden": true
   },
   "outputs": [],
   "source": [
    "# Add log library size to adata\n",
    "post_adata.obs[\"loglibrary_protein\"] = np.log1p(post_adata.obsm[\"protein_expression\"].sum(axis=1))\n",
    "post_adata.obs[\"loglibrary_RNA\"] = np.log1p(post_adata.X.sum(axis=1))"
   ]
  },
  {
   "cell_type": "code",
   "execution_count": 8,
   "metadata": {
    "hidden": true
   },
   "outputs": [
    {
     "name": "stderr",
     "output_type": "stream",
     "text": [
      "Observation names are not unique. To make them unique, call `.obs_names_make_unique`.\n"
     ]
    },
    {
     "data": {
      "text/plain": [
       "View of AnnData object with n_obs × n_vars = 8736 × 4005 \n",
       "    obs: 'leiden_totalVI_1.0', 'leiden_totalVI_0.8', 'leiden_totalVI_0.6', 'leiden_totalVI_0.4', 'annotations', 'leiden_subclusters', 'batch_indices', 'n_genes', 'n_protein_counts', 'n_proteins', 'n_RNA_counts', 'percent_mito', 'seurat_hash_id', 'ADT_CD102_A0104_fore_prob', 'ADT_CD102_A0104', 'ADT_CD103_A0201_fore_prob', 'ADT_CD103_A0201', 'ADT_CD106_A0226_fore_prob', 'ADT_CD106_A0226', 'ADT_CD115(CSF-1R)_A0105_fore_prob', 'ADT_CD115(CSF-1R)_A0105', 'ADT_CD117(c-Kit)_A0012_fore_prob', 'ADT_CD117(c-Kit)_A0012', 'ADT_CD11a_A0595_fore_prob', 'ADT_CD11a_A0595', 'ADT_CD11c_A0106_fore_prob', 'ADT_CD11c_A0106', 'ADT_CD122(IL-2Rb)_A0227_fore_prob', 'ADT_CD122(IL-2Rb)_A0227', 'ADT_CD127(IL-7Ra)_A0198_fore_prob', 'ADT_CD127(IL-7Ra)_A0198', 'ADT_CD134(OX-40)_A0195_fore_prob', 'ADT_CD134(OX-40)_A0195', 'ADT_CD135_A0098_fore_prob', 'ADT_CD135_A0098', 'ADT_CD137_A0194_fore_prob', 'ADT_CD137_A0194', 'ADT_CD140a_A0573_fore_prob', 'ADT_CD140a_A0573', 'ADT_CD14_A0424_fore_prob', 'ADT_CD14_A0424', 'ADT_CD15(SSEA-1)_A0076_fore_prob', 'ADT_CD15(SSEA-1)_A0076', 'ADT_CD150(SLAM)_A0203_fore_prob', 'ADT_CD150(SLAM)_A0203', 'ADT_CD16-32_A0109_fore_prob', 'ADT_CD16-32_A0109', 'ADT_CD169(Siglec-1)_A0440_fore_prob', 'ADT_CD169(Siglec-1)_A0440', 'ADT_CD172a(SIRPa)_A0422_fore_prob', 'ADT_CD172a(SIRPa)_A0422', 'ADT_CD183(CXCR3)_A0228_fore_prob', 'ADT_CD183(CXCR3)_A0228', 'ADT_CD184(CXCR4)_A0444_fore_prob', 'ADT_CD184(CXCR4)_A0444', 'ADT_CD192(CCR2)_A0426_fore_prob', 'ADT_CD192(CCR2)_A0426', 'ADT_CD195(CCR5)_A0376_fore_prob', 'ADT_CD195(CCR5)_A0376', 'ADT_CD196(CCR6)_A0225_fore_prob', 'ADT_CD196(CCR6)_A0225', 'ADT_CD197(CCR7)_A0377_fore_prob', 'ADT_CD197(CCR7)_A0377', 'ADT_CD19_A0093_fore_prob', 'ADT_CD19_A0093', 'ADT_CD200(OX2)_A0079_fore_prob', 'ADT_CD200(OX2)_A0079', 'ADT_CD201(EPCR)_A0439_fore_prob', 'ADT_CD201(EPCR)_A0439', 'ADT_CD204(Msr1)_A0448_fore_prob', 'ADT_CD204(Msr1)_A0448', 'ADT_CD206(MMR)_A0173_fore_prob', 'ADT_CD206(MMR)_A0173', 'ADT_CD20_A0192_fore_prob', 'ADT_CD20_A0192', 'ADT_CD21-CD35(CR2-CR1)_A0107_fore_prob', 'ADT_CD21-CD35(CR2-CR1)_A0107', 'ADT_CD223(LAG-3)_A0378_fore_prob', 'ADT_CD223(LAG-3)_A0378', 'ADT_CD23_A0108_fore_prob', 'ADT_CD23_A0108', 'ADT_CD24_A0212_fore_prob', 'ADT_CD24_A0212', 'ADT_CD25_A0097_fore_prob', 'ADT_CD25_A0097', 'ADT_CD274(B7-H1_PD-L1)_A0190_fore_prob', 'ADT_CD274(B7-H1_PD-L1)_A0190', 'ADT_CD278(ICOS)_A0171_fore_prob', 'ADT_CD278(ICOS)_A0171', 'ADT_CD279(PD-1)_A0004_fore_prob', 'ADT_CD279(PD-1)_A0004', 'ADT_CD28_A0204_fore_prob', 'ADT_CD28_A0204', 'ADT_CD29_A0570_fore_prob', 'ADT_CD29_A0570', 'ADT_CD300LG(Nepmucin)_A0416_fore_prob', 'ADT_CD300LG(Nepmucin)_A0416', 'ADT_CD301a(MGL1)_A0551_fore_prob', 'ADT_CD301a(MGL1)_A0551', 'ADT_CD301b(MGL2)_A0566_fore_prob', 'ADT_CD301b(MGL2)_A0566', 'ADT_CD304(Neuropilin-1)_A0552_fore_prob', 'ADT_CD304(Neuropilin-1)_A0552', 'ADT_CD326(Ep-CAM)_A0449_fore_prob', 'ADT_CD326(Ep-CAM)_A0449', 'ADT_CD335(NKp46)_A0184_fore_prob', 'ADT_CD335(NKp46)_A0184', 'ADT_CD357(GITR)_A0193_fore_prob', 'ADT_CD357(GITR)_A0193', 'ADT_CD366(Tim-3)_A0003_fore_prob', 'ADT_CD366(Tim-3)_A0003', 'ADT_CD36_A0555_fore_prob', 'ADT_CD36_A0555', 'ADT_CD370(CLEC9A_DNGR1)_A0556_fore_prob', 'ADT_CD370(CLEC9A_DNGR1)_A0556', 'ADT_CD38_A0557_fore_prob', 'ADT_CD38_A0557', 'ADT_CD41_A0443_fore_prob', 'ADT_CD41_A0443', 'ADT_CD43_A0110_fore_prob', 'ADT_CD43_A0110', 'ADT_CD45.1_A0178_fore_prob', 'ADT_CD45.1_A0178', 'ADT_CD45.2_A0157_fore_prob', 'ADT_CD45.2_A0157', 'ADT_CD45R-B220_A0103_fore_prob', 'ADT_CD45R-B220_A0103', 'ADT_CD45_A0096_fore_prob', 'ADT_CD45_A0096', 'ADT_CD48_A0429_fore_prob', 'ADT_CD48_A0429', 'ADT_CD49d_A0078_fore_prob', 'ADT_CD49d_A0078', 'ADT_CD4_A0001_fore_prob', 'ADT_CD4_A0001', 'ADT_CD54_A0074_fore_prob', 'ADT_CD54_A0074', 'ADT_CD55(DAF)_A0558_fore_prob', 'ADT_CD55(DAF)_A0558', 'ADT_CD5_A0111_fore_prob', 'ADT_CD5_A0111', 'ADT_CD62L_A0112_fore_prob', 'ADT_CD62L_A0112', 'ADT_CD62P(P-selectin)_A0229_fore_prob', 'ADT_CD62P(P-selectin)_A0229', 'ADT_CD63_A0559_fore_prob', 'ADT_CD63_A0559', 'ADT_CD64(FcrRI)_A0202_fore_prob', 'ADT_CD64(FcrRI)_A0202', 'ADT_CD68_A0560_fore_prob', 'ADT_CD68_A0560', 'ADT_CD69_A0197_fore_prob', 'ADT_CD69_A0197', 'ADT_CD71_A0441_fore_prob', 'ADT_CD71_A0441', 'ADT_CD73_A0077_fore_prob', 'ADT_CD73_A0077', 'ADT_CD79b(Igb)_A0561_fore_prob', 'ADT_CD79b(Igb)_A0561', 'ADT_CD83_A0562_fore_prob', 'ADT_CD83_A0562', 'ADT_CD86_A0200_fore_prob', 'ADT_CD86_A0200', 'ADT_CD8a_A0002_fore_prob', 'ADT_CD8a_A0002', 'ADT_CD8b(Ly-3)_A0230_fore_prob', 'ADT_CD8b(Ly-3)_A0230', 'ADT_CD90.1(Thy-1.1)_A0380_fore_prob', 'ADT_CD90.1(Thy-1.1)_A0380', 'ADT_CD90.2_A0075_fore_prob', 'ADT_CD90.2_A0075', 'ADT_CD93(AA4.1_earlyBlineage)_A0113_fore_prob', 'ADT_CD93(AA4.1_earlyBlineage)_A0113', 'ADT_CX3CR1_A0563_fore_prob', 'ADT_CX3CR1_A0563', 'ADT_ESAM_A0596_fore_prob', 'ADT_ESAM_A0596', 'ADT_F4-80_A0114_fore_prob', 'ADT_F4-80_A0114', 'ADT_FceRIa_A0115_fore_prob', 'ADT_FceRIa_A0115', 'ADT_FolateReceptorb(FR-b)_A0564_fore_prob', 'ADT_FolateReceptorb(FR-b)_A0564', 'ADT_H-2KbboundtoSIINFEKL_A0231_fore_prob', 'ADT_H-2KbboundtoSIINFEKL_A0231', 'ADT_I-A-I-E_A0117_fore_prob', 'ADT_I-A-I-E_A0117', 'ADT_IRF4_A0249_fore_prob', 'ADT_IRF4_A0249', 'ADT_IgD_A0571_fore_prob', 'ADT_IgD_A0571', 'ADT_IgM_A0450_fore_prob', 'ADT_IgM_A0450', 'ADT_Ly-6A-E(Sca-1)_A0130_fore_prob', 'ADT_Ly-6A-E(Sca-1)_A0130', 'ADT_Ly-6C_A0013_fore_prob', 'ADT_Ly-6C_A0013', 'ADT_MAdCAM-1_A0232_fore_prob', 'ADT_MAdCAM-1_A0232', 'ADT_MERTK(Mer)_A0565_fore_prob', 'ADT_MERTK(Mer)_A0565', 'ADT_NK-1.1_A0118_fore_prob', 'ADT_NK-1.1_A0118', 'ADT_Notch1_A0442_fore_prob', 'ADT_Notch1_A0442', 'ADT_PanendothelialCellAntigen_A0381_fore_prob', 'ADT_PanendothelialCellAntigen_A0381', 'ADT_SiglecH_A0119_fore_prob', 'ADT_SiglecH_A0119', 'ADT_TCRVb5.1_5.2_A0354_fore_prob', 'ADT_TCRVb5.1_5.2_A0354', 'ADT_TCRVb8.1_8.2_A0235_fore_prob', 'ADT_TCRVb8.1_8.2_A0235', 'ADT_TCRVr1.1-Cr4_A0209_fore_prob', 'ADT_TCRVr1.1-Cr4_A0209', 'ADT_TCRVr2_A0211_fore_prob', 'ADT_TCRVr2_A0211', 'ADT_TCRVr3_A0210_fore_prob', 'ADT_TCRVr3_A0210', 'ADT_TCRbchain_A0120_fore_prob', 'ADT_TCRbchain_A0120', 'ADT_TCRr-d_A0121_fore_prob', 'ADT_TCRr-d_A0121', 'ADT_TER-119-ErythroidCells_A0122_fore_prob', 'ADT_TER-119-ErythroidCells_A0122', 'ADT_Tim-4_A0567_fore_prob', 'ADT_Tim-4_A0567', 'ADT_XCR1_A0568_fore_prob', 'ADT_XCR1_A0568', 'ADT_anti-P2RY12_A0415_fore_prob', 'ADT_anti-P2RY12_A0415', 'ADT_integrinb7_A0214_fore_prob', 'ADT_integrinb7_A0214', 'n_protein_counts_111', 'loglibrary_protein', 'loglibrary_RNA'\n",
       "    var: 'highly_variable', 'encode', 'hvg_encode'\n",
       "    uns: 'annotations_colors', 'leiden', 'leiden_subclusters_colors', 'leiden_totalVI_0.4_colors', 'leiden_totalVI_0.6_colors', 'leiden_totalVI_0.8_colors', 'leiden_totalVI_1.0_colors', 'neighbors', 'totalVI_genes', 'totalVI_proteins', 'umap'\n",
       "    obsm: 'X_totalVI', 'X_umap', 'denoised_genes', 'denoised_proteins', 'protein_expression'"
      ]
     },
     "execution_count": 8,
     "metadata": {},
     "output_type": "execute_result"
    }
   ],
   "source": [
    "# Make a new adata for include_cells\n",
    "# Subset to batch 0 (SLN111-D1)\n",
    "\n",
    "adata = post_adata.copy()[include_cells]\n",
    "adata = adata[np.array(adata.obs[\"batch_indices\"] == \"0\")]\n",
    "adata"
   ]
  },
  {
   "cell_type": "code",
   "execution_count": 9,
   "metadata": {
    "hidden": true
   },
   "outputs": [
    {
     "data": {
      "image/png": "[encoded data removed]",
      "text/plain": [
       "<Figure size 576x288 with 4 Axes>"
      ]
     },
     "metadata": {},
     "output_type": "display_data"
    }
   ],
   "source": [
    "# Plot library sizes on UMAP\n",
    "\n",
    "fig, ax_arr = plt.subplots(1,2, figsize = (4*2, 4))\n",
    "title_arr = [\"log(Protein library size)\", \"log(RNA library size)\"]\n",
    "\n",
    "for i, feature in enumerate(['loglibrary_protein', \"loglibrary_RNA\"]):\n",
    "    sc.pl.umap(\n",
    "        adata, \n",
    "        use_raw = False,\n",
    "        color=feature, \n",
    "        ncols=1, \n",
    "        color_map = \"viridis\",\n",
    "        frameon = False,\n",
    "        ax = ax_arr.flat[i],\n",
    "        vmax = \"p99\",\n",
    "        vmin = \"p1\",\n",
    "        show = False,\n",
    "        title = title_arr[i]\n",
    "    )\n",
    "    \n",
    "plt.tight_layout()\n",
    "\n",
    "#fig.savefig(\"/data/yosef2/users/zsteier/totalVI/totalVI_journal/spleen_lymph_all/comparative_analysis/libsize_figures/libsize_UMAP.pdf\", dpi = DPI)"
   ]
  },
  {
   "cell_type": "code",
   "execution_count": 10,
   "metadata": {
    "hidden": true
   },
   "outputs": [
    {
     "data": {
      "image/png": "[encoded data removed]",
      "text/plain": [
       "<Figure size 288x288 with 1 Axes>"
      ]
     },
     "metadata": {},
     "output_type": "display_data"
    }
   ],
   "source": [
    "# Plot RNA vs protein library size\n",
    "\n",
    "fig, ax = plt.subplots(figsize = (4,4))\n",
    "\n",
    "ax.scatter(adata.obs[\"loglibrary_protein\"], adata.obs[\"loglibrary_RNA\"],\n",
    "    s = 1, rasterized = True \n",
    "          )\n",
    "\n",
    "ax.set(xlabel = \"log(Protein library size)\")\n",
    "ax.set(ylabel = \"log(RNA library size)\")\n",
    "\n",
    "sns.despine()\n",
    "plt.tight_layout()\n",
    "\n",
    "#fig.savefig(\"/data/yosef2/users/zsteier/totalVI/totalVI_journal/spleen_lymph_all/comparative_analysis/libsize_figures/libsize_RNA_protein_corr.pdf\", dpi = DPI)"
   ]
  },
  {
   "cell_type": "code",
   "execution_count": 11,
   "metadata": {
    "hidden": true
   },
   "outputs": [
    {
     "data": {
      "text/plain": [
       "27"
      ]
     },
     "execution_count": 11,
     "metadata": {},
     "output_type": "execute_result"
    }
   ],
   "source": [
    "# How many cell types\n",
    "\n",
    "len(adata.obs[\"annotations\"].cat.categories)"
   ]
  },
  {
   "cell_type": "code",
   "execution_count": 12,
   "metadata": {
    "hidden": true
   },
   "outputs": [
    {
     "data": {
      "text/plain": [
       "array([[1.        , 0.54394541],\n",
       "       [0.54394541, 1.        ]])"
      ]
     },
     "execution_count": 12,
     "metadata": {},
     "output_type": "execute_result"
    }
   ],
   "source": [
    "RNA_protein_corr = np.corrcoef(x = adata.obs[\"loglibrary_protein\"], \n",
    "                               y = adata.obs[\"loglibrary_RNA\"],\n",
    "                               rowvar = False)\n",
    "\n",
    "RNA_protein_corr"
   ]
  },
  {
   "cell_type": "code",
   "execution_count": 13,
   "metadata": {
    "hidden": true
   },
   "outputs": [
    {
     "data": {
      "text/plain": [
       "Mature B cells               2733\n",
       "CD4 T cells                  1519\n",
       "Transitional B cells          867\n",
       "CD8 T cells                   778\n",
       "CD122+ CD8 T cells            560\n",
       "Ifit3-high B cells            428\n",
       "MZ B cells                    245\n",
       "Ifit3-high CD4 T cells        188\n",
       "B1 B cells                    184\n",
       "NKT cells                     159\n",
       "Tregs                         151\n",
       "ICOS-high Tregs               127\n",
       "Ifit3-high CD8 T cells         94\n",
       "cDC1s                          87\n",
       "NK cells                       82\n",
       "Ly6-high monocytes             66\n",
       "cDC2s                          63\n",
       "GD T cells                     60\n",
       "MZ/Marco-high macrophages      59\n",
       "Activated CD4 T cells          58\n",
       "Neutrophils                    53\n",
       "pDCs                           41\n",
       "Red-pulp macrophages           36\n",
       "Ly6-low monocytes              33\n",
       "Erythrocytes                   32\n",
       "Migratory DCs                  31\n",
       "Plasma B cells                  2\n",
       "Name: annotations, dtype: int64"
      ]
     },
     "execution_count": 13,
     "metadata": {},
     "output_type": "execute_result"
    }
   ],
   "source": [
    "# Cells per cell type (exclude Plasma B from below analysis because there are too few cells to calculate a correlation)\n",
    "\n",
    "pd.Series(adata.obs[\"annotations\"]).value_counts()"
   ]
  },
  {
   "cell_type": "code",
   "execution_count": 14,
   "metadata": {
    "hidden": true
   },
   "outputs": [],
   "source": [
    "# Find correlation in each annotated cell type\n",
    "\n",
    "cell_types = post_adata[include_cells].obs[\"annotations\"].cat.categories\n",
    "corrs = []\n",
    "included_types = []\n",
    "\n",
    "for cell_type in cell_types:\n",
    "    if cell_type != \"Plasma B cells\":\n",
    "        included_types = included_types + [cell_type]\n",
    "        corr = np.corrcoef(x = (adata[np.array(adata.obs[\"annotations\"] == cell_type)].obs[\"loglibrary_protein\"]), \n",
    "                               y = (adata[np.array(adata.obs[\"annotations\"] == cell_type)].obs[\"loglibrary_RNA\"]),\n",
    "                               rowvar = False)[0][1]\n",
    "        corrs = corrs + [corr]"
   ]
  },
  {
   "cell_type": "code",
   "execution_count": 15,
   "metadata": {
    "hidden": true
   },
   "outputs": [
    {
     "data": {
      "text/html": [
       "<div>\n",
       "<style scoped>\n",
       "    .dataframe tbody tr th:only-of-type {\n",
       "        vertical-align: middle;\n",
       "    }\n",
       "\n",
       "    .dataframe tbody tr th {\n",
       "        vertical-align: top;\n",
       "    }\n",
       "\n",
       "    .dataframe thead th {\n",
       "        text-align: right;\n",
       "    }\n",
       "</style>\n",
       "<table border=\"1\" class=\"dataframe\">\n",
       "  <thead>\n",
       "    <tr style=\"text-align: right;\">\n",
       "      <th></th>\n",
       "      <th>cell_type</th>\n",
       "      <th>library_corr</th>\n",
       "    </tr>\n",
       "  </thead>\n",
       "  <tbody>\n",
       "    <tr>\n",
       "      <td>0</td>\n",
       "      <td>Activated CD4 T cells</td>\n",
       "      <td>0.545648</td>\n",
       "    </tr>\n",
       "    <tr>\n",
       "      <td>1</td>\n",
       "      <td>B1 B cells</td>\n",
       "      <td>0.724774</td>\n",
       "    </tr>\n",
       "    <tr>\n",
       "      <td>2</td>\n",
       "      <td>CD4 T cells</td>\n",
       "      <td>0.561331</td>\n",
       "    </tr>\n",
       "    <tr>\n",
       "      <td>3</td>\n",
       "      <td>CD8 T cells</td>\n",
       "      <td>0.555340</td>\n",
       "    </tr>\n",
       "    <tr>\n",
       "      <td>4</td>\n",
       "      <td>CD122+ CD8 T cells</td>\n",
       "      <td>0.542673</td>\n",
       "    </tr>\n",
       "    <tr>\n",
       "      <td>5</td>\n",
       "      <td>Erythrocytes</td>\n",
       "      <td>0.466010</td>\n",
       "    </tr>\n",
       "    <tr>\n",
       "      <td>6</td>\n",
       "      <td>GD T cells</td>\n",
       "      <td>0.550435</td>\n",
       "    </tr>\n",
       "    <tr>\n",
       "      <td>7</td>\n",
       "      <td>ICOS-high Tregs</td>\n",
       "      <td>0.439914</td>\n",
       "    </tr>\n",
       "    <tr>\n",
       "      <td>8</td>\n",
       "      <td>Ifit3-high B cells</td>\n",
       "      <td>0.485765</td>\n",
       "    </tr>\n",
       "    <tr>\n",
       "      <td>9</td>\n",
       "      <td>Ifit3-high CD4 T cells</td>\n",
       "      <td>0.662270</td>\n",
       "    </tr>\n",
       "    <tr>\n",
       "      <td>10</td>\n",
       "      <td>Ifit3-high CD8 T cells</td>\n",
       "      <td>0.667568</td>\n",
       "    </tr>\n",
       "    <tr>\n",
       "      <td>11</td>\n",
       "      <td>Ly6-high monocytes</td>\n",
       "      <td>0.210019</td>\n",
       "    </tr>\n",
       "    <tr>\n",
       "      <td>12</td>\n",
       "      <td>Ly6-low monocytes</td>\n",
       "      <td>0.613292</td>\n",
       "    </tr>\n",
       "    <tr>\n",
       "      <td>13</td>\n",
       "      <td>MZ B cells</td>\n",
       "      <td>0.518393</td>\n",
       "    </tr>\n",
       "    <tr>\n",
       "      <td>14</td>\n",
       "      <td>MZ/Marco-high macrophages</td>\n",
       "      <td>0.240178</td>\n",
       "    </tr>\n",
       "    <tr>\n",
       "      <td>15</td>\n",
       "      <td>Mature B cells</td>\n",
       "      <td>0.638335</td>\n",
       "    </tr>\n",
       "    <tr>\n",
       "      <td>16</td>\n",
       "      <td>Migratory DCs</td>\n",
       "      <td>0.677811</td>\n",
       "    </tr>\n",
       "    <tr>\n",
       "      <td>17</td>\n",
       "      <td>NK cells</td>\n",
       "      <td>0.616179</td>\n",
       "    </tr>\n",
       "    <tr>\n",
       "      <td>18</td>\n",
       "      <td>NKT cells</td>\n",
       "      <td>0.630117</td>\n",
       "    </tr>\n",
       "    <tr>\n",
       "      <td>19</td>\n",
       "      <td>Neutrophils</td>\n",
       "      <td>0.198201</td>\n",
       "    </tr>\n",
       "    <tr>\n",
       "      <td>20</td>\n",
       "      <td>Red-pulp macrophages</td>\n",
       "      <td>0.615862</td>\n",
       "    </tr>\n",
       "    <tr>\n",
       "      <td>21</td>\n",
       "      <td>Transitional B cells</td>\n",
       "      <td>0.378119</td>\n",
       "    </tr>\n",
       "    <tr>\n",
       "      <td>22</td>\n",
       "      <td>Tregs</td>\n",
       "      <td>0.721206</td>\n",
       "    </tr>\n",
       "    <tr>\n",
       "      <td>23</td>\n",
       "      <td>cDC1s</td>\n",
       "      <td>0.776201</td>\n",
       "    </tr>\n",
       "    <tr>\n",
       "      <td>24</td>\n",
       "      <td>cDC2s</td>\n",
       "      <td>0.442137</td>\n",
       "    </tr>\n",
       "    <tr>\n",
       "      <td>25</td>\n",
       "      <td>pDCs</td>\n",
       "      <td>0.688430</td>\n",
       "    </tr>\n",
       "  </tbody>\n",
       "</table>\n",
       "</div>"
      ],
      "text/plain": [
       "                    cell_type  library_corr\n",
       "0       Activated CD4 T cells      0.545648\n",
       "1                  B1 B cells      0.724774\n",
       "2                 CD4 T cells      0.561331\n",
       "3                 CD8 T cells      0.555340\n",
       "4          CD122+ CD8 T cells      0.542673\n",
       "5                Erythrocytes      0.466010\n",
       "6                  GD T cells      0.550435\n",
       "7             ICOS-high Tregs      0.439914\n",
       "8          Ifit3-high B cells      0.485765\n",
       "9      Ifit3-high CD4 T cells      0.662270\n",
       "10     Ifit3-high CD8 T cells      0.667568\n",
       "11         Ly6-high monocytes      0.210019\n",
       "12          Ly6-low monocytes      0.613292\n",
       "13                 MZ B cells      0.518393\n",
       "14  MZ/Marco-high macrophages      0.240178\n",
       "15             Mature B cells      0.638335\n",
       "16              Migratory DCs      0.677811\n",
       "17                   NK cells      0.616179\n",
       "18                  NKT cells      0.630117\n",
       "19                Neutrophils      0.198201\n",
       "20       Red-pulp macrophages      0.615862\n",
       "21       Transitional B cells      0.378119\n",
       "22                      Tregs      0.721206\n",
       "23                      cDC1s      0.776201\n",
       "24                      cDC2s      0.442137\n",
       "25                       pDCs      0.688430"
      ]
     },
     "execution_count": 15,
     "metadata": {},
     "output_type": "execute_result"
    }
   ],
   "source": [
    "pd.DataFrame({\"cell_type\": included_types, \"library_corr\": corrs})"
   ]
  },
  {
   "cell_type": "code",
   "execution_count": 16,
   "metadata": {
    "hidden": true
   },
   "outputs": [
    {
     "data": {
      "text/plain": [
       "0.19820123324756705"
      ]
     },
     "execution_count": 16,
     "metadata": {},
     "output_type": "execute_result"
    }
   ],
   "source": [
    "np.min(corrs)"
   ]
  },
  {
   "cell_type": "code",
   "execution_count": 17,
   "metadata": {
    "hidden": true
   },
   "outputs": [
    {
     "data": {
      "text/plain": [
       "0.7762014803179059"
      ]
     },
     "execution_count": 17,
     "metadata": {},
     "output_type": "execute_result"
    }
   ],
   "source": [
    "np.max(corrs)"
   ]
  },
  {
   "cell_type": "code",
   "execution_count": 18,
   "metadata": {
    "hidden": true
   },
   "outputs": [
    {
     "data": {
      "image/png": "[encoded data removed]",
      "text/plain": [
       "<Figure size 252x288 with 1 Axes>"
      ]
     },
     "metadata": {},
     "output_type": "display_data"
    }
   ],
   "source": [
    "# Same as above, but swarmplot\n",
    "fig, ax = plt.subplots(figsize = (3.5, 4))\n",
    "\n",
    "ax = sns.boxplot(corrs, orient = \"v\")\n",
    "ax = sns.swarmplot(corrs, orient = \"v\", color = \"0.25\") # data=tips, color=\".25\"\n",
    "\n",
    "\n",
    "ax.set(xlabel = \"SLN111-D1\")\n",
    "ax.set(ylabel = \"Pearson correlation\")\n",
    "ax.set(title = \"Correlation of RNA and\\n protein library sizes\\n by cell type\") # \"RNA-protein library size\\n correlation by cell type\") #\n",
    "\n",
    "sns.despine()\n",
    "plt.tight_layout()\n",
    "\n",
    "#fig.savefig(\"/data/yosef2/users/zsteier/totalVI/totalVI_journal/spleen_lymph_all/comparative_analysis/libsize_figures/libsize_celltype_boxplot.pdf\", dpi = DPI)"
   ]
  },
  {
   "cell_type": "markdown",
   "metadata": {
    "heading_collapsed": true
   },
   "source": [
    "## Explore heterogeneity of library sizes within B cells "
   ]
  },
  {
   "cell_type": "code",
   "execution_count": 45,
   "metadata": {
    "hidden": true
   },
   "outputs": [
    {
     "data": {
      "text/plain": [
       "Index(['Activated CD4 T cells', 'B1 B cells', 'CD4 T cells', 'CD8 T cells',\n",
       "       'CD122+ CD8 T cells', 'Erythrocytes', 'GD T cells', 'ICOS-high Tregs',\n",
       "       'Ifit3-high B cells', 'Ifit3-high CD4 T cells',\n",
       "       'Ifit3-high CD8 T cells', 'Ly6-high monocytes', 'Ly6-low monocytes',\n",
       "       'MZ B cells', 'MZ/Marco-high macrophages', 'Mature B cells',\n",
       "       'Migratory DCs', 'NK cells', 'NKT cells', 'Neutrophils',\n",
       "       'Plasma B cells', 'Red-pulp macrophages', 'Transitional B cells',\n",
       "       'Tregs', 'cDC1s', 'cDC2s', 'pDCs'],\n",
       "      dtype='object')"
      ]
     },
     "execution_count": 45,
     "metadata": {},
     "output_type": "execute_result"
    }
   ],
   "source": [
    "adata.obs[\"annotations\"].cat.categories"
   ]
  },
  {
   "cell_type": "code",
   "execution_count": 46,
   "metadata": {
    "hidden": true
   },
   "outputs": [
    {
     "data": {
      "text/plain": [
       "array(['ADT_CD62L_A0112', 'ADT_Ly-6A-E(Sca-1)_A0130',\n",
       "       'ADT_integrinb7_A0214', 'ADT_CD150(SLAM)_A0203',\n",
       "       'ADT_CD21-CD35(CR2-CR1)_A0107', 'ADT_IgD_A0571', 'ADT_CD23_A0108',\n",
       "       'ADT_CD274(B7-H1_PD-L1)_A0190', 'ADT_I-A-I-E_A0117',\n",
       "       'ADT_CD200(OX2)_A0079'], dtype='<U28')"
      ]
     },
     "execution_count": 46,
     "metadata": {},
     "output_type": "execute_result"
    }
   ],
   "source": [
    "# Calculate library size just based on RNA that encodes the mature B markers\n",
    "# DE test is below\n",
    "matureB_demarkers = np.array(['ADT_CD62L_A0112', 'ADT_Ly-6A-E(Sca-1)_A0130',\n",
    "       'ADT_integrinb7_A0214', 'ADT_CD150(SLAM)_A0203',\n",
    "       'ADT_CD21-CD35(CR2-CR1)_A0107', 'ADT_IgD_A0571', 'ADT_CD23_A0108',\n",
    "       'ADT_CD274(B7-H1_PD-L1)_A0190', 'ADT_I-A-I-E_A0117',\n",
    "       'ADT_CD200(OX2)_A0079'])\n",
    "              \n",
    "matureB_demarkers"
   ]
  },
  {
   "cell_type": "code",
   "execution_count": 47,
   "metadata": {
    "hidden": true
   },
   "outputs": [],
   "source": [
    "# Find matched RNA-protein names\n",
    "encoded_proteins = pd.Series(adata.var[\"encode\"][adata.var[\"encode\"] != \"None\"], name = \"Protein\")"
   ]
  },
  {
   "cell_type": "code",
   "execution_count": 48,
   "metadata": {
    "hidden": true
   },
   "outputs": [
    {
     "data": {
      "text/plain": [
       "['Sell',\n",
       " 'Ly6a',\n",
       " 'Itgb7',\n",
       " 'Slamf1',\n",
       " 'Cr2',\n",
       " 'Ighd',\n",
       " 'Fcer2a',\n",
       " 'Cd274',\n",
       " 'H2-Aa',\n",
       " 'Cd200']"
      ]
     },
     "execution_count": 48,
     "metadata": {},
     "output_type": "execute_result"
    }
   ],
   "source": [
    "matureB_genes = [encoded_proteins.index[np.where(encoded_proteins == protein)[0][0]] for protein in matureB_demarkers]\n",
    "matureB_genes"
   ]
  },
  {
   "cell_type": "code",
   "execution_count": 57,
   "metadata": {
    "hidden": true
   },
   "outputs": [],
   "source": [
    "# RNA expression\n",
    "rna_mat = np.array(adata.X)\n",
    "rna_df = pd.DataFrame(rna_mat, columns = adata.uns[\"totalVI_genes\"])\n",
    "\n",
    "# protein expression\n",
    "prot_mat = np.array(adata.obsm[\"protein_expression\"])\n",
    "prot_df = pd.DataFrame(prot_mat, columns = adata.uns[\"totalVI_proteins\"])"
   ]
  },
  {
   "cell_type": "code",
   "execution_count": 50,
   "metadata": {
    "hidden": true
   },
   "outputs": [],
   "source": [
    "# log RNA library size (Restrict to encoding genes)\n",
    "matureBgenes_lib_size = np.log1p(rna_df.loc[:, matureB_genes].sum(axis = 1)) # sum of top 10 mature markers in each cell)\n",
    "\n",
    "# mature B\n",
    "# transitional B\n",
    "trans_matureBgenes = matureBgenes_lib_size[np.array(adata.obs[\"annotations\"] == \"Transitional B cells\")]\n",
    "mature_matureBgenes = matureBgenes_lib_size[np.array(adata.obs[\"annotations\"] == \"Mature B cells\")]"
   ]
  },
  {
   "cell_type": "code",
   "execution_count": 52,
   "metadata": {
    "hidden": true
   },
   "outputs": [
    {
     "data": {
      "image/png": "[encoded data removed]",
      "text/plain": [
       "<Figure size 864x288 with 3 Axes>"
      ]
     },
     "metadata": {},
     "output_type": "display_data"
    }
   ],
   "source": [
    "# Plot transitional and mature B cell library sizes in protein and RNA\n",
    "\n",
    "fig, ax = plt.subplots(1,3, figsize = (12, 4)) # 10, 4\n",
    "nbins = 30\n",
    "\n",
    "ax[0].hist(adata[np.array(adata.obs[\"annotations\"] == \"Mature B cells\")].obs[\"loglibrary_protein\"],\n",
    "          color = colors[0], alpha = 0.6, bins = nbins, density = True)\n",
    "ax[0].hist(adata[np.array(adata.obs[\"annotations\"] == \"Transitional B cells\") ].obs[\"loglibrary_protein\"],\n",
    "          color = colors[1], alpha = 0.6, bins = nbins, density = True)\n",
    "ax[0].set(xlabel = \"log(Protein library size)\")\n",
    "ax[0].set(ylabel = \"Density\")\n",
    "\n",
    "ax[1].hist(adata[np.array(adata.obs[\"annotations\"] == \"Mature B cells\") ].obs[\"loglibrary_RNA\"],\n",
    "          color = colors[0], alpha = 0.6, bins = nbins, density = True)\n",
    "ax[1].hist(adata[np.array(adata.obs[\"annotations\"] == \"Transitional B cells\") ].obs[\"loglibrary_RNA\"],\n",
    "          color = colors[1], alpha = 0.6, bins = nbins, density = True)\n",
    "ax[1].set(xlabel = \"log(RNA library size)\")\n",
    "ax[1].set(ylabel = \"Density\")\n",
    "\n",
    "ax[2].hist(mature_matureBgenes,\n",
    "          color = colors[0], alpha = 0.6, bins = nbins, density = True)\n",
    "ax[2].hist(trans_matureBgenes,\n",
    "          color = colors[1], alpha = 0.6, bins = nbins, density = True)\n",
    "ax[2].set(xlabel = \"log(RNA library size)\\n (Mature B markers)\")\n",
    "ax[2].set(ylabel = \"Density\")\n",
    "ax[2].legend([\"Mature B\", \"Transitional B\"], prop={'size': 12}, loc='upper left')\n",
    "\n",
    "\n",
    "sns.despine()\n",
    "plt.tight_layout()\n",
    "\n",
    "#fig.savefig(\"/data/yosef2/users/zsteier/totalVI/totalVI_journal/spleen_lymph_all/comparative_analysis/libsize_figures/libsize_TransitionalMature.pdf\", dpi = DPI)"
   ]
  },
  {
   "cell_type": "code",
   "execution_count": 53,
   "metadata": {
    "hidden": true
   },
   "outputs": [
    {
     "data": {
      "text/plain": [
       "Ttest_indResult(statistic=-43.49168622931379, pvalue=1.4023267489449763e-276)"
      ]
     },
     "execution_count": 53,
     "metadata": {},
     "output_type": "execute_result"
    }
   ],
   "source": [
    "# Welch's t-test\n",
    "ttest_ind(adata[np.array(adata.obs[\"annotations\"] == \"Transitional B cells\") ].obs[\"loglibrary_protein\"],\n",
    "         adata[np.array(adata.obs[\"annotations\"] == \"Mature B cells\") ].obs[\"loglibrary_protein\"],\n",
    "         equal_var = False) "
   ]
  },
  {
   "cell_type": "code",
   "execution_count": 54,
   "metadata": {
    "hidden": true
   },
   "outputs": [
    {
     "data": {
      "text/plain": [
       "Ttest_indResult(statistic=-1.6550645619243078, pvalue=0.09803138444760108)"
      ]
     },
     "execution_count": 54,
     "metadata": {},
     "output_type": "execute_result"
    }
   ],
   "source": [
    "ttest_ind(adata[np.array(adata.obs[\"annotations\"] == \"Transitional B cells\") ].obs[\"loglibrary_RNA\"],\n",
    "         adata[np.array(adata.obs[\"annotations\"] == \"Mature B cells\") ].obs[\"loglibrary_RNA\"],\n",
    "         equal_var = False)"
   ]
  },
  {
   "cell_type": "code",
   "execution_count": 55,
   "metadata": {
    "hidden": true
   },
   "outputs": [
    {
     "data": {
      "text/plain": [
       "Ttest_indResult(statistic=-30.56578962340003, pvalue=4.338648274373363e-145)"
      ]
     },
     "execution_count": 55,
     "metadata": {},
     "output_type": "execute_result"
    }
   ],
   "source": [
    "ttest_ind(trans_matureBgenes, mature_matureBgenes,\n",
    "         equal_var = False)"
   ]
  },
  {
   "cell_type": "markdown",
   "metadata": {
    "heading_collapsed": true
   },
   "source": [
    "## DE proteins contribution to library size"
   ]
  },
  {
   "cell_type": "markdown",
   "metadata": {
    "hidden": true
   },
   "source": [
    "### Load data and model for DE"
   ]
  },
  {
   "cell_type": "code",
   "execution_count": 26,
   "metadata": {
    "hidden": true
   },
   "outputs": [],
   "source": [
    "# Load anndata\n",
    "save_path = \"/data/yosef2/users/adamgayoso/projects/totalVI_journal/data/\"\n",
    "\n",
    "anndataset = anndata.read(save_path + \"spleen_lymph_111.h5ad\")\n",
    "anndataset = anndataset[anndataset.obs[\"batch_indices\"] == 0]"
   ]
  },
  {
   "cell_type": "code",
   "execution_count": 27,
   "metadata": {
    "hidden": true
   },
   "outputs": [
    {
     "name": "stdout",
     "output_type": "stream",
     "text": [
      "[2020-12-17 18:20:08,849] INFO - scvi.dataset.dataset | Remapping batch_indices to [0,N]\n",
      "[2020-12-17 18:20:08,853] INFO - scvi.dataset.dataset | Remapping labels to [0,N]\n",
      "[2020-12-17 18:20:08,941] INFO - scvi.dataset.dataset | Computing the library size for the new data\n",
      "[2020-12-17 18:20:09,006] INFO - scvi.dataset.dataset | Downsampled from 9264 to 9264 cells\n"
     ]
    }
   ],
   "source": [
    "# Filter unwanted proteins (isotype controls and HTO)\n",
    "keep_pro_111 = np.array(\n",
    "    [not p.startswith(\"HTO\") for p in anndataset.uns[\"protein_names\"]]\n",
    ")\n",
    "\n",
    "anndataset.obsm[\"protein_expression\"] = anndataset.obsm[\"protein_expression\"][\n",
    "    :, keep_pro_111\n",
    "]\n",
    "anndataset.uns[\"protein_names\"] = anndataset.uns[\"protein_names\"][keep_pro_111]\n",
    "\n",
    "# Organize and instantiate scVI dataset\n",
    "hvg_111 = anndataset.var[\"hvg_encode\"]\n",
    "\n",
    "dataset = AnnDatasetFromAnnData(ad=anndataset[:, hvg_111])\n",
    "protein_data_111 = CellMeasurement(\n",
    "    name=\"protein_expression\",\n",
    "    data=anndataset.obsm[\"protein_expression\"].astype(np.float32),\n",
    "    columns_attr_name=\"protein_names\",\n",
    "    columns=anndataset.uns[\"protein_names\"]\n",
    ")\n",
    "dataset.initialize_cell_measurement(protein_data_111)\n",
    "dataset.gene_names = anndataset[:, hvg_111].var_names.values"
   ]
  },
  {
   "cell_type": "code",
   "execution_count": 28,
   "metadata": {
    "hidden": true
   },
   "outputs": [
    {
     "data": {
      "text/plain": [
       "GeneExpressionDataset object with n_cells x nb_genes = 9264 x 4005\n",
       "    gene_attribute_names: 'gene_names'\n",
       "    cell_attribute_names: 'protein_expression', 'local_vars', 'labels', 'batch_indices', 'local_means'\n",
       "    cell_categorical_attribute_names: 'batch_indices', 'labels'\n",
       "    cell_measurements_columns: {'protein_expression': 'protein_names'}"
      ]
     },
     "execution_count": 28,
     "metadata": {},
     "output_type": "execute_result"
    }
   ],
   "source": [
    "dataset"
   ]
  },
  {
   "cell_type": "code",
   "execution_count": 29,
   "metadata": {
    "hidden": true
   },
   "outputs": [],
   "source": [
    "model = TOTALVI(\n",
    "    dataset.nb_genes,\n",
    "    dataset.protein_expression.shape[1],\n",
    "    n_latent=20,\n",
    ")"
   ]
  },
  {
   "cell_type": "code",
   "execution_count": 30,
   "metadata": {
    "hidden": true
   },
   "outputs": [],
   "source": [
    "use_cuda = True\n",
    "lr = 4e-3\n",
    "early_stopping_kwargs = {\n",
    "    \"early_stopping_metric\": \"elbo\",\n",
    "    \"save_best_state_metric\": \"elbo\",\n",
    "    \"patience\": 45,\n",
    "    \"threshold\": 0,\n",
    "    \"reduce_lr_on_plateau\": True,\n",
    "    \"lr_patience\": 30,\n",
    "    \"lr_factor\": 0.6,\n",
    "    \"posterior_class\": TotalPosterior,\n",
    "}"
   ]
  },
  {
   "cell_type": "code",
   "execution_count": 31,
   "metadata": {
    "hidden": true
   },
   "outputs": [
    {
     "data": {
      "text/plain": [
       "TOTALVI(\n",
       "  (encoder): EncoderTOTALVI(\n",
       "    (encoder): FCLayers(\n",
       "      (fc_layers): Sequential(\n",
       "        (Layer 0): Sequential(\n",
       "          (0): Linear(in_features=4115, out_features=256, bias=True)\n",
       "          (1): BatchNorm1d(256, eps=0.001, momentum=0.01, affine=True, track_running_stats=True)\n",
       "          (2): ReLU()\n",
       "          (3): Dropout(p=0.2, inplace=False)\n",
       "        )\n",
       "      )\n",
       "    )\n",
       "    (z_encoder): Sequential(\n",
       "      (0): Linear(in_features=256, out_features=256, bias=True)\n",
       "      (1): BatchNorm1d(256, eps=1e-05, momentum=0.1, affine=True, track_running_stats=True)\n",
       "      (2): ReLU()\n",
       "      (3): Dropout(p=0.2, inplace=False)\n",
       "    )\n",
       "    (z_mean_encoder): Linear(in_features=256, out_features=20, bias=True)\n",
       "    (z_var_encoder): Linear(in_features=256, out_features=20, bias=True)\n",
       "    (l_gene_encoder): Sequential(\n",
       "      (0): Linear(in_features=256, out_features=256, bias=True)\n",
       "      (1): BatchNorm1d(256, eps=1e-05, momentum=0.1, affine=True, track_running_stats=True)\n",
       "      (2): ReLU()\n",
       "      (3): Dropout(p=0.2, inplace=False)\n",
       "    )\n",
       "    (l_gene_mean_encoder): Linear(in_features=256, out_features=1, bias=True)\n",
       "    (l_gene_var_encoder): Linear(in_features=256, out_features=1, bias=True)\n",
       "    (z_transformation): Softmax(dim=-1)\n",
       "  )\n",
       "  (decoder): DecoderTOTALVI(\n",
       "    (px_decoder): FCLayers(\n",
       "      (fc_layers): Sequential(\n",
       "        (Layer 0): Sequential(\n",
       "          (0): Linear(in_features=20, out_features=256, bias=True)\n",
       "          (1): BatchNorm1d(256, eps=0.001, momentum=0.01, affine=True, track_running_stats=True)\n",
       "          (2): ReLU()\n",
       "          (3): Dropout(p=0.2, inplace=False)\n",
       "        )\n",
       "      )\n",
       "    )\n",
       "    (px_scale_decoder): FCLayers(\n",
       "      (fc_layers): Sequential(\n",
       "        (Layer 0): Sequential(\n",
       "          (0): Linear(in_features=276, out_features=4005, bias=True)\n",
       "          (1): None\n",
       "          (2): None\n",
       "          (3): None\n",
       "        )\n",
       "      )\n",
       "    )\n",
       "    (py_back_decoder): FCLayers(\n",
       "      (fc_layers): Sequential(\n",
       "        (Layer 0): Sequential(\n",
       "          (0): Linear(in_features=20, out_features=256, bias=True)\n",
       "          (1): BatchNorm1d(256, eps=0.001, momentum=0.01, affine=True, track_running_stats=True)\n",
       "          (2): ReLU()\n",
       "          (3): Dropout(p=0.2, inplace=False)\n",
       "        )\n",
       "      )\n",
       "    )\n",
       "    (py_back_mean_log_alpha): FCLayers(\n",
       "      (fc_layers): Sequential(\n",
       "        (Layer 0): Sequential(\n",
       "          (0): Linear(in_features=276, out_features=110, bias=True)\n",
       "          (1): None\n",
       "          (2): None\n",
       "          (3): None\n",
       "        )\n",
       "      )\n",
       "    )\n",
       "    (py_back_mean_log_beta): FCLayers(\n",
       "      (fc_layers): Sequential(\n",
       "        (Layer 0): Sequential(\n",
       "          (0): Linear(in_features=276, out_features=110, bias=True)\n",
       "          (1): None\n",
       "          (2): None\n",
       "          (3): None\n",
       "        )\n",
       "      )\n",
       "    )\n",
       "    (py_fore_decoder): FCLayers(\n",
       "      (fc_layers): Sequential(\n",
       "        (Layer 0): Sequential(\n",
       "          (0): Linear(in_features=20, out_features=256, bias=True)\n",
       "          (1): BatchNorm1d(256, eps=0.001, momentum=0.01, affine=True, track_running_stats=True)\n",
       "          (2): ReLU()\n",
       "          (3): Dropout(p=0.2, inplace=False)\n",
       "        )\n",
       "      )\n",
       "    )\n",
       "    (py_fore_scale_decoder): FCLayers(\n",
       "      (fc_layers): Sequential(\n",
       "        (Layer 0): Sequential(\n",
       "          (0): Linear(in_features=276, out_features=110, bias=True)\n",
       "          (1): None\n",
       "          (2): ReLU()\n",
       "          (3): None\n",
       "        )\n",
       "      )\n",
       "    )\n",
       "    (sigmoid_decoder): FCLayers(\n",
       "      (fc_layers): Sequential(\n",
       "        (Layer 0): Sequential(\n",
       "          (0): Linear(in_features=20, out_features=256, bias=True)\n",
       "          (1): BatchNorm1d(256, eps=0.001, momentum=0.01, affine=True, track_running_stats=True)\n",
       "          (2): ReLU()\n",
       "          (3): Dropout(p=0.2, inplace=False)\n",
       "        )\n",
       "      )\n",
       "    )\n",
       "    (px_dropout_decoder_gene): FCLayers(\n",
       "      (fc_layers): Sequential(\n",
       "        (Layer 0): Sequential(\n",
       "          (0): Linear(in_features=276, out_features=4005, bias=True)\n",
       "          (1): None\n",
       "          (2): None\n",
       "          (3): None\n",
       "        )\n",
       "      )\n",
       "    )\n",
       "    (py_background_decoder): FCLayers(\n",
       "      (fc_layers): Sequential(\n",
       "        (Layer 0): Sequential(\n",
       "          (0): Linear(in_features=276, out_features=110, bias=True)\n",
       "          (1): None\n",
       "          (2): None\n",
       "          (3): None\n",
       "        )\n",
       "      )\n",
       "    )\n",
       "  )\n",
       ")"
      ]
     },
     "execution_count": 31,
     "metadata": {},
     "output_type": "execute_result"
    }
   ],
   "source": [
    "model.load_state_dict(torch.load(\"/data/yosef2/users/zsteier/totalVI/totalVI_journal/differential_expression/saved_models/111_d1.pt\"))\n",
    "model.eval()"
   ]
  },
  {
   "cell_type": "code",
   "execution_count": 32,
   "metadata": {
    "hidden": true
   },
   "outputs": [],
   "source": [
    "trainer = TotalTrainer(\n",
    "    model,\n",
    "    dataset,\n",
    "    train_size=0.90,\n",
    "    test_size=0.10,\n",
    "    use_cuda=use_cuda,\n",
    "    frequency=1,\n",
    "    data_loader_kwargs={\"batch_size\": 256, \"pin_memory\": False}\n",
    ")"
   ]
  },
  {
   "cell_type": "code",
   "execution_count": 33,
   "metadata": {
    "hidden": true
   },
   "outputs": [],
   "source": [
    "# create posterior on full data\n",
    "\n",
    "full_posterior = trainer.create_posterior(\n",
    "    model, dataset, indices=np.arange(len(dataset)), type_class=TotalPosterior\n",
    ")"
   ]
  },
  {
   "cell_type": "code",
   "execution_count": 34,
   "metadata": {
    "hidden": true
   },
   "outputs": [],
   "source": [
    "# extract latent space\n",
    "\n",
    "latent_mean, batch_index, label, library_gene = full_posterior.sequential().get_latent()"
   ]
  },
  {
   "cell_type": "code",
   "execution_count": 35,
   "metadata": {
    "hidden": true
   },
   "outputs": [],
   "source": [
    "# calculate protein background probabilities\n",
    "\n",
    "def sigmoid(x):\n",
    "    return 1 / (1 + np.exp(-x))\n",
    "\n",
    "\n",
    "# Number of Monte Carlo samples to average over\n",
    "n_samples = 25\n",
    "\n",
    "# Probability of background\n",
    "py_mixing = np.mean(sigmoid(\n",
    "    full_posterior.sequential().get_sample_mixing(n_samples=n_samples, give_mean=False)\n",
    "), axis=-1)\n",
    "protein_foreground_prob = pd.DataFrame(\n",
    "    data=(1 - py_mixing), columns=dataset.protein_names\n",
    ")"
   ]
  },
  {
   "cell_type": "code",
   "execution_count": 36,
   "metadata": {
    "hidden": true
   },
   "outputs": [],
   "source": [
    "# denoised data\n",
    "\n",
    "denoised_genes, denoised_proteins = full_posterior.sequential().get_normalized_denoised_expression(\n",
    "    n_samples=n_samples, give_mean=True,\n",
    ")"
   ]
  },
  {
   "cell_type": "code",
   "execution_count": 37,
   "metadata": {
    "hidden": true
   },
   "outputs": [],
   "source": [
    "# Read the previously saved anndata object (only need to generate post_adata once)\n",
    "adata_111d1 = anndata.read(\"/data/yosef2/users/zsteier/totalVI/totalVI_journal/background/post_adata_111day1.h5ad\")"
   ]
  },
  {
   "cell_type": "markdown",
   "metadata": {
    "hidden": true
   },
   "source": [
    "### Run DE"
   ]
  },
  {
   "cell_type": "code",
   "execution_count": 38,
   "metadata": {
    "hidden": true
   },
   "outputs": [],
   "source": [
    "# DE test between mature and transitional B cells\n",
    "# Top DE proteins by LFC\n",
    "# Fraction of library size made up of top biologically variable proteins\n",
    "\n",
    "# Find cell types for DE\n",
    "\n",
    "group1 = np.where(np.array(dataset.cell_types) == \"Transitional B\")[0]\n",
    "group2 = np.where(np.array(dataset.cell_types) == \"Mature B\")[0]\n",
    "\n",
    "labels = dataset.labels.ravel()"
   ]
  },
  {
   "cell_type": "code",
   "execution_count": 40,
   "metadata": {
    "hidden": true
   },
   "outputs": [],
   "source": [
    "# Run one vs one DE test\n",
    "\n",
    "transitional_vs_mature_de = full_posterior.differential_expression_score(\n",
    "    idx1=labels==group1,\n",
    "    idx2=labels==group2,\n",
    "    n_samples=5000,\n",
    "    use_permutation=False,\n",
    "    delta=0.2,\n",
    "    mode=\"change\",\n",
    ")"
   ]
  },
  {
   "cell_type": "code",
   "execution_count": 41,
   "metadata": {
    "hidden": true
   },
   "outputs": [
    {
     "data": {
      "text/html": [
       "<div>\n",
       "<style scoped>\n",
       "    .dataframe tbody tr th:only-of-type {\n",
       "        vertical-align: middle;\n",
       "    }\n",
       "\n",
       "    .dataframe tbody tr th {\n",
       "        vertical-align: top;\n",
       "    }\n",
       "\n",
       "    .dataframe thead th {\n",
       "        text-align: right;\n",
       "    }\n",
       "</style>\n",
       "<table border=\"1\" class=\"dataframe\">\n",
       "  <thead>\n",
       "    <tr style=\"text-align: right;\">\n",
       "      <th></th>\n",
       "      <th>proba_de</th>\n",
       "      <th>proba_not_de</th>\n",
       "      <th>bayes_factor</th>\n",
       "      <th>scale1</th>\n",
       "      <th>scale2</th>\n",
       "      <th>mean</th>\n",
       "      <th>median</th>\n",
       "      <th>std</th>\n",
       "      <th>min</th>\n",
       "      <th>max</th>\n",
       "      <th>...</th>\n",
       "      <th>confidence_interval_0.95_min</th>\n",
       "      <th>confidence_interval_0.95_max</th>\n",
       "      <th>confidence_interval_0.99_min</th>\n",
       "      <th>confidence_interval_0.99_max</th>\n",
       "      <th>raw_mean1</th>\n",
       "      <th>raw_mean2</th>\n",
       "      <th>non_zeros_proportion1</th>\n",
       "      <th>non_zeros_proportion2</th>\n",
       "      <th>raw_normalized_mean1</th>\n",
       "      <th>raw_normalized_mean2</th>\n",
       "    </tr>\n",
       "  </thead>\n",
       "  <tbody>\n",
       "    <tr>\n",
       "      <td>ADT_CD62L_A0112</td>\n",
       "      <td>0.9172</td>\n",
       "      <td>0.0828</td>\n",
       "      <td>2.404897</td>\n",
       "      <td>15.927847</td>\n",
       "      <td>77.910622</td>\n",
       "      <td>-4.368687</td>\n",
       "      <td>-6.887024</td>\n",
       "      <td>3.741391</td>\n",
       "      <td>-8.627234</td>\n",
       "      <td>7.535151</td>\n",
       "      <td>...</td>\n",
       "      <td>-8.403173</td>\n",
       "      <td>0.280146</td>\n",
       "      <td>-8.594027</td>\n",
       "      <td>6.543036</td>\n",
       "      <td>18.770473</td>\n",
       "      <td>81.620201</td>\n",
       "      <td>0.983852</td>\n",
       "      <td>0.999268</td>\n",
       "      <td>NaN</td>\n",
       "      <td>NaN</td>\n",
       "    </tr>\n",
       "    <tr>\n",
       "      <td>ADT_Ly-6A-E(Sca-1)_A0130</td>\n",
       "      <td>0.6760</td>\n",
       "      <td>0.3240</td>\n",
       "      <td>0.735450</td>\n",
       "      <td>8.381959</td>\n",
       "      <td>35.952610</td>\n",
       "      <td>-3.359572</td>\n",
       "      <td>-6.143054</td>\n",
       "      <td>4.016749</td>\n",
       "      <td>-9.210114</td>\n",
       "      <td>7.968407</td>\n",
       "      <td>...</td>\n",
       "      <td>-7.669607</td>\n",
       "      <td>6.739248</td>\n",
       "      <td>-8.567101</td>\n",
       "      <td>7.232789</td>\n",
       "      <td>16.560555</td>\n",
       "      <td>41.975483</td>\n",
       "      <td>0.998847</td>\n",
       "      <td>1.000000</td>\n",
       "      <td>NaN</td>\n",
       "      <td>NaN</td>\n",
       "    </tr>\n",
       "    <tr>\n",
       "      <td>ADT_integrinb7_A0214</td>\n",
       "      <td>0.8824</td>\n",
       "      <td>0.1176</td>\n",
       "      <td>2.015356</td>\n",
       "      <td>8.058406</td>\n",
       "      <td>27.228603</td>\n",
       "      <td>-3.395973</td>\n",
       "      <td>-5.443006</td>\n",
       "      <td>3.012272</td>\n",
       "      <td>-7.180512</td>\n",
       "      <td>6.203607</td>\n",
       "      <td>...</td>\n",
       "      <td>-6.761719</td>\n",
       "      <td>0.371821</td>\n",
       "      <td>-6.892993</td>\n",
       "      <td>5.516222</td>\n",
       "      <td>14.167243</td>\n",
       "      <td>27.289061</td>\n",
       "      <td>0.998847</td>\n",
       "      <td>0.999634</td>\n",
       "      <td>NaN</td>\n",
       "      <td>NaN</td>\n",
       "    </tr>\n",
       "    <tr>\n",
       "      <td>ADT_CD150(SLAM)_A0203</td>\n",
       "      <td>0.9162</td>\n",
       "      <td>0.0838</td>\n",
       "      <td>2.391802</td>\n",
       "      <td>8.752646</td>\n",
       "      <td>28.473663</td>\n",
       "      <td>-3.380534</td>\n",
       "      <td>-5.361651</td>\n",
       "      <td>2.824345</td>\n",
       "      <td>-7.146576</td>\n",
       "      <td>6.223266</td>\n",
       "      <td>...</td>\n",
       "      <td>-6.594371</td>\n",
       "      <td>0.256555</td>\n",
       "      <td>-6.943357</td>\n",
       "      <td>5.088394</td>\n",
       "      <td>10.769320</td>\n",
       "      <td>29.390413</td>\n",
       "      <td>0.989619</td>\n",
       "      <td>0.999634</td>\n",
       "      <td>NaN</td>\n",
       "      <td>NaN</td>\n",
       "    </tr>\n",
       "    <tr>\n",
       "      <td>ADT_CD21-CD35(CR2-CR1)_A0107</td>\n",
       "      <td>0.9580</td>\n",
       "      <td>0.0420</td>\n",
       "      <td>3.127178</td>\n",
       "      <td>14.339369</td>\n",
       "      <td>55.623852</td>\n",
       "      <td>-3.055823</td>\n",
       "      <td>-2.166599</td>\n",
       "      <td>2.631561</td>\n",
       "      <td>-8.896247</td>\n",
       "      <td>7.012292</td>\n",
       "      <td>...</td>\n",
       "      <td>-7.596962</td>\n",
       "      <td>0.351828</td>\n",
       "      <td>-8.619415</td>\n",
       "      <td>1.286246</td>\n",
       "      <td>13.889274</td>\n",
       "      <td>59.597511</td>\n",
       "      <td>0.980392</td>\n",
       "      <td>1.000000</td>\n",
       "      <td>NaN</td>\n",
       "      <td>NaN</td>\n",
       "    </tr>\n",
       "    <tr>\n",
       "      <td>ADT_IgD_A0571</td>\n",
       "      <td>0.9620</td>\n",
       "      <td>0.0380</td>\n",
       "      <td>3.231428</td>\n",
       "      <td>115.206039</td>\n",
       "      <td>411.139160</td>\n",
       "      <td>-3.044752</td>\n",
       "      <td>-2.045525</td>\n",
       "      <td>3.243956</td>\n",
       "      <td>-10.926152</td>\n",
       "      <td>9.478664</td>\n",
       "      <td>...</td>\n",
       "      <td>-10.184634</td>\n",
       "      <td>0.290276</td>\n",
       "      <td>-10.845722</td>\n",
       "      <td>1.570955</td>\n",
       "      <td>115.650520</td>\n",
       "      <td>432.256866</td>\n",
       "      <td>1.000000</td>\n",
       "      <td>1.000000</td>\n",
       "      <td>NaN</td>\n",
       "      <td>NaN</td>\n",
       "    </tr>\n",
       "    <tr>\n",
       "      <td>ADT_CD23_A0108</td>\n",
       "      <td>0.9344</td>\n",
       "      <td>0.0656</td>\n",
       "      <td>2.656329</td>\n",
       "      <td>18.274105</td>\n",
       "      <td>61.818306</td>\n",
       "      <td>-3.662293</td>\n",
       "      <td>-2.016987</td>\n",
       "      <td>3.243678</td>\n",
       "      <td>-8.129188</td>\n",
       "      <td>7.177583</td>\n",
       "      <td>...</td>\n",
       "      <td>-7.653973</td>\n",
       "      <td>0.208226</td>\n",
       "      <td>-7.997803</td>\n",
       "      <td>5.762841</td>\n",
       "      <td>19.169550</td>\n",
       "      <td>64.306259</td>\n",
       "      <td>0.978085</td>\n",
       "      <td>0.999634</td>\n",
       "      <td>NaN</td>\n",
       "      <td>NaN</td>\n",
       "    </tr>\n",
       "    <tr>\n",
       "      <td>ADT_CD274(B7-H1_PD-L1)_A0190</td>\n",
       "      <td>0.8020</td>\n",
       "      <td>0.1980</td>\n",
       "      <td>1.398842</td>\n",
       "      <td>5.906882</td>\n",
       "      <td>13.860413</td>\n",
       "      <td>-2.393666</td>\n",
       "      <td>-1.380805</td>\n",
       "      <td>2.475505</td>\n",
       "      <td>-6.857774</td>\n",
       "      <td>5.156113</td>\n",
       "      <td>...</td>\n",
       "      <td>-5.512184</td>\n",
       "      <td>0.459519</td>\n",
       "      <td>-5.906026</td>\n",
       "      <td>4.793375</td>\n",
       "      <td>8.987312</td>\n",
       "      <td>14.047201</td>\n",
       "      <td>0.997693</td>\n",
       "      <td>1.000000</td>\n",
       "      <td>NaN</td>\n",
       "      <td>NaN</td>\n",
       "    </tr>\n",
       "    <tr>\n",
       "      <td>ADT_I-A-I-E_A0117</td>\n",
       "      <td>0.9132</td>\n",
       "      <td>0.0868</td>\n",
       "      <td>2.353348</td>\n",
       "      <td>153.790375</td>\n",
       "      <td>350.641235</td>\n",
       "      <td>-2.111411</td>\n",
       "      <td>-1.227985</td>\n",
       "      <td>2.997911</td>\n",
       "      <td>-10.666430</td>\n",
       "      <td>9.503570</td>\n",
       "      <td>...</td>\n",
       "      <td>-9.815630</td>\n",
       "      <td>0.596297</td>\n",
       "      <td>-10.374124</td>\n",
       "      <td>1.132214</td>\n",
       "      <td>148.702423</td>\n",
       "      <td>365.467621</td>\n",
       "      <td>1.000000</td>\n",
       "      <td>1.000000</td>\n",
       "      <td>NaN</td>\n",
       "      <td>NaN</td>\n",
       "    </tr>\n",
       "    <tr>\n",
       "      <td>ADT_CD200(OX2)_A0079</td>\n",
       "      <td>0.9308</td>\n",
       "      <td>0.0692</td>\n",
       "      <td>2.599043</td>\n",
       "      <td>12.450583</td>\n",
       "      <td>25.175098</td>\n",
       "      <td>-1.153455</td>\n",
       "      <td>-0.965580</td>\n",
       "      <td>1.251192</td>\n",
       "      <td>-7.269903</td>\n",
       "      <td>5.502914</td>\n",
       "      <td>...</td>\n",
       "      <td>-5.518112</td>\n",
       "      <td>0.250926</td>\n",
       "      <td>-6.096833</td>\n",
       "      <td>0.948036</td>\n",
       "      <td>11.611303</td>\n",
       "      <td>25.450787</td>\n",
       "      <td>0.998847</td>\n",
       "      <td>1.000000</td>\n",
       "      <td>NaN</td>\n",
       "      <td>NaN</td>\n",
       "    </tr>\n",
       "    <tr>\n",
       "      <td>ADT_CD11a_A0595</td>\n",
       "      <td>0.8924</td>\n",
       "      <td>0.1076</td>\n",
       "      <td>2.115494</td>\n",
       "      <td>23.146299</td>\n",
       "      <td>47.460255</td>\n",
       "      <td>-1.916670</td>\n",
       "      <td>-0.843015</td>\n",
       "      <td>2.491097</td>\n",
       "      <td>-8.846575</td>\n",
       "      <td>6.725746</td>\n",
       "      <td>...</td>\n",
       "      <td>-6.841722</td>\n",
       "      <td>0.375087</td>\n",
       "      <td>-7.634045</td>\n",
       "      <td>0.618166</td>\n",
       "      <td>24.103806</td>\n",
       "      <td>47.702160</td>\n",
       "      <td>1.000000</td>\n",
       "      <td>1.000000</td>\n",
       "      <td>NaN</td>\n",
       "      <td>NaN</td>\n",
       "    </tr>\n",
       "    <tr>\n",
       "      <td>ADT_CD55(DAF)_A0558</td>\n",
       "      <td>0.8982</td>\n",
       "      <td>0.1018</td>\n",
       "      <td>2.177383</td>\n",
       "      <td>61.923706</td>\n",
       "      <td>108.951874</td>\n",
       "      <td>-0.800770</td>\n",
       "      <td>-0.831961</td>\n",
       "      <td>0.744080</td>\n",
       "      <td>-7.807211</td>\n",
       "      <td>7.750659</td>\n",
       "      <td>...</td>\n",
       "      <td>-2.173124</td>\n",
       "      <td>0.439961</td>\n",
       "      <td>-2.494148</td>\n",
       "      <td>1.099033</td>\n",
       "      <td>60.565166</td>\n",
       "      <td>112.742775</td>\n",
       "      <td>1.000000</td>\n",
       "      <td>1.000000</td>\n",
       "      <td>NaN</td>\n",
       "      <td>NaN</td>\n",
       "    </tr>\n",
       "    <tr>\n",
       "      <td>ADT_CD19_A0093</td>\n",
       "      <td>0.8102</td>\n",
       "      <td>0.1898</td>\n",
       "      <td>1.451310</td>\n",
       "      <td>86.200310</td>\n",
       "      <td>128.924973</td>\n",
       "      <td>-0.577509</td>\n",
       "      <td>-0.533434</td>\n",
       "      <td>0.718505</td>\n",
       "      <td>-8.260580</td>\n",
       "      <td>7.623136</td>\n",
       "      <td>...</td>\n",
       "      <td>-1.861056</td>\n",
       "      <td>0.509007</td>\n",
       "      <td>-2.374973</td>\n",
       "      <td>0.919122</td>\n",
       "      <td>85.663208</td>\n",
       "      <td>131.811203</td>\n",
       "      <td>1.000000</td>\n",
       "      <td>1.000000</td>\n",
       "      <td>NaN</td>\n",
       "      <td>NaN</td>\n",
       "    </tr>\n",
       "    <tr>\n",
       "      <td>ADT_CD45_A0096</td>\n",
       "      <td>0.7874</td>\n",
       "      <td>0.2126</td>\n",
       "      <td>1.309324</td>\n",
       "      <td>265.781464</td>\n",
       "      <td>383.205414</td>\n",
       "      <td>-0.531030</td>\n",
       "      <td>-0.463086</td>\n",
       "      <td>0.680264</td>\n",
       "      <td>-10.268438</td>\n",
       "      <td>9.038262</td>\n",
       "      <td>...</td>\n",
       "      <td>-1.654073</td>\n",
       "      <td>0.417393</td>\n",
       "      <td>-2.154461</td>\n",
       "      <td>0.797537</td>\n",
       "      <td>263.709351</td>\n",
       "      <td>389.309174</td>\n",
       "      <td>1.000000</td>\n",
       "      <td>1.000000</td>\n",
       "      <td>NaN</td>\n",
       "      <td>NaN</td>\n",
       "    </tr>\n",
       "    <tr>\n",
       "      <td>ADT_CD45.2_A0157</td>\n",
       "      <td>0.7332</td>\n",
       "      <td>0.2668</td>\n",
       "      <td>1.010919</td>\n",
       "      <td>16.583273</td>\n",
       "      <td>30.156475</td>\n",
       "      <td>-2.139614</td>\n",
       "      <td>-0.455864</td>\n",
       "      <td>2.766406</td>\n",
       "      <td>-7.653747</td>\n",
       "      <td>6.339978</td>\n",
       "      <td>...</td>\n",
       "      <td>-6.432685</td>\n",
       "      <td>0.571033</td>\n",
       "      <td>-7.276009</td>\n",
       "      <td>0.833518</td>\n",
       "      <td>20.527105</td>\n",
       "      <td>29.888035</td>\n",
       "      <td>1.000000</td>\n",
       "      <td>1.000000</td>\n",
       "      <td>NaN</td>\n",
       "      <td>NaN</td>\n",
       "    </tr>\n",
       "    <tr>\n",
       "      <td>ADT_CD38_A0557</td>\n",
       "      <td>0.7650</td>\n",
       "      <td>0.2350</td>\n",
       "      <td>1.180290</td>\n",
       "      <td>159.390732</td>\n",
       "      <td>227.204849</td>\n",
       "      <td>-0.505980</td>\n",
       "      <td>-0.414567</td>\n",
       "      <td>0.886492</td>\n",
       "      <td>-10.004403</td>\n",
       "      <td>8.676532</td>\n",
       "      <td>...</td>\n",
       "      <td>-1.629169</td>\n",
       "      <td>0.537581</td>\n",
       "      <td>-2.404078</td>\n",
       "      <td>1.059897</td>\n",
       "      <td>153.423294</td>\n",
       "      <td>232.789978</td>\n",
       "      <td>1.000000</td>\n",
       "      <td>1.000000</td>\n",
       "      <td>NaN</td>\n",
       "      <td>NaN</td>\n",
       "    </tr>\n",
       "    <tr>\n",
       "      <td>ADT_CD49d_A0078</td>\n",
       "      <td>0.7712</td>\n",
       "      <td>0.2288</td>\n",
       "      <td>1.215099</td>\n",
       "      <td>11.146628</td>\n",
       "      <td>15.552475</td>\n",
       "      <td>-0.440766</td>\n",
       "      <td>-0.412266</td>\n",
       "      <td>0.661169</td>\n",
       "      <td>-6.034841</td>\n",
       "      <td>4.760808</td>\n",
       "      <td>...</td>\n",
       "      <td>-1.649151</td>\n",
       "      <td>0.700065</td>\n",
       "      <td>-2.281771</td>\n",
       "      <td>1.129794</td>\n",
       "      <td>10.355248</td>\n",
       "      <td>15.178558</td>\n",
       "      <td>0.996540</td>\n",
       "      <td>1.000000</td>\n",
       "      <td>NaN</td>\n",
       "      <td>NaN</td>\n",
       "    </tr>\n",
       "    <tr>\n",
       "      <td>ADT_CD45R-B220_A0103</td>\n",
       "      <td>0.7374</td>\n",
       "      <td>0.2626</td>\n",
       "      <td>1.032498</td>\n",
       "      <td>90.001808</td>\n",
       "      <td>119.958054</td>\n",
       "      <td>-0.385592</td>\n",
       "      <td>-0.350796</td>\n",
       "      <td>0.584420</td>\n",
       "      <td>-7.687448</td>\n",
       "      <td>7.672105</td>\n",
       "      <td>...</td>\n",
       "      <td>-1.515139</td>\n",
       "      <td>0.583109</td>\n",
       "      <td>-2.009680</td>\n",
       "      <td>0.925266</td>\n",
       "      <td>89.708191</td>\n",
       "      <td>122.422249</td>\n",
       "      <td>1.000000</td>\n",
       "      <td>1.000000</td>\n",
       "      <td>NaN</td>\n",
       "      <td>NaN</td>\n",
       "    </tr>\n",
       "    <tr>\n",
       "      <td>ADT_CD79b(Igb)_A0561</td>\n",
       "      <td>0.7720</td>\n",
       "      <td>0.2280</td>\n",
       "      <td>1.219639</td>\n",
       "      <td>28.531534</td>\n",
       "      <td>34.770721</td>\n",
       "      <td>-0.367541</td>\n",
       "      <td>-0.233532</td>\n",
       "      <td>1.094519</td>\n",
       "      <td>-7.478244</td>\n",
       "      <td>6.443606</td>\n",
       "      <td>...</td>\n",
       "      <td>-1.871011</td>\n",
       "      <td>1.143291</td>\n",
       "      <td>-6.222261</td>\n",
       "      <td>1.618535</td>\n",
       "      <td>28.752018</td>\n",
       "      <td>35.091110</td>\n",
       "      <td>1.000000</td>\n",
       "      <td>1.000000</td>\n",
       "      <td>NaN</td>\n",
       "      <td>NaN</td>\n",
       "    </tr>\n",
       "  </tbody>\n",
       "</table>\n",
       "<p>19 rows × 24 columns</p>\n",
       "</div>"
      ],
      "text/plain": [
       "                              proba_de  proba_not_de  bayes_factor  \\\n",
       "ADT_CD62L_A0112                 0.9172        0.0828      2.404897   \n",
       "ADT_Ly-6A-E(Sca-1)_A0130        0.6760        0.3240      0.735450   \n",
       "ADT_integrinb7_A0214            0.8824        0.1176      2.015356   \n",
       "ADT_CD150(SLAM)_A0203           0.9162        0.0838      2.391802   \n",
       "ADT_CD21-CD35(CR2-CR1)_A0107    0.9580        0.0420      3.127178   \n",
       "ADT_IgD_A0571                   0.9620        0.0380      3.231428   \n",
       "ADT_CD23_A0108                  0.9344        0.0656      2.656329   \n",
       "ADT_CD274(B7-H1_PD-L1)_A0190    0.8020        0.1980      1.398842   \n",
       "ADT_I-A-I-E_A0117               0.9132        0.0868      2.353348   \n",
       "ADT_CD200(OX2)_A0079            0.9308        0.0692      2.599043   \n",
       "ADT_CD11a_A0595                 0.8924        0.1076      2.115494   \n",
       "ADT_CD55(DAF)_A0558             0.8982        0.1018      2.177383   \n",
       "ADT_CD19_A0093                  0.8102        0.1898      1.451310   \n",
       "ADT_CD45_A0096                  0.7874        0.2126      1.309324   \n",
       "ADT_CD45.2_A0157                0.7332        0.2668      1.010919   \n",
       "ADT_CD38_A0557                  0.7650        0.2350      1.180290   \n",
       "ADT_CD49d_A0078                 0.7712        0.2288      1.215099   \n",
       "ADT_CD45R-B220_A0103            0.7374        0.2626      1.032498   \n",
       "ADT_CD79b(Igb)_A0561            0.7720        0.2280      1.219639   \n",
       "\n",
       "                                  scale1      scale2      mean    median  \\\n",
       "ADT_CD62L_A0112                15.927847   77.910622 -4.368687 -6.887024   \n",
       "ADT_Ly-6A-E(Sca-1)_A0130        8.381959   35.952610 -3.359572 -6.143054   \n",
       "ADT_integrinb7_A0214            8.058406   27.228603 -3.395973 -5.443006   \n",
       "ADT_CD150(SLAM)_A0203           8.752646   28.473663 -3.380534 -5.361651   \n",
       "ADT_CD21-CD35(CR2-CR1)_A0107   14.339369   55.623852 -3.055823 -2.166599   \n",
       "ADT_IgD_A0571                 115.206039  411.139160 -3.044752 -2.045525   \n",
       "ADT_CD23_A0108                 18.274105   61.818306 -3.662293 -2.016987   \n",
       "ADT_CD274(B7-H1_PD-L1)_A0190    5.906882   13.860413 -2.393666 -1.380805   \n",
       "ADT_I-A-I-E_A0117             153.790375  350.641235 -2.111411 -1.227985   \n",
       "ADT_CD200(OX2)_A0079           12.450583   25.175098 -1.153455 -0.965580   \n",
       "ADT_CD11a_A0595                23.146299   47.460255 -1.916670 -0.843015   \n",
       "ADT_CD55(DAF)_A0558            61.923706  108.951874 -0.800770 -0.831961   \n",
       "ADT_CD19_A0093                 86.200310  128.924973 -0.577509 -0.533434   \n",
       "ADT_CD45_A0096                265.781464  383.205414 -0.531030 -0.463086   \n",
       "ADT_CD45.2_A0157               16.583273   30.156475 -2.139614 -0.455864   \n",
       "ADT_CD38_A0557                159.390732  227.204849 -0.505980 -0.414567   \n",
       "ADT_CD49d_A0078                11.146628   15.552475 -0.440766 -0.412266   \n",
       "ADT_CD45R-B220_A0103           90.001808  119.958054 -0.385592 -0.350796   \n",
       "ADT_CD79b(Igb)_A0561           28.531534   34.770721 -0.367541 -0.233532   \n",
       "\n",
       "                                   std        min       max  ...  \\\n",
       "ADT_CD62L_A0112               3.741391  -8.627234  7.535151  ...   \n",
       "ADT_Ly-6A-E(Sca-1)_A0130      4.016749  -9.210114  7.968407  ...   \n",
       "ADT_integrinb7_A0214          3.012272  -7.180512  6.203607  ...   \n",
       "ADT_CD150(SLAM)_A0203         2.824345  -7.146576  6.223266  ...   \n",
       "ADT_CD21-CD35(CR2-CR1)_A0107  2.631561  -8.896247  7.012292  ...   \n",
       "ADT_IgD_A0571                 3.243956 -10.926152  9.478664  ...   \n",
       "ADT_CD23_A0108                3.243678  -8.129188  7.177583  ...   \n",
       "ADT_CD274(B7-H1_PD-L1)_A0190  2.475505  -6.857774  5.156113  ...   \n",
       "ADT_I-A-I-E_A0117             2.997911 -10.666430  9.503570  ...   \n",
       "ADT_CD200(OX2)_A0079          1.251192  -7.269903  5.502914  ...   \n",
       "ADT_CD11a_A0595               2.491097  -8.846575  6.725746  ...   \n",
       "ADT_CD55(DAF)_A0558           0.744080  -7.807211  7.750659  ...   \n",
       "ADT_CD19_A0093                0.718505  -8.260580  7.623136  ...   \n",
       "ADT_CD45_A0096                0.680264 -10.268438  9.038262  ...   \n",
       "ADT_CD45.2_A0157              2.766406  -7.653747  6.339978  ...   \n",
       "ADT_CD38_A0557                0.886492 -10.004403  8.676532  ...   \n",
       "ADT_CD49d_A0078               0.661169  -6.034841  4.760808  ...   \n",
       "ADT_CD45R-B220_A0103          0.584420  -7.687448  7.672105  ...   \n",
       "ADT_CD79b(Igb)_A0561          1.094519  -7.478244  6.443606  ...   \n",
       "\n",
       "                              confidence_interval_0.95_min  \\\n",
       "ADT_CD62L_A0112                                  -8.403173   \n",
       "ADT_Ly-6A-E(Sca-1)_A0130                         -7.669607   \n",
       "ADT_integrinb7_A0214                             -6.761719   \n",
       "ADT_CD150(SLAM)_A0203                            -6.594371   \n",
       "ADT_CD21-CD35(CR2-CR1)_A0107                     -7.596962   \n",
       "ADT_IgD_A0571                                   -10.184634   \n",
       "ADT_CD23_A0108                                   -7.653973   \n",
       "ADT_CD274(B7-H1_PD-L1)_A0190                     -5.512184   \n",
       "ADT_I-A-I-E_A0117                                -9.815630   \n",
       "ADT_CD200(OX2)_A0079                             -5.518112   \n",
       "ADT_CD11a_A0595                                  -6.841722   \n",
       "ADT_CD55(DAF)_A0558                              -2.173124   \n",
       "ADT_CD19_A0093                                   -1.861056   \n",
       "ADT_CD45_A0096                                   -1.654073   \n",
       "ADT_CD45.2_A0157                                 -6.432685   \n",
       "ADT_CD38_A0557                                   -1.629169   \n",
       "ADT_CD49d_A0078                                  -1.649151   \n",
       "ADT_CD45R-B220_A0103                             -1.515139   \n",
       "ADT_CD79b(Igb)_A0561                             -1.871011   \n",
       "\n",
       "                              confidence_interval_0.95_max  \\\n",
       "ADT_CD62L_A0112                                   0.280146   \n",
       "ADT_Ly-6A-E(Sca-1)_A0130                          6.739248   \n",
       "ADT_integrinb7_A0214                              0.371821   \n",
       "ADT_CD150(SLAM)_A0203                             0.256555   \n",
       "ADT_CD21-CD35(CR2-CR1)_A0107                      0.351828   \n",
       "ADT_IgD_A0571                                     0.290276   \n",
       "ADT_CD23_A0108                                    0.208226   \n",
       "ADT_CD274(B7-H1_PD-L1)_A0190                      0.459519   \n",
       "ADT_I-A-I-E_A0117                                 0.596297   \n",
       "ADT_CD200(OX2)_A0079                              0.250926   \n",
       "ADT_CD11a_A0595                                   0.375087   \n",
       "ADT_CD55(DAF)_A0558                               0.439961   \n",
       "ADT_CD19_A0093                                    0.509007   \n",
       "ADT_CD45_A0096                                    0.417393   \n",
       "ADT_CD45.2_A0157                                  0.571033   \n",
       "ADT_CD38_A0557                                    0.537581   \n",
       "ADT_CD49d_A0078                                   0.700065   \n",
       "ADT_CD45R-B220_A0103                              0.583109   \n",
       "ADT_CD79b(Igb)_A0561                              1.143291   \n",
       "\n",
       "                              confidence_interval_0.99_min  \\\n",
       "ADT_CD62L_A0112                                  -8.594027   \n",
       "ADT_Ly-6A-E(Sca-1)_A0130                         -8.567101   \n",
       "ADT_integrinb7_A0214                             -6.892993   \n",
       "ADT_CD150(SLAM)_A0203                            -6.943357   \n",
       "ADT_CD21-CD35(CR2-CR1)_A0107                     -8.619415   \n",
       "ADT_IgD_A0571                                   -10.845722   \n",
       "ADT_CD23_A0108                                   -7.997803   \n",
       "ADT_CD274(B7-H1_PD-L1)_A0190                     -5.906026   \n",
       "ADT_I-A-I-E_A0117                               -10.374124   \n",
       "ADT_CD200(OX2)_A0079                             -6.096833   \n",
       "ADT_CD11a_A0595                                  -7.634045   \n",
       "ADT_CD55(DAF)_A0558                              -2.494148   \n",
       "ADT_CD19_A0093                                   -2.374973   \n",
       "ADT_CD45_A0096                                   -2.154461   \n",
       "ADT_CD45.2_A0157                                 -7.276009   \n",
       "ADT_CD38_A0557                                   -2.404078   \n",
       "ADT_CD49d_A0078                                  -2.281771   \n",
       "ADT_CD45R-B220_A0103                             -2.009680   \n",
       "ADT_CD79b(Igb)_A0561                             -6.222261   \n",
       "\n",
       "                              confidence_interval_0.99_max   raw_mean1  \\\n",
       "ADT_CD62L_A0112                                   6.543036   18.770473   \n",
       "ADT_Ly-6A-E(Sca-1)_A0130                          7.232789   16.560555   \n",
       "ADT_integrinb7_A0214                              5.516222   14.167243   \n",
       "ADT_CD150(SLAM)_A0203                             5.088394   10.769320   \n",
       "ADT_CD21-CD35(CR2-CR1)_A0107                      1.286246   13.889274   \n",
       "ADT_IgD_A0571                                     1.570955  115.650520   \n",
       "ADT_CD23_A0108                                    5.762841   19.169550   \n",
       "ADT_CD274(B7-H1_PD-L1)_A0190                      4.793375    8.987312   \n",
       "ADT_I-A-I-E_A0117                                 1.132214  148.702423   \n",
       "ADT_CD200(OX2)_A0079                              0.948036   11.611303   \n",
       "ADT_CD11a_A0595                                   0.618166   24.103806   \n",
       "ADT_CD55(DAF)_A0558                               1.099033   60.565166   \n",
       "ADT_CD19_A0093                                    0.919122   85.663208   \n",
       "ADT_CD45_A0096                                    0.797537  263.709351   \n",
       "ADT_CD45.2_A0157                                  0.833518   20.527105   \n",
       "ADT_CD38_A0557                                    1.059897  153.423294   \n",
       "ADT_CD49d_A0078                                   1.129794   10.355248   \n",
       "ADT_CD45R-B220_A0103                              0.925266   89.708191   \n",
       "ADT_CD79b(Igb)_A0561                              1.618535   28.752018   \n",
       "\n",
       "                               raw_mean2  non_zeros_proportion1  \\\n",
       "ADT_CD62L_A0112                81.620201               0.983852   \n",
       "ADT_Ly-6A-E(Sca-1)_A0130       41.975483               0.998847   \n",
       "ADT_integrinb7_A0214           27.289061               0.998847   \n",
       "ADT_CD150(SLAM)_A0203          29.390413               0.989619   \n",
       "ADT_CD21-CD35(CR2-CR1)_A0107   59.597511               0.980392   \n",
       "ADT_IgD_A0571                 432.256866               1.000000   \n",
       "ADT_CD23_A0108                 64.306259               0.978085   \n",
       "ADT_CD274(B7-H1_PD-L1)_A0190   14.047201               0.997693   \n",
       "ADT_I-A-I-E_A0117             365.467621               1.000000   \n",
       "ADT_CD200(OX2)_A0079           25.450787               0.998847   \n",
       "ADT_CD11a_A0595                47.702160               1.000000   \n",
       "ADT_CD55(DAF)_A0558           112.742775               1.000000   \n",
       "ADT_CD19_A0093                131.811203               1.000000   \n",
       "ADT_CD45_A0096                389.309174               1.000000   \n",
       "ADT_CD45.2_A0157               29.888035               1.000000   \n",
       "ADT_CD38_A0557                232.789978               1.000000   \n",
       "ADT_CD49d_A0078                15.178558               0.996540   \n",
       "ADT_CD45R-B220_A0103          122.422249               1.000000   \n",
       "ADT_CD79b(Igb)_A0561           35.091110               1.000000   \n",
       "\n",
       "                              non_zeros_proportion2  raw_normalized_mean1  \\\n",
       "ADT_CD62L_A0112                            0.999268                   NaN   \n",
       "ADT_Ly-6A-E(Sca-1)_A0130                   1.000000                   NaN   \n",
       "ADT_integrinb7_A0214                       0.999634                   NaN   \n",
       "ADT_CD150(SLAM)_A0203                      0.999634                   NaN   \n",
       "ADT_CD21-CD35(CR2-CR1)_A0107               1.000000                   NaN   \n",
       "ADT_IgD_A0571                              1.000000                   NaN   \n",
       "ADT_CD23_A0108                             0.999634                   NaN   \n",
       "ADT_CD274(B7-H1_PD-L1)_A0190               1.000000                   NaN   \n",
       "ADT_I-A-I-E_A0117                          1.000000                   NaN   \n",
       "ADT_CD200(OX2)_A0079                       1.000000                   NaN   \n",
       "ADT_CD11a_A0595                            1.000000                   NaN   \n",
       "ADT_CD55(DAF)_A0558                        1.000000                   NaN   \n",
       "ADT_CD19_A0093                             1.000000                   NaN   \n",
       "ADT_CD45_A0096                             1.000000                   NaN   \n",
       "ADT_CD45.2_A0157                           1.000000                   NaN   \n",
       "ADT_CD38_A0557                             1.000000                   NaN   \n",
       "ADT_CD49d_A0078                            1.000000                   NaN   \n",
       "ADT_CD45R-B220_A0103                       1.000000                   NaN   \n",
       "ADT_CD79b(Igb)_A0561                       1.000000                   NaN   \n",
       "\n",
       "                              raw_normalized_mean2  \n",
       "ADT_CD62L_A0112                                NaN  \n",
       "ADT_Ly-6A-E(Sca-1)_A0130                       NaN  \n",
       "ADT_integrinb7_A0214                           NaN  \n",
       "ADT_CD150(SLAM)_A0203                          NaN  \n",
       "ADT_CD21-CD35(CR2-CR1)_A0107                   NaN  \n",
       "ADT_IgD_A0571                                  NaN  \n",
       "ADT_CD23_A0108                                 NaN  \n",
       "ADT_CD274(B7-H1_PD-L1)_A0190                   NaN  \n",
       "ADT_I-A-I-E_A0117                              NaN  \n",
       "ADT_CD200(OX2)_A0079                           NaN  \n",
       "ADT_CD11a_A0595                                NaN  \n",
       "ADT_CD55(DAF)_A0558                            NaN  \n",
       "ADT_CD19_A0093                                 NaN  \n",
       "ADT_CD45_A0096                                 NaN  \n",
       "ADT_CD45.2_A0157                               NaN  \n",
       "ADT_CD38_A0557                                 NaN  \n",
       "ADT_CD49d_A0078                                NaN  \n",
       "ADT_CD45R-B220_A0103                           NaN  \n",
       "ADT_CD79b(Igb)_A0561                           NaN  \n",
       "\n",
       "[19 rows x 24 columns]"
      ]
     },
     "execution_count": 41,
     "metadata": {},
     "output_type": "execute_result"
    }
   ],
   "source": [
    "# DE protein results: mature markers\n",
    "\n",
    "mature_protein = transitional_vs_mature_de\n",
    "mature_protein = mature_protein.iloc[mature_protein.index.str.contains(\"ADT_\")]                                   \n",
    "\n",
    "mature_protein = mature_protein.loc[mature_protein['bayes_factor'] > .7] \n",
    "mature_protein = mature_protein.sort_values(by = \"median\", ascending = True) \n",
    "mature_protein = mature_protein.loc[mature_protein[\"median\"] < 0]\n",
    "\n",
    "mature_protein"
   ]
  },
  {
   "cell_type": "code",
   "execution_count": 43,
   "metadata": {
    "hidden": true
   },
   "outputs": [
    {
     "data": {
      "text/plain": [
       "array(['ADT_CD62L_A0112', 'ADT_Ly-6A-E(Sca-1)_A0130',\n",
       "       'ADT_integrinb7_A0214', 'ADT_CD150(SLAM)_A0203',\n",
       "       'ADT_CD21-CD35(CR2-CR1)_A0107', 'ADT_IgD_A0571', 'ADT_CD23_A0108',\n",
       "       'ADT_CD274(B7-H1_PD-L1)_A0190', 'ADT_I-A-I-E_A0117',\n",
       "       'ADT_CD200(OX2)_A0079'], dtype=object)"
      ]
     },
     "execution_count": 43,
     "metadata": {},
     "output_type": "execute_result"
    }
   ],
   "source": [
    "mature_protein_markers = mature_protein.index[0:10].values\n",
    "mature_protein_markers"
   ]
  },
  {
   "cell_type": "code",
   "execution_count": 58,
   "metadata": {
    "hidden": true
   },
   "outputs": [
    {
     "data": {
      "text/plain": [
       "0.73904806"
      ]
     },
     "execution_count": 58,
     "metadata": {},
     "output_type": "execute_result"
    }
   ],
   "source": [
    "# What fraction of library size difference do these proteins make up?\n",
    "\n",
    "mini_lib_size = prot_df.loc[:, mature_protein_markers].sum(axis = 1) # sum of top 10 mature markers in each cell\n",
    "total_lib_size = prot_df.sum(axis = 1) # total library size for 111 panel\n",
    "mean_trans_total = np.mean(total_lib_size[np.array(adata.obs[\"annotations\"] == \"Transitional B cells\")])\n",
    "mean_mature_total = np.mean(total_lib_size[np.array(adata.obs[\"annotations\"] == \"Mature B cells\")])\n",
    "difference_total = mean_mature_total - mean_trans_total # on average, transitional are 1800, mature are 2800\n",
    "\n",
    "mean_trans_mini = np.mean(mini_lib_size[np.array(adata.obs[\"annotations\"] == \"Transitional B cells\")])\n",
    "mean_mature_mini = np.mean(mini_lib_size[np.array(adata.obs[\"annotations\"] == \"Mature B cells\")])\n",
    "difference_mini = mean_mature_mini - mean_trans_mini # 400, 1100, difference is 700\n",
    "\n",
    "frac_mature_markers_difference = difference_mini/difference_total\n",
    "frac_mature_markers_difference \n",
    "\n",
    "# Interpretation: 74% of the difference in library size between mature and transitional is driven by the 10 most DE proteins\n",
    "# These differences are biologically driven (IgD, CD23, Cd21)"
   ]
  },
  {
   "cell_type": "code",
   "execution_count": 59,
   "metadata": {
    "hidden": true
   },
   "outputs": [
    {
     "name": "stdout",
     "output_type": "stream",
     "text": [
      "transitional fraction: 0.19075684\n",
      "mature fraction: 0.39398214\n"
     ]
    }
   ],
   "source": [
    "# What fraction of expression do these markers make up in each cell type?\n",
    "\n",
    "frac_mature_markers = mini_lib_size/total_lib_size\n",
    "mean_frac_transitional = np.mean(frac_mature_markers[np.array(adata.obs[\"annotations\"] == \"Transitional B cells\")])\n",
    "mean_frac_mature = np.mean(frac_mature_markers[np.array(adata.obs[\"annotations\"] == \"Mature B cells\")])\n",
    "\n",
    "print(\"transitional fraction: \" + str(mean_frac_transitional))\n",
    "print(\"mature fraction: \" + str(mean_frac_mature))"
   ]
  },
  {
   "cell_type": "code",
   "execution_count": 60,
   "metadata": {
    "hidden": true
   },
   "outputs": [],
   "source": [
    "# Calculate errors to plot\n",
    "\n",
    "sem_trans_remaining = sem(total_lib_size[np.array(adata.obs[\"annotations\"] == \"Transitional B cells\")] - \n",
    "                                           mini_lib_size[np.array(adata.obs[\"annotations\"] == \"Transitional B cells\")])\n",
    "sem_trans_mini = sem(mini_lib_size[np.array(adata.obs[\"annotations\"] == \"Transitional B cells\")])\n",
    "sem_mature_remaining = sem(total_lib_size[np.array(adata.obs[\"annotations\"] == \"Mature B cells\")] - \n",
    "                             mini_lib_size[np.array(adata.obs[\"annotations\"] == \"Mature B cells\")])\n",
    "sem_mature_mini = sem(mini_lib_size[np.array(adata.obs[\"annotations\"] == \"Mature B cells\")])"
   ]
  },
  {
   "cell_type": "code",
   "execution_count": 61,
   "metadata": {
    "hidden": true
   },
   "outputs": [],
   "source": [
    "# Plot differences in library size as stacked bar chart\n",
    "# Transitional, mature\n",
    "N = 2\n",
    "matureBmarkers = (mean_trans_mini, mean_mature_mini)\n",
    "remainingproteins = (mean_trans_total - mean_trans_mini, mean_mature_total - mean_mature_mini)\n",
    "matureBerrors = (sem_trans_mini, sem_mature_mini)\n",
    "remainingerrors = (sem_trans_remaining, sem_mature_remaining)\n",
    "ind = np.arange(N)\n",
    "width = 0.5"
   ]
  },
  {
   "cell_type": "code",
   "execution_count": 62,
   "metadata": {
    "hidden": true
   },
   "outputs": [
    {
     "data": {
      "image/png": "[encoded data removed]",
      "text/plain": [
       "<Figure size 360x288 with 1 Axes>"
      ]
     },
     "metadata": {},
     "output_type": "display_data"
    }
   ],
   "source": [
    "# Plot\n",
    "fig, ax = plt.subplots(figsize=(5, 4)) \n",
    "\n",
    "p1 = ax.bar(ind, remainingproteins, width,\n",
    "             yerr = remainingerrors, capsize = 6, color = colors[1])\n",
    "p2 = ax.bar(ind, matureBmarkers, width, bottom = remainingproteins,\n",
    "             yerr = matureBerrors, capsize = 6, color = colors[0])\n",
    "\n",
    "ax.set(ylabel = 'Protein library size')\n",
    "plt.xticks(ind, ('Transitional B', 'Mature B'))\n",
    "ax.legend((p2[0], p1[0]), ('Mature B markers', 'Remaining proteins'), loc = \"upper left\", prop={'size': 12})\n",
    "\n",
    "sns.despine()\n",
    "plt.tight_layout()\n",
    "\n",
    "#fig.savefig(\"/data/yosef2/users/zsteier/totalVI/totalVI_journal/spleen_lymph_all/comparative_analysis/libsize_figures/libsize_MatureB_DEmarkers.pdf\", dpi = DPI)"
   ]
  },
  {
   "cell_type": "markdown",
   "metadata": {
    "heading_collapsed": true
   },
   "source": [
    "## Estimated protein background"
   ]
  },
  {
   "cell_type": "code",
   "execution_count": 20,
   "metadata": {
    "hidden": true
   },
   "outputs": [],
   "source": [
    "# Estimate number of protein UMI counts due to background using foreground probability < 0.5\n",
    "\n",
    "# foreground probability for each protein\n",
    "fore_cols = [col for col in post_adata.obs.columns if \"fore_prob\" in col]\n",
    "fore_prob = pd.DataFrame(post_adata.obs).loc[:, fore_cols]\n",
    "\n",
    "# raw protein counts\n",
    "prot_raw = post_adata.obsm[\"protein_expression\"]\n",
    "\n",
    "# mask on foreground prob < 0.5\n",
    "background_counts = prot_raw * (fore_prob < 0.5)\n"
   ]
  },
  {
   "cell_type": "code",
   "execution_count": 21,
   "metadata": {
    "hidden": true
   },
   "outputs": [
    {
     "data": {
      "text/plain": [
       "(32648, 110)"
      ]
     },
     "execution_count": 21,
     "metadata": {},
     "output_type": "execute_result"
    }
   ],
   "source": [
    "prot_raw.shape"
   ]
  },
  {
   "cell_type": "code",
   "execution_count": 22,
   "metadata": {
    "hidden": true
   },
   "outputs": [
    {
     "data": {
      "text/plain": [
       "[0.117460474, 0.09892567, 0.13172385, 0.18047337]"
      ]
     },
     "execution_count": 22,
     "metadata": {},
     "output_type": "execute_result"
    }
   ],
   "source": [
    "# sum of background counts per batch\n",
    "bg_per_batch = []\n",
    "for batch in post_adata.obs[\"batch_indices\"].cat.categories:\n",
    "    bg = np.sum(background_counts.loc[post_adata.obs[\"batch_indices\"] == batch, :], axis = 1) # bg in each cell\n",
    "    total = np.sum(prot_raw[post_adata.obs[\"batch_indices\"] == batch, :], axis = 1) # total in each cell\n",
    "    bg_pct = np.median(bg/total) # median of bg/total in each cell\n",
    "    bg_per_batch.append(bg_pct)\n",
    "    \n",
    "# fraction of background counts per batch\n",
    "bg_per_batch"
   ]
  },
  {
   "cell_type": "code",
   "execution_count": 23,
   "metadata": {
    "hidden": true
   },
   "outputs": [
    {
     "data": {
      "text/plain": [
       "0.12712792"
      ]
     },
     "execution_count": 23,
     "metadata": {},
     "output_type": "execute_result"
    }
   ],
   "source": [
    "# Median across all cells\n",
    "bg = np.sum(background_counts, axis = 1) # bg in each cell\n",
    "total = np.sum(prot_raw, axis = 1) # total in each cell\n",
    "bg_pct = np.median(bg/total)\n",
    "bg_pct"
   ]
  },
  {
   "cell_type": "markdown",
   "metadata": {
    "heading_collapsed": true
   },
   "source": [
    "## Autocorrelation of library size in latent space"
   ]
  },
  {
   "cell_type": "markdown",
   "metadata": {
    "hidden": true
   },
   "source": [
    "### Calculate Geary's C in totalVI latent space"
   ]
  },
  {
   "cell_type": "code",
   "execution_count": 684,
   "metadata": {
    "hidden": true
   },
   "outputs": [],
   "source": [
    "# Save adata object\n",
    "post_adata.write(\"/data/yosef2/users/zsteier/totalVI/totalVI_journal/spleen_lymph_all/comparative_analysis/post_adata_totalvi.h5ad\", compression=\"gzip\")"
   ]
  },
  {
   "cell_type": "code",
   "execution_count": 63,
   "metadata": {
    "hidden": true,
    "scrolled": false
   },
   "outputs": [
    {
     "name": "stderr",
     "output_type": "stream",
     "text": [
      "/data/yosef2/users/zsteier/programs/miniconda/envs/scvi_041/lib/python3.7/site-packages/umap/nndescent.py:92: NumbaPerformanceWarning: \n",
      "The keyword argument 'parallel=True' was specified but no transformation for parallel execution was possible.\n",
      "\n",
      "To find out why, try turning on parallel diagnostics, see http://numba.pydata.org/numba-doc/latest/user/parallel.html#diagnostics for help.\n",
      "\n",
      "File \"../../../../programs/miniconda/envs/scvi_041/lib/python3.7/site-packages/umap/utils.py\", line 409:\n",
      "@numba.njit(parallel=True)\n",
      "def build_candidates(current_graph, n_vertices, n_neighbors, max_candidates, rng_state):\n",
      "^\n",
      "\n",
      "  current_graph, n_vertices, n_neighbors, max_candidates, rng_state\n",
      "/data/yosef2/users/zsteier/programs/miniconda/envs/scvi_041/lib/python3.7/site-packages/numba/compiler.py:602: NumbaPerformanceWarning: \n",
      "The keyword argument 'parallel=True' was specified but no transformation for parallel execution was possible.\n",
      "\n",
      "To find out why, try turning on parallel diagnostics, see http://numba.pydata.org/numba-doc/latest/user/parallel.html#diagnostics for help.\n",
      "\n",
      "File \"../../../../programs/miniconda/envs/scvi_041/lib/python3.7/site-packages/umap/nndescent.py\", line 47:\n",
      "    @numba.njit(parallel=True)\n",
      "    def nn_descent(\n",
      "    ^\n",
      "\n",
      "  self.func_ir.loc))\n"
     ]
    }
   ],
   "source": [
    "sc.pp.neighbors(post_adata, use_rep=\"X_totalVI\", n_neighbors=30, metric=\"correlation\")\n",
    " # https://github.com/adamgayoso/totalVI_journal/blob/master/spleen_lymph_all/run_sln_all.py"
   ]
  },
  {
   "cell_type": "code",
   "execution_count": 64,
   "metadata": {
    "hidden": true
   },
   "outputs": [],
   "source": [
    "# Geary's C from scanpy\n",
    "# https://github.com/ivirshup/scanpy/blob/metrics/scanpy/metrics/_gearys_c.py\n",
    "\n",
    "from typing import Optional, Union\n",
    "\n",
    "from anndata import AnnData\n",
    "from multipledispatch import dispatch\n",
    "import numba\n",
    "# import numpy as np\n",
    "# import pandas as pd\n",
    "from scipy import sparse\n",
    "\n",
    "\n",
    "def _choose_obs_rep(adata, *, use_raw=False, layer=None, obsm=None, obsp=None):\n",
    "    \"\"\"\n",
    "    Choose array aligned with obs annotation.\n",
    "    \"\"\"\n",
    "    is_layer = layer is not None\n",
    "    is_raw = use_raw is not False\n",
    "    is_obsm = obsm is not None\n",
    "    is_obsp = obsp is not None\n",
    "    choices_made = sum((is_layer, is_raw, is_obsm, is_obsp))\n",
    "    assert choices_made <= 1\n",
    "    if choices_made == 0:\n",
    "        return adata.X\n",
    "    elif is_layer:\n",
    "        return adata.layers[layer]\n",
    "    elif use_raw:\n",
    "        return adata.raw.X\n",
    "    elif is_obsm:\n",
    "        return adata.obsm[obsm]\n",
    "    elif is_obsp:\n",
    "        return adata.obsp[obsp]\n",
    "    else:\n",
    "        assert False, (\n",
    "            \"That was unexpected. Please report this bug at:\\n\\n\\t\"\n",
    "            \" https://github.com/theislab/scanpy/issues\"\n",
    "        )\n",
    "\n",
    "\n",
    "\n",
    "###############################################################################\n",
    "# Calculation\n",
    "###############################################################################\n",
    "# Some notes on the implementation:\n",
    "# * This could be phrased as tensor multiplication. However that does not get\n",
    "#   parallelized, which boosts performance almost linearly with cores.\n",
    "# * Due to the umap setting the default threading backend, a parallel numba\n",
    "#   function that calls another parallel numba function can get stuck. This\n",
    "#   ends up meaning code re-use will be limited until umap 0.4.\n",
    "#   See: https://github.com/lmcinnes/umap/issues/306\n",
    "# * There can be a fair amount of numerical instability here (big reductions),\n",
    "#   so data is cast to float64. Removing these casts/ conversion will cause the\n",
    "#   tests to fail.\n",
    "\n",
    "\n",
    "@numba.njit(cache=True, parallel=False)\n",
    "def _gearys_c_vec(data, indices, indptr, x):\n",
    "    W = data.sum()\n",
    "    return _gearys_c_vec_W(data, indices, indptr, x, W)\n",
    "\n",
    "\n",
    "@numba.njit(cache=True, parallel=False)\n",
    "def _gearys_c_vec_W(data, indices, indptr, x, W):\n",
    "    N = len(indptr) - 1\n",
    "    x_bar = x.mean()\n",
    "    x = x.astype(np.float_)\n",
    "\n",
    "    total = 0.0\n",
    "    for i in numba.prange(N):\n",
    "        s = slice(indptr[i], indptr[i + 1])\n",
    "        i_indices = indices[s]\n",
    "        i_data = data[s]\n",
    "        total += np.sum(i_data * ((x[i] - x[i_indices]) ** 2))\n",
    "\n",
    "    numer = (N - 1) * total\n",
    "    denom = 2 * W * ((x - x_bar) ** 2).sum()\n",
    "    C = numer / denom\n",
    "\n",
    "    return C\n",
    "\n",
    "\n",
    "@numba.njit(cache=True, parallel=False)\n",
    "def _gearys_c_mtx_csr(\n",
    "    g_data, g_indices, g_indptr, x_data, x_indices, x_indptr, x_shape\n",
    "):\n",
    "    M, N = x_shape\n",
    "    W = g_data.sum()\n",
    "    out = np.zeros(M, dtype=np.float_)\n",
    "    for k in numba.prange(M):\n",
    "        x_k = np.zeros(N, dtype=np.float_)\n",
    "        sk = slice(x_indptr[k], x_indptr[k + 1])\n",
    "        x_k_data = x_data[sk]\n",
    "        x_k[x_indices[sk]] = x_k_data\n",
    "        x_k_bar = np.sum(x_k_data) / N\n",
    "        total = 0.0\n",
    "        for i in numba.prange(N):\n",
    "            s = slice(g_indptr[i], g_indptr[i + 1])\n",
    "            i_indices = g_indices[s]\n",
    "            i_data = g_data[s]\n",
    "            total += np.sum(i_data * ((x_k[i] - x_k[i_indices]) ** 2))\n",
    "        numer = (N - 1) * total\n",
    "        # Expanded from 2 * W * ((x_k - x_k_bar) ** 2).sum(), but uses sparsity\n",
    "        # to skip some calculations\n",
    "        # fmt: off\n",
    "        denom = (\n",
    "            2 * W\n",
    "            * (\n",
    "                np.sum(x_k_data ** 2)\n",
    "                - np.sum(x_k_data * x_k_bar * 2)\n",
    "                + (x_k_bar ** 2) * N\n",
    "            )\n",
    "        )\n",
    "        C = numer / denom\n",
    "        out[k] = C\n",
    "    return out\n",
    "\n",
    "\n",
    "# Simplified implementation, hits race condition after umap import due to numba\n",
    "# parallel backend\n",
    "# @numba.njit(cache=True, parallel=False)\n",
    "# def _gearys_c_mtx_csr(\n",
    "#     g_data, g_indices, g_indptr, x_data, x_indices, x_indptr, x_shape\n",
    "# ):\n",
    "#     M, N = x_shape\n",
    "#     W = g_data.sum()\n",
    "#     out = np.zeros(M, dtype=np.float64)\n",
    "#     for k in numba.prange(M):\n",
    "#         x_arr = np.zeros(N, dtype=x_data.dtype)\n",
    "#         sk = slice(x_indptr[k], x_indptr[k + 1])\n",
    "#         x_arr[x_indices[sk]] = x_data[sk]\n",
    "#         outval = _gearys_c_vec_W(g_data, g_indices, g_indptr, x_arr, W)\n",
    "#         out[k] = outval\n",
    "#     return out\n",
    "\n",
    "\n",
    "@numba.njit(cache=True, parallel=False)\n",
    "def _gearys_c_mtx(g_data, g_indices, g_indptr, X):\n",
    "    M, N = X.shape\n",
    "    W = g_data.sum()\n",
    "    out = np.zeros(M, dtype=np.float_)\n",
    "    for k in numba.prange(M):\n",
    "        x = X[k, :].astype(np.float_)\n",
    "        x_bar = x.mean()\n",
    "\n",
    "        total = 0.0\n",
    "        for i in numba.prange(N):\n",
    "            s = slice(g_indptr[i], g_indptr[i + 1])\n",
    "            i_indices = g_indices[s]\n",
    "            i_data = g_data[s]\n",
    "            total += np.sum(i_data * ((x[i] - x[i_indices]) ** 2))\n",
    "\n",
    "        numer = (N - 1) * total\n",
    "        denom = 2 * W * ((x - x_bar) ** 2).sum()\n",
    "        C = numer / denom\n",
    "\n",
    "        out[k] = C\n",
    "    return out\n",
    "\n",
    "\n",
    "# Similar to above, simplified version umaps choice of parallel backend breaks:\n",
    "# @numba.njit(cache=True, parallel=False)\n",
    "# def _gearys_c_mtx(g_data, g_indices, g_indptr, X):\n",
    "#     M, N = X.shape\n",
    "#     W = g_data.sum()\n",
    "#     out = np.zeros(M, dtype=np.float64)\n",
    "#     for k in numba.prange(M):\n",
    "#         outval = _gearys_c_vec_W(g_data, g_indices, g_indptr, X[k, :], W)\n",
    "#         out[k] = outval\n",
    "#     return out\n",
    "\n",
    "\n",
    "###############################################################################\n",
    "# Interface\n",
    "###############################################################################\n",
    "\n",
    "\n",
    "@dispatch(sparse.csr_matrix, sparse.csr_matrix)\n",
    "def gearys_c(g, vals) -> np.ndarray:\n",
    "    assert g.shape[0] == g.shape[1], \"`g` should be a square adjacency matrix\"\n",
    "    assert g.shape[0] == vals.shape[1]\n",
    "    return _gearys_c_mtx_csr(\n",
    "        g.data.astype(np.float_, copy=False),\n",
    "        g.indices,\n",
    "        g.indptr,\n",
    "        vals.data.astype(np.float_, copy=False),\n",
    "        vals.indices,\n",
    "        vals.indptr,\n",
    "        vals.shape,\n",
    "    )\n",
    "\n",
    "\n",
    "@dispatch(sparse.spmatrix, np.ndarray)  # noqa\n",
    "def gearys_c(g, vals):\n",
    "    \"\"\"\\\n",
    "    Params\n",
    "    ------\n",
    "    g\n",
    "        Connectivity graph as a scipy sparse matrix. Should have shape:\n",
    "        `(n_obs, n_obs)`.\n",
    "    vals\n",
    "        Values to calculate Geary's C for. If one dimensional, should have\n",
    "        shape `(n_obs,)`. If two dimensional (i.e calculating Geary's C for\n",
    "        multiple variables) should have shape `(n_vars, n_obs)`.\n",
    "    \"\"\"\n",
    "    assert g.shape[0] == g.shape[1], \"`g` should be a square matrix.\"\n",
    "    if not isinstance(g, sparse.csr_matrix):\n",
    "        g = g.tocsr()\n",
    "    g_data = g.data.astype(np.float_, copy=False)\n",
    "    if vals.ndim == 1:\n",
    "        assert g.shape[0] == vals.shape[0]\n",
    "        return _gearys_c_vec(g_data, g.indices, g.indptr, vals)\n",
    "    elif vals.ndim == 2:\n",
    "        assert g.shape[0] == vals.shape[1]\n",
    "        return _gearys_c_mtx(g_data, g.indices, g.indptr, vals)\n",
    "    else:\n",
    "        raise ValueError()\n",
    "\n",
    "\n",
    "@dispatch(sparse.spmatrix, (pd.DataFrame, pd.Series))  # noqa\n",
    "def gearys_c(g, vals):\n",
    "    return gearys_c(g, vals.values)\n",
    "\n",
    "\n",
    "@dispatch(sparse.spmatrix, sparse.spmatrix)  # noqa\n",
    "def gearys_c(g, vals) -> np.ndarray:\n",
    "    if not isinstance(g, sparse.csr_matrix):\n",
    "        g = g.tocsr()\n",
    "    if not isinstance(vals, sparse.csr_matrix):\n",
    "        vals = vals.tocsr()\n",
    "    return gearys_c(g, vals)\n",
    "\n",
    "\n",
    "# TODO: Document better\n",
    "# TODO: Have scanpydoc work with multipledispatch\n",
    "@dispatch(AnnData)  # noqa\n",
    "def gearys_c(\n",
    "    adata: AnnData,\n",
    "    *,\n",
    "    vals: Optional[Union[np.ndarray, sparse.spmatrix]] = None,\n",
    "    use_graph: Optional[str] = None,\n",
    "    layer: Optional[str] = None,\n",
    "    obsm: Optional[str] = None,\n",
    "    obsp: Optional[str] = None,\n",
    "    use_raw: bool = False,\n",
    ") -> Union[np.ndarray, float]:\n",
    "    \"\"\"\\\n",
    "    Calculate `Geary's C` <https://en.wikipedia.org/wiki/Geary's_C>`_, as used\n",
    "    by `VISION <https://doi.org/10.1038/s41467-019-12235-0>`_.\n",
    "    Geary's C is a measure of autocorrelation for some measure on a graph. This\n",
    "    can be to whether measures are correlated between neighboring cells. Lower\n",
    "    values indicate greater correlation.\n",
    "    ..math\n",
    "        C =\n",
    "        \\frac{\n",
    "            (N - 1)\\sum_{i,j} w_{i,j} (x_i - x_j)^2\n",
    "        }{\n",
    "            2W \\sum_i (x_i - \\bar{x})^2\n",
    "        }\n",
    "    Params\n",
    "    ------\n",
    "    adata\n",
    "    vals\n",
    "        Values to calculate Geary's C for. If this is two dimensional, should\n",
    "        be of shape `(n_features, n_cells)`. Otherwise should be of shape\n",
    "        `(n_cells,)`. This matrix can be selected from elements of the anndata\n",
    "        object by using key word arguments: `layer`, `obsm`, `obsp`, or\n",
    "        `use_raw`.\n",
    "    use_graph\n",
    "        Key to use for graph in anndata object. If not provided, default\n",
    "        neighbors connectivities will be used instead.\n",
    "    layer\n",
    "        Key for `adata.layers` to choose `vals`.\n",
    "    obsm\n",
    "        Key for `adata.obsm` to choose `vals`.\n",
    "    obsp\n",
    "        Key for `adata.obsp` to choose `vals`.\n",
    "    use_raw\n",
    "        Whether to use `adata.raw.X` for `vals`.\n",
    "    Returns\n",
    "    -------\n",
    "    If vals is two dimensional, returns a 1 dimensional ndarray array. Returns\n",
    "    a scalar if `vals` is 1d.\n",
    "    \"\"\"\n",
    "    if use_graph is None:\n",
    "        # Fix for anndata<0.7\n",
    "        if hasattr(adata, \"obsp\") and \"connectivities\" in adata.obsp:\n",
    "            g = adata.obsp[\"connectivities\"]\n",
    "        elif \"neighbors\" in adata.uns:\n",
    "            g = adata.uns[\"neighbors\"][\"connectivities\"]\n",
    "        else:\n",
    "            raise ValueError(\"Must run neighbors first.\")\n",
    "    else:\n",
    "        raise NotImplementedError()\n",
    "    if vals is None:\n",
    "        vals = _choose_obs_rep(\n",
    "            adata, use_raw=use_raw, layer=layer, obsm=obsm, obsp=obsp\n",
    "        ).T\n",
    "    return gearys_c(g, vals)"
   ]
  },
  {
   "cell_type": "code",
   "execution_count": 65,
   "metadata": {
    "hidden": true
   },
   "outputs": [
    {
     "data": {
      "text/plain": [
       "(32648, 32648)"
      ]
     },
     "execution_count": 65,
     "metadata": {},
     "output_type": "execute_result"
    }
   ],
   "source": [
    "post_adata.uns[\"neighbors\"][\"connectivities\"].shape"
   ]
  },
  {
   "cell_type": "code",
   "execution_count": 66,
   "metadata": {
    "hidden": true
   },
   "outputs": [
    {
     "data": {
      "text/plain": [
       "0.4037337626293721"
      ]
     },
     "execution_count": 66,
     "metadata": {},
     "output_type": "execute_result"
    }
   ],
   "source": [
    "# All cells RNA\n",
    "gearys_c(post_adata.uns[\"neighbors\"][\"connectivities\"], post_adata.obs[\"loglibrary_RNA\"])"
   ]
  },
  {
   "cell_type": "code",
   "execution_count": 67,
   "metadata": {
    "hidden": true
   },
   "outputs": [
    {
     "data": {
      "text/plain": [
       "0.4874718803090722"
      ]
     },
     "execution_count": 67,
     "metadata": {},
     "output_type": "execute_result"
    }
   ],
   "source": [
    "# All cells protein\n",
    "gearys_c(post_adata.uns[\"neighbors\"][\"connectivities\"], post_adata.obs[\"loglibrary_protein\"])"
   ]
  },
  {
   "cell_type": "code",
   "execution_count": 68,
   "metadata": {
    "hidden": true
   },
   "outputs": [],
   "source": [
    "# All clusters RNA\n",
    "rna_geary_clusters = []\n",
    "protein_geary_clusters = []\n",
    "for cluster in post_adata[include_cells].obs[\"annotations\"].cat.categories:\n",
    "    sub_adata = post_adata[np.array(post_adata.obs[\"annotations\"] == cluster)]\n",
    "    geary_clust_r = gearys_c(sub_adata.uns[\"neighbors\"][\"connectivities\"], sub_adata.obs[\"loglibrary_RNA\"])\n",
    "    geary_clust_p = gearys_c(sub_adata.uns[\"neighbors\"][\"connectivities\"], sub_adata.obs[\"loglibrary_protein\"])\n",
    "\n",
    "    rna_geary_clusters.append(geary_clust_r)\n",
    "    protein_geary_clusters.append(geary_clust_p)"
   ]
  },
  {
   "cell_type": "code",
   "execution_count": 69,
   "metadata": {
    "hidden": true
   },
   "outputs": [],
   "source": [
    "gearyC_clusters = post_adata[include_cells].obs[\"annotations\"].cat.categories"
   ]
  },
  {
   "cell_type": "code",
   "execution_count": 70,
   "metadata": {
    "hidden": true
   },
   "outputs": [],
   "source": [
    "gearyC_results = pd.DataFrame({\"cell_type\": post_adata[include_cells].obs[\"annotations\"].cat.categories,\n",
    "             \"RNA_gearyC\": rna_geary_clusters,\n",
    "             \"protein_gearyC\": protein_geary_clusters})"
   ]
  },
  {
   "cell_type": "code",
   "execution_count": 71,
   "metadata": {
    "hidden": true,
    "scrolled": false
   },
   "outputs": [
    {
     "data": {
      "text/html": [
       "<div>\n",
       "<style scoped>\n",
       "    .dataframe tbody tr th:only-of-type {\n",
       "        vertical-align: middle;\n",
       "    }\n",
       "\n",
       "    .dataframe tbody tr th {\n",
       "        vertical-align: top;\n",
       "    }\n",
       "\n",
       "    .dataframe thead th {\n",
       "        text-align: right;\n",
       "    }\n",
       "</style>\n",
       "<table border=\"1\" class=\"dataframe\">\n",
       "  <thead>\n",
       "    <tr style=\"text-align: right;\">\n",
       "      <th></th>\n",
       "      <th>cell_type</th>\n",
       "      <th>RNA_gearyC</th>\n",
       "      <th>protein_gearyC</th>\n",
       "    </tr>\n",
       "  </thead>\n",
       "  <tbody>\n",
       "    <tr>\n",
       "      <td>0</td>\n",
       "      <td>Activated CD4 T cells</td>\n",
       "      <td>0.739950</td>\n",
       "      <td>0.876123</td>\n",
       "    </tr>\n",
       "    <tr>\n",
       "      <td>1</td>\n",
       "      <td>B1 B cells</td>\n",
       "      <td>0.490334</td>\n",
       "      <td>0.632262</td>\n",
       "    </tr>\n",
       "    <tr>\n",
       "      <td>2</td>\n",
       "      <td>CD4 T cells</td>\n",
       "      <td>0.712949</td>\n",
       "      <td>0.742995</td>\n",
       "    </tr>\n",
       "    <tr>\n",
       "      <td>3</td>\n",
       "      <td>CD8 T cells</td>\n",
       "      <td>0.652837</td>\n",
       "      <td>0.725333</td>\n",
       "    </tr>\n",
       "    <tr>\n",
       "      <td>4</td>\n",
       "      <td>CD122+ CD8 T cells</td>\n",
       "      <td>0.721191</td>\n",
       "      <td>0.698965</td>\n",
       "    </tr>\n",
       "    <tr>\n",
       "      <td>5</td>\n",
       "      <td>Erythrocytes</td>\n",
       "      <td>0.357682</td>\n",
       "      <td>0.196072</td>\n",
       "    </tr>\n",
       "    <tr>\n",
       "      <td>6</td>\n",
       "      <td>GD T cells</td>\n",
       "      <td>0.623765</td>\n",
       "      <td>0.569478</td>\n",
       "    </tr>\n",
       "    <tr>\n",
       "      <td>7</td>\n",
       "      <td>ICOS-high Tregs</td>\n",
       "      <td>0.448157</td>\n",
       "      <td>0.622925</td>\n",
       "    </tr>\n",
       "    <tr>\n",
       "      <td>8</td>\n",
       "      <td>Ifit3-high B cells</td>\n",
       "      <td>0.633973</td>\n",
       "      <td>0.671083</td>\n",
       "    </tr>\n",
       "    <tr>\n",
       "      <td>9</td>\n",
       "      <td>Ifit3-high CD4 T cells</td>\n",
       "      <td>0.723087</td>\n",
       "      <td>0.830753</td>\n",
       "    </tr>\n",
       "    <tr>\n",
       "      <td>10</td>\n",
       "      <td>Ifit3-high CD8 T cells</td>\n",
       "      <td>0.782245</td>\n",
       "      <td>0.892698</td>\n",
       "    </tr>\n",
       "    <tr>\n",
       "      <td>11</td>\n",
       "      <td>Ly6-high monocytes</td>\n",
       "      <td>0.771578</td>\n",
       "      <td>0.530969</td>\n",
       "    </tr>\n",
       "    <tr>\n",
       "      <td>12</td>\n",
       "      <td>Ly6-low monocytes</td>\n",
       "      <td>0.806109</td>\n",
       "      <td>0.778464</td>\n",
       "    </tr>\n",
       "    <tr>\n",
       "      <td>13</td>\n",
       "      <td>MZ B cells</td>\n",
       "      <td>0.718067</td>\n",
       "      <td>0.579048</td>\n",
       "    </tr>\n",
       "    <tr>\n",
       "      <td>14</td>\n",
       "      <td>MZ/Marco-high macrophages</td>\n",
       "      <td>0.620320</td>\n",
       "      <td>0.250907</td>\n",
       "    </tr>\n",
       "    <tr>\n",
       "      <td>15</td>\n",
       "      <td>Mature B cells</td>\n",
       "      <td>0.499277</td>\n",
       "      <td>0.550158</td>\n",
       "    </tr>\n",
       "    <tr>\n",
       "      <td>16</td>\n",
       "      <td>Migratory DCs</td>\n",
       "      <td>0.467296</td>\n",
       "      <td>0.651118</td>\n",
       "    </tr>\n",
       "    <tr>\n",
       "      <td>17</td>\n",
       "      <td>NK cells</td>\n",
       "      <td>0.435581</td>\n",
       "      <td>0.501690</td>\n",
       "    </tr>\n",
       "    <tr>\n",
       "      <td>18</td>\n",
       "      <td>NKT cells</td>\n",
       "      <td>0.680389</td>\n",
       "      <td>0.453593</td>\n",
       "    </tr>\n",
       "    <tr>\n",
       "      <td>19</td>\n",
       "      <td>Neutrophils</td>\n",
       "      <td>0.172417</td>\n",
       "      <td>0.415990</td>\n",
       "    </tr>\n",
       "    <tr>\n",
       "      <td>20</td>\n",
       "      <td>Plasma B cells</td>\n",
       "      <td>0.886982</td>\n",
       "      <td>0.837761</td>\n",
       "    </tr>\n",
       "    <tr>\n",
       "      <td>21</td>\n",
       "      <td>Red-pulp macrophages</td>\n",
       "      <td>0.501990</td>\n",
       "      <td>0.353178</td>\n",
       "    </tr>\n",
       "    <tr>\n",
       "      <td>22</td>\n",
       "      <td>Transitional B cells</td>\n",
       "      <td>0.783345</td>\n",
       "      <td>0.650029</td>\n",
       "    </tr>\n",
       "    <tr>\n",
       "      <td>23</td>\n",
       "      <td>Tregs</td>\n",
       "      <td>0.513240</td>\n",
       "      <td>0.540232</td>\n",
       "    </tr>\n",
       "    <tr>\n",
       "      <td>24</td>\n",
       "      <td>cDC1s</td>\n",
       "      <td>0.263048</td>\n",
       "      <td>0.349103</td>\n",
       "    </tr>\n",
       "    <tr>\n",
       "      <td>25</td>\n",
       "      <td>cDC2s</td>\n",
       "      <td>0.627298</td>\n",
       "      <td>0.470514</td>\n",
       "    </tr>\n",
       "    <tr>\n",
       "      <td>26</td>\n",
       "      <td>pDCs</td>\n",
       "      <td>0.677829</td>\n",
       "      <td>0.478974</td>\n",
       "    </tr>\n",
       "  </tbody>\n",
       "</table>\n",
       "</div>"
      ],
      "text/plain": [
       "                    cell_type  RNA_gearyC  protein_gearyC\n",
       "0       Activated CD4 T cells    0.739950        0.876123\n",
       "1                  B1 B cells    0.490334        0.632262\n",
       "2                 CD4 T cells    0.712949        0.742995\n",
       "3                 CD8 T cells    0.652837        0.725333\n",
       "4          CD122+ CD8 T cells    0.721191        0.698965\n",
       "5                Erythrocytes    0.357682        0.196072\n",
       "6                  GD T cells    0.623765        0.569478\n",
       "7             ICOS-high Tregs    0.448157        0.622925\n",
       "8          Ifit3-high B cells    0.633973        0.671083\n",
       "9      Ifit3-high CD4 T cells    0.723087        0.830753\n",
       "10     Ifit3-high CD8 T cells    0.782245        0.892698\n",
       "11         Ly6-high monocytes    0.771578        0.530969\n",
       "12          Ly6-low monocytes    0.806109        0.778464\n",
       "13                 MZ B cells    0.718067        0.579048\n",
       "14  MZ/Marco-high macrophages    0.620320        0.250907\n",
       "15             Mature B cells    0.499277        0.550158\n",
       "16              Migratory DCs    0.467296        0.651118\n",
       "17                   NK cells    0.435581        0.501690\n",
       "18                  NKT cells    0.680389        0.453593\n",
       "19                Neutrophils    0.172417        0.415990\n",
       "20             Plasma B cells    0.886982        0.837761\n",
       "21       Red-pulp macrophages    0.501990        0.353178\n",
       "22       Transitional B cells    0.783345        0.650029\n",
       "23                      Tregs    0.513240        0.540232\n",
       "24                      cDC1s    0.263048        0.349103\n",
       "25                      cDC2s    0.627298        0.470514\n",
       "26                       pDCs    0.677829        0.478974"
      ]
     },
     "execution_count": 71,
     "metadata": {},
     "output_type": "execute_result"
    }
   ],
   "source": [
    "gearyC_results"
   ]
  },
  {
   "cell_type": "code",
   "execution_count": 685,
   "metadata": {
    "hidden": true
   },
   "outputs": [],
   "source": [
    "gearyC_results.to_csv(\"gearyC_totalVI.csv\")"
   ]
  },
  {
   "cell_type": "code",
   "execution_count": 72,
   "metadata": {
    "hidden": true
   },
   "outputs": [
    {
     "data": {
      "text/plain": [
       "13"
      ]
     },
     "execution_count": 72,
     "metadata": {},
     "output_type": "execute_result"
    }
   ],
   "source": [
    "np.sum(gearyC_results[\"RNA_gearyC\"] > gearyC_results[\"protein_gearyC\"])"
   ]
  },
  {
   "cell_type": "code",
   "execution_count": 73,
   "metadata": {
    "hidden": true
   },
   "outputs": [
    {
     "data": {
      "text/plain": [
       "27"
      ]
     },
     "execution_count": 73,
     "metadata": {},
     "output_type": "execute_result"
    }
   ],
   "source": [
    "len(gearyC_results)"
   ]
  },
  {
   "cell_type": "markdown",
   "metadata": {
    "hidden": true
   },
   "source": [
    "### Run scVI to calculate Geary's C in RNA-only latent space"
   ]
  },
  {
   "cell_type": "code",
   "execution_count": 74,
   "metadata": {
    "hidden": true
   },
   "outputs": [
    {
     "name": "stdout",
     "output_type": "stream",
     "text": [
      "[2020-12-17 18:54:19,437] INFO - scvi.dataset.dataset | Remapping batch_indices to [0,N]\n",
      "[2020-12-17 18:54:19,441] INFO - scvi.dataset.dataset | Remapping labels to [0,N]\n",
      "[2020-12-17 18:54:19,580] INFO - scvi.dataset.dataset | Computing the library size for the new data\n",
      "[2020-12-17 18:54:19,697] INFO - scvi.dataset.dataset | Downsampled from 16828 to 16828 cells\n"
     ]
    },
    {
     "data": {
      "text/plain": [
       "GeneExpressionDataset object with n_cells x nb_genes = 16828 x 4005\n",
       "    gene_attribute_names: 'gene_names'\n",
       "    cell_attribute_names: 'batch_indices', 'local_means', 'local_vars', 'labels'\n",
       "    cell_categorical_attribute_names: 'batch_indices', 'labels'"
      ]
     },
     "execution_count": 74,
     "metadata": {},
     "output_type": "execute_result"
    }
   ],
   "source": [
    "# Load data \n",
    "save_path = \"/data/yosef2/users/adamgayoso/projects/totalVI_journal/data/\"\n",
    "\n",
    "# Load anndata\n",
    "anndataset_111 = anndata.read(save_path + \"spleen_lymph_111.h5ad\")\n",
    "anndataset_206 = anndata.read(save_path + \"spleen_lymph_206.h5ad\")\n",
    "\n",
    "# Filter unwanted proteins (isotype controls and HTO)\n",
    "keep_pro_111 = np.array(\n",
    "    [not p.startswith(\"HTO\") for p in anndataset_111.uns[\"protein_names\"]]\n",
    ")\n",
    "keep_pro_206 = np.array(\n",
    "    [\n",
    "        not (p.startswith(\"HTO\") or p.startswith(\"ADT_Isotype\"))\n",
    "        for p in anndataset_206.uns[\"protein_names\"]\n",
    "    ]\n",
    ")\n",
    "\n",
    "anndataset_111.obsm[\"protein_expression\"] = anndataset_111.obsm[\"protein_expression\"][\n",
    "    :, keep_pro_111\n",
    "]\n",
    "anndataset_111.uns[\"protein_names\"] = anndataset_111.uns[\"protein_names\"][keep_pro_111]\n",
    "anndataset_206.obsm[\"protein_expression\"] = anndataset_206.obsm[\"protein_expression\"][\n",
    "    :, keep_pro_206\n",
    "]\n",
    "anndataset_206.uns[\"protein_names\"] = anndataset_206.uns[\"protein_names\"][keep_pro_206]\n",
    "\n",
    "# Organize and instantiate scVI dataset\n",
    "hvg_111 = anndataset_111.var[\"hvg_encode\"]\n",
    "hvg_206 = anndataset_206.var[\"hvg_encode\"]\n",
    "\n",
    "assert (hvg_111 == hvg_206).all()\n",
    "\n",
    "dataset_111 = AnnDatasetFromAnnData(ad=anndataset_111[:, hvg_111])\n",
    "dataset_111.gene_names = anndataset_111[:, hvg_111].var_names.values\n",
    "\n",
    "dataset_111"
   ]
  },
  {
   "cell_type": "code",
   "execution_count": 75,
   "metadata": {
    "hidden": true
   },
   "outputs": [
    {
     "name": "stdout",
     "output_type": "stream",
     "text": [
      "[2020-12-17 18:54:26,077] INFO - scvi.dataset.dataset | Remapping batch_indices to [0,N]\n",
      "[2020-12-17 18:54:26,079] INFO - scvi.dataset.dataset | Remapping labels to [0,N]\n",
      "[2020-12-17 18:54:26,189] INFO - scvi.dataset.dataset | Computing the library size for the new data\n",
      "[2020-12-17 18:54:26,298] INFO - scvi.dataset.dataset | Downsampled from 15820 to 15820 cells\n",
      "[2020-12-17 18:54:26,599] INFO - scvi.dataset.dataset | Keeping 4005 genes\n",
      "[2020-12-17 18:54:26,859] INFO - scvi.dataset.dataset | Computing the library size for the new data\n",
      "[2020-12-17 18:54:27,050] INFO - scvi.dataset.dataset | Remapping batch_indices to [0,N]\n",
      "[2020-12-17 18:54:27,051] INFO - scvi.dataset.dataset | Remapping labels to [0,N]\n",
      "[2020-12-17 18:54:27,294] INFO - scvi.dataset.dataset | Computing the library size for the new data\n",
      "[2020-12-17 18:54:27,474] INFO - scvi.dataset.dataset | Remapping batch_indices to [0,N]\n",
      "[2020-12-17 18:54:27,475] INFO - scvi.dataset.dataset | Remapping labels to [0,N]\n",
      "[2020-12-17 18:54:28,178] INFO - scvi.dataset.dataset | Remapping batch_indices to [0,N]\n",
      "[2020-12-17 18:54:28,180] INFO - scvi.dataset.dataset | Remapping labels to [0,N]\n"
     ]
    },
    {
     "data": {
      "text/plain": [
       "GeneExpressionDataset object with n_cells x nb_genes = 32648 x 4005\n",
       "    gene_attribute_names: 'gene_names'\n",
       "    cell_attribute_names: 'batch_indices', 'local_means', 'local_vars', 'labels'\n",
       "    cell_categorical_attribute_names: 'batch_indices', 'labels'"
      ]
     },
     "execution_count": 75,
     "metadata": {},
     "output_type": "execute_result"
    }
   ],
   "source": [
    "dataset_206 = AnnDatasetFromAnnData(ad=anndataset_206[:, hvg_111])\n",
    "dataset_206.gene_names = anndataset_206[:, hvg_206].var_names.values\n",
    "\n",
    "dataset = GeneExpressionDataset()\n",
    "dataset.populate_from_datasets([dataset_111, dataset_206],)\n",
    "dataset"
   ]
  },
  {
   "cell_type": "code",
   "execution_count": 24,
   "metadata": {
    "hidden": true
   },
   "outputs": [
    {
     "data": {
      "text/plain": [
       "4"
      ]
     },
     "execution_count": 24,
     "metadata": {},
     "output_type": "execute_result"
    }
   ],
   "source": [
    "dataset.n_batches"
   ]
  },
  {
   "cell_type": "code",
   "execution_count": 25,
   "metadata": {
    "hidden": true
   },
   "outputs": [],
   "source": [
    "use_cuda = True\n",
    "\n",
    "scvi_vae = VAE(dataset.nb_genes, reconstruction_loss=\"nb\", n_latent=20, n_batch=dataset.n_batches)\n",
    "scvi_trainer = UnsupervisedTrainer(\n",
    "    scvi_vae,\n",
    "    dataset,\n",
    "    train_size=0.90,\n",
    "    test_size=0.10,\n",
    "    use_cuda=use_cuda,\n",
    "    frequency=10,\n",
    "    data_loader_kwargs={\"pin_memory\": False} # no batch_size for scVI\n",
    ")"
   ]
  },
  {
   "cell_type": "code",
   "execution_count": 26,
   "metadata": {
    "hidden": true
   },
   "outputs": [
    {
     "name": "stdout",
     "output_type": "stream",
     "text": [
      "[2020-09-10 16:29:20,862] INFO - scvi.inference.inference | KL warmup phase exceeds overall training phaseIf your applications rely on the posterior quality, consider training for more epochs or reducing the kl warmup.\n"
     ]
    },
    {
     "data": {
      "application/vnd.jupyter.widget-view+json": {
       "model_id": "89aecb650353451ab4ea1c805321608e",
       "version_major": 2,
       "version_minor": 0
      },
      "text/plain": [
       "HBox(children=(IntProgress(value=0, description='training', max=300, style=ProgressStyle(description_width='in…"
      ]
     },
     "metadata": {},
     "output_type": "display_data"
    },
    {
     "name": "stdout",
     "output_type": "stream",
     "text": [
      "\n",
      "[2020-09-10 16:51:49,552] INFO - scvi.inference.inference | Training is still in warming up phase. If your applications rely on the posterior quality, consider training for more epochs or reducing the kl warmup.\n"
     ]
    }
   ],
   "source": [
    "# Run scvi\n",
    "\n",
    "scvi_trainer.train(lr = 4e-3, n_epochs = 300)"
   ]
  },
  {
   "cell_type": "code",
   "execution_count": 27,
   "metadata": {
    "hidden": true
   },
   "outputs": [],
   "source": [
    "full_scvi_posterior = scvi_trainer.create_posterior(\n",
    "    scvi_vae, dataset, indices=np.arange(len(dataset)),\n",
    ")"
   ]
  },
  {
   "cell_type": "code",
   "execution_count": 28,
   "metadata": {
    "hidden": true
   },
   "outputs": [],
   "source": [
    "# extract latent space\n",
    "latent_mean, batch_index, label = full_scvi_posterior.sequential().get_latent()"
   ]
  },
  {
   "cell_type": "code",
   "execution_count": 30,
   "metadata": {
    "hidden": true
   },
   "outputs": [
    {
     "data": {
      "text/plain": [
       "(32648, 20)"
      ]
     },
     "execution_count": 30,
     "metadata": {},
     "output_type": "execute_result"
    }
   ],
   "source": [
    "latent_mean.shape"
   ]
  },
  {
   "cell_type": "code",
   "execution_count": 31,
   "metadata": {
    "hidden": true,
    "scrolled": true
   },
   "outputs": [
    {
     "name": "stderr",
     "output_type": "stream",
     "text": [
      "Observation names are not unique. To make them unique, call `.obs_names_make_unique`.\n"
     ]
    },
    {
     "data": {
      "text/plain": [
       "AnnData object with n_obs × n_vars = 32648 × 4005 \n",
       "    obs: 'leiden_totalVI_1.0', 'leiden_totalVI_0.8', 'leiden_totalVI_0.6', 'leiden_totalVI_0.4', 'annotations', 'leiden_subclusters', 'batch_indices', 'n_genes', 'n_protein_counts', 'n_proteins', 'n_RNA_counts', 'percent_mito', 'seurat_hash_id', 'ADT_CD102_A0104_fore_prob', 'ADT_CD102_A0104', 'ADT_CD103_A0201_fore_prob', 'ADT_CD103_A0201', 'ADT_CD106_A0226_fore_prob', 'ADT_CD106_A0226', 'ADT_CD115(CSF-1R)_A0105_fore_prob', 'ADT_CD115(CSF-1R)_A0105', 'ADT_CD117(c-Kit)_A0012_fore_prob', 'ADT_CD117(c-Kit)_A0012', 'ADT_CD11a_A0595_fore_prob', 'ADT_CD11a_A0595', 'ADT_CD11c_A0106_fore_prob', 'ADT_CD11c_A0106', 'ADT_CD122(IL-2Rb)_A0227_fore_prob', 'ADT_CD122(IL-2Rb)_A0227', 'ADT_CD127(IL-7Ra)_A0198_fore_prob', 'ADT_CD127(IL-7Ra)_A0198', 'ADT_CD134(OX-40)_A0195_fore_prob', 'ADT_CD134(OX-40)_A0195', 'ADT_CD135_A0098_fore_prob', 'ADT_CD135_A0098', 'ADT_CD137_A0194_fore_prob', 'ADT_CD137_A0194', 'ADT_CD140a_A0573_fore_prob', 'ADT_CD140a_A0573', 'ADT_CD14_A0424_fore_prob', 'ADT_CD14_A0424', 'ADT_CD15(SSEA-1)_A0076_fore_prob', 'ADT_CD15(SSEA-1)_A0076', 'ADT_CD150(SLAM)_A0203_fore_prob', 'ADT_CD150(SLAM)_A0203', 'ADT_CD16-32_A0109_fore_prob', 'ADT_CD16-32_A0109', 'ADT_CD169(Siglec-1)_A0440_fore_prob', 'ADT_CD169(Siglec-1)_A0440', 'ADT_CD172a(SIRPa)_A0422_fore_prob', 'ADT_CD172a(SIRPa)_A0422', 'ADT_CD183(CXCR3)_A0228_fore_prob', 'ADT_CD183(CXCR3)_A0228', 'ADT_CD184(CXCR4)_A0444_fore_prob', 'ADT_CD184(CXCR4)_A0444', 'ADT_CD192(CCR2)_A0426_fore_prob', 'ADT_CD192(CCR2)_A0426', 'ADT_CD195(CCR5)_A0376_fore_prob', 'ADT_CD195(CCR5)_A0376', 'ADT_CD196(CCR6)_A0225_fore_prob', 'ADT_CD196(CCR6)_A0225', 'ADT_CD197(CCR7)_A0377_fore_prob', 'ADT_CD197(CCR7)_A0377', 'ADT_CD19_A0093_fore_prob', 'ADT_CD19_A0093', 'ADT_CD200(OX2)_A0079_fore_prob', 'ADT_CD200(OX2)_A0079', 'ADT_CD201(EPCR)_A0439_fore_prob', 'ADT_CD201(EPCR)_A0439', 'ADT_CD204(Msr1)_A0448_fore_prob', 'ADT_CD204(Msr1)_A0448', 'ADT_CD206(MMR)_A0173_fore_prob', 'ADT_CD206(MMR)_A0173', 'ADT_CD20_A0192_fore_prob', 'ADT_CD20_A0192', 'ADT_CD21-CD35(CR2-CR1)_A0107_fore_prob', 'ADT_CD21-CD35(CR2-CR1)_A0107', 'ADT_CD223(LAG-3)_A0378_fore_prob', 'ADT_CD223(LAG-3)_A0378', 'ADT_CD23_A0108_fore_prob', 'ADT_CD23_A0108', 'ADT_CD24_A0212_fore_prob', 'ADT_CD24_A0212', 'ADT_CD25_A0097_fore_prob', 'ADT_CD25_A0097', 'ADT_CD274(B7-H1_PD-L1)_A0190_fore_prob', 'ADT_CD274(B7-H1_PD-L1)_A0190', 'ADT_CD278(ICOS)_A0171_fore_prob', 'ADT_CD278(ICOS)_A0171', 'ADT_CD279(PD-1)_A0004_fore_prob', 'ADT_CD279(PD-1)_A0004', 'ADT_CD28_A0204_fore_prob', 'ADT_CD28_A0204', 'ADT_CD29_A0570_fore_prob', 'ADT_CD29_A0570', 'ADT_CD300LG(Nepmucin)_A0416_fore_prob', 'ADT_CD300LG(Nepmucin)_A0416', 'ADT_CD301a(MGL1)_A0551_fore_prob', 'ADT_CD301a(MGL1)_A0551', 'ADT_CD301b(MGL2)_A0566_fore_prob', 'ADT_CD301b(MGL2)_A0566', 'ADT_CD304(Neuropilin-1)_A0552_fore_prob', 'ADT_CD304(Neuropilin-1)_A0552', 'ADT_CD326(Ep-CAM)_A0449_fore_prob', 'ADT_CD326(Ep-CAM)_A0449', 'ADT_CD335(NKp46)_A0184_fore_prob', 'ADT_CD335(NKp46)_A0184', 'ADT_CD357(GITR)_A0193_fore_prob', 'ADT_CD357(GITR)_A0193', 'ADT_CD366(Tim-3)_A0003_fore_prob', 'ADT_CD366(Tim-3)_A0003', 'ADT_CD36_A0555_fore_prob', 'ADT_CD36_A0555', 'ADT_CD370(CLEC9A_DNGR1)_A0556_fore_prob', 'ADT_CD370(CLEC9A_DNGR1)_A0556', 'ADT_CD38_A0557_fore_prob', 'ADT_CD38_A0557', 'ADT_CD41_A0443_fore_prob', 'ADT_CD41_A0443', 'ADT_CD43_A0110_fore_prob', 'ADT_CD43_A0110', 'ADT_CD45.1_A0178_fore_prob', 'ADT_CD45.1_A0178', 'ADT_CD45.2_A0157_fore_prob', 'ADT_CD45.2_A0157', 'ADT_CD45R-B220_A0103_fore_prob', 'ADT_CD45R-B220_A0103', 'ADT_CD45_A0096_fore_prob', 'ADT_CD45_A0096', 'ADT_CD48_A0429_fore_prob', 'ADT_CD48_A0429', 'ADT_CD49d_A0078_fore_prob', 'ADT_CD49d_A0078', 'ADT_CD4_A0001_fore_prob', 'ADT_CD4_A0001', 'ADT_CD54_A0074_fore_prob', 'ADT_CD54_A0074', 'ADT_CD55(DAF)_A0558_fore_prob', 'ADT_CD55(DAF)_A0558', 'ADT_CD5_A0111_fore_prob', 'ADT_CD5_A0111', 'ADT_CD62L_A0112_fore_prob', 'ADT_CD62L_A0112', 'ADT_CD62P(P-selectin)_A0229_fore_prob', 'ADT_CD62P(P-selectin)_A0229', 'ADT_CD63_A0559_fore_prob', 'ADT_CD63_A0559', 'ADT_CD64(FcrRI)_A0202_fore_prob', 'ADT_CD64(FcrRI)_A0202', 'ADT_CD68_A0560_fore_prob', 'ADT_CD68_A0560', 'ADT_CD69_A0197_fore_prob', 'ADT_CD69_A0197', 'ADT_CD71_A0441_fore_prob', 'ADT_CD71_A0441', 'ADT_CD73_A0077_fore_prob', 'ADT_CD73_A0077', 'ADT_CD79b(Igb)_A0561_fore_prob', 'ADT_CD79b(Igb)_A0561', 'ADT_CD83_A0562_fore_prob', 'ADT_CD83_A0562', 'ADT_CD86_A0200_fore_prob', 'ADT_CD86_A0200', 'ADT_CD8a_A0002_fore_prob', 'ADT_CD8a_A0002', 'ADT_CD8b(Ly-3)_A0230_fore_prob', 'ADT_CD8b(Ly-3)_A0230', 'ADT_CD90.1(Thy-1.1)_A0380_fore_prob', 'ADT_CD90.1(Thy-1.1)_A0380', 'ADT_CD90.2_A0075_fore_prob', 'ADT_CD90.2_A0075', 'ADT_CD93(AA4.1_earlyBlineage)_A0113_fore_prob', 'ADT_CD93(AA4.1_earlyBlineage)_A0113', 'ADT_CX3CR1_A0563_fore_prob', 'ADT_CX3CR1_A0563', 'ADT_ESAM_A0596_fore_prob', 'ADT_ESAM_A0596', 'ADT_F4-80_A0114_fore_prob', 'ADT_F4-80_A0114', 'ADT_FceRIa_A0115_fore_prob', 'ADT_FceRIa_A0115', 'ADT_FolateReceptorb(FR-b)_A0564_fore_prob', 'ADT_FolateReceptorb(FR-b)_A0564', 'ADT_H-2KbboundtoSIINFEKL_A0231_fore_prob', 'ADT_H-2KbboundtoSIINFEKL_A0231', 'ADT_I-A-I-E_A0117_fore_prob', 'ADT_I-A-I-E_A0117', 'ADT_IRF4_A0249_fore_prob', 'ADT_IRF4_A0249', 'ADT_IgD_A0571_fore_prob', 'ADT_IgD_A0571', 'ADT_IgM_A0450_fore_prob', 'ADT_IgM_A0450', 'ADT_Ly-6A-E(Sca-1)_A0130_fore_prob', 'ADT_Ly-6A-E(Sca-1)_A0130', 'ADT_Ly-6C_A0013_fore_prob', 'ADT_Ly-6C_A0013', 'ADT_MAdCAM-1_A0232_fore_prob', 'ADT_MAdCAM-1_A0232', 'ADT_MERTK(Mer)_A0565_fore_prob', 'ADT_MERTK(Mer)_A0565', 'ADT_NK-1.1_A0118_fore_prob', 'ADT_NK-1.1_A0118', 'ADT_Notch1_A0442_fore_prob', 'ADT_Notch1_A0442', 'ADT_PanendothelialCellAntigen_A0381_fore_prob', 'ADT_PanendothelialCellAntigen_A0381', 'ADT_SiglecH_A0119_fore_prob', 'ADT_SiglecH_A0119', 'ADT_TCRVb5.1_5.2_A0354_fore_prob', 'ADT_TCRVb5.1_5.2_A0354', 'ADT_TCRVb8.1_8.2_A0235_fore_prob', 'ADT_TCRVb8.1_8.2_A0235', 'ADT_TCRVr1.1-Cr4_A0209_fore_prob', 'ADT_TCRVr1.1-Cr4_A0209', 'ADT_TCRVr2_A0211_fore_prob', 'ADT_TCRVr2_A0211', 'ADT_TCRVr3_A0210_fore_prob', 'ADT_TCRVr3_A0210', 'ADT_TCRbchain_A0120_fore_prob', 'ADT_TCRbchain_A0120', 'ADT_TCRr-d_A0121_fore_prob', 'ADT_TCRr-d_A0121', 'ADT_TER-119-ErythroidCells_A0122_fore_prob', 'ADT_TER-119-ErythroidCells_A0122', 'ADT_Tim-4_A0567_fore_prob', 'ADT_Tim-4_A0567', 'ADT_XCR1_A0568_fore_prob', 'ADT_XCR1_A0568', 'ADT_anti-P2RY12_A0415_fore_prob', 'ADT_anti-P2RY12_A0415', 'ADT_integrinb7_A0214_fore_prob', 'ADT_integrinb7_A0214', 'n_protein_counts_111', 'loglibrary_protein', 'loglibrary_RNA'\n",
       "    var: 'highly_variable', 'encode', 'hvg_encode'\n",
       "    obsm: 'X_scVI'"
      ]
     },
     "execution_count": 31,
     "metadata": {},
     "output_type": "execute_result"
    }
   ],
   "source": [
    "# Make post_adata\n",
    "\n",
    "post_adata_new = anndata.AnnData(post_adata.X, obs = post_adata.obs, var = post_adata.var)\n",
    "post_adata_new.obsm[\"X_scVI\"] = latent_mean\n",
    "post_adata_new"
   ]
  },
  {
   "cell_type": "code",
   "execution_count": 129,
   "metadata": {
    "hidden": true
   },
   "outputs": [
    {
     "name": "stderr",
     "output_type": "stream",
     "text": [
      "/data/yosef2/users/zsteier/programs/miniconda/envs/scvi_041/lib/python3.7/site-packages/numba/compiler.py:602: NumbaPerformanceWarning: \n",
      "The keyword argument 'parallel=True' was specified but no transformation for parallel execution was possible.\n",
      "\n",
      "To find out why, try turning on parallel diagnostics, see http://numba.pydata.org/numba-doc/latest/user/parallel.html#diagnostics for help.\n",
      "\n",
      "File \"../../../../programs/miniconda/envs/scvi_041/lib/python3.7/site-packages/umap/nndescent.py\", line 47:\n",
      "    @numba.njit(parallel=True)\n",
      "    def nn_descent(\n",
      "    ^\n",
      "\n",
      "  self.func_ir.loc))\n"
     ]
    }
   ],
   "source": [
    "# find neighbors\n",
    "sc.pp.neighbors(post_adata_new, use_rep=\"X_scVI\", n_neighbors=30, metric=\"correlation\")"
   ]
  },
  {
   "cell_type": "code",
   "execution_count": 33,
   "metadata": {
    "hidden": true,
    "scrolled": true
   },
   "outputs": [],
   "source": [
    "# Make unique names\n",
    "post_adata_new.obs_names_make_unique()"
   ]
  },
  {
   "cell_type": "code",
   "execution_count": 35,
   "metadata": {
    "hidden": true
   },
   "outputs": [
    {
     "data": {
      "text/plain": [
       "32648"
      ]
     },
     "execution_count": 35,
     "metadata": {},
     "output_type": "execute_result"
    }
   ],
   "source": [
    "len((np.unique(post_adata_new.obs.index)))"
   ]
  },
  {
   "cell_type": "code",
   "execution_count": 34,
   "metadata": {
    "hidden": true
   },
   "outputs": [],
   "source": [
    "# Save adata object\n",
    "post_adata_new.write(\"/data/yosef2/users/zsteier/totalVI/totalVI_journal/spleen_lymph_all/comparative_analysis/post_adata_scvi.h5ad\", compression=\"gzip\")"
   ]
  },
  {
   "cell_type": "code",
   "execution_count": 76,
   "metadata": {
    "hidden": true
   },
   "outputs": [],
   "source": [
    "post_adata_new = anndata.read(\"/data/yosef2/users/zsteier/totalVI/totalVI_journal/spleen_lymph_all/comparative_analysis/post_adata_scvi.h5ad\")"
   ]
  },
  {
   "cell_type": "code",
   "execution_count": 77,
   "metadata": {
    "hidden": true
   },
   "outputs": [],
   "source": [
    "# Calculate Geary's C\n",
    "\n",
    "# All clusters RNA\n",
    "\n",
    "rna_geary_clusters_scvi = []\n",
    "\n",
    "for cluster in post_adata_new[include_cells].obs[\"annotations\"].cat.categories:\n",
    "    sub_adata = post_adata_new[np.array(post_adata_new.obs[\"annotations\"] == cluster)].copy()\n",
    "    geary_clust_r = gearys_c(sub_adata.uns[\"neighbors\"][\"connectivities\"], sub_adata.obs[\"loglibrary_RNA\"].values)\n",
    "    rna_geary_clusters_scvi.append(geary_clust_r)"
   ]
  },
  {
   "cell_type": "code",
   "execution_count": 82,
   "metadata": {
    "hidden": true
   },
   "outputs": [],
   "source": [
    "# Add geary's c from totalVI\n",
    "gearyC_results = pd.read_csv(\"gearyC_totalVI.csv\", index_col = 0)"
   ]
  },
  {
   "cell_type": "code",
   "execution_count": 86,
   "metadata": {
    "hidden": true
   },
   "outputs": [
    {
     "data": {
      "text/html": [
       "<div>\n",
       "<style scoped>\n",
       "    .dataframe tbody tr th:only-of-type {\n",
       "        vertical-align: middle;\n",
       "    }\n",
       "\n",
       "    .dataframe tbody tr th {\n",
       "        vertical-align: top;\n",
       "    }\n",
       "\n",
       "    .dataframe thead th {\n",
       "        text-align: right;\n",
       "    }\n",
       "</style>\n",
       "<table border=\"1\" class=\"dataframe\">\n",
       "  <thead>\n",
       "    <tr style=\"text-align: right;\">\n",
       "      <th></th>\n",
       "      <th>cell_type</th>\n",
       "      <th>RNA_gearyC</th>\n",
       "      <th>protein_gearyC</th>\n",
       "      <th>scvi_RNA</th>\n",
       "    </tr>\n",
       "  </thead>\n",
       "  <tbody>\n",
       "    <tr>\n",
       "      <td>0</td>\n",
       "      <td>Activated CD4 T cells</td>\n",
       "      <td>0.739950</td>\n",
       "      <td>0.876123</td>\n",
       "      <td>0.771556</td>\n",
       "    </tr>\n",
       "    <tr>\n",
       "      <td>1</td>\n",
       "      <td>B1 B cells</td>\n",
       "      <td>0.490334</td>\n",
       "      <td>0.632262</td>\n",
       "      <td>0.533392</td>\n",
       "    </tr>\n",
       "    <tr>\n",
       "      <td>2</td>\n",
       "      <td>CD4 T cells</td>\n",
       "      <td>0.712949</td>\n",
       "      <td>0.742995</td>\n",
       "      <td>0.707170</td>\n",
       "    </tr>\n",
       "    <tr>\n",
       "      <td>3</td>\n",
       "      <td>CD8 T cells</td>\n",
       "      <td>0.652837</td>\n",
       "      <td>0.725333</td>\n",
       "      <td>0.682390</td>\n",
       "    </tr>\n",
       "    <tr>\n",
       "      <td>4</td>\n",
       "      <td>CD122+ CD8 T cells</td>\n",
       "      <td>0.721191</td>\n",
       "      <td>0.698965</td>\n",
       "      <td>0.787728</td>\n",
       "    </tr>\n",
       "    <tr>\n",
       "      <td>5</td>\n",
       "      <td>Erythrocytes</td>\n",
       "      <td>0.357682</td>\n",
       "      <td>0.196072</td>\n",
       "      <td>0.280552</td>\n",
       "    </tr>\n",
       "    <tr>\n",
       "      <td>6</td>\n",
       "      <td>GD T cells</td>\n",
       "      <td>0.623765</td>\n",
       "      <td>0.569478</td>\n",
       "      <td>0.552429</td>\n",
       "    </tr>\n",
       "    <tr>\n",
       "      <td>7</td>\n",
       "      <td>ICOS-high Tregs</td>\n",
       "      <td>0.448157</td>\n",
       "      <td>0.622925</td>\n",
       "      <td>0.434220</td>\n",
       "    </tr>\n",
       "    <tr>\n",
       "      <td>8</td>\n",
       "      <td>Ifit3-high B cells</td>\n",
       "      <td>0.633973</td>\n",
       "      <td>0.671083</td>\n",
       "      <td>0.666834</td>\n",
       "    </tr>\n",
       "    <tr>\n",
       "      <td>9</td>\n",
       "      <td>Ifit3-high CD4 T cells</td>\n",
       "      <td>0.723087</td>\n",
       "      <td>0.830753</td>\n",
       "      <td>0.781925</td>\n",
       "    </tr>\n",
       "    <tr>\n",
       "      <td>10</td>\n",
       "      <td>Ifit3-high CD8 T cells</td>\n",
       "      <td>0.782245</td>\n",
       "      <td>0.892698</td>\n",
       "      <td>0.828002</td>\n",
       "    </tr>\n",
       "    <tr>\n",
       "      <td>11</td>\n",
       "      <td>Ly6-high monocytes</td>\n",
       "      <td>0.771578</td>\n",
       "      <td>0.530969</td>\n",
       "      <td>0.547577</td>\n",
       "    </tr>\n",
       "    <tr>\n",
       "      <td>12</td>\n",
       "      <td>Ly6-low monocytes</td>\n",
       "      <td>0.806109</td>\n",
       "      <td>0.778464</td>\n",
       "      <td>0.588620</td>\n",
       "    </tr>\n",
       "    <tr>\n",
       "      <td>13</td>\n",
       "      <td>MZ B cells</td>\n",
       "      <td>0.718067</td>\n",
       "      <td>0.579048</td>\n",
       "      <td>0.732618</td>\n",
       "    </tr>\n",
       "    <tr>\n",
       "      <td>14</td>\n",
       "      <td>MZ/Marco-high macrophages</td>\n",
       "      <td>0.620320</td>\n",
       "      <td>0.250907</td>\n",
       "      <td>0.613443</td>\n",
       "    </tr>\n",
       "    <tr>\n",
       "      <td>15</td>\n",
       "      <td>Mature B cells</td>\n",
       "      <td>0.499277</td>\n",
       "      <td>0.550158</td>\n",
       "      <td>0.579766</td>\n",
       "    </tr>\n",
       "    <tr>\n",
       "      <td>16</td>\n",
       "      <td>Migratory DCs</td>\n",
       "      <td>0.467296</td>\n",
       "      <td>0.651118</td>\n",
       "      <td>0.364084</td>\n",
       "    </tr>\n",
       "    <tr>\n",
       "      <td>17</td>\n",
       "      <td>NK cells</td>\n",
       "      <td>0.435581</td>\n",
       "      <td>0.501690</td>\n",
       "      <td>0.409155</td>\n",
       "    </tr>\n",
       "    <tr>\n",
       "      <td>18</td>\n",
       "      <td>NKT cells</td>\n",
       "      <td>0.680389</td>\n",
       "      <td>0.453593</td>\n",
       "      <td>0.651701</td>\n",
       "    </tr>\n",
       "    <tr>\n",
       "      <td>19</td>\n",
       "      <td>Neutrophils</td>\n",
       "      <td>0.172417</td>\n",
       "      <td>0.415990</td>\n",
       "      <td>0.162673</td>\n",
       "    </tr>\n",
       "    <tr>\n",
       "      <td>20</td>\n",
       "      <td>Plasma B cells</td>\n",
       "      <td>0.886982</td>\n",
       "      <td>0.837761</td>\n",
       "      <td>0.848329</td>\n",
       "    </tr>\n",
       "    <tr>\n",
       "      <td>21</td>\n",
       "      <td>Red-pulp macrophages</td>\n",
       "      <td>0.501990</td>\n",
       "      <td>0.353178</td>\n",
       "      <td>0.438550</td>\n",
       "    </tr>\n",
       "    <tr>\n",
       "      <td>22</td>\n",
       "      <td>Transitional B cells</td>\n",
       "      <td>0.783345</td>\n",
       "      <td>0.650029</td>\n",
       "      <td>0.761490</td>\n",
       "    </tr>\n",
       "    <tr>\n",
       "      <td>23</td>\n",
       "      <td>Tregs</td>\n",
       "      <td>0.513240</td>\n",
       "      <td>0.540232</td>\n",
       "      <td>0.533207</td>\n",
       "    </tr>\n",
       "    <tr>\n",
       "      <td>24</td>\n",
       "      <td>cDC1s</td>\n",
       "      <td>0.263048</td>\n",
       "      <td>0.349103</td>\n",
       "      <td>0.247991</td>\n",
       "    </tr>\n",
       "    <tr>\n",
       "      <td>25</td>\n",
       "      <td>cDC2s</td>\n",
       "      <td>0.627298</td>\n",
       "      <td>0.470514</td>\n",
       "      <td>0.512373</td>\n",
       "    </tr>\n",
       "    <tr>\n",
       "      <td>26</td>\n",
       "      <td>pDCs</td>\n",
       "      <td>0.677829</td>\n",
       "      <td>0.478974</td>\n",
       "      <td>0.634588</td>\n",
       "    </tr>\n",
       "  </tbody>\n",
       "</table>\n",
       "</div>"
      ],
      "text/plain": [
       "                    cell_type  RNA_gearyC  protein_gearyC  scvi_RNA\n",
       "0       Activated CD4 T cells    0.739950        0.876123  0.771556\n",
       "1                  B1 B cells    0.490334        0.632262  0.533392\n",
       "2                 CD4 T cells    0.712949        0.742995  0.707170\n",
       "3                 CD8 T cells    0.652837        0.725333  0.682390\n",
       "4          CD122+ CD8 T cells    0.721191        0.698965  0.787728\n",
       "5                Erythrocytes    0.357682        0.196072  0.280552\n",
       "6                  GD T cells    0.623765        0.569478  0.552429\n",
       "7             ICOS-high Tregs    0.448157        0.622925  0.434220\n",
       "8          Ifit3-high B cells    0.633973        0.671083  0.666834\n",
       "9      Ifit3-high CD4 T cells    0.723087        0.830753  0.781925\n",
       "10     Ifit3-high CD8 T cells    0.782245        0.892698  0.828002\n",
       "11         Ly6-high monocytes    0.771578        0.530969  0.547577\n",
       "12          Ly6-low monocytes    0.806109        0.778464  0.588620\n",
       "13                 MZ B cells    0.718067        0.579048  0.732618\n",
       "14  MZ/Marco-high macrophages    0.620320        0.250907  0.613443\n",
       "15             Mature B cells    0.499277        0.550158  0.579766\n",
       "16              Migratory DCs    0.467296        0.651118  0.364084\n",
       "17                   NK cells    0.435581        0.501690  0.409155\n",
       "18                  NKT cells    0.680389        0.453593  0.651701\n",
       "19                Neutrophils    0.172417        0.415990  0.162673\n",
       "20             Plasma B cells    0.886982        0.837761  0.848329\n",
       "21       Red-pulp macrophages    0.501990        0.353178  0.438550\n",
       "22       Transitional B cells    0.783345        0.650029  0.761490\n",
       "23                      Tregs    0.513240        0.540232  0.533207\n",
       "24                      cDC1s    0.263048        0.349103  0.247991\n",
       "25                      cDC2s    0.627298        0.470514  0.512373\n",
       "26                       pDCs    0.677829        0.478974  0.634588"
      ]
     },
     "execution_count": 86,
     "metadata": {},
     "output_type": "execute_result"
    }
   ],
   "source": [
    "gearyC_results[\"scvi_RNA\"] = rna_geary_clusters_scvi\n",
    "gearyC_results"
   ]
  },
  {
   "cell_type": "code",
   "execution_count": 87,
   "metadata": {
    "hidden": true
   },
   "outputs": [
    {
     "data": {
      "text/plain": [
       "12"
      ]
     },
     "execution_count": 87,
     "metadata": {},
     "output_type": "execute_result"
    }
   ],
   "source": [
    "np.sum(gearyC_results[\"scvi_RNA\"] > gearyC_results[\"protein_gearyC\"])"
   ]
  },
  {
   "cell_type": "code",
   "execution_count": 88,
   "metadata": {
    "hidden": true
   },
   "outputs": [
    {
     "data": {
      "image/png": "[encoded data removed]",
      "text/plain": [
       "<Figure size 576x288 with 2 Axes>"
      ]
     },
     "metadata": {},
     "output_type": "display_data"
    }
   ],
   "source": [
    "# Plot RNA vs protein library size\n",
    "\n",
    "fig, ax = plt.subplots(1, 2, figsize = (8,4), sharey = True)\n",
    "\n",
    "ax[0].scatter(gearyC_results[\"scvi_RNA\"].values, gearyC_results[\"protein_gearyC\"].values, \n",
    "           rasterized = True\n",
    "          )\n",
    "ax[0].plot([0,1], [0,1], \"k\")\n",
    "\n",
    "ax[0].set(ylabel = \"Protein (totalVI)\")\n",
    "ax[0].set(xlabel = \"RNA (scVI)\", title = \"Geary's C of\\n library size per cluster\")\n",
    "\n",
    "ax[1].scatter(gearyC_results[\"RNA_gearyC\"].values, gearyC_results[\"protein_gearyC\"].values, \n",
    "           rasterized = True, \n",
    "          )\n",
    "ax[1].plot([0,1], [0,1], \"k\")\n",
    "\n",
    "ax[1].set(xlabel = \"RNA (totalVI)\", title = \"Geary's C of\\n library size per cluster\")\n",
    "\n",
    "sns.despine()\n",
    "plt.tight_layout()\n",
    "\n",
    "#fig.savefig(\"/data/yosef2/users/zsteier/totalVI/totalVI_journal/spleen_lymph_all/comparative_analysis/libsize_figures/libsize_autocorrelation_latentspaces.pdf\", dpi = DPI)"
   ]
  },
  {
   "cell_type": "markdown",
   "metadata": {},
   "source": [
    "## Autocorrelation of features in different latent spaces\n",
    "\n",
    "* For each protein and RNA feature, calculate the autocorrelation in three different latent spaces:\n",
    "    * totalVI\n",
    "    * RNA only (scVI)\n",
    "    * protein only (PCA)"
   ]
  },
  {
   "cell_type": "markdown",
   "metadata": {},
   "source": [
    "### Prepare data for autocorrelation calculations\n",
    "\n",
    "* RNA: log library size normalize raw data\n",
    "* Protein: PCA latent space (protein only representation)"
   ]
  },
  {
   "cell_type": "code",
   "execution_count": 89,
   "metadata": {},
   "outputs": [],
   "source": [
    "# log-library size normalize raw RNA data\n",
    "sc.pp.normalize_per_cell(post_adata_new, counts_per_cell_after=1e4)\n",
    "sc.pp.log1p(post_adata_new)"
   ]
  },
  {
   "cell_type": "code",
   "execution_count": 91,
   "metadata": {},
   "outputs": [
    {
     "name": "stderr",
     "output_type": "stream",
     "text": [
      "Observation names are not unique. To make them unique, call `.obs_names_make_unique`.\n"
     ]
    }
   ],
   "source": [
    "# Run PCA and neighbor graph on protein data\n",
    "adata_protein = anndata.AnnData(post_adata.obsm[\"protein_expression\"].copy(), obs = post_adata.obs)\n",
    "\n",
    "sc.pp.log1p(adata_protein) \n",
    "sc.pp.scale(adata_protein)"
   ]
  },
  {
   "cell_type": "code",
   "execution_count": 92,
   "metadata": {},
   "outputs": [
    {
     "data": {
      "text/plain": [
       "(None,)"
      ]
     },
     "execution_count": 92,
     "metadata": {},
     "output_type": "execute_result"
    }
   ],
   "source": [
    "# Run PCA on proteins\n",
    "sc.pp.pca(adata_protein, n_comps = 20), # default is 50\n",
    "\n",
    "# results are in adata_protein.obsm[\"X_pca\"]"
   ]
  },
  {
   "cell_type": "code",
   "execution_count": 93,
   "metadata": {},
   "outputs": [
    {
     "name": "stderr",
     "output_type": "stream",
     "text": [
      "/data/yosef2/users/zsteier/programs/miniconda/envs/scvi_041/lib/python3.7/site-packages/numba/compiler.py:602: NumbaPerformanceWarning: \n",
      "The keyword argument 'parallel=True' was specified but no transformation for parallel execution was possible.\n",
      "\n",
      "To find out why, try turning on parallel diagnostics, see http://numba.pydata.org/numba-doc/latest/user/parallel.html#diagnostics for help.\n",
      "\n",
      "File \"../../../../programs/miniconda/envs/scvi_041/lib/python3.7/site-packages/umap/nndescent.py\", line 47:\n",
      "    @numba.njit(parallel=True)\n",
      "    def nn_descent(\n",
      "    ^\n",
      "\n",
      "  self.func_ir.loc))\n"
     ]
    }
   ],
   "source": [
    "# Find neighbors\n",
    "sc.pp.neighbors(adata_protein, use_rep=\"X_pca\", n_neighbors=30, metric=\"correlation\")"
   ]
  },
  {
   "cell_type": "markdown",
   "metadata": {},
   "source": [
    "### Calculate autocorrelations"
   ]
  },
  {
   "cell_type": "code",
   "execution_count": 94,
   "metadata": {},
   "outputs": [],
   "source": [
    "batch0 = post_adata.obs[\"batch_indices\"] ==\"0\""
   ]
  },
  {
   "cell_type": "code",
   "execution_count": 95,
   "metadata": {},
   "outputs": [
    {
     "data": {
      "text/plain": [
       "(9264, 4005)"
      ]
     },
     "execution_count": 95,
     "metadata": {},
     "output_type": "execute_result"
    }
   ],
   "source": [
    "post_adata_new[batch0, :].shape"
   ]
  },
  {
   "cell_type": "code",
   "execution_count": 96,
   "metadata": {},
   "outputs": [],
   "source": [
    "# subsets of adata objects\n",
    "\n",
    "sub_adata_scvi = post_adata_new[batch0, :].copy()\n",
    "sub_adata_totalvi = post_adata[batch0, :].copy()\n",
    "sub_adata_protein = adata_protein[batch0, :].copy()"
   ]
  },
  {
   "cell_type": "code",
   "execution_count": 97,
   "metadata": {},
   "outputs": [],
   "source": [
    "# scVI latent space (post_adata_new is scVI results, post_adata is raw expression values with totalVI latent space)\n",
    "\n",
    "scvi_rna_gearyc = []\n",
    "scvi_protein_gearyc = []\n",
    "\n",
    "# RNA\n",
    "for i in range(post_adata.X.shape[1]):\n",
    "    expr = np.array(sub_adata_scvi.X[:, i]) # log-library size normalized RNA\n",
    "    autocor = gearys_c(sub_adata_scvi.uns[\"neighbors\"][\"connectivities\"], expr)\n",
    "    scvi_rna_gearyc.append(autocor)\n",
    "    \n",
    "# Protein\n",
    "for i in range(post_adata.obsm[\"protein_expression\"].shape[1]):\n",
    "    expr = np.log1p(np.array(sub_adata_totalvi.obsm[\"protein_expression\"][:, i]))  # log(raw protein)\n",
    "    autocor = gearys_c(sub_adata_scvi.uns[\"neighbors\"][\"connectivities\"], expr)\n",
    "    scvi_protein_gearyc.append(autocor)"
   ]
  },
  {
   "cell_type": "code",
   "execution_count": 98,
   "metadata": {},
   "outputs": [],
   "source": [
    "# joint latent space from totalVI (post_adata)\n",
    "\n",
    "totalvi_rna_gearyc = []\n",
    "totalvi_protein_gearyc = []\n",
    "\n",
    "# RNA\n",
    "for i in range(post_adata.X.shape[1]):\n",
    "    expr = np.array(sub_adata_scvi.X[:, i]) # log-library size normalized RNA\n",
    "    autocor = gearys_c(sub_adata_totalvi.uns[\"neighbors\"][\"connectivities\"], expr)\n",
    "    totalvi_rna_gearyc.append(autocor)\n",
    "\n",
    "# Protein\n",
    "for i in range(post_adata.obsm[\"protein_expression\"].shape[1]):\n",
    "    expr = np.log1p(np.array(sub_adata_totalvi.obsm[\"protein_expression\"][:, i]))  # log(raw protein)\n",
    "    autocor = gearys_c(sub_adata_totalvi.uns[\"neighbors\"][\"connectivities\"], expr)\n",
    "    totalvi_protein_gearyc.append(autocor)"
   ]
  },
  {
   "cell_type": "code",
   "execution_count": 99,
   "metadata": {},
   "outputs": [],
   "source": [
    "# protein only latent space (PCA)\n",
    "\n",
    "proteinpca_rna_gearyc = []\n",
    "proteinpca_protein_gearyc = []\n",
    "\n",
    "# RNA\n",
    "for i in range(post_adata.X.shape[1]):\n",
    "    expr = np.array(sub_adata_scvi.X[:, i]) # log-library size normalized RNA\n",
    "    autocor = gearys_c(sub_adata_protein.uns[\"neighbors\"][\"connectivities\"], expr)\n",
    "    proteinpca_rna_gearyc.append(autocor)\n",
    "\n",
    "# Protein\n",
    "for i in range(post_adata.obsm[\"protein_expression\"].shape[1]):\n",
    "    expr = np.log1p(np.array(sub_adata_totalvi.obsm[\"protein_expression\"][:, i]))  # log(raw protein)\n",
    "    autocor = gearys_c(sub_adata_protein.uns[\"neighbors\"][\"connectivities\"], expr)\n",
    "    proteinpca_protein_gearyc.append(autocor)"
   ]
  },
  {
   "cell_type": "code",
   "execution_count": 100,
   "metadata": {},
   "outputs": [],
   "source": [
    "gearyc_latentprotein = pd.DataFrame({\"Joint\\n (totalVI)\": totalvi_protein_gearyc, \n",
    "                              \"RNA only\\n (scVI)\": scvi_protein_gearyc,\n",
    "                              \"Protein only\\n (PCA)\": proteinpca_protein_gearyc})\n",
    "\n",
    "gearyc_latentrna =   pd.DataFrame({\"Joint\\n (totalVI)\": totalvi_rna_gearyc,\n",
    "                             \"RNA only\\n (scVI)\": scvi_rna_gearyc,\n",
    "                             \"Protein only\\n (PCA)\": proteinpca_rna_gearyc})"
   ]
  },
  {
   "cell_type": "code",
   "execution_count": 101,
   "metadata": {},
   "outputs": [
    {
     "data": {
      "text/plain": [
       "Text(1.0, 1.504612966966004, '$p=0.001$')"
      ]
     },
     "execution_count": 101,
     "metadata": {},
     "output_type": "execute_result"
    },
    {
     "data": {
      "image/png": "[encoded data removed]",
      "text/plain": [
       "<Figure size 432x288 with 1 Axes>"
      ]
     },
     "metadata": {},
     "output_type": "display_data"
    }
   ],
   "source": [
    "# Plot for protein\n",
    "\n",
    "fig, ax = plt.subplots(figsize = (6, 4))\n",
    "\n",
    "ax = sns.boxplot(data = gearyc_latentprotein, orient = \"v\")\n",
    "ax.set(xlabel = \"Latent space\")\n",
    "ax.set(ylabel = \"Geary's C on Protein\")\n",
    "\n",
    "sns.despine()\n",
    "plt.tight_layout()\n",
    "\n",
    "# statistical annotation\n",
    "x1, x2 = 0, 0.9\n",
    "y, h, col = gearyc_latentprotein.iloc[:, 0].max() + .1, .1, 'k'\n",
    "ax.plot([x1, x1, x2, x2], [y, y+h, y+h, y], lw=1.5, c=col)\n",
    "ax.text((x1+x2)*.5, y+h, r\"$p=0.028$\", ha='center', va='bottom', color=col)\n",
    "\n",
    "x1, x2 = 1.1, 2\n",
    "y, h, col = gearyc_latentprotein.iloc[:, 0].max() + .1, .1, 'k'\n",
    "ax.plot([x1, x1, x2, x2], [y, y+h, y+h, y], lw=1.5, c=col)\n",
    "ax.text((x1+x2)*.5, y+h, r\"$p<0.001$\", ha='center', va='bottom', color=col)\n",
    "\n",
    "x1, x2 = 0, 2\n",
    "y, h, col = gearyc_latentprotein.iloc[:, 0].max() + .4, .1, 'k'\n",
    "ax.plot([x1, x1, x2, x2], [y, y+h, y+h, y], lw=1.5, c=col)\n",
    "ax.text((x1+x2)*.5, y+h, r\"$p=0.001$\", ha='center', va='bottom', color=col)\n",
    "\n",
    "#fig.savefig(\"/data/yosef2/users/zsteier/totalVI/totalVI_journal/spleen_lymph_all/comparative_analysis/jointmodel_figures/jointmodel_autocorrelation_protein.pdf\", dpi = DPI)"
   ]
  },
  {
   "cell_type": "code",
   "execution_count": 102,
   "metadata": {},
   "outputs": [
    {
     "name": "stdout",
     "output_type": "stream",
     "text": [
      "totalVI vs scVI\n",
      "RanksumsResult(statistic=-2.196749607173728, pvalue=0.028038333851994748)\n",
      "scVI vs protein\n",
      "RanksumsResult(statistic=4.5862708770791905, pvalue=4.512330908794244e-06)\n",
      "totalVI vs protein\n",
      "RanksumsResult(statistic=3.2432243477174323, pvalue=0.001181851099270911)\n"
     ]
    }
   ],
   "source": [
    "# Calculate spearman correlations between latent space autocorrelations\n",
    "# Protein \n",
    "\n",
    "print(\"totalVI vs scVI\")\n",
    "print(ranksums(gearyc_latentprotein.iloc[:, 0],\n",
    "        gearyc_latentprotein.iloc[:, 1]))\n",
    "\n",
    "\n",
    "print(\"scVI vs protein\")\n",
    "\n",
    "print(ranksums(gearyc_latentprotein.iloc[:, 1],\n",
    "        gearyc_latentprotein.iloc[:, 2]))\n",
    "\n",
    "print(\"totalVI vs protein\")\n",
    "\n",
    "print(ranksums(gearyc_latentprotein.iloc[:, 0],\n",
    "        gearyc_latentprotein.iloc[:, 2]))"
   ]
  },
  {
   "cell_type": "code",
   "execution_count": 103,
   "metadata": {},
   "outputs": [
    {
     "data": {
      "text/plain": [
       "Text(1.0, 2.289925493936368, '$p<0.001$')"
      ]
     },
     "execution_count": 103,
     "metadata": {},
     "output_type": "execute_result"
    },
    {
     "data": {
      "image/png": "[encoded data removed]",
      "text/plain": [
       "<Figure size 432x288 with 1 Axes>"
      ]
     },
     "metadata": {},
     "output_type": "display_data"
    }
   ],
   "source": [
    "# Plot for RNA\n",
    "\n",
    "fig, ax = plt.subplots(figsize = (6, 4))\n",
    "\n",
    "ax = sns.boxplot(data = gearyc_latentrna, orient = \"v\")\n",
    "ax.set(xlabel = \"Latent space\")\n",
    "ax.set(ylabel = \"Geary's C on RNA\")\n",
    "\n",
    "sns.despine()\n",
    "plt.tight_layout()\n",
    "\n",
    "# statistical annotation\n",
    "x1, x2 = 0, 0.9\n",
    "y, h, col = gearyc_latentrna.iloc[:, 2].max() + .1, .1, 'k'\n",
    "ax.plot([x1, x1, x2, x2], [y, y+h, y+h, y], lw=1.5, c=col)\n",
    "ax.text((x1+x2)*.5, y+h, r\"$p=0.102$\", ha='center', va='bottom', color=col)\n",
    "\n",
    "x1, x2 = 1.1, 2\n",
    "y, h, col = gearyc_latentrna.iloc[:, 2].max() + .1, .1, 'k'\n",
    "ax.plot([x1, x1, x2, x2], [y, y+h, y+h, y], lw=1.5, c=col)\n",
    "ax.text((x1+x2)*.5, y+h, r\"$p<0.001$\", ha='center', va='bottom', color=col)\n",
    "\n",
    "x1, x2 = 0, 2\n",
    "y, h, col = gearyc_latentrna.iloc[:, 2].max() + .5, .1, 'k'\n",
    "ax.plot([x1, x1, x2, x2], [y, y+h, y+h, y], lw=1.5, c=col)\n",
    "ax.text((x1+x2)*.5, y+h, r\"$p<0.001$\", ha='center', va='bottom', color=col)\n",
    "\n",
    "#fig.savefig(\"/data/yosef2/users/zsteier/totalVI/totalVI_journal/spleen_lymph_all/comparative_analysis/jointmodel_figures/jointmodel_autocorrelation_RNA.pdf\", dpi = DPI)"
   ]
  },
  {
   "cell_type": "code",
   "execution_count": 104,
   "metadata": {},
   "outputs": [
    {
     "name": "stdout",
     "output_type": "stream",
     "text": [
      "totalVI vs scVI\n",
      "RanksumsResult(statistic=-1.6338128171957405, pvalue=0.10229816021654985)\n",
      "scVI vs protein\n",
      "RanksumsResult(statistic=-5.57610201899829, pvalue=2.4596771239978534e-08)\n",
      "totalVI vs protein\n",
      "RanksumsResult(statistic=-7.127690999093777, pvalue=1.0206658862718712e-12)\n"
     ]
    }
   ],
   "source": [
    "# RNA\n",
    "\n",
    "print(\"totalVI vs scVI\")\n",
    "print(ranksums(gearyc_latentrna.iloc[:, 0],\n",
    "        gearyc_latentrna.iloc[:, 1]))\n",
    "\n",
    "\n",
    "print(\"scVI vs protein\")\n",
    "\n",
    "print(ranksums(gearyc_latentrna.iloc[:, 1],\n",
    "        gearyc_latentrna.iloc[:, 2]))\n",
    "\n",
    "print(\"totalVI vs protein\")\n",
    "\n",
    "print(ranksums(gearyc_latentrna.iloc[:, 0],\n",
    "        gearyc_latentrna.iloc[:, 2]))"
   ]
  }
 ],
 "metadata": {
  "kernelspec": {
   "display_name": "Python3 (scVI_0.4.1)",
   "language": "python",
   "name": "scvi_0.4.1"
  },
  "language_info": {
   "codemirror_mode": {
    "name": "ipython",
    "version": 3
   },
   "file_extension": ".py",
   "mimetype": "text/x-python",
   "name": "python",
   "nbconvert_exporter": "python",
   "pygments_lexer": "ipython3",
   "version": "3.7.4"
  },
  "toc": {
   "base_numbering": 1,
   "nav_menu": {},
   "number_sections": true,
   "sideBar": true,
   "skip_h1_title": true,
   "title_cell": "Table of Contents",
   "title_sidebar": "Contents",
   "toc_cell": false,
   "toc_position": {
    "height": "calc(100% - 180px)",
    "left": "10px",
    "top": "150px",
    "width": "384px"
   },
   "toc_section_display": true,
   "toc_window_display": true
  }
 },
 "nbformat": 4,
 "nbformat_minor": 4
}
