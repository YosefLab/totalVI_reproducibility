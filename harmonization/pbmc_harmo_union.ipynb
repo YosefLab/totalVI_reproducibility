{
 "cells": [
  {
   "cell_type": "markdown",
   "metadata": {},
   "source": [
    "# Imports and data loading"
   ]
  },
  {
   "cell_type": "code",
   "execution_count": 1,
   "metadata": {},
   "outputs": [
    {
     "name": "stderr",
     "output_type": "stream",
     "text": [
      "/data/yosef2/users/adamgayoso/.pyenv/versions/scvi/lib/python3.7/site-packages/sklearn/externals/six.py:31: DeprecationWarning: The module is deprecated in version 0.21 and will be removed in version 0.23 since we've dropped support for Python 2.7. Please rely on the official version of six (https://pypi.org/project/six/).\n",
      "  \"(https://pypi.org/project/six/).\", DeprecationWarning)\n"
     ]
    }
   ],
   "source": [
    "import csv\n",
    "import gzip\n",
    "import os\n",
    "import sys\n",
    "import scipy.io\n",
    "import matplotlib.pyplot as plt\n",
    "import seaborn as sns\n",
    "import numpy as np\n",
    "import pandas as pd\n",
    "import torch\n",
    "\n",
    "import scvi\n",
    "from scvi.dataset import GeneExpressionDataset, CellMeasurement, AnnDatasetFromAnnData\n",
    "from scvi.models import VAE, TOTALVI\n",
    "from scvi.inference import TotalPosterior, TotalTrainer, Posterior, UnsupervisedTrainer\n",
    "\n",
    "import anndata\n",
    "import scanpy as sc\n",
    "import umap\n",
    "import copy\n",
    "\n",
    "import scanorama\n",
    "from sklearn.neighbors import NearestNeighbors\n",
    "from sklearn.preprocessing import normalize\n",
    "\n",
    "sys.path.append(\"../utils/\")\n",
    "from utils import *\n",
    "\n",
    "set_seed(0)\n",
    "save_path = \"/data/yosef2/users/adamgayoso/projects/totalVI_journal/data/\"\n",
    "\n",
    "%load_ext autoreload\n",
    "%autoreload 2\n",
    "%matplotlib inline\n",
    "overwrite = True"
   ]
  },
  {
   "cell_type": "code",
   "execution_count": 2,
   "metadata": {},
   "outputs": [],
   "source": [
    "colors = [\"#3B7EA1\", \"#FDB515\", \"#D9661F\", \"#859438\", \"#EE1F60\", \"#00A598\"]\n",
    "sns.set(context=\"notebook\", font_scale=1.3, style=\"ticks\")\n",
    "sns.set_palette(sns.color_palette(colors))\n",
    "plt.rcParams['svg.fonttype'] = 'none'\n",
    "plt.rcParams['pdf.fonttype'] = 42\n",
    "plt.rcParams['savefig.transparent'] = True\n",
    "plt.rcParams['figure.figsize'] = (4, 4)\n",
    "\n",
    "sc.settings._vector_friendly = True\n",
    "DPI = 300\n",
    "W_SPACE = 0.18"
   ]
  },
  {
   "cell_type": "code",
   "execution_count": 3,
   "metadata": {},
   "outputs": [],
   "source": [
    "anndataset_10k = anndata.read(save_path + \"pbmc_10k_protein_v3.h5ad\")\n",
    "anndataset_5k = anndata.read(save_path + \"pbmc_5k_protein_v3.h5ad\")"
   ]
  },
  {
   "cell_type": "code",
   "execution_count": 4,
   "metadata": {},
   "outputs": [],
   "source": [
    "mutual_names = anndataset_10k.var_names.intersection(anndataset_5k.var_names)\n",
    "anndataset_10k = anndataset_10k[:, mutual_names]\n",
    "anndataset_5k = anndataset_5k[:, mutual_names]"
   ]
  },
  {
   "cell_type": "code",
   "execution_count": 5,
   "metadata": {},
   "outputs": [
    {
     "name": "stdout",
     "output_type": "stream",
     "text": [
      "(15792,)\n",
      "(6855, 15792)\n",
      "(15792,)\n",
      "(3994, 15792)\n"
     ]
    }
   ],
   "source": [
    "adata_total = anndata.AnnData.concatenate(anndataset_10k, anndataset_5k)\n",
    "seurat_v3_highly_variable_genes(adata_total, n_top_genes=4000)\n",
    "global_high_var_genes = adata_total.var.index[adata_total.var[\"highly_variable\"]]"
   ]
  },
  {
   "cell_type": "code",
   "execution_count": 6,
   "metadata": {},
   "outputs": [
    {
     "name": "stdout",
     "output_type": "stream",
     "text": [
      "[2020-08-28 12:10:19,832] INFO - scvi.dataset.dataset | Remapping batch_indices to [0,N]\n",
      "[2020-08-28 12:10:19,834] INFO - scvi.dataset.dataset | Remapping labels to [0,N]\n",
      "[2020-08-28 12:10:19,882] INFO - scvi.dataset.dataset | Computing the library size for the new data\n",
      "[2020-08-28 12:10:19,929] INFO - scvi.dataset.dataset | Downsampled from 6855 to 6855 cells\n",
      "[2020-08-28 12:10:20,057] INFO - scvi.dataset.dataset | Remapping batch_indices to [0,N]\n",
      "[2020-08-28 12:10:20,059] INFO - scvi.dataset.dataset | Remapping labels to [0,N]\n",
      "[2020-08-28 12:10:20,088] INFO - scvi.dataset.dataset | Computing the library size for the new data\n",
      "[2020-08-28 12:10:20,117] INFO - scvi.dataset.dataset | Downsampled from 3994 to 3994 cells\n"
     ]
    }
   ],
   "source": [
    "dataset_10k = AnnDatasetFromAnnData(ad = anndataset_10k[:, global_high_var_genes])\n",
    "protein_data_10k = CellMeasurement(name=\"protein_expression\", data=anndataset_10k.obsm[\"protein_expression\"].astype(np.float32), \n",
    "                               columns_attr_name=\"protein_names\", columns=anndataset_10k.uns[\"protein_names\"])\n",
    "dataset_10k.initialize_cell_measurement(protein_data_10k)\n",
    "\n",
    "dataset_5k = AnnDatasetFromAnnData(ad = anndataset_5k[:, global_high_var_genes])\n",
    "protein_data_5k = CellMeasurement(name=\"protein_expression\", data=anndataset_5k.obsm[\"protein_expression\"].astype(np.float32), \n",
    "                               columns_attr_name=\"protein_names\", columns=anndataset_5k.uns[\"protein_names\"])\n",
    "dataset_5k.initialize_cell_measurement(protein_data_5k)"
   ]
  },
  {
   "cell_type": "code",
   "execution_count": 7,
   "metadata": {
    "scrolled": true
   },
   "outputs": [
    {
     "name": "stdout",
     "output_type": "stream",
     "text": [
      "[2020-08-28 12:10:23,720] INFO - scvi.dataset.dataset | Keeping 4000 genes\n",
      "[2020-08-28 12:10:23,806] INFO - scvi.dataset.dataset | Computing the library size for the new data\n",
      "[2020-08-28 12:10:23,894] INFO - scvi.dataset.dataset | Remapping batch_indices to [0,N]\n",
      "[2020-08-28 12:10:23,896] INFO - scvi.dataset.dataset | Remapping labels to [0,N]\n",
      "[2020-08-28 12:10:23,941] INFO - scvi.dataset.dataset | Computing the library size for the new data\n",
      "[2020-08-28 12:10:23,990] INFO - scvi.dataset.dataset | Remapping batch_indices to [0,N]\n",
      "[2020-08-28 12:10:23,992] INFO - scvi.dataset.dataset | Remapping labels to [0,N]\n",
      "[2020-08-28 12:10:25,770] INFO - scvi.dataset.dataset | Remapping batch_indices to [0,N]\n",
      "[2020-08-28 12:10:25,772] INFO - scvi.dataset.dataset | Remapping labels to [0,N]\n",
      "[2020-08-28 12:10:25,774] INFO - scvi.dataset.dataset | Keeping 29 columns in protein_expression\n"
     ]
    }
   ],
   "source": [
    "dataset = GeneExpressionDataset()\n",
    "dataset.populate_from_datasets(\n",
    "    [copy.deepcopy(dataset_10k), copy.deepcopy(dataset_5k)],\n",
    "    cell_measurement_intersection={\"protein_expression\": False},\n",
    ")\n",
    "batch_mask = dataset.get_batch_mask_cell_measurement(\"protein_expression\")"
   ]
  },
  {
   "cell_type": "code",
   "execution_count": 8,
   "metadata": {},
   "outputs": [],
   "source": [
    "full_data = dataset.X\n",
    "norm_full_data = anndata.AnnData(X=full_data)\n",
    "sc.pp.normalize_per_cell(norm_full_data, counts_per_cell_after=1e4)\n",
    "sc.pp.log1p(norm_full_data)\n",
    "norm_full_data = anndata.AnnData(\n",
    "    X=np.concatenate(\n",
    "        [\n",
    "            norm_full_data.X,\n",
    "            np.log1p(dataset.protein_expression),\n",
    "        ],\n",
    "        axis=1,\n",
    "    )\n",
    ")\n",
    "col_names = np.concatenate([dataset.gene_names, dataset.protein_names])\n",
    "norm_full_data.var_names = col_names"
   ]
  },
  {
   "cell_type": "markdown",
   "metadata": {},
   "source": [
    "# Create and train models"
   ]
  },
  {
   "cell_type": "code",
   "execution_count": 9,
   "metadata": {},
   "outputs": [],
   "source": [
    "datasets = [dataset_10k, dataset_5k, dataset]\n",
    "models = []\n",
    "trainers = []\n",
    "names = [\"pbmc_10k_harmo_union\", \"pbmc_5k_harmo_union\", \"pbmc15k_harmo_union\"]\n",
    "\n",
    "for d in datasets:\n",
    "    if d.n_batches > 1:\n",
    "        m = TOTALVI(\n",
    "            d.nb_genes,\n",
    "            d.protein_expression.shape[1],\n",
    "            n_latent=20,\n",
    "            n_batch=d.n_batches,\n",
    "            encoder_batch=True,\n",
    "            protein_batch_mask=batch_mask,\n",
    "        )\n",
    "    else:\n",
    "        m = TOTALVI(d.nb_genes, d.protein_expression.shape[1], n_latent=20)\n",
    "    models.append(m)\n",
    "    use_cuda = True\n",
    "    lr = 4e-3\n",
    "    early_stopping_kwargs = {\n",
    "        \"early_stopping_metric\": \"elbo\",\n",
    "        \"save_best_state_metric\": \"elbo\",\n",
    "        \"patience\": 45,\n",
    "        \"threshold\": 0,\n",
    "        \"reduce_lr_on_plateau\": True,\n",
    "        \"lr_patience\": 30,\n",
    "        \"lr_factor\": 0.6,\n",
    "        \"posterior_class\": TotalPosterior,\n",
    "    }\n",
    "\n",
    "    trainer = TotalTrainer(\n",
    "        m,\n",
    "        d,\n",
    "        train_size=0.90,\n",
    "        test_size=0.10,\n",
    "        use_cuda=use_cuda,\n",
    "        frequency=1,\n",
    "        data_loader_kwargs={\"batch_size\": 256},\n",
    "        early_stopping_kwargs=early_stopping_kwargs,\n",
    "        use_adversarial_loss=True if d.n_batches > 1 else False,\n",
    "        kappa=None\n",
    "    )\n",
    "    trainers.append(trainer)\n",
    "totalvae_10k, totalvae_5k, totalvae = models[0], models[1], models[2]"
   ]
  },
  {
   "cell_type": "code",
   "execution_count": 10,
   "metadata": {},
   "outputs": [
    {
     "data": {
      "application/vnd.jupyter.widget-view+json": {
       "model_id": "7289cf1705d14e75a2866f2dd2fd2279",
       "version_major": 2,
       "version_minor": 0
      },
      "text/plain": [
       "HBox(children=(IntProgress(value=0, description='training', max=500, style=ProgressStyle(description_width='in…"
      ]
     },
     "metadata": {},
     "output_type": "display_data"
    },
    {
     "name": "stdout",
     "output_type": "stream",
     "text": [
      "[2020-08-28 12:18:06,146] INFO - scvi.inference.trainer | Reducing LR on epoch 413.\n",
      "[2020-08-28 12:19:22,977] INFO - scvi.inference.trainer | Reducing LR on epoch 483.\n",
      "\n"
     ]
    },
    {
     "data": {
      "application/vnd.jupyter.widget-view+json": {
       "model_id": "fc77044429ce41a48ae145ace5c573b5",
       "version_major": 2,
       "version_minor": 0
      },
      "text/plain": [
       "HBox(children=(IntProgress(value=0, description='training', max=500, style=ProgressStyle(description_width='in…"
      ]
     },
     "metadata": {},
     "output_type": "display_data"
    },
    {
     "name": "stdout",
     "output_type": "stream",
     "text": [
      "\n"
     ]
    },
    {
     "data": {
      "application/vnd.jupyter.widget-view+json": {
       "model_id": "4dc2eb965068457daad78cb1e3722cf1",
       "version_major": 2,
       "version_minor": 0
      },
      "text/plain": [
       "HBox(children=(IntProgress(value=0, description='training', max=500, style=ProgressStyle(description_width='in…"
      ]
     },
     "metadata": {},
     "output_type": "display_data"
    },
    {
     "name": "stdout",
     "output_type": "stream",
     "text": [
      "[2020-08-28 12:35:28,951] INFO - scvi.inference.trainer | Reducing LR on epoch 288.\n",
      "[2020-08-28 12:37:25,583] INFO - scvi.inference.trainer | Reducing LR on epoch 349.\n",
      "[2020-08-28 12:38:38,174] INFO - scvi.inference.trainer | Reducing LR on epoch 387.\n",
      "[2020-08-28 12:41:09,473] INFO - scvi.inference.trainer | Reducing LR on epoch 463.\n",
      "\n"
     ]
    }
   ],
   "source": [
    "if overwrite is True:\n",
    "    for t, n in zip(trainers, names):\n",
    "        t.train(lr=lr, n_epochs=500)\n",
    "        torch.save(t.model.state_dict(), \"saved_models/\" + n + \".pt\")\n",
    "else:\n",
    "    for m, n, t in zip(models, names, trainers):\n",
    "        try:\n",
    "            m.load_state_dict(torch.load(\"saved_models/\" + n + \".pt\"))\n",
    "            m.eval()\n",
    "        except FileNotFoundError:\n",
    "            t.train(lr=lr, n_epochs=500)\n",
    "            torch.save(t.model.state_dict(), \"saved_models/\" + n + \".pt\")"
   ]
  },
  {
   "cell_type": "markdown",
   "metadata": {},
   "source": [
    "# Create posteriors"
   ]
  },
  {
   "cell_type": "code",
   "execution_count": 11,
   "metadata": {},
   "outputs": [],
   "source": [
    "# create posterior on full data\n",
    "posteriors = []\n",
    "latents = []\n",
    "for t, m, d in zip(trainers, models, datasets):\n",
    "    full_posterior = t.create_posterior(\n",
    "        m, d, indices=np.arange(len(d)), type_class=TotalPosterior\n",
    "    )\n",
    "    posteriors.append(full_posterior)\n",
    "    # extract latent space\n",
    "    latent_mean, batch_index, label, library_gene = full_posterior.sequential().get_latent()\n",
    "    latents.append(latent_mean)"
   ]
  },
  {
   "cell_type": "code",
   "execution_count": 12,
   "metadata": {},
   "outputs": [
    {
     "name": "stderr",
     "output_type": "stream",
     "text": [
      "/data/yosef2/users/adamgayoso/.pyenv/versions/scvi/lib/python3.7/site-packages/umap/spectral.py:229: UserWarning: Embedding a total of 3 separate connected components using meta-embedding (experimental)\n",
      "  n_components\n",
      "/data/yosef2/users/adamgayoso/.pyenv/versions/scvi/lib/python3.7/site-packages/numba/compiler.py:602: NumbaPerformanceWarning: \n",
      "The keyword argument 'parallel=True' was specified but no transformation for parallel execution was possible.\n",
      "\n",
      "To find out why, try turning on parallel diagnostics, see http://numba.pydata.org/numba-doc/latest/user/parallel.html#diagnostics for help.\n",
      "\n",
      "File \"../../../.pyenv/versions/scvi/lib/python3.7/site-packages/umap/rp_tree.py\", line 135:\n",
      "@numba.njit(fastmath=True, nogil=True, parallel=True)\n",
      "def euclidean_random_projection_split(data, indices, rng_state):\n",
      "^\n",
      "\n",
      "  self.func_ir.loc))\n",
      "/data/yosef2/users/adamgayoso/.pyenv/versions/scvi/lib/python3.7/site-packages/umap/nndescent.py:92: NumbaPerformanceWarning: \n",
      "The keyword argument 'parallel=True' was specified but no transformation for parallel execution was possible.\n",
      "\n",
      "To find out why, try turning on parallel diagnostics, see http://numba.pydata.org/numba-doc/latest/user/parallel.html#diagnostics for help.\n",
      "\n",
      "File \"../../../.pyenv/versions/scvi/lib/python3.7/site-packages/umap/utils.py\", line 409:\n",
      "@numba.njit(parallel=True)\n",
      "def build_candidates(current_graph, n_vertices, n_neighbors, max_candidates, rng_state):\n",
      "^\n",
      "\n",
      "  current_graph, n_vertices, n_neighbors, max_candidates, rng_state\n",
      "/data/yosef2/users/adamgayoso/.pyenv/versions/scvi/lib/python3.7/site-packages/numba/compiler.py:602: NumbaPerformanceWarning: \n",
      "The keyword argument 'parallel=True' was specified but no transformation for parallel execution was possible.\n",
      "\n",
      "To find out why, try turning on parallel diagnostics, see http://numba.pydata.org/numba-doc/latest/user/parallel.html#diagnostics for help.\n",
      "\n",
      "File \"../../../.pyenv/versions/scvi/lib/python3.7/site-packages/umap/nndescent.py\", line 47:\n",
      "    @numba.njit(parallel=True)\n",
      "    def nn_descent(\n",
      "    ^\n",
      "\n",
      "  self.func_ir.loc))\n"
     ]
    }
   ],
   "source": [
    "post_adatas = []\n",
    "if overwrite:\n",
    "    for n in names:\n",
    "        os.remove(\"saved_post_adata/\" + n + \".h5ad\")\n",
    "for d, l, n in zip(datasets, latents, names):\n",
    "    try:\n",
    "            post_adatas.append(anndata.read_h5ad(\"saved_post_adata/\" + n + \".h5ad\"))\n",
    "    except OSError:\n",
    "            post_adata = anndata.AnnData(X=d.X)\n",
    "            post_adata.var.index = d.gene_names\n",
    "            post_adata.obsm[\"X_totalVI\"] = l\n",
    "            sc.pp.neighbors(post_adata, use_rep=\"X_totalVI\", n_neighbors=25)\n",
    "            sc.tl.umap(post_adata, min_dist=0.25)\n",
    "            sc.tl.leiden(post_adata, key_added=\"leiden_totalVI\", resolution=0.8)\n",
    "            post_adata.write(\"saved_post_adata/\" + n + \".h5ad\", compression=\"gzip\")\n",
    "            post_adatas.append(post_adata)\n",
    "d_names = [\"PBMC_10k\", \"PBMC_5k\"]\n",
    "post_adatas[2].obs[\"batch_indices\"] = [d_names[b[0]] for b in datasets[2].batch_indices]"
   ]
  },
  {
   "cell_type": "code",
   "execution_count": 13,
   "metadata": {},
   "outputs": [
    {
     "name": "stderr",
     "output_type": "stream",
     "text": [
      "Trying to set attribute `.obs` of view, making a copy.\n",
      "... storing 'batch_indices' as categorical\n",
      "WARNING:matplotlib.axes._axes:'c' argument looks like a single numeric RGB or RGBA sequence, which should be avoided as value-mapping will have precedence in case its length matches with 'x' & 'y'.  Please use a 2-D array with a single row if you really want to specify the same RGB or RGBA value for all points.\n",
      "WARNING:matplotlib.axes._axes:'c' argument looks like a single numeric RGB or RGBA sequence, which should be avoided as value-mapping will have precedence in case its length matches with 'x' & 'y'.  Please use a 2-D array with a single row if you really want to specify the same RGB or RGBA value for all points.\n"
     ]
    },
    {
     "data": {
      "image/png": "[encoded data removed]",
      "text/plain": [
       "<Figure size 288x288 with 1 Axes>"
      ]
     },
     "metadata": {},
     "output_type": "display_data"
    }
   ],
   "source": [
    "perm_inds = np.random.permutation(len(post_adatas[2]))\n",
    "fig = sc.pl.umap(\n",
    "    post_adatas[2][perm_inds], \n",
    "    color=[\"batch_indices\"],\n",
    "    title=\"totalVI union\",\n",
    "    return_fig=True,\n",
    "    frameon=False\n",
    ")\n",
    "plt.savefig(\"figures/pbmc_umap_union.pdf\", dpi=DPI, bbox_inches=\"tight\")"
   ]
  },
  {
   "cell_type": "markdown",
   "metadata": {},
   "source": [
    "# Metrics"
   ]
  },
  {
   "cell_type": "code",
   "execution_count": 14,
   "metadata": {},
   "outputs": [
    {
     "name": "stdout",
     "output_type": "stream",
     "text": [
      "0.36814452944971887\n"
     ]
    }
   ],
   "source": [
    "ENTROPY_K = 100\n",
    "harmo_metrics = pd.DataFrame(\n",
    "    index=[\"totalVI-union\"],\n",
    "    columns=[\"Local metric\", \"Mixing metric\", \"Hotspot metric\", \"Clustering metric\"],\n",
    ")\n",
    "harmo_metrics[\"models\"] = [\n",
    "    \"totalVI-union\",\n",
    "]\n",
    "\n",
    "harmo_metrics.loc[\"totalVI-union\", \"Mixing metric\"] = entropy_batch_mixing(\n",
    "    post_adatas[2].obsm[\"X_totalVI\"], datasets[2].batch_indices.ravel(), n_neighbors=ENTROPY_K\n",
    ")"
   ]
  },
  {
   "cell_type": "code",
   "execution_count": 15,
   "metadata": {},
   "outputs": [
    {
     "name": "stderr",
     "output_type": "stream",
     "text": [
      "100%|██████████| 4014/4014 [00:01<00:00, 3189.82it/s]\n",
      "100%|██████████| 4014/4014 [00:01<00:00, 2909.91it/s]\n",
      "100%|██████████| 4014/4014 [00:01<00:00, 2977.54it/s]\n",
      "100%|██████████| 4014/4014 [00:01<00:00, 2863.84it/s]\n"
     ]
    },
    {
     "name": "stdout",
     "output_type": "stream",
     "text": [
      "7.158089905074182\n",
      "14.05146814939498\n"
     ]
    }
   ],
   "source": [
    "subset_features = list(global_high_var_genes) + list(anndataset_10k.uns[\"protein_names\"])\n",
    "\n",
    "harmo_metrics.loc[\"totalVI-union\", \"Hotspot metric\"], _, _ = hotspot_score(\n",
    "    norm_full_data,\n",
    "    post_adatas[0].obsm[\"X_totalVI\"],\n",
    "    post_adatas[1].obsm[\"X_totalVI\"],\n",
    "    post_adatas[2].obsm[\"X_totalVI\"],\n",
    "    datasets[2].batch_indices.ravel(),\n",
    "    subset_features=subset_features,\n",
    ")"
   ]
  },
  {
   "cell_type": "code",
   "execution_count": 16,
   "metadata": {},
   "outputs": [],
   "source": [
    "harmo_metrics.loc[\"totalVI-union\", \"Clustering metric\"] = np.mean(clustering_metric_silhoutte(\n",
    "    post_adatas[0],\n",
    "    post_adatas[1],\n",
    "    post_adatas[2],\n",
    "    datasets[2].batch_indices.ravel(),\n",
    "    k=15,\n",
    "    use_rep=\"X_totalVI\",\n",
    "    resolution=1.0,\n",
    "    n_clusters=15,\n",
    ")\n",
    ")"
   ]
  },
  {
   "cell_type": "code",
   "execution_count": 17,
   "metadata": {},
   "outputs": [
    {
     "data": {
      "text/html": [
       "<div>\n",
       "<style scoped>\n",
       "    .dataframe tbody tr th:only-of-type {\n",
       "        vertical-align: middle;\n",
       "    }\n",
       "\n",
       "    .dataframe tbody tr th {\n",
       "        vertical-align: top;\n",
       "    }\n",
       "\n",
       "    .dataframe thead th {\n",
       "        text-align: right;\n",
       "    }\n",
       "</style>\n",
       "<table border=\"1\" class=\"dataframe\">\n",
       "  <thead>\n",
       "    <tr style=\"text-align: right;\">\n",
       "      <th></th>\n",
       "      <th>Local metric</th>\n",
       "      <th>Mixing metric</th>\n",
       "      <th>Hotspot metric</th>\n",
       "      <th>Clustering metric</th>\n",
       "      <th>models</th>\n",
       "    </tr>\n",
       "  </thead>\n",
       "  <tbody>\n",
       "    <tr>\n",
       "      <td>totalVI-union</td>\n",
       "      <td>NaN</td>\n",
       "      <td>-0.0683448</td>\n",
       "      <td>1.0732</td>\n",
       "      <td>0.0355504</td>\n",
       "      <td>totalVI-union</td>\n",
       "    </tr>\n",
       "  </tbody>\n",
       "</table>\n",
       "</div>"
      ],
      "text/plain": [
       "              Local metric Mixing metric Hotspot metric Clustering metric  \\\n",
       "totalVI-union          NaN    -0.0683448         1.0732         0.0355504   \n",
       "\n",
       "                      models  \n",
       "totalVI-union  totalVI-union  "
      ]
     },
     "execution_count": 17,
     "metadata": {},
     "output_type": "execute_result"
    }
   ],
   "source": [
    "harmo_metrics"
   ]
  },
  {
   "cell_type": "code",
   "execution_count": 18,
   "metadata": {},
   "outputs": [],
   "source": [
    "harmo_metrics.to_csv(\"misc_results/pbmc_union_stats.csv\")"
   ]
  },
  {
   "cell_type": "code",
   "execution_count": null,
   "metadata": {},
   "outputs": [],
   "source": []
  },
  {
   "cell_type": "code",
   "execution_count": null,
   "metadata": {},
   "outputs": [],
   "source": []
  },
  {
   "cell_type": "code",
   "execution_count": null,
   "metadata": {},
   "outputs": [],
   "source": []
  }
 ],
 "metadata": {
  "kernelspec": {
   "display_name": "scvi",
   "language": "python",
   "name": "scvi"
  },
  "language_info": {
   "codemirror_mode": {
    "name": "ipython",
    "version": 3
   },
   "file_extension": ".py",
   "mimetype": "text/x-python",
   "name": "python",
   "nbconvert_exporter": "python",
   "pygments_lexer": "ipython3",
   "version": "3.7.3"
  },
  "toc": {
   "base_numbering": 1,
   "nav_menu": {},
   "number_sections": true,
   "sideBar": true,
   "skip_h1_title": false,
   "title_cell": "Table of Contents",
   "title_sidebar": "Contents",
   "toc_cell": false,
   "toc_position": {},
   "toc_section_display": true,
   "toc_window_display": true
  }
 },
 "nbformat": 4,
 "nbformat_minor": 4
}
