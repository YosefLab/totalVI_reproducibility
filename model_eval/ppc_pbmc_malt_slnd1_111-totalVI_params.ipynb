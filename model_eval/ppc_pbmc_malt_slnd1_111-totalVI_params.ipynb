{
 "cells": [
  {
   "cell_type": "markdown",
   "metadata": {},
   "source": [
    "## PPC"
   ]
  },
  {
   "cell_type": "code",
   "execution_count": 1,
   "metadata": {
    "scrolled": true
   },
   "outputs": [],
   "source": [
    "import sys\n",
    "import scipy.io\n",
    "import matplotlib.pyplot as plt\n",
    "import matplotlib.gridspec as gridspec\n",
    "import seaborn as sns\n",
    "import numpy as np\n",
    "import pandas as pd\n",
    "import torch\n",
    "\n",
    "import scvi\n",
    "from scvi.dataset import GeneExpressionDataset, CellMeasurement, AnnDatasetFromAnnData\n",
    "from scvi.models import VAE, TOTALVI\n",
    "from scvi.inference import TotalPosterior, TotalTrainer, Posterior, UnsupervisedTrainer\n",
    "\n",
    "import anndata\n",
    "import scanpy as sc\n",
    "import umap\n",
    "import sparse\n",
    "\n",
    "sns.set(context=\"notebook\", font_scale=1.3, style=\"ticks\")\n",
    "save_path = \"/data/yosef2/users/adamgayoso/projects/totalVI_journal/data/\"\n",
    "plt.rcParams['svg.fonttype'] = 'none'\n",
    "plt.rcParams['pdf.fonttype'] = 42\n",
    "%load_ext autoreload\n",
    "%autoreload 2\n",
    "%matplotlib inline\n",
    "overwrite=False\n",
    "\n",
    "sys.path.append(\"../utils/\")\n",
    "from totalppc import TotalPosteriorPredictiveCheck as totalPPC\n",
    "from scvi import set_seed\n",
    "\n",
    "# colors = [\"#9b59b6\", \"#3498db\", \"#95a5a6\", \"#34495e\", \"#e74c3c\", \"#2ecc71\"]\n",
    "# colors_3 = [\"#9b59b6\", \"#95a5a6\", \"#34495e\", \"#e74c3c\", \"#2ecc71\"]\n",
    "\n",
    "colors = [\"#3B7EA1\", \"#FDB515\", \"#D9661F\", \"#859438\", \"#EE1F60\", \"#00A598\"]\n",
    "colors_3 = [\"#3B7EA1\", \"#D9661F\", \"#859438\", \"#EE1F60\", \"#00A598\"]\n",
    "\n",
    "set_seed(0)"
   ]
  },
  {
   "cell_type": "code",
   "execution_count": 2,
   "metadata": {},
   "outputs": [],
   "source": [
    "anndataset_pbmc = anndata.read(save_path + \"pbmc_10k_protein_v3.h5ad\")\n",
    "anndataset_malt = anndata.read(save_path + \"malt_10k_protein_v3.h5ad\")\n",
    "anndataset_sln = anndata.read(save_path + \"spleen_lymph_111.h5ad\")\n",
    "anndataset_sln = anndataset_sln[anndataset_sln.obs[\"batch_indices\"] == 0]"
   ]
  },
  {
   "cell_type": "code",
   "execution_count": 3,
   "metadata": {},
   "outputs": [
    {
     "name": "stdout",
     "output_type": "stream",
     "text": [
      "[2020-09-02 16:26:49,675] INFO - scvi.dataset.dataset | Remapping batch_indices to [0,N]\n",
      "[2020-09-02 16:26:49,677] INFO - scvi.dataset.dataset | Remapping labels to [0,N]\n",
      "[2020-09-02 16:26:49,892] INFO - scvi.dataset.dataset | Computing the library size for the new data\n",
      "[2020-09-02 16:26:50,088] INFO - scvi.dataset.dataset | Downsampled from 6855 to 6855 cells\n",
      "[2020-09-02 16:26:50,636] INFO - scvi.dataset.dataset | Remapping batch_indices to [0,N]\n",
      "[2020-09-02 16:26:50,637] INFO - scvi.dataset.dataset | Remapping labels to [0,N]\n",
      "[2020-09-02 16:26:50,868] INFO - scvi.dataset.dataset | Computing the library size for the new data\n",
      "[2020-09-02 16:26:51,072] INFO - scvi.dataset.dataset | Downsampled from 6838 to 6838 cells\n",
      "[2020-09-02 16:26:51,637] INFO - scvi.dataset.dataset | Remapping batch_indices to [0,N]\n",
      "[2020-09-02 16:26:51,639] INFO - scvi.dataset.dataset | Remapping labels to [0,N]\n",
      "[2020-09-02 16:26:51,889] INFO - scvi.dataset.dataset | Computing the library size for the new data\n",
      "[2020-09-02 16:26:52,125] INFO - scvi.dataset.dataset | Downsampled from 9264 to 9264 cells\n"
     ]
    }
   ],
   "source": [
    "dataset_pbmc = AnnDatasetFromAnnData(ad=anndataset_pbmc)\n",
    "protein_data = CellMeasurement(\n",
    "    name=\"protein_expression\",\n",
    "    data=anndataset_pbmc.obsm[\"protein_expression\"].astype(np.float32),\n",
    "    columns_attr_name=\"protein_names\",\n",
    "    columns=anndataset_pbmc.uns[\"protein_names\"],\n",
    ")\n",
    "dataset_pbmc.initialize_cell_measurement(protein_data)\n",
    "\n",
    "dataset_malt = AnnDatasetFromAnnData(ad=anndataset_malt)\n",
    "protein_data = CellMeasurement(\n",
    "    name=\"protein_expression\",\n",
    "    data=anndataset_malt.obsm[\"protein_expression\"].astype(np.float32),\n",
    "    columns_attr_name=\"protein_names\",\n",
    "    columns=anndataset_malt.uns[\"protein_names\"],\n",
    ")\n",
    "dataset_malt.initialize_cell_measurement(protein_data)\n",
    "\n",
    "# Removes HTOs\n",
    "dataset_sln = AnnDatasetFromAnnData(ad=anndataset_sln)\n",
    "protein_data = CellMeasurement(\n",
    "    name=\"protein_expression\",\n",
    "    data=anndataset_sln.obsm[\"protein_expression\"][:, :-2].astype(np.float32),\n",
    "    columns_attr_name=\"protein_names\",\n",
    "    columns=anndataset_sln.uns[\"protein_names\"][:-2],\n",
    ")\n",
    "dataset_sln.initialize_cell_measurement(protein_data)\n",
    "\n",
    "datasets = [dataset_pbmc, dataset_malt, dataset_sln]"
   ]
  },
  {
   "cell_type": "code",
   "execution_count": 4,
   "metadata": {},
   "outputs": [
    {
     "name": "stdout",
     "output_type": "stream",
     "text": [
      "[2020-09-02 16:26:52,185] INFO - scvi.dataset.dataset | Downsampling from 16727 to 4000 genes\n",
      "[2020-09-02 16:26:52,305] INFO - scvi.dataset.dataset | Computing the library size for the new data\n",
      "[2020-09-02 16:26:52,400] INFO - scvi.dataset.dataset | Filtering non-expressing cells.\n",
      "[2020-09-02 16:26:52,493] INFO - scvi.dataset.dataset | Computing the library size for the new data\n",
      "[2020-09-02 16:26:52,540] INFO - scvi.dataset.dataset | Downsampled from 6855 to 6855 cells\n",
      "[2020-09-02 16:26:52,541] INFO - scvi.dataset.dataset | Downsampling from 16659 to 4000 genes\n",
      "[2020-09-02 16:26:52,690] INFO - scvi.dataset.dataset | Computing the library size for the new data\n",
      "[2020-09-02 16:26:52,770] INFO - scvi.dataset.dataset | Filtering non-expressing cells.\n",
      "[2020-09-02 16:26:52,851] INFO - scvi.dataset.dataset | Computing the library size for the new data\n",
      "[2020-09-02 16:26:52,899] INFO - scvi.dataset.dataset | Downsampled from 6838 to 6838 cells\n",
      "[2020-09-02 16:26:52,901] INFO - scvi.dataset.dataset | Downsampling from 13553 to 4000 genes\n",
      "[2020-09-02 16:26:53,048] INFO - scvi.dataset.dataset | Computing the library size for the new data\n",
      "[2020-09-02 16:26:53,154] INFO - scvi.dataset.dataset | Filtering non-expressing cells.\n",
      "[2020-09-02 16:26:53,257] INFO - scvi.dataset.dataset | Computing the library size for the new data\n",
      "[2020-09-02 16:26:53,325] INFO - scvi.dataset.dataset | Downsampled from 9264 to 9264 cells\n"
     ]
    }
   ],
   "source": [
    "for d in datasets:\n",
    "    d.update_genes(d.var[\"highly_variable\"])"
   ]
  },
  {
   "cell_type": "code",
   "execution_count": 5,
   "metadata": {},
   "outputs": [],
   "source": [
    "use_cuda = True\n",
    "lr = 4e-3\n",
    "early_stopping_kwargs = {\n",
    "    \"early_stopping_metric\": \"elbo\",\n",
    "    \"save_best_state_metric\": \"elbo\",\n",
    "    \"patience\": 45,\n",
    "    \"threshold\": 0,\n",
    "    \"reduce_lr_on_plateau\": True,\n",
    "    \"lr_patience\": 30,\n",
    "    \"lr_factor\": 0.6,\n",
    "    \"posterior_class\": TotalPosterior,\n",
    "}"
   ]
  },
  {
   "cell_type": "code",
   "execution_count": 6,
   "metadata": {},
   "outputs": [
    {
     "data": {
      "application/vnd.jupyter.widget-view+json": {
       "model_id": "bbfd2542925d4484835c851bafcff561",
       "version_major": 2,
       "version_minor": 0
      },
      "text/plain": [
       "HBox(children=(IntProgress(value=0, description='training', max=500, style=ProgressStyle(description_width='in…"
      ]
     },
     "metadata": {},
     "output_type": "display_data"
    },
    {
     "name": "stdout",
     "output_type": "stream",
     "text": [
      "[2020-09-02 16:37:08,521] INFO - scvi.inference.trainer | Reducing LR on epoch 490.\n",
      "\n"
     ]
    },
    {
     "data": {
      "application/vnd.jupyter.widget-view+json": {
       "model_id": "5c9ec98ea5ce407499f426e224f70f2e",
       "version_major": 2,
       "version_minor": 0
      },
      "text/plain": [
       "HBox(children=(IntProgress(value=0, description='training', max=500, style=ProgressStyle(description_width='in…"
      ]
     },
     "metadata": {},
     "output_type": "display_data"
    },
    {
     "name": "stdout",
     "output_type": "stream",
     "text": [
      "[2020-09-02 16:46:01,685] INFO - scvi.inference.trainer | Reducing LR on epoch 487.\n",
      "\n"
     ]
    },
    {
     "data": {
      "application/vnd.jupyter.widget-view+json": {
       "model_id": "352b4576537a4854814a47dcc80c3744",
       "version_major": 2,
       "version_minor": 0
      },
      "text/plain": [
       "HBox(children=(IntProgress(value=0, description='training', max=500, style=ProgressStyle(description_width='in…"
      ]
     },
     "metadata": {},
     "output_type": "display_data"
    },
    {
     "name": "stdout",
     "output_type": "stream",
     "text": [
      "[2020-09-02 16:52:41,767] INFO - scvi.inference.trainer | Reducing LR on epoch 356.\n",
      "[2020-09-02 16:53:35,138] INFO - scvi.inference.trainer | Reducing LR on epoch 410.\n",
      "[2020-09-02 16:54:19,810] INFO - scvi.inference.trainer | Reducing LR on epoch 449.\n",
      "[2020-09-02 16:54:50,990] INFO - scvi.inference.trainer | Reducing LR on epoch 482.\n",
      "\n"
     ]
    },
    {
     "data": {
      "application/vnd.jupyter.widget-view+json": {
       "model_id": "43f5bb41fdc54750af190f6e4f782fea",
       "version_major": 2,
       "version_minor": 0
      },
      "text/plain": [
       "HBox(children=(IntProgress(value=0, description='training', max=500, style=ProgressStyle(description_width='in…"
      ]
     },
     "metadata": {},
     "output_type": "display_data"
    },
    {
     "name": "stdout",
     "output_type": "stream",
     "text": [
      "[2020-09-02 17:01:29,401] INFO - scvi.inference.trainer | Reducing LR on epoch 361.\n",
      "[2020-09-02 17:02:11,021] INFO - scvi.inference.trainer | Reducing LR on epoch 400.\n",
      "[2020-09-02 17:03:55,436] INFO - scvi.inference.trainer | Reducing LR on epoch 494.\n",
      "\n"
     ]
    },
    {
     "data": {
      "application/vnd.jupyter.widget-view+json": {
       "model_id": "c590d3010eee41059c32ce295cf5d846",
       "version_major": 2,
       "version_minor": 0
      },
      "text/plain": [
       "HBox(children=(IntProgress(value=0, description='training', max=500, style=ProgressStyle(description_width='in…"
      ]
     },
     "metadata": {},
     "output_type": "display_data"
    },
    {
     "name": "stdout",
     "output_type": "stream",
     "text": [
      "[2020-09-02 17:09:41,492] INFO - scvi.inference.trainer | Reducing LR on epoch 306.\n",
      "\n"
     ]
    },
    {
     "data": {
      "application/vnd.jupyter.widget-view+json": {
       "model_id": "63a6471dcb124eb8a2621bc2f1f40931",
       "version_major": 2,
       "version_minor": 0
      },
      "text/plain": [
       "HBox(children=(IntProgress(value=0, description='training', max=500, style=ProgressStyle(description_width='in…"
      ]
     },
     "metadata": {},
     "output_type": "display_data"
    },
    {
     "name": "stdout",
     "output_type": "stream",
     "text": [
      "[2020-09-02 17:18:24,037] INFO - scvi.inference.trainer | Reducing LR on epoch 284.\n",
      "[2020-09-02 17:20:18,783] INFO - scvi.inference.trainer | Reducing LR on epoch 384.\n",
      "[2020-09-02 17:21:08,932] INFO - scvi.inference.trainer | Reducing LR on epoch 427.\n",
      "[2020-09-02 17:21:26,056] INFO - scvi.inference.trainer | \n",
      "Stopping early: no improvement of more than 0 nats in 45 epochs\n",
      "[2020-09-02 17:21:26,057] INFO - scvi.inference.trainer | If the early stopping criterion is too strong, please instantiate it with different parameters in the train method.\n"
     ]
    },
    {
     "data": {
      "application/vnd.jupyter.widget-view+json": {
       "model_id": "c364bf319147407dba737d9759b05306",
       "version_major": 2,
       "version_minor": 0
      },
      "text/plain": [
       "HBox(children=(IntProgress(value=0, description='training', max=500, style=ProgressStyle(description_width='in…"
      ]
     },
     "metadata": {},
     "output_type": "display_data"
    },
    {
     "name": "stdout",
     "output_type": "stream",
     "text": [
      "[2020-09-02 17:28:19,058] INFO - scvi.inference.trainer | Reducing LR on epoch 404.\n",
      "[2020-09-02 17:29:24,034] INFO - scvi.inference.trainer | Reducing LR on epoch 476.\n",
      "[2020-09-02 17:29:40,848] INFO - scvi.inference.trainer | \n",
      "Stopping early: no improvement of more than 0 nats in 45 epochs\n",
      "[2020-09-02 17:29:40,850] INFO - scvi.inference.trainer | If the early stopping criterion is too strong, please instantiate it with different parameters in the train method.\n"
     ]
    },
    {
     "data": {
      "application/vnd.jupyter.widget-view+json": {
       "model_id": "3d96443dd80c4fd89934675383abd2d8",
       "version_major": 2,
       "version_minor": 0
      },
      "text/plain": [
       "HBox(children=(IntProgress(value=0, description='training', max=500, style=ProgressStyle(description_width='in…"
      ]
     },
     "metadata": {},
     "output_type": "display_data"
    },
    {
     "name": "stdout",
     "output_type": "stream",
     "text": [
      "[2020-09-02 17:36:26,843] INFO - scvi.inference.trainer | Reducing LR on epoch 386.\n",
      "[2020-09-02 17:37:38,378] INFO - scvi.inference.trainer | Reducing LR on epoch 460.\n",
      "\n"
     ]
    },
    {
     "data": {
      "application/vnd.jupyter.widget-view+json": {
       "model_id": "f7c1ce21d9af4137bae145bad6240e35",
       "version_major": 2,
       "version_minor": 0
      },
      "text/plain": [
       "HBox(children=(IntProgress(value=0, description='training', max=500, style=ProgressStyle(description_width='in…"
      ]
     },
     "metadata": {},
     "output_type": "display_data"
    },
    {
     "name": "stdout",
     "output_type": "stream",
     "text": [
      "[2020-09-02 17:48:31,618] INFO - scvi.inference.trainer | Reducing LR on epoch 458.\n",
      "\n"
     ]
    },
    {
     "data": {
      "application/vnd.jupyter.widget-view+json": {
       "model_id": "e3f7f2a9ac714b8a811fed3eb1d78681",
       "version_major": 2,
       "version_minor": 0
      },
      "text/plain": [
       "HBox(children=(IntProgress(value=0, description='training', max=500, style=ProgressStyle(description_width='in…"
      ]
     },
     "metadata": {},
     "output_type": "display_data"
    },
    {
     "name": "stdout",
     "output_type": "stream",
     "text": [
      "[2020-09-02 17:57:06,866] INFO - scvi.inference.trainer | Reducing LR on epoch 330.\n",
      "[2020-09-02 17:58:13,486] INFO - scvi.inference.trainer | Reducing LR on epoch 375.\n",
      "[2020-09-02 17:59:00,410] INFO - scvi.inference.trainer | Reducing LR on epoch 411.\n",
      "[2020-09-02 18:00:36,610] INFO - scvi.inference.trainer | Reducing LR on epoch 475.\n",
      "\n"
     ]
    },
    {
     "data": {
      "application/vnd.jupyter.widget-view+json": {
       "model_id": "744aeb115e6049169a285bbaecedbad7",
       "version_major": 2,
       "version_minor": 0
      },
      "text/plain": [
       "HBox(children=(IntProgress(value=0, description='training', max=500, style=ProgressStyle(description_width='in…"
      ]
     },
     "metadata": {},
     "output_type": "display_data"
    },
    {
     "name": "stdout",
     "output_type": "stream",
     "text": [
      "[2020-09-02 18:09:59,779] INFO - scvi.inference.trainer | Reducing LR on epoch 357.\n",
      "[2020-09-02 18:11:16,998] INFO - scvi.inference.trainer | Reducing LR on epoch 429.\n",
      "[2020-09-02 18:12:11,566] INFO - scvi.inference.trainer | Reducing LR on epoch 480.\n",
      "[2020-09-02 18:12:27,614] INFO - scvi.inference.trainer | \n",
      "Stopping early: no improvement of more than 0 nats in 45 epochs\n",
      "[2020-09-02 18:12:27,616] INFO - scvi.inference.trainer | If the early stopping criterion is too strong, please instantiate it with different parameters in the train method.\n"
     ]
    },
    {
     "data": {
      "application/vnd.jupyter.widget-view+json": {
       "model_id": "96ce707b5f1a4c43808d76f7cfc4ea79",
       "version_major": 2,
       "version_minor": 0
      },
      "text/plain": [
       "HBox(children=(IntProgress(value=0, description='training', max=500, style=ProgressStyle(description_width='in…"
      ]
     },
     "metadata": {},
     "output_type": "display_data"
    },
    {
     "name": "stdout",
     "output_type": "stream",
     "text": [
      "[2020-09-02 18:20:52,559] INFO - scvi.inference.trainer | Reducing LR on epoch 427.\n",
      "[2020-09-02 18:21:53,632] INFO - scvi.inference.trainer | Reducing LR on epoch 467.\n",
      "\n"
     ]
    }
   ],
   "source": [
    "vae_pbmcs = {}\n",
    "vae_malts = {}\n",
    "vae_slns = {}\n",
    "\n",
    "for n, r in zip([\"Dim(z) = 5\", \"Dim(z) = 10\", \"Dim(z) = 20\", \"Dim(z) = 100\"], [5, 10, 20, 100]):\n",
    "    vae_pbmcs[n] = TOTALVI(dataset_pbmc.nb_genes, len(dataset_pbmc.protein_names), n_latent=r)\n",
    "    vae_malts[n] = TOTALVI(dataset_malt.nb_genes, len(dataset_malt.protein_names), n_latent=r)\n",
    "    vae_slns[n] = TOTALVI(dataset_sln.nb_genes, len(dataset_sln.protein_names), n_latent=r)\n",
    "\n",
    "trainer_pbmcs = {}\n",
    "trainer_malts = {}\n",
    "trainer_slns = {}\n",
    "             \n",
    "for key, val in vae_pbmcs.items():\n",
    "    t = TotalTrainer(\n",
    "        val,\n",
    "        dataset_pbmc,\n",
    "        train_size=0.80,\n",
    "        test_size=0.05,\n",
    "        use_cuda=use_cuda,\n",
    "        frequency=1,\n",
    "        data_loader_kwargs={\"batch_size\":256, \"pin_memory\": False},\n",
    "        early_stopping_kwargs=early_stopping_kwargs,\n",
    "    )\n",
    "    trainer_pbmcs[key] = t\n",
    "    t.train(lr=lr, n_epochs=500)\n",
    "\n",
    "for key, val in vae_malts.items():\n",
    "    t = TotalTrainer(\n",
    "        val,\n",
    "        dataset_malt,\n",
    "        train_size=0.80,\n",
    "        test_size=0.05,\n",
    "        use_cuda=use_cuda,\n",
    "        frequency=1,\n",
    "        data_loader_kwargs={\"batch_size\":256, \"pin_memory\": False},\n",
    "        early_stopping_kwargs=early_stopping_kwargs,\n",
    "    )\n",
    "    trainer_malts[key] = t\n",
    "    t.train(lr=lr, n_epochs=500)\n",
    "\n",
    "             \n",
    "for key, val in vae_slns.items():\n",
    "    t = TotalTrainer(\n",
    "        val,\n",
    "        dataset_sln,\n",
    "        train_size=0.80,\n",
    "        test_size=0.05,\n",
    "        use_cuda=use_cuda,\n",
    "        frequency=1,\n",
    "        data_loader_kwargs={\"batch_size\":256, \"pin_memory\": False},\n",
    "        early_stopping_kwargs=early_stopping_kwargs,\n",
    "    )\n",
    "    trainer_slns[key] = t\n",
    "    t.train(lr=lr, n_epochs=500)\n"
   ]
  },
  {
   "cell_type": "code",
   "execution_count": 7,
   "metadata": {},
   "outputs": [],
   "source": [
    "post_pbmc = {k : t.train_set for k, t in trainer_pbmcs.items()}\n",
    "post_malt = {k : t.train_set for k, t in trainer_malts.items()}\n",
    "post_sln = {k : t.train_set for k, t in trainer_slns.items()}"
   ]
  },
  {
   "cell_type": "code",
   "execution_count": null,
   "metadata": {},
   "outputs": [],
   "source": [
    "ppc_held_pbmc = totalPPC(\n",
    "    posteriors_dict={k : t.validation_set for k, t in trainer_pbmcs.items()},\n",
    "    n_samples=150,\n",
    ")\n",
    "ppc_full_pbmc = totalPPC(\n",
    "    posteriors_dict=post_pbmc,\n",
    "    n_samples=25,\n",
    ")\n",
    "ppc_held_malt = totalPPC(\n",
    "    posteriors_dict={k : t.validation_set for k, t in trainer_malts.items()},\n",
    "    n_samples=150,\n",
    ")\n",
    "ppc_full_malt = totalPPC(\n",
    "    posteriors_dict=post_malt,\n",
    "    n_samples=25,\n",
    ")\n",
    "\n",
    "ppc_held_sln = totalPPC(\n",
    "    posteriors_dict={k : t.validation_set for k, t in trainer_slns.items()},\n",
    "    n_samples=150,\n",
    ")\n",
    "ppc_full_sln = totalPPC(\n",
    "    posteriors_dict=post_sln,\n",
    "    n_samples=25,\n",
    ")"
   ]
  },
  {
   "cell_type": "code",
   "execution_count": null,
   "metadata": {},
   "outputs": [],
   "source": [
    "ppc_helds = [ppc_held_pbmc, ppc_held_malt, ppc_held_sln]"
   ]
  },
  {
   "cell_type": "code",
   "execution_count": null,
   "metadata": {},
   "outputs": [],
   "source": [
    "for p in ppc_helds:\n",
    "    p.mean_absolute_error()"
   ]
  },
  {
   "cell_type": "code",
   "execution_count": null,
   "metadata": {},
   "outputs": [],
   "source": [
    "for p in ppc_helds:\n",
    "    print(p.metrics[\"mean_ae\"])"
   ]
  },
  {
   "cell_type": "code",
   "execution_count": 12,
   "metadata": {},
   "outputs": [],
   "source": [
    "for p in ppc_helds:\n",
    "    p.calibration_error(confidence_intervals=[0.5, 99.5])"
   ]
  },
  {
   "cell_type": "code",
   "execution_count": 13,
   "metadata": {},
   "outputs": [
    {
     "data": {
      "text/html": [
       "<div>\n",
       "<style scoped>\n",
       "    .dataframe tbody tr th:only-of-type {\n",
       "        vertical-align: middle;\n",
       "    }\n",
       "\n",
       "    .dataframe tbody tr th {\n",
       "        vertical-align: top;\n",
       "    }\n",
       "\n",
       "    .dataframe thead th {\n",
       "        text-align: right;\n",
       "    }\n",
       "</style>\n",
       "<table border=\"1\" class=\"dataframe\">\n",
       "  <thead>\n",
       "    <tr style=\"text-align: right;\">\n",
       "      <th></th>\n",
       "      <th>Dim(z) = 5</th>\n",
       "      <th>Dim(z) = 10</th>\n",
       "      <th>Dim(z) = 20</th>\n",
       "      <th>Dim(z) = 100</th>\n",
       "    </tr>\n",
       "  </thead>\n",
       "  <tbody>\n",
       "    <tr>\n",
       "      <td>genes</td>\n",
       "      <td>0.000039</td>\n",
       "      <td>0.000039</td>\n",
       "      <td>0.000040</td>\n",
       "      <td>0.000040</td>\n",
       "    </tr>\n",
       "    <tr>\n",
       "      <td>proteins</td>\n",
       "      <td>0.000026</td>\n",
       "      <td>0.000071</td>\n",
       "      <td>0.000019</td>\n",
       "      <td>0.000016</td>\n",
       "    </tr>\n",
       "    <tr>\n",
       "      <td>total</td>\n",
       "      <td>0.000039</td>\n",
       "      <td>0.000039</td>\n",
       "      <td>0.000039</td>\n",
       "      <td>0.000040</td>\n",
       "    </tr>\n",
       "  </tbody>\n",
       "</table>\n",
       "</div>"
      ],
      "text/plain": [
       "          Dim(z) = 5  Dim(z) = 10  Dim(z) = 20  Dim(z) = 100\n",
       "genes       0.000039     0.000039     0.000040      0.000040\n",
       "proteins    0.000026     0.000071     0.000019      0.000016\n",
       "total       0.000039     0.000039     0.000039      0.000040"
      ]
     },
     "execution_count": 13,
     "metadata": {},
     "output_type": "execute_result"
    }
   ],
   "source": [
    "ppc_held_pbmc.metrics[\"calibration\"]"
   ]
  },
  {
   "cell_type": "code",
   "execution_count": 14,
   "metadata": {},
   "outputs": [],
   "source": [
    "def ppc_bar_plots(key=\"mean_ae\"):\n",
    "#     cols = [\"totalVI\", \"totalVI\", \"FA (Log Rate)\", \"FA (Log)\"]\n",
    "    fig, ax = plt.subplots(2, 2, figsize=(9, 9))\n",
    "    mae_genes = pd.DataFrame(\n",
    "        columns=ppc_held_pbmc.metrics[key].columns, index=[\"PBMC\", \"MALT\", \"SLN111-D1\"]\n",
    "    )\n",
    "    mae_genes.loc[\"PBMC\", :] = ppc_held_pbmc.metrics[key].loc[\"genes\"]\n",
    "    mae_genes.loc[\"MALT\", :] = ppc_held_malt.metrics[key].loc[\"genes\"]\n",
    "    mae_genes.loc[\"SLN111-D1\", :] = ppc_held_sln.metrics[key].loc[\"genes\"]\n",
    "    mae_proteins = pd.DataFrame(\n",
    "        columns=ppc_held_pbmc.metrics[key].columns, index=[\"PBMC\", \"MALT\", \"SLN111-D1\"]\n",
    "    )\n",
    "    mae_proteins.loc[\"PBMC\", :] = ppc_held_pbmc.metrics[\"mean_ae\"].loc[\"proteins\"]\n",
    "    mae_proteins.loc[\"MALT\", :] = ppc_held_malt.metrics[\"mean_ae\"].loc[\"proteins\"]\n",
    "    mae_proteins.loc[\"SLN111-D1\", :] = ppc_held_sln.metrics[\"mean_ae\"].loc[\"proteins\"]\n",
    "\n",
    "\n",
    "#     mae_genes[cols].plot(kind=\"bar\", ax=ax.flat[0], legend=False, color=colors)\n",
    "    mae_genes.plot(kind=\"bar\", ax=ax.flat[0], legend=False, color=colors)\n",
    "    print(mae_proteins)\n",
    "    mae_proteins.plot(kind=\"bar\", ax=ax.flat[1], legend=False, color=colors)\n",
    "\n",
    "    cal_genes = pd.DataFrame(\n",
    "        columns=ppc_held_pbmc.metrics[key].columns, index=[\"PBMC\", \"MALT\", \"SLN111-D1\"]\n",
    "    )\n",
    "    cal_genes.loc[\"PBMC\", :] = ppc_held_pbmc.metrics[\"calibration\"].loc[\"genes\"]\n",
    "    cal_genes.loc[\"MALT\", :] = ppc_held_malt.metrics[\"calibration\"].loc[\"genes\"]\n",
    "    cal_genes.loc[\"SLN111-D1\", :] = ppc_held_sln.metrics[\"calibration\"].loc[\"genes\"]\n",
    "    cal_proteins = cal_genes.copy()\n",
    "    cal_proteins.loc[\"PBMC\", :] = ppc_held_pbmc.metrics[\"calibration\"].loc[\"proteins\"]\n",
    "    cal_proteins.loc[\"MALT\", :] = ppc_held_malt.metrics[\"calibration\"].loc[\"proteins\"]\n",
    "    cal_proteins.loc[\"SLN111-D1\", :] = ppc_held_sln.metrics[\"calibration\"].loc[\"proteins\"]\n",
    "\n",
    "    print(cal_proteins)\n",
    "#     cal_genes[cols].plot(kind=\"bar\", ax=ax.flat[2], legend=False, color=colors)\n",
    "    cal_genes.plot(kind=\"bar\", ax=ax.flat[2], legend=False, color=colors)\n",
    "    cal_proteins.plot(kind=\"bar\", ax=ax.flat[3], legend=False, color=colors)\n",
    "\n",
    "#     ax.flat[0].set_yscale('log')\n",
    "    ax.flat[1].set_yscale('log')\n",
    "#     ax.flat[2].set_yscale('log')\n",
    "    ax.flat[3].set_yscale('log')\n",
    "\n",
    "\n",
    "    ax.flat[2].legend(fancybox=True, shadow=True, bbox_to_anchor=(0.1, -0.4))\n",
    "    for a in ax.flat:\n",
    "        a.tick_params(axis=\"x\", rotation=0)\n",
    "    ax.flat[0].set_title(\"Genes\")\n",
    "    ax.flat[1].set_title(\"Proteins\")\n",
    "    ax.flat[0].set_ylabel(\"Mean Absolute Error\")\n",
    "    ax.flat[2].set_ylabel(\"Calibration Error\")\n",
    "    sns.despine()\n",
    "    "
   ]
  },
  {
   "cell_type": "code",
   "execution_count": 15,
   "metadata": {},
   "outputs": [
    {
     "name": "stdout",
     "output_type": "stream",
     "text": [
      "          Dim(z) = 5 Dim(z) = 10 Dim(z) = 20 Dim(z) = 100\n",
      "PBMC         164.093     152.853     152.685      158.651\n",
      "MALT         123.016     110.743     110.012      118.707\n",
      "SLN111-D1     9.5055     8.20306     8.01883      7.96221\n",
      "            Dim(z) = 5  Dim(z) = 10  Dim(z) = 20 Dim(z) = 100\n",
      "PBMC       2.57843e-05  7.07787e-05  1.92106e-05  1.57299e-05\n",
      "MALT       3.20827e-05  1.94572e-05  2.97604e-05  1.88478e-05\n",
      "SLN111-D1  5.52384e-06  2.94269e-06  2.20925e-06  1.35875e-06\n"
     ]
    },
    {
     "data": {
      "image/png": "[encoded data removed]",
      "text/plain": [
       "<Figure size 648x648 with 4 Axes>"
      ]
     },
     "metadata": {
      "needs_background": "light"
     },
     "output_type": "display_data"
    }
   ],
   "source": [
    "ppc_bar_plots(key=\"mean_ae\")\n",
    "plt.tight_layout()\n",
    "plt.savefig(\"figures/totalvi_nlatent/mae_cal.pdf\")"
   ]
  },
  {
   "cell_type": "code",
   "execution_count": 16,
   "metadata": {},
   "outputs": [],
   "source": [
    "for p in ppc_helds:\n",
    "    del p"
   ]
  },
  {
   "cell_type": "code",
   "execution_count": 17,
   "metadata": {},
   "outputs": [],
   "source": [
    "# del p for p in ppc_helds\n",
    "ppc_fulls = [ppc_full_pbmc, ppc_full_malt, ppc_full_sln]"
   ]
  },
  {
   "cell_type": "code",
   "execution_count": null,
   "metadata": {},
   "outputs": [
    {
     "name": "stderr",
     "output_type": "stream",
     "text": [
      "../utils/totalppc.py:115: RuntimeWarning: invalid value encountered in true_divide\n",
      "  np.std(samples, axis=axis) / np.mean(samples, axis=axis), axis=-1\n"
     ]
    }
   ],
   "source": [
    "# Runtime warning is when samples have all zeros, we consider this as 0 cv\n",
    "for p in ppc_fulls:\n",
    "    p.coeff_of_variation(cell_wise=False)"
   ]
  },
  {
   "cell_type": "code",
   "execution_count": 19,
   "metadata": {},
   "outputs": [],
   "source": [
    "cv_gene_mae_pbmc, cv_gene_mae_malt, cv_gene_mae_sln = {}, {}, {}\n",
    "cv_pro_mae_pbmc, cv_pro_mae_malt, cv_pro_mae_sln = {}, {}, {}\n",
    "cv_gene_maes = [cv_gene_mae_pbmc, cv_gene_mae_malt, cv_gene_mae_sln]\n",
    "cv_pro_maes = [cv_pro_mae_pbmc, cv_pro_mae_malt, cv_pro_mae_sln]\n",
    "\n",
    "for p, dataset, cv_gene_mae, cv_pro_mae in zip(ppc_fulls, datasets, cv_gene_maes, cv_pro_maes):\n",
    "    for m, samples in p.posterior_predictive_samples.items():\n",
    "        cv_gene_mae[m] = [np.mean(\n",
    "            np.abs(\n",
    "                p.metrics[\"cv_gene\"][m].iloc[: dataset.nb_genes]\n",
    "                - p.metrics[\"cv_gene\"][\"raw\"].iloc[: dataset.nb_genes]\n",
    "            )\n",
    "        )]\n",
    "        cv_pro_mae[m] = [np.mean(\n",
    "            np.abs(\n",
    "                p.metrics[\"cv_gene\"][m].iloc[dataset.nb_genes:]\n",
    "                - p.metrics[\"cv_gene\"][\"raw\"].iloc[dataset.nb_genes:]\n",
    "            )\n",
    "        )]\n",
    "    p.metrics[\"cv_gene_mae\"] = pd.DataFrame.from_dict(cv_gene_mae)\n",
    "    p.metrics[\"cv_pro_mae\"] = pd.DataFrame.from_dict(cv_pro_mae)"
   ]
  },
  {
   "cell_type": "code",
   "execution_count": 20,
   "metadata": {},
   "outputs": [
    {
     "data": {
      "text/plain": [
       "Dim(z) = 5      0\n",
       "Dim(z) = 10     0\n",
       "Dim(z) = 20     0\n",
       "Dim(z) = 100    0\n",
       "dtype: int64"
      ]
     },
     "execution_count": 20,
     "metadata": {},
     "output_type": "execute_result"
    }
   ],
   "source": [
    "(p.metrics[\"cv_gene_mae\"].iloc[: dataset.nb_genes] == 0).sum(axis=0)"
   ]
  },
  {
   "cell_type": "code",
   "execution_count": 21,
   "metadata": {},
   "outputs": [
    {
     "name": "stdout",
     "output_type": "stream",
     "text": [
      "[[0.66 0.64 0.71 0.72]]\n",
      "[['0.66' '0.64' '0.71' '0.72' '--']]\n",
      "[[1.64 1.41 1.42 1.44]]\n",
      "[['1.64' '1.41' '1.42' '1.44' '--']]\n",
      "[[1.04 1.09 1.17 1.13]]\n",
      "[['1.04' '1.09' '1.17' '1.13' '--']]\n"
     ]
    },
    {
     "data": {
      "image/png": "[encoded data removed]",
      "text/plain": [
       "<Figure size 648x900 with 6 Axes>"
      ]
     },
     "metadata": {
      "needs_background": "light"
     },
     "output_type": "display_data"
    }
   ],
   "source": [
    "fig, ax = plt.subplots(3, 2, figsize=(9, 12.5), sharex=False)\n",
    "inds = [0, 2, 4]\n",
    "for i, p, dataset in zip(inds, ppc_fulls, datasets):\n",
    "    gene_table = np.round(p.metrics[\"cv_gene_mae\"].values, 2)\n",
    "    print(gene_table)\n",
    "    gene_table = np.concatenate([gene_table, np.array([\"--\"]).reshape(1, 1)], axis=1)\n",
    "    print(gene_table)\n",
    "    pro_table = np.round(p.metrics[\"cv_pro_mae\"].values, 2)\n",
    "    pro_table = np.concatenate([pro_table, np.array([\"--\"]).reshape(1, 1)], axis=1)\n",
    "    sns.set_palette(colors)\n",
    "    sns.violinplot(\n",
    "        data=p.metrics[\"cv_gene\"].iloc[: dataset.nb_genes],\n",
    "        ax=ax.flat[i],\n",
    "        cut=0,\n",
    "        scale=\"count\",\n",
    "#         order=[\"totalVI\", \"scVI\", \"FA (Log)\", \"FA (Log Rate)\", \"raw\"]\n",
    "    )\n",
    "    the_table = ax.flat[i].table(\n",
    "        cellText=gene_table, rowLabels=[\"MAE\"], loc=\"top\", cellLoc=\"center\"\n",
    "    )\n",
    "    the_table.scale(1, 2)\n",
    "    the_table.set_fontsize(12)\n",
    "    \n",
    "    sns.set_palette(colors)\n",
    "    sns.violinplot(\n",
    "        data=p.metrics[\"cv_gene\"].iloc[dataset.nb_genes :],\n",
    "        ax=ax.flat[i + 1],\n",
    "        cut=0,\n",
    "        scale=\"count\",\n",
    "#         order=[\"totalVI\", \"FA (Log)\", \"FA (Log Rate)\", \"raw\"]\n",
    "    )\n",
    "    the_table = ax.flat[i + 1].table(\n",
    "        cellText=pro_table,\n",
    "        loc=\"top\",\n",
    "        cellLoc=\"center\",\n",
    "        rowLabels=[\"MAE\"],\n",
    "    )\n",
    "    the_table.scale(1, 2)\n",
    "    the_table.set_fontsize(12)\n",
    "\n",
    "title = ax.flat[0].set_title(\"Coefficient of Variation (Genes)\")\n",
    "title.set_position([0.5, 1.15])\n",
    "title = ax.flat[1].set_title(\"Coefficient of Variation (Proteins)\")\n",
    "title.set_position([0.5, 1.15])\n",
    "ax.flat[1].set_ylim(0, 29)\n",
    "ax.flat[0].set_xticklabels([])\n",
    "ax.flat[1].set_xticklabels([])\n",
    "ax.flat[2].set_xticklabels([])\n",
    "ax.flat[3].set_xticklabels([])\n",
    "ax.flat[4].tick_params(axis=\"x\", rotation=45)\n",
    "ax.flat[5].tick_params(axis=\"x\", rotation=45)\n",
    "ax.flat[0].set_ylabel(\"PBMC10k\", labelpad=30)\n",
    "ax.flat[2].set_ylabel(\"MALT\", labelpad=22)\n",
    "ax.flat[4].set_ylabel(\"SLN111-D1\", labelpad=22)\n",
    "# sns.despine()\n",
    "\n",
    "# plt.tight_layout()\n",
    "plt.savefig(\"figures/totalvi_nlatent/violins_cv.pdf\", bbox_inches=\"tight\")"
   ]
  },
  {
   "cell_type": "code",
   "execution_count": null,
   "metadata": {},
   "outputs": [],
   "source": []
  }
 ],
 "metadata": {
  "kernelspec": {
   "display_name": "scvi",
   "language": "python",
   "name": "scvi"
  },
  "language_info": {
   "codemirror_mode": {
    "name": "ipython",
    "version": 3
   },
   "file_extension": ".py",
   "mimetype": "text/x-python",
   "name": "python",
   "nbconvert_exporter": "python",
   "pygments_lexer": "ipython3",
   "version": "3.7.3"
  },
  "toc": {
   "base_numbering": 1,
   "nav_menu": {},
   "number_sections": true,
   "sideBar": true,
   "skip_h1_title": false,
   "title_cell": "Table of Contents",
   "title_sidebar": "Contents",
   "toc_cell": false,
   "toc_position": {},
   "toc_section_display": true,
   "toc_window_display": true
  }
 },
 "nbformat": 4,
 "nbformat_minor": 4
}
