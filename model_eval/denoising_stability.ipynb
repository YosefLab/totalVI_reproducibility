{
 "cells": [
  {
   "cell_type": "markdown",
   "metadata": {},
   "source": [
    "## PPC"
   ]
  },
  {
   "cell_type": "code",
   "execution_count": 1,
   "metadata": {
    "scrolled": true
   },
   "outputs": [],
   "source": [
    "import sys\n",
    "import scipy.io\n",
    "import matplotlib.pyplot as plt\n",
    "import matplotlib.gridspec as gridspec\n",
    "import seaborn as sns\n",
    "import numpy as np\n",
    "import pandas as pd\n",
    "import torch\n",
    "\n",
    "import scvi\n",
    "from scvi.dataset import GeneExpressionDataset, CellMeasurement, AnnDatasetFromAnnData\n",
    "from scvi.models import VAE, TOTALVI\n",
    "from scvi.inference import TotalPosterior, TotalTrainer, Posterior, UnsupervisedTrainer\n",
    "\n",
    "import anndata\n",
    "import scanpy as sc\n",
    "import umap\n",
    "import sparse\n",
    "\n",
    "sns.set(context=\"notebook\", font_scale=1.3, style=\"ticks\")\n",
    "save_path = \"/data/yosef2/users/adamgayoso/projects/totalVI_journal/data/\"\n",
    "plt.rcParams['svg.fonttype'] = 'none'\n",
    "plt.rcParams['pdf.fonttype'] = 42\n",
    "%load_ext autoreload\n",
    "%autoreload 2\n",
    "%matplotlib inline\n",
    "overwrite=False\n",
    "\n",
    "sys.path.append(\"../utils/\")\n",
    "from totalppc import TotalPosteriorPredictiveCheck as totalPPC\n",
    "from scvi import set_seed\n",
    "\n",
    "# colors = [\"#9b59b6\", \"#3498db\", \"#95a5a6\", \"#34495e\", \"#e74c3c\", \"#2ecc71\"]\n",
    "# colors_3 = [\"#9b59b6\", \"#95a5a6\", \"#34495e\", \"#e74c3c\", \"#2ecc71\"]\n",
    "\n",
    "colors = [\"#3B7EA1\", \"#FDB515\", \"#D9661F\", \"#859438\", \"#EE1F60\", \"#00A598\"]\n",
    "colors_3 = [\"#3B7EA1\", \"#D9661F\", \"#859438\", \"#EE1F60\", \"#00A598\"]\n",
    "\n",
    "set_seed(0)"
   ]
  },
  {
   "cell_type": "code",
   "execution_count": 2,
   "metadata": {},
   "outputs": [],
   "source": [
    "colors = [\"#3B7EA1\", \"#FDB515\", \"#D9661F\", \"#859438\", \"#EE1F60\", \"#00A598\"]\n",
    "sns.set(context=\"notebook\", font_scale=1.3, style=\"ticks\")\n",
    "sns.set_palette(sns.color_palette(colors))\n",
    "plt.rcParams['svg.fonttype'] = 'none'\n",
    "plt.rcParams['pdf.fonttype'] = 42\n",
    "plt.rcParams['savefig.transparent'] = True\n",
    "# plt.rcParams['figure.figsize'] = (4, 4)\n",
    "\n",
    "sc.settings._vector_friendly = True\n",
    "DPI = 300\n",
    "W_SPACE = 0.18"
   ]
  },
  {
   "cell_type": "code",
   "execution_count": 3,
   "metadata": {},
   "outputs": [],
   "source": [
    "anndataset_pbmc = anndata.read(save_path + \"pbmc_10k_protein_v3.h5ad\")"
   ]
  },
  {
   "cell_type": "code",
   "execution_count": 4,
   "metadata": {},
   "outputs": [
    {
     "name": "stdout",
     "output_type": "stream",
     "text": [
      "[2020-09-20 22:30:11,859] INFO - scvi.dataset.dataset | Remapping labels to [0,N]\n",
      "[2020-09-20 22:30:11,862] INFO - scvi.dataset.dataset | Remapping batch_indices to [0,N]\n",
      "[2020-09-20 22:30:12,043] INFO - scvi.dataset.dataset | Computing the library size for the new data\n",
      "[2020-09-20 22:30:12,225] INFO - scvi.dataset.dataset | Downsampled from 6855 to 6855 cells\n"
     ]
    }
   ],
   "source": [
    "dataset_pbmc = AnnDatasetFromAnnData(ad=anndataset_pbmc)\n",
    "protein_data = CellMeasurement(\n",
    "    name=\"protein_expression\",\n",
    "    data=anndataset_pbmc.obsm[\"protein_expression\"].astype(np.float32),\n",
    "    columns_attr_name=\"protein_names\",\n",
    "    columns=anndataset_pbmc.uns[\"protein_names\"],\n",
    ")\n",
    "dataset_pbmc.initialize_cell_measurement(protein_data)\n",
    "\n",
    "datasets = [dataset_pbmc]"
   ]
  },
  {
   "cell_type": "code",
   "execution_count": 5,
   "metadata": {},
   "outputs": [
    {
     "name": "stdout",
     "output_type": "stream",
     "text": [
      "[2020-09-20 22:30:12,265] INFO - scvi.dataset.dataset | Downsampling from 16727 to 4000 genes\n",
      "[2020-09-20 22:30:12,384] INFO - scvi.dataset.dataset | Computing the library size for the new data\n",
      "[2020-09-20 22:30:12,474] INFO - scvi.dataset.dataset | Filtering non-expressing cells.\n",
      "[2020-09-20 22:30:12,565] INFO - scvi.dataset.dataset | Computing the library size for the new data\n",
      "[2020-09-20 22:30:12,610] INFO - scvi.dataset.dataset | Downsampled from 6855 to 6855 cells\n"
     ]
    }
   ],
   "source": [
    "for d in datasets:\n",
    "    d.update_genes(d.var[\"highly_variable\"])"
   ]
  },
  {
   "cell_type": "code",
   "execution_count": 6,
   "metadata": {},
   "outputs": [],
   "source": [
    "use_cuda = True\n",
    "lr = 4e-3\n",
    "early_stopping_kwargs = {\n",
    "    \"early_stopping_metric\": \"elbo\",\n",
    "    \"save_best_state_metric\": \"elbo\",\n",
    "    \"patience\": 45,\n",
    "    \"threshold\": 0,\n",
    "    \"reduce_lr_on_plateau\": True,\n",
    "    \"lr_patience\": 30,\n",
    "    \"lr_factor\": 0.6,\n",
    "    \"posterior_class\": TotalPosterior,\n",
    "}"
   ]
  },
  {
   "cell_type": "code",
   "execution_count": null,
   "metadata": {},
   "outputs": [
    {
     "data": {
      "application/vnd.jupyter.widget-view+json": {
       "model_id": "6599f613bdba4714aafc3284ceed1d57",
       "version_major": 2,
       "version_minor": 0
      },
      "text/plain": [
       "HBox(children=(IntProgress(value=0, description='training', max=500, style=ProgressStyle(description_width='in…"
      ]
     },
     "metadata": {},
     "output_type": "display_data"
    },
    {
     "name": "stdout",
     "output_type": "stream",
     "text": [
      "[2020-09-20 22:39:56,880] INFO - scvi.inference.trainer | Reducing LR on epoch 471.\n",
      "\n"
     ]
    },
    {
     "data": {
      "application/vnd.jupyter.widget-view+json": {
       "model_id": "3b0920d1a79f42b99c5382d593f2ab82",
       "version_major": 2,
       "version_minor": 0
      },
      "text/plain": [
       "HBox(children=(IntProgress(value=0, description='training', max=500, style=ProgressStyle(description_width='in…"
      ]
     },
     "metadata": {},
     "output_type": "display_data"
    },
    {
     "name": "stdout",
     "output_type": "stream",
     "text": [
      "[2020-09-20 22:57:37,937] INFO - scvi.inference.trainer | Reducing LR on epoch 395.\n",
      "[2020-09-20 22:58:15,924] INFO - scvi.inference.trainer | Reducing LR on epoch 428.\n",
      "[2020-09-20 22:59:19,442] INFO - scvi.inference.trainer | Reducing LR on epoch 483.\n",
      "\n"
     ]
    },
    {
     "data": {
      "application/vnd.jupyter.widget-view+json": {
       "model_id": "aba74a5d9b484debbc3b77a1f825798c",
       "version_major": 2,
       "version_minor": 0
      },
      "text/plain": [
       "HBox(children=(IntProgress(value=0, description='training', max=500, style=ProgressStyle(description_width='in…"
      ]
     },
     "metadata": {},
     "output_type": "display_data"
    },
    {
     "name": "stdout",
     "output_type": "stream",
     "text": [
      "\n"
     ]
    },
    {
     "data": {
      "application/vnd.jupyter.widget-view+json": {
       "model_id": "d7bb67d1fbaf47e8979ffa36c1c06972",
       "version_major": 2,
       "version_minor": 0
      },
      "text/plain": [
       "HBox(children=(IntProgress(value=0, description='training', max=500, style=ProgressStyle(description_width='in…"
      ]
     },
     "metadata": {},
     "output_type": "display_data"
    },
    {
     "name": "stdout",
     "output_type": "stream",
     "text": [
      "[2020-09-20 23:16:15,513] INFO - scvi.inference.trainer | Reducing LR on epoch 364.\n",
      "\n"
     ]
    },
    {
     "data": {
      "application/vnd.jupyter.widget-view+json": {
       "model_id": "93121ae208d34089ad6d1ac384206373",
       "version_major": 2,
       "version_minor": 0
      },
      "text/plain": [
       "HBox(children=(IntProgress(value=0, description='training', max=500, style=ProgressStyle(description_width='in…"
      ]
     },
     "metadata": {},
     "output_type": "display_data"
    },
    {
     "name": "stdout",
     "output_type": "stream",
     "text": [
      "[2020-09-20 23:25:11,576] INFO - scvi.inference.trainer | Reducing LR on epoch 329.\n",
      "[2020-09-20 23:26:29,017] INFO - scvi.inference.trainer | Reducing LR on epoch 396.\n",
      "[2020-09-20 23:27:17,352] INFO - scvi.inference.trainer | Reducing LR on epoch 438.\n",
      "[2020-09-20 23:27:56,399] INFO - scvi.inference.trainer | Reducing LR on epoch 472.\n",
      "[2020-09-20 23:28:13,683] INFO - scvi.inference.trainer | \n",
      "Stopping early: no improvement of more than 0 nats in 45 epochs\n",
      "[2020-09-20 23:28:13,685] INFO - scvi.inference.trainer | If the early stopping criterion is too strong, please instantiate it with different parameters in the train method.\n"
     ]
    },
    {
     "data": {
      "application/vnd.jupyter.widget-view+json": {
       "model_id": "1b60c9954a78451fb32428a06819e77c",
       "version_major": 2,
       "version_minor": 0
      },
      "text/plain": [
       "HBox(children=(IntProgress(value=0, description='training', max=500, style=ProgressStyle(description_width='in…"
      ]
     },
     "metadata": {},
     "output_type": "display_data"
    },
    {
     "name": "stdout",
     "output_type": "stream",
     "text": [
      "[2020-09-20 23:35:43,795] INFO - scvi.inference.trainer | Reducing LR on epoch 389.\n",
      "[2020-09-20 23:37:02,214] INFO - scvi.inference.trainer | Reducing LR on epoch 457.\n",
      "\n"
     ]
    },
    {
     "data": {
      "application/vnd.jupyter.widget-view+json": {
       "model_id": "1be1aa2da80d49eb9b7ec55d7a5df595",
       "version_major": 2,
       "version_minor": 0
      },
      "text/plain": [
       "HBox(children=(IntProgress(value=0, description='training', max=500, style=ProgressStyle(description_width='in…"
      ]
     },
     "metadata": {},
     "output_type": "display_data"
    },
    {
     "name": "stdout",
     "output_type": "stream",
     "text": [
      "[2020-09-20 23:45:53,693] INFO - scvi.inference.trainer | Reducing LR on epoch 418.\n",
      "[2020-09-20 23:46:35,057] INFO - scvi.inference.trainer | Reducing LR on epoch 454.\n",
      "\n"
     ]
    },
    {
     "data": {
      "application/vnd.jupyter.widget-view+json": {
       "model_id": "750a14202b224762923a1d783c5af64a",
       "version_major": 2,
       "version_minor": 0
      },
      "text/plain": [
       "HBox(children=(IntProgress(value=0, description='training', max=500, style=ProgressStyle(description_width='in…"
      ]
     },
     "metadata": {},
     "output_type": "display_data"
    }
   ],
   "source": [
    "vaes = []\n",
    "trainers = {}\n",
    "posteriors = {}\n",
    "\n",
    "latent_dims = [5, 10, 20, 100]\n",
    "for n_latent in latent_dims:\n",
    "    trainers[n_latent] = []\n",
    "    posteriors[n_latent] = []\n",
    "    for i in range(5):\n",
    "        vae_pbmc = TOTALVI(\n",
    "            dataset_pbmc.nb_genes, len(dataset_pbmc.protein_names), n_latent=n_latent,\n",
    "        )\n",
    "        trainer_pbmc = TotalTrainer(\n",
    "            vae_pbmc,\n",
    "            dataset_pbmc,\n",
    "            train_size=0.80,\n",
    "            test_size=0.05,\n",
    "            use_cuda=use_cuda,\n",
    "            frequency=1,\n",
    "            data_loader_kwargs={\"batch_size\": 256, \"pin_memory\": False},\n",
    "            early_stopping_kwargs=early_stopping_kwargs,\n",
    "#             seed=i,\n",
    "        )\n",
    "        trainer_pbmc.train(lr=lr, n_epochs=500)\n",
    "        trainers[n_latent].append(trainer_pbmc)\n",
    "        posteriors[n_latent].append(\n",
    "            trainer_pbmc.create_posterior(type_class=TotalPosterior)\n",
    "        )\n",
    "        vaes.append(vae_pbmc)\n"
   ]
  },
  {
   "cell_type": "markdown",
   "metadata": {},
   "source": [
    "### Marginal LL"
   ]
  },
  {
   "cell_type": "code",
   "execution_count": null,
   "metadata": {},
   "outputs": [],
   "source": [
    "reconst_df = pd.DataFrame(index=np.arange(5), columns=latent_dims)\n",
    "\n",
    "for z_dim, t_list in trainers.items():\n",
    "    i = 0\n",
    "    for t in t_list:\n",
    "        reconst_df.loc[i, z_dim] = t.validation_set.marginal_ll(n_mc_samples=5000)\n",
    "#         reconst_df.loc[i, z_dim] = t.train_set.marginal_ll()\n",
    "        i += 1"
   ]
  },
  {
   "cell_type": "code",
   "execution_count": null,
   "metadata": {},
   "outputs": [],
   "source": [
    "reconst_df"
   ]
  },
  {
   "cell_type": "code",
   "execution_count": null,
   "metadata": {},
   "outputs": [],
   "source": [
    "fig, ax = plt.subplots(1, 1)\n",
    "sns.boxplot(data=-reconst_df)#, y=\"Marginal LL\", x=\"Dim(z)\")\n",
    "ax.set_xlabel(\"Number of latent dimensions\")\n",
    "ax.set_ylabel(r\"$\\log p(x, y)$\")\n",
    "sns.despine()\n",
    "fig.savefig(\"figures/log_lik_stability.pdf\", bbox_inches=\"tight\")\n",
    "\n",
    "# plt.tight_layout()\n",
    "# plt.savefig(\"figures/rec_error.pdf\")"
   ]
  },
  {
   "cell_type": "markdown",
   "metadata": {},
   "source": [
    "### UMAP test"
   ]
  },
  {
   "cell_type": "code",
   "execution_count": null,
   "metadata": {},
   "outputs": [],
   "source": [
    "latent_mean = posteriors[20][0].sequential().get_latent()[0]"
   ]
  },
  {
   "cell_type": "code",
   "execution_count": null,
   "metadata": {},
   "outputs": [],
   "source": [
    "anndataset_pbmc.obsm[\"X_totalVI\"] = latent_mean"
   ]
  },
  {
   "cell_type": "code",
   "execution_count": null,
   "metadata": {},
   "outputs": [],
   "source": [
    "from numba import jit\n",
    "\n",
    "@jit(nopython=True)\n",
    "def hellinger(x, y):\n",
    "    result = 0.0\n",
    "    l1_norm_x = 0.0\n",
    "    l1_norm_y = 0.0\n",
    "\n",
    "    for i in range(x.shape[0]):\n",
    "        result += np.sqrt(x[i] * y[i])\n",
    "        l1_norm_x += x[i]\n",
    "        l1_norm_y += y[i]\n",
    "\n",
    "    if l1_norm_x == 0 and l1_norm_y == 0:\n",
    "        return 0.0\n",
    "    elif l1_norm_x == 0 or l1_norm_y == 0:\n",
    "        return 1.0\n",
    "    else:\n",
    "        return np.sqrt(1 - result / np.sqrt(l1_norm_x * l1_norm_y))\n",
    "\n",
    "sc.pp.neighbors(anndataset_pbmc, use_rep=\"X_totalVI\", n_neighbors=25, metric=hellinger)\n",
    "sc.tl.umap(anndataset_pbmc, min_dist=0.3, n_components=2)\n",
    "sc.tl.leiden(anndataset_pbmc, key_added=\"leiden_totalVI\", resolution=0.7)"
   ]
  },
  {
   "cell_type": "code",
   "execution_count": null,
   "metadata": {},
   "outputs": [],
   "source": [
    "fig = sc.pl.umap(\n",
    "    anndataset_pbmc, \n",
    "    color=[\"leiden_totalVI\"],\n",
    "    return_fig=True,\n",
    "    frameon=False\n",
    ")\n"
   ]
  },
  {
   "cell_type": "markdown",
   "metadata": {},
   "source": [
    "### Denoising stability"
   ]
  },
  {
   "cell_type": "code",
   "execution_count": null,
   "metadata": {},
   "outputs": [],
   "source": [
    "def sigmoid(x):\n",
    "    return 1 / (1 + np.exp(-x))\n",
    "\n",
    "\n",
    "n_samples = 25\n",
    "\n",
    "\n",
    "foreground_prob = {}\n",
    "\n",
    "for z_dim, p_list in posteriors.items():\n",
    "    i = 0\n",
    "    foreground_prob[z_dim] = []\n",
    "    for post in p_list:\n",
    "        # Probability of background\n",
    "        py_mixing = np.mean(\n",
    "            sigmoid(\n",
    "                post.sequential().get_sample_mixing(\n",
    "                    n_samples=n_samples, give_mean=False,\n",
    "                )\n",
    "            ),\n",
    "            axis=-1,\n",
    "        )\n",
    "        foreground_prob[z_dim].append(1 - py_mixing)"
   ]
  },
  {
   "cell_type": "code",
   "execution_count": null,
   "metadata": {},
   "outputs": [],
   "source": [
    "ground_truth = foreground_prob[10][0]\n",
    "ground_truth.shape"
   ]
  },
  {
   "cell_type": "code",
   "execution_count": null,
   "metadata": {},
   "outputs": [],
   "source": [
    "from scipy.stats import spearmanr, pearsonr\n",
    "\n",
    "corrs = {}\n",
    "bad_pros = []\n",
    "for z_dim, fp_list in foreground_prob.items():\n",
    "    corrs[z_dim] = []\n",
    "    for fp in fp_list:\n",
    "        for j in range(fp.shape[1]):\n",
    "            corr, _ = pearsonr(fp[:, j], ground_truth[:, j])\n",
    "            if corr < 0.8:\n",
    "                bad_pros.append(anndataset_pbmc.uns[\"protein_names\"][j])\n",
    "            corrs[z_dim].append(corr)"
   ]
  },
  {
   "cell_type": "code",
   "execution_count": null,
   "metadata": {},
   "outputs": [],
   "source": [
    "import collections\n",
    "\n",
    "collections.Counter(bad_pros)"
   ]
  },
  {
   "cell_type": "code",
   "execution_count": null,
   "metadata": {},
   "outputs": [],
   "source": [
    "protein_df = pd.DataFrame(\n",
    "    np.log1p(anndataset_pbmc.obsm[\"protein_expression\"].copy()),\n",
    "    columns=anndataset_pbmc.uns[\"protein_names\"],\n",
    ")"
   ]
  },
  {
   "cell_type": "code",
   "execution_count": null,
   "metadata": {},
   "outputs": [],
   "source": [
    "plt.hist(protein_df[\"CD15_TotalSeqB\"], bins=20)"
   ]
  },
  {
   "cell_type": "code",
   "execution_count": null,
   "metadata": {},
   "outputs": [],
   "source": [
    "df = pd.DataFrame(corrs)\n",
    "fig, ax = plt.subplots()\n",
    "sns.boxplot(data=df)\n",
    "ax.set_xlabel(\"Number of latent dimensions\")\n",
    "ax.set_ylabel(\"Pearson correlation of \" + r\"$\\pi_{nt}$\")\n",
    "sns.despine()\n",
    "fig.savefig(\"figures/denoising_stability.pdf\", bbox_inches=\"tight\")"
   ]
  },
  {
   "cell_type": "code",
   "execution_count": null,
   "metadata": {},
   "outputs": [],
   "source": [
    "test=1"
   ]
  },
  {
   "cell_type": "code",
   "execution_count": null,
   "metadata": {},
   "outputs": [],
   "source": []
  }
 ],
 "metadata": {
  "kernelspec": {
   "display_name": "scvi",
   "language": "python",
   "name": "scvi"
  },
  "language_info": {
   "codemirror_mode": {
    "name": "ipython",
    "version": 3
   },
   "file_extension": ".py",
   "mimetype": "text/x-python",
   "name": "python",
   "nbconvert_exporter": "python",
   "pygments_lexer": "ipython3",
   "version": "3.7.3"
  },
  "toc": {
   "base_numbering": 1,
   "nav_menu": {},
   "number_sections": true,
   "sideBar": true,
   "skip_h1_title": false,
   "title_cell": "Table of Contents",
   "title_sidebar": "Contents",
   "toc_cell": false,
   "toc_position": {},
   "toc_section_display": true,
   "toc_window_display": true
  }
 },
 "nbformat": 4,
 "nbformat_minor": 4
}
