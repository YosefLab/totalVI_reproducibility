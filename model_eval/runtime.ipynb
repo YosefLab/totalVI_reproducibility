{
 "cells": [
  {
   "cell_type": "markdown",
   "metadata": {},
   "source": [
    "## PPC"
   ]
  },
  {
   "cell_type": "code",
   "execution_count": 1,
   "metadata": {
    "scrolled": true
   },
   "outputs": [
    {
     "name": "stderr",
     "output_type": "stream",
     "text": [
      "/data/yosef2/users/adamgayoso/.pyenv/versions/scvi/lib/python3.7/site-packages/sklearn/externals/six.py:31: DeprecationWarning: The module is deprecated in version 0.21 and will be removed in version 0.23 since we've dropped support for Python 2.7. Please rely on the official version of six (https://pypi.org/project/six/).\n",
      "  \"(https://pypi.org/project/six/).\", DeprecationWarning)\n"
     ]
    }
   ],
   "source": [
    "import csv\n",
    "import gzip\n",
    "import os\n",
    "import sys\n",
    "import scipy.io\n",
    "import matplotlib.pyplot as plt\n",
    "import seaborn as sns\n",
    "import numpy as np\n",
    "import pandas as pd\n",
    "import torch\n",
    "import time\n",
    "import scvi\n",
    "from scvi.dataset import GeneExpressionDataset, CellMeasurement, AnnDatasetFromAnnData\n",
    "from scvi.models import VAE, TOTALVI\n",
    "from scvi.inference import TotalPosterior, TotalTrainer, Posterior, UnsupervisedTrainer\n",
    "\n",
    "import anndata\n",
    "import scanpy as sc\n",
    "import umap\n",
    "import copy\n",
    "\n",
    "import scanorama\n",
    "from sklearn.preprocessing import normalize\n",
    "\n",
    "# Control UMAP numba warnings\n",
    "import warnings; warnings.simplefilter('ignore')\n",
    "\n",
    "import hotspot\n",
    "from sklearn.preprocessing import StandardScaler\n",
    "from sklearn.preprocessing import normalize\n",
    "\n",
    "sys.path.append(\"../utils/\")\n",
    "from utils import *\n",
    "\n",
    "save_path = \"/data/yosef2/users/adamgayoso/projects/totalVI_journal/data/\"\n",
    "%load_ext autoreload\n",
    "%autoreload 2\n",
    "%matplotlib inline\n",
    "\n",
    "overwrite=True\n",
    "\n",
    "set_seed(0)\n",
    "\n",
    "os.environ[\"CUDA_DEVICE_ORDER\"]=\"PCI_BUS_ID\" \n",
    "os.environ['CUDA_VISIBLE_DEVICES']='0'"
   ]
  },
  {
   "cell_type": "code",
   "execution_count": 2,
   "metadata": {},
   "outputs": [],
   "source": [
    "colors = [\"#3B7EA1\", \"#FDB515\", \"#D9661F\", \"#859438\", \"#EE1F60\", \"#00A598\"]\n",
    "sns.set(context=\"notebook\", font_scale=1.3, style=\"ticks\")\n",
    "sns.set_palette(sns.color_palette(colors))\n",
    "plt.rcParams['svg.fonttype'] = 'none'\n",
    "plt.rcParams['pdf.fonttype'] = 42\n",
    "plt.rcParams['savefig.transparent'] = True\n",
    "sc.settings._vector_friendly = True\n",
    "DPI = 300"
   ]
  },
  {
   "cell_type": "code",
   "execution_count": 3,
   "metadata": {},
   "outputs": [
    {
     "name": "stdout",
     "output_type": "stream",
     "text": [
      "[2020-09-08 10:25:11,938] INFO - scvi.dataset.dataset | Remapping labels to [0,N]\n",
      "[2020-09-08 10:25:11,942] INFO - scvi.dataset.dataset | Remapping batch_indices to [0,N]\n",
      "[2020-09-08 10:25:12,054] INFO - scvi.dataset.dataset | Computing the library size for the new data\n",
      "[2020-09-08 10:25:12,164] INFO - scvi.dataset.dataset | Downsampled from 16828 to 16828 cells\n",
      "[2020-09-08 10:25:13,129] INFO - scvi.dataset.dataset | Remapping labels to [0,N]\n",
      "[2020-09-08 10:25:13,132] INFO - scvi.dataset.dataset | Remapping batch_indices to [0,N]\n",
      "[2020-09-08 10:25:13,253] INFO - scvi.dataset.dataset | Computing the library size for the new data\n",
      "[2020-09-08 10:25:13,357] INFO - scvi.dataset.dataset | Downsampled from 15820 to 15820 cells\n",
      "[2020-09-08 10:25:13,650] INFO - scvi.dataset.dataset | Keeping 4005 genes\n",
      "[2020-09-08 10:25:13,896] INFO - scvi.dataset.dataset | Computing the library size for the new data\n",
      "[2020-09-08 10:25:14,072] INFO - scvi.dataset.dataset | Remapping labels to [0,N]\n",
      "[2020-09-08 10:25:14,075] INFO - scvi.dataset.dataset | Remapping batch_indices to [0,N]\n",
      "[2020-09-08 10:25:14,300] INFO - scvi.dataset.dataset | Computing the library size for the new data\n",
      "[2020-09-08 10:25:14,466] INFO - scvi.dataset.dataset | Remapping labels to [0,N]\n",
      "[2020-09-08 10:25:14,470] INFO - scvi.dataset.dataset | Remapping batch_indices to [0,N]\n",
      "[2020-09-08 10:25:15,146] INFO - scvi.dataset.dataset | Remapping labels to [0,N]\n",
      "[2020-09-08 10:25:15,149] INFO - scvi.dataset.dataset | Remapping batch_indices to [0,N]\n",
      "[2020-09-08 10:25:15,152] INFO - scvi.dataset.dataset | Keeping 110 columns in protein_expression\n"
     ]
    }
   ],
   "source": [
    "# Load anndata\n",
    "anndataset_111 = anndata.read(save_path + \"spleen_lymph_111.h5ad\")\n",
    "anndataset_206 = anndata.read(save_path + \"spleen_lymph_206.h5ad\")\n",
    "\n",
    "# Filter unwanted proteins (isotype controls and HTO)\n",
    "keep_pro_111 = np.array(\n",
    "    [not p.startswith(\"HTO\") for p in anndataset_111.uns[\"protein_names\"]]\n",
    ")\n",
    "keep_pro_206 = np.array(\n",
    "    [\n",
    "        not (p.startswith(\"HTO\") or p.startswith(\"ADT_Isotype\"))\n",
    "        for p in anndataset_206.uns[\"protein_names\"]\n",
    "    ]\n",
    ")\n",
    "\n",
    "anndataset_111.obsm[\"protein_expression\"] = anndataset_111.obsm[\"protein_expression\"][\n",
    "    :, keep_pro_111\n",
    "]\n",
    "anndataset_111.uns[\"protein_names\"] = anndataset_111.uns[\"protein_names\"][keep_pro_111]\n",
    "anndataset_206.obsm[\"protein_expression\"] = anndataset_206.obsm[\"protein_expression\"][\n",
    "    :, keep_pro_206\n",
    "]\n",
    "anndataset_206.uns[\"protein_names\"] = anndataset_206.uns[\"protein_names\"][keep_pro_206]\n",
    "\n",
    "# Organize and instantiate scVI dataset\n",
    "hvg_111 = anndataset_111.var[\"hvg_encode\"]\n",
    "hvg_206 = anndataset_206.var[\"hvg_encode\"]\n",
    "\n",
    "assert (hvg_111 == hvg_206).all()\n",
    "\n",
    "dataset_111 = AnnDatasetFromAnnData(ad=anndataset_111[:, hvg_111])\n",
    "protein_data_111 = CellMeasurement(\n",
    "    name=\"protein_expression\",\n",
    "    data=anndataset_111.obsm[\"protein_expression\"].astype(np.float32),\n",
    "    columns_attr_name=\"protein_names\",\n",
    "    columns=anndataset_111.uns[\"protein_names\"],\n",
    ")\n",
    "dataset_111.initialize_cell_measurement(protein_data_111)\n",
    "dataset_111.gene_names = anndataset_111[:, hvg_111].var_names.values\n",
    "\n",
    "dataset_206 = AnnDatasetFromAnnData(ad=anndataset_206[:, hvg_111])\n",
    "protein_data_206 = CellMeasurement(\n",
    "    name=\"protein_expression\",\n",
    "    data=anndataset_206.obsm[\"protein_expression\"].astype(np.float32),\n",
    "    columns_attr_name=\"protein_names\",\n",
    "    columns=anndataset_206.uns[\"protein_names\"],\n",
    ")\n",
    "dataset_206.initialize_cell_measurement(protein_data_206)\n",
    "dataset_206.gene_names = anndataset_206[:, hvg_206].var_names.values\n",
    "\n",
    "\n",
    "dataset = GeneExpressionDataset()\n",
    "dataset.populate_from_datasets([dataset_111, dataset_206])"
   ]
  },
  {
   "cell_type": "code",
   "execution_count": 4,
   "metadata": {},
   "outputs": [],
   "source": [
    "def create_dataset(dataset):\n",
    "    return copy.deepcopy(dataset)"
   ]
  },
  {
   "cell_type": "code",
   "execution_count": 5,
   "metadata": {},
   "outputs": [
    {
     "data": {
      "text/plain": [
       "[1200, 2400, 4800, 9600, 19200, 32648]"
      ]
     },
     "execution_count": 5,
     "metadata": {},
     "output_type": "execute_result"
    }
   ],
   "source": [
    "cell_numbers = [1200 * 2 ** i for i in range(5)] + [dataset.nb_cells]\n",
    "cell_numbers"
   ]
  },
  {
   "cell_type": "code",
   "execution_count": 6,
   "metadata": {},
   "outputs": [
    {
     "name": "stdout",
     "output_type": "stream",
     "text": [
      "[2020-09-08 10:25:16,150] INFO - scvi.dataset.dataset | Computing the library size for the new data\n",
      "[2020-09-08 10:25:16,159] INFO - scvi.dataset.dataset | Downsampled from 32648 to 1200 cells\n"
     ]
    },
    {
     "data": {
      "application/vnd.jupyter.widget-view+json": {
       "model_id": "a53ec983d9724f3ba20442844c356b8e",
       "version_major": 2,
       "version_minor": 0
      },
      "text/plain": [
       "HBox(children=(IntProgress(value=0, description='training', max=500, style=ProgressStyle(description_width='in…"
      ]
     },
     "metadata": {},
     "output_type": "display_data"
    },
    {
     "name": "stdout",
     "output_type": "stream",
     "text": [
      "\n",
      "[2020-09-08 10:26:58,355] INFO - scvi.dataset.dataset | Computing the library size for the new data\n",
      "[2020-09-08 10:26:58,370] INFO - scvi.dataset.dataset | Downsampled from 32648 to 2400 cells\n"
     ]
    },
    {
     "data": {
      "application/vnd.jupyter.widget-view+json": {
       "model_id": "2f4f49e95ebb498ab1fa01a890d1af54",
       "version_major": 2,
       "version_minor": 0
      },
      "text/plain": [
       "HBox(children=(IntProgress(value=0, description='training', max=500, style=ProgressStyle(description_width='in…"
      ]
     },
     "metadata": {},
     "output_type": "display_data"
    },
    {
     "name": "stdout",
     "output_type": "stream",
     "text": [
      "[2020-09-08 10:29:15,626] INFO - scvi.inference.trainer | Reducing LR on epoch 360.\n",
      "[2020-09-08 10:29:59,692] INFO - scvi.inference.trainer | Reducing LR on epoch 484.\n",
      "[2020-09-08 10:30:05,218] INFO - scvi.inference.trainer | \n",
      "Stopping early: no improvement of more than 0 nats in 45 epochs\n",
      "[2020-09-08 10:30:05,219] INFO - scvi.inference.trainer | If the early stopping criterion is too strong, please instantiate it with different parameters in the train method.\n",
      "[2020-09-08 10:30:05,641] INFO - scvi.dataset.dataset | Computing the library size for the new data\n",
      "[2020-09-08 10:30:05,676] INFO - scvi.dataset.dataset | Downsampled from 32648 to 4800 cells\n"
     ]
    },
    {
     "data": {
      "application/vnd.jupyter.widget-view+json": {
       "model_id": "e40c67edd3194623ae650c04af6d0779",
       "version_major": 2,
       "version_minor": 0
      },
      "text/plain": [
       "HBox(children=(IntProgress(value=0, description='training', max=500, style=ProgressStyle(description_width='in…"
      ]
     },
     "metadata": {},
     "output_type": "display_data"
    },
    {
     "name": "stdout",
     "output_type": "stream",
     "text": [
      "\n",
      "[2020-09-08 10:35:53,156] INFO - scvi.dataset.dataset | Computing the library size for the new data\n",
      "[2020-09-08 10:35:53,221] INFO - scvi.dataset.dataset | Downsampled from 32648 to 9600 cells\n"
     ]
    },
    {
     "data": {
      "application/vnd.jupyter.widget-view+json": {
       "model_id": "89b3bd14c9f945e094a80f26655a95b6",
       "version_major": 2,
       "version_minor": 0
      },
      "text/plain": [
       "HBox(children=(IntProgress(value=0, description='training', max=500, style=ProgressStyle(description_width='in…"
      ]
     },
     "metadata": {},
     "output_type": "display_data"
    },
    {
     "name": "stdout",
     "output_type": "stream",
     "text": [
      "\n",
      "[2020-09-08 10:47:16,704] INFO - scvi.dataset.dataset | Computing the library size for the new data\n",
      "[2020-09-08 10:47:16,828] INFO - scvi.dataset.dataset | Downsampled from 32648 to 19200 cells\n"
     ]
    },
    {
     "data": {
      "application/vnd.jupyter.widget-view+json": {
       "model_id": "4b7a31a5d9c743d8a0587c751871dbd9",
       "version_major": 2,
       "version_minor": 0
      },
      "text/plain": [
       "HBox(children=(IntProgress(value=0, description='training', max=500, style=ProgressStyle(description_width='in…"
      ]
     },
     "metadata": {},
     "output_type": "display_data"
    },
    {
     "name": "stdout",
     "output_type": "stream",
     "text": [
      "[2020-09-08 11:09:50,604] INFO - scvi.inference.trainer | Reducing LR on epoch 487.\n",
      "\n",
      "[2020-09-08 11:10:24,827] INFO - scvi.dataset.dataset | Computing the library size for the new data\n",
      "[2020-09-08 11:10:25,041] INFO - scvi.dataset.dataset | Downsampled from 32648 to 32648 cells\n"
     ]
    },
    {
     "data": {
      "application/vnd.jupyter.widget-view+json": {
       "model_id": "dfa2717099b6484eb9dab3bba305f00a",
       "version_major": 2,
       "version_minor": 0
      },
      "text/plain": [
       "HBox(children=(IntProgress(value=0, description='training', max=500, style=ProgressStyle(description_width='in…"
      ]
     },
     "metadata": {},
     "output_type": "display_data"
    },
    {
     "name": "stdout",
     "output_type": "stream",
     "text": [
      "\n",
      "[2020-09-08 11:50:07,923] INFO - scvi.dataset.dataset | Computing the library size for the new data\n",
      "[2020-09-08 11:50:07,933] INFO - scvi.dataset.dataset | Downsampled from 32648 to 1200 cells\n"
     ]
    },
    {
     "data": {
      "application/vnd.jupyter.widget-view+json": {
       "model_id": "0e351e0697054fe486be10248b688f3b",
       "version_major": 2,
       "version_minor": 0
      },
      "text/plain": [
       "HBox(children=(IntProgress(value=0, description='training', max=500, style=ProgressStyle(description_width='in…"
      ]
     },
     "metadata": {},
     "output_type": "display_data"
    },
    {
     "name": "stdout",
     "output_type": "stream",
     "text": [
      "\n",
      "[2020-09-08 11:51:49,225] INFO - scvi.dataset.dataset | Computing the library size for the new data\n",
      "[2020-09-08 11:51:49,242] INFO - scvi.dataset.dataset | Downsampled from 32648 to 2400 cells\n"
     ]
    },
    {
     "data": {
      "application/vnd.jupyter.widget-view+json": {
       "model_id": "e3d772ec33fe443497875831a8b7a119",
       "version_major": 2,
       "version_minor": 0
      },
      "text/plain": [
       "HBox(children=(IntProgress(value=0, description='training', max=500, style=ProgressStyle(description_width='in…"
      ]
     },
     "metadata": {},
     "output_type": "display_data"
    },
    {
     "name": "stdout",
     "output_type": "stream",
     "text": [
      "\n",
      "[2020-09-08 11:54:42,721] INFO - scvi.dataset.dataset | Computing the library size for the new data\n",
      "[2020-09-08 11:54:42,754] INFO - scvi.dataset.dataset | Downsampled from 32648 to 4800 cells\n"
     ]
    },
    {
     "data": {
      "application/vnd.jupyter.widget-view+json": {
       "model_id": "69220cb32e57498ba378b740dd528289",
       "version_major": 2,
       "version_minor": 0
      },
      "text/plain": [
       "HBox(children=(IntProgress(value=0, description='training', max=500, style=ProgressStyle(description_width='in…"
      ]
     },
     "metadata": {},
     "output_type": "display_data"
    },
    {
     "name": "stdout",
     "output_type": "stream",
     "text": [
      "\n",
      "[2020-09-08 12:00:12,750] INFO - scvi.dataset.dataset | Computing the library size for the new data\n",
      "[2020-09-08 12:00:12,816] INFO - scvi.dataset.dataset | Downsampled from 32648 to 9600 cells\n"
     ]
    },
    {
     "data": {
      "application/vnd.jupyter.widget-view+json": {
       "model_id": "a1f6f7143bcd4392b5a062539edc1496",
       "version_major": 2,
       "version_minor": 0
      },
      "text/plain": [
       "HBox(children=(IntProgress(value=0, description='training', max=500, style=ProgressStyle(description_width='in…"
      ]
     },
     "metadata": {},
     "output_type": "display_data"
    },
    {
     "name": "stdout",
     "output_type": "stream",
     "text": [
      "\n",
      "[2020-09-08 12:11:44,440] INFO - scvi.dataset.dataset | Computing the library size for the new data\n",
      "[2020-09-08 12:11:44,566] INFO - scvi.dataset.dataset | Downsampled from 32648 to 19200 cells\n"
     ]
    },
    {
     "data": {
      "application/vnd.jupyter.widget-view+json": {
       "model_id": "ffc2424eacde4b1081bfab8a3e3f7093",
       "version_major": 2,
       "version_minor": 0
      },
      "text/plain": [
       "HBox(children=(IntProgress(value=0, description='training', max=500, style=ProgressStyle(description_width='in…"
      ]
     },
     "metadata": {},
     "output_type": "display_data"
    },
    {
     "name": "stdout",
     "output_type": "stream",
     "text": [
      "[2020-09-08 12:33:00,161] INFO - scvi.inference.trainer | Reducing LR on epoch 449.\n",
      "\n",
      "[2020-09-08 12:35:20,184] INFO - scvi.dataset.dataset | Computing the library size for the new data\n",
      "[2020-09-08 12:35:20,403] INFO - scvi.dataset.dataset | Downsampled from 32648 to 32648 cells\n"
     ]
    },
    {
     "data": {
      "application/vnd.jupyter.widget-view+json": {
       "model_id": "dcb5d5e11c244d4ca21d76865974b1ca",
       "version_major": 2,
       "version_minor": 0
      },
      "text/plain": [
       "HBox(children=(IntProgress(value=0, description='training', max=500, style=ProgressStyle(description_width='in…"
      ]
     },
     "metadata": {},
     "output_type": "display_data"
    },
    {
     "name": "stdout",
     "output_type": "stream",
     "text": [
      "[2020-09-08 13:11:11,692] INFO - scvi.inference.trainer | Reducing LR on epoch 445.\n",
      "\n"
     ]
    }
   ],
   "source": [
    "if overwrite is True:\n",
    "    inference_times = []\n",
    "    train_histories = []\n",
    "    for n_cells in cell_numbers:\n",
    "        d = create_dataset(dataset)\n",
    "        d.subsample_cells(n_cells)\n",
    "\n",
    "        m = TOTALVI(\n",
    "            d.nb_genes,\n",
    "            d.protein_expression.shape[1],\n",
    "            n_latent=20,\n",
    "            n_batch=d.n_batches,\n",
    "        )\n",
    "        use_cuda = True\n",
    "        lr = 4e-3\n",
    "        early_stopping_kwargs = {\n",
    "            \"early_stopping_metric\": \"elbo\",\n",
    "            \"save_best_state_metric\": \"elbo\",\n",
    "            \"patience\": 45,\n",
    "            \"threshold\": 0,\n",
    "            \"reduce_lr_on_plateau\": True,\n",
    "            \"lr_patience\": 30,\n",
    "            \"lr_factor\": 0.6,\n",
    "            \"posterior_class\": TotalPosterior,\n",
    "        }\n",
    "\n",
    "        trainer = TotalTrainer(\n",
    "            m,\n",
    "            d,\n",
    "            train_size=0.9,\n",
    "            test_size=0.1,\n",
    "            use_cuda=use_cuda,\n",
    "            frequency=1,\n",
    "            data_loader_kwargs={\"batch_size\": 256, \"pin_memory\":True},\n",
    "            early_stopping_kwargs=early_stopping_kwargs,\n",
    "        )\n",
    "\n",
    "        t0 = time.time()\n",
    "        trainer.train(n_epochs=500)\n",
    "        t = time.time() - t0\n",
    "\n",
    "        inference_times.append(t)\n",
    "        train_histories.append(trainer.history['elbo_train_set'])\n",
    "        \n",
    "        \n",
    "    inference_times_100 = []\n",
    "    train_histories_100 = []\n",
    "    for n_cells in cell_numbers:\n",
    "        d = create_dataset(dataset)\n",
    "        d.subsample_cells(n_cells)\n",
    "\n",
    "        m = TOTALVI(\n",
    "            d.nb_genes,\n",
    "            d.protein_expression.shape[1],\n",
    "            n_latent=100,\n",
    "            n_batch=d.n_batches,\n",
    "        )\n",
    "        use_cuda = True\n",
    "        lr = 4e-3\n",
    "        early_stopping_kwargs = {\n",
    "            \"early_stopping_metric\": \"elbo\",\n",
    "            \"save_best_state_metric\": \"elbo\",\n",
    "            \"patience\": 45,\n",
    "            \"threshold\": 0,\n",
    "            \"reduce_lr_on_plateau\": True,\n",
    "            \"lr_patience\": 30,\n",
    "            \"lr_factor\": 0.6,\n",
    "            \"posterior_class\": TotalPosterior,\n",
    "        }\n",
    "\n",
    "        trainer = TotalTrainer(\n",
    "            m,\n",
    "            d,\n",
    "            train_size=0.9,\n",
    "            test_size=0.1,\n",
    "            use_cuda=use_cuda,\n",
    "            frequency=1,\n",
    "            data_loader_kwargs={\"batch_size\": 256, \"pin_memory\":True},\n",
    "            early_stopping_kwargs=early_stopping_kwargs,\n",
    "        )\n",
    "\n",
    "        t0 = time.time()\n",
    "        trainer.train(n_epochs=500)\n",
    "        t = time.time() - t0\n",
    "\n",
    "        inference_times_100.append(t)\n",
    "        train_histories_100.append(trainer.history['elbo_train_set'])\n",
    "\n"
   ]
  },
  {
   "cell_type": "code",
   "execution_count": 7,
   "metadata": {},
   "outputs": [
    {
     "name": "stdout",
     "output_type": "stream",
     "text": [
      "[2020-09-08 13:15:20,385] INFO - scvi.dataset.dataset | Computing the library size for the new data\n",
      "[2020-09-08 13:15:20,393] INFO - scvi.dataset.dataset | Downsampled from 32648 to 1200 cells\n"
     ]
    },
    {
     "data": {
      "application/vnd.jupyter.widget-view+json": {
       "model_id": "e2d8974688d5410a8b666ccaad165bb9",
       "version_major": 2,
       "version_minor": 0
      },
      "text/plain": [
       "HBox(children=(IntProgress(value=0, description='training', max=500, style=ProgressStyle(description_width='in…"
      ]
     },
     "metadata": {},
     "output_type": "display_data"
    },
    {
     "name": "stdout",
     "output_type": "stream",
     "text": [
      "[2020-09-08 13:16:09,289] INFO - scvi.inference.trainer | Reducing LR on epoch 372.\n",
      "[2020-09-08 13:16:15,122] INFO - scvi.inference.trainer | Reducing LR on epoch 414.\n",
      "[2020-09-08 13:16:17,179] INFO - scvi.inference.trainer | \n",
      "Stopping early: no improvement of more than 0 nats in 45 epochs\n",
      "[2020-09-08 13:16:17,180] INFO - scvi.inference.trainer | If the early stopping criterion is too strong, please instantiate it with different parameters in the train method.\n",
      "[2020-09-08 13:16:17,524] INFO - scvi.dataset.dataset | Computing the library size for the new data\n",
      "[2020-09-08 13:16:17,539] INFO - scvi.dataset.dataset | Downsampled from 32648 to 2400 cells\n"
     ]
    },
    {
     "data": {
      "application/vnd.jupyter.widget-view+json": {
       "model_id": "3cf21d989d314b2293178d88be882cc0",
       "version_major": 2,
       "version_minor": 0
      },
      "text/plain": [
       "HBox(children=(IntProgress(value=0, description='training', max=500, style=ProgressStyle(description_width='in…"
      ]
     },
     "metadata": {},
     "output_type": "display_data"
    },
    {
     "name": "stdout",
     "output_type": "stream",
     "text": [
      "[2020-09-08 13:16:41,531] INFO - scvi.inference.trainer | Reducing LR on epoch 126.\n",
      "[2020-09-08 13:17:16,855] INFO - scvi.inference.trainer | Reducing LR on epoch 307.\n",
      "[2020-09-08 13:17:20,518] INFO - scvi.inference.trainer | \n",
      "Stopping early: no improvement of more than 0 nats in 45 epochs\n",
      "[2020-09-08 13:17:20,519] INFO - scvi.inference.trainer | If the early stopping criterion is too strong, please instantiate it with different parameters in the train method.\n",
      "[2020-09-08 13:17:20,583] INFO - scvi.inference.inference | Training is still in warming up phase. If your applications rely on the posterior quality, consider training for more epochs or reducing the kl warmup.\n",
      "[2020-09-08 13:17:20,908] INFO - scvi.dataset.dataset | Computing the library size for the new data\n",
      "[2020-09-08 13:17:20,935] INFO - scvi.dataset.dataset | Downsampled from 32648 to 4800 cells\n"
     ]
    },
    {
     "data": {
      "application/vnd.jupyter.widget-view+json": {
       "model_id": "7d2400667a0c4702bdb572734b503a8e",
       "version_major": 2,
       "version_minor": 0
      },
      "text/plain": [
       "HBox(children=(IntProgress(value=0, description='training', max=500, style=ProgressStyle(description_width='in…"
      ]
     },
     "metadata": {},
     "output_type": "display_data"
    },
    {
     "name": "stdout",
     "output_type": "stream",
     "text": [
      "[2020-09-08 13:20:05,597] INFO - scvi.inference.trainer | Reducing LR on epoch 389.\n",
      "\n",
      "[2020-09-08 13:20:49,946] INFO - scvi.dataset.dataset | Computing the library size for the new data\n",
      "[2020-09-08 13:20:50,013] INFO - scvi.dataset.dataset | Downsampled from 32648 to 9600 cells\n"
     ]
    },
    {
     "data": {
      "application/vnd.jupyter.widget-view+json": {
       "model_id": "8229ac7651d84aa0aec00fd6932d23a5",
       "version_major": 2,
       "version_minor": 0
      },
      "text/plain": [
       "HBox(children=(IntProgress(value=0, description='training', max=500, style=ProgressStyle(description_width='in…"
      ]
     },
     "metadata": {},
     "output_type": "display_data"
    },
    {
     "name": "stdout",
     "output_type": "stream",
     "text": [
      "\n",
      "[2020-09-08 13:27:48,199] INFO - scvi.dataset.dataset | Computing the library size for the new data\n",
      "[2020-09-08 13:27:48,324] INFO - scvi.dataset.dataset | Downsampled from 32648 to 19200 cells\n"
     ]
    },
    {
     "data": {
      "application/vnd.jupyter.widget-view+json": {
       "model_id": "0161b7ce38484462aed9a25e12907158",
       "version_major": 2,
       "version_minor": 0
      },
      "text/plain": [
       "HBox(children=(IntProgress(value=0, description='training', max=500, style=ProgressStyle(description_width='in…"
      ]
     },
     "metadata": {},
     "output_type": "display_data"
    },
    {
     "name": "stdout",
     "output_type": "stream",
     "text": [
      "[2020-09-08 13:39:20,346] INFO - scvi.inference.trainer | Reducing LR on epoch 412.\n",
      "[2020-09-08 13:40:21,560] INFO - scvi.inference.trainer | Reducing LR on epoch 450.\n",
      "[2020-09-08 13:41:17,368] INFO - scvi.inference.trainer | Reducing LR on epoch 483.\n",
      "[2020-09-08 13:41:43,842] INFO - scvi.inference.trainer | \n",
      "Stopping early: no improvement of more than 0 nats in 45 epochs\n",
      "[2020-09-08 13:41:43,843] INFO - scvi.inference.trainer | If the early stopping criterion is too strong, please instantiate it with different parameters in the train method.\n",
      "[2020-09-08 13:41:44,826] INFO - scvi.dataset.dataset | Computing the library size for the new data\n",
      "[2020-09-08 13:41:45,049] INFO - scvi.dataset.dataset | Downsampled from 32648 to 32648 cells\n"
     ]
    },
    {
     "data": {
      "application/vnd.jupyter.widget-view+json": {
       "model_id": "3574424771464ecabef81d302e715143",
       "version_major": 2,
       "version_minor": 0
      },
      "text/plain": [
       "HBox(children=(IntProgress(value=0, description='training', max=500, style=ProgressStyle(description_width='in…"
      ]
     },
     "metadata": {},
     "output_type": "display_data"
    },
    {
     "name": "stdout",
     "output_type": "stream",
     "text": [
      "[2020-09-08 14:01:35,148] INFO - scvi.inference.trainer | Reducing LR on epoch 428.\n",
      "[2020-09-08 14:04:08,910] INFO - scvi.inference.trainer | Reducing LR on epoch 480.\n",
      "[2020-09-08 14:04:52,205] INFO - scvi.inference.trainer | \n",
      "Stopping early: no improvement of more than 0 nats in 45 epochs\n",
      "[2020-09-08 14:04:52,206] INFO - scvi.inference.trainer | If the early stopping criterion is too strong, please instantiate it with different parameters in the train method.\n"
     ]
    }
   ],
   "source": [
    "if overwrite is True:\n",
    "    inference_times_scvi = []\n",
    "    train_histories_scvi = []\n",
    "    for n_cells in cell_numbers:\n",
    "        d = create_dataset(dataset)\n",
    "        d.subsample_cells(n_cells)\n",
    "        \n",
    "        m = VAE(\n",
    "            d.nb_genes,\n",
    "            n_latent=20,\n",
    "            n_batch=d.n_batches,\n",
    "        )\n",
    "        use_cuda = True\n",
    "        lr = 4e-3\n",
    "        early_stopping_kwargs = {\n",
    "            \"early_stopping_metric\": \"elbo\",\n",
    "            \"save_best_state_metric\": \"elbo\",\n",
    "            \"patience\": 45,\n",
    "            \"threshold\": 0,\n",
    "            \"reduce_lr_on_plateau\": True,\n",
    "            \"lr_patience\": 30,\n",
    "            \"lr_factor\": 0.6,\n",
    "        }\n",
    "\n",
    "        trainer = UnsupervisedTrainer(\n",
    "            m,\n",
    "            d,\n",
    "            train_size=0.9,\n",
    "            test_size=0.1,\n",
    "            use_cuda=use_cuda,\n",
    "            frequency=1,\n",
    "            data_loader_kwargs={\"batch_size\": 256, \"pin_memory\":True},\n",
    "            early_stopping_kwargs=early_stopping_kwargs,\n",
    "        )\n",
    "\n",
    "        t0 = time.time()\n",
    "        trainer.train(n_epochs=500)\n",
    "        t = time.time() - t0\n",
    "\n",
    "        inference_times_scvi.append(t)\n",
    "        train_histories_scvi.append(trainer.history['elbo_train_set'])\n",
    "\n"
   ]
  },
  {
   "cell_type": "code",
   "execution_count": 8,
   "metadata": {},
   "outputs": [],
   "source": [
    "if overwrite is True:\n",
    "    infer_time_df = pd.DataFrame(\n",
    "        {\n",
    "            \"cell_numbers\": cell_numbers,\n",
    "            \"totalVI_inference_time\": inference_times,\n",
    "            \"totalVI_inference_time_100_dim\": inference_times_100,\n",
    "            \"scVI_inference_time\": inference_times_scvi,\n",
    "        }\n",
    "    )\n",
    "if overwrite is True:\n",
    "    infer_time_df.to_csv(\"sln_inference_times.csv\")\n",
    "else:\n",
    "    infer_time_df = pd.read_csv(\"sln_inference_times.csv\")"
   ]
  },
  {
   "cell_type": "code",
   "execution_count": 9,
   "metadata": {},
   "outputs": [
    {
     "data": {
      "text/plain": [
       "<matplotlib.collections.PathCollection at 0x7ff395d6fc88>"
      ]
     },
     "execution_count": 9,
     "metadata": {},
     "output_type": "execute_result"
    },
    {
     "data": {
      "image/png": "[encoded data removed]",
      "text/plain": [
       "<Figure size 432x288 with 1 Axes>"
      ]
     },
     "metadata": {},
     "output_type": "display_data"
    }
   ],
   "source": [
    "plt.loglog()\n",
    "plt.scatter(cell_numbers, inference_times)\n",
    "# plt.scatter(cell_numbers, inference_times_cpu);\n",
    "# plt.ylim(bottom=5e0, top=1e4)\n",
    "# plt.xlim(left=1e3, right=3e6)"
   ]
  },
  {
   "cell_type": "code",
   "execution_count": 12,
   "metadata": {},
   "outputs": [
    {
     "data": {
      "image/png": "[encoded data removed]",
      "text/plain": [
       "<Figure size 432x288 with 1 Axes>"
      ]
     },
     "metadata": {},
     "output_type": "display_data"
    }
   ],
   "source": [
    "plt.loglog()\n",
    "\n",
    "label_ = \"totalVI (n_latent=20)\"\n",
    "plt.scatter(infer_time_df.cell_numbers, infer_time_df.totalVI_inference_time, label=label_)\n",
    "\n",
    "label_ = \"totalVI (n_latent=100)\"\n",
    "plt.scatter(infer_time_df.cell_numbers, infer_time_df.totalVI_inference_time_100_dim, label=label_, alpha=0.5)\n",
    "\n",
    "label_ = \"scVI (genes only)\"\n",
    "plt.scatter(infer_time_df.cell_numbers, infer_time_df.scVI_inference_time, label=label_)\n",
    "\n",
    "plt.legend(scatterpoints=3, loc='lower right')\n",
    "\n",
    "plt.xlabel('Number of cells')\n",
    "plt.ylabel('Inference time (seconds)');\n",
    "plt.axhline(60, lw=1, ls='--', c='k', zorder=-1);\n",
    "plt.axhline(60 * 60, lw=1, ls='--', c='k', zorder=-1);\n",
    "\n",
    "plt.annotate('1 hour', (1200, 2100));\n",
    "plt.annotate('1 minute', (1200, 30));\n",
    "\n",
    "plt.xlim(left=1000, right=36000)\n",
    "plt.ylim(bottom=5e0, top=2e4);\n",
    "\n",
    "sns.despine()\n",
    "plt.savefig('figures/cells-v-time.pdf', bbox_inches=\"tight\")"
   ]
  },
  {
   "cell_type": "code",
   "execution_count": null,
   "metadata": {},
   "outputs": [],
   "source": []
  }
 ],
 "metadata": {
  "kernelspec": {
   "display_name": "scvi",
   "language": "python",
   "name": "scvi"
  },
  "language_info": {
   "codemirror_mode": {
    "name": "ipython",
    "version": 3
   },
   "file_extension": ".py",
   "mimetype": "text/x-python",
   "name": "python",
   "nbconvert_exporter": "python",
   "pygments_lexer": "ipython3",
   "version": "3.7.3"
  },
  "toc": {
   "base_numbering": 1,
   "nav_menu": {},
   "number_sections": true,
   "sideBar": true,
   "skip_h1_title": false,
   "title_cell": "Table of Contents",
   "title_sidebar": "Contents",
   "toc_cell": false,
   "toc_position": {},
   "toc_section_display": true,
   "toc_window_display": false
  }
 },
 "nbformat": 4,
 "nbformat_minor": 4
}
