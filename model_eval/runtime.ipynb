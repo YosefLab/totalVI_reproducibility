{
 "cells": [
  {
   "cell_type": "markdown",
   "metadata": {},
   "source": [
    "## PPC"
   ]
  },
  {
   "cell_type": "code",
   "execution_count": 1,
   "metadata": {
    "scrolled": true
   },
   "outputs": [
    {
     "name": "stderr",
     "output_type": "stream",
     "text": [
      "/data/yosef2/users/adamgayoso/.pyenv/versions/scvi/lib/python3.7/site-packages/sklearn/externals/six.py:31: DeprecationWarning: The module is deprecated in version 0.21 and will be removed in version 0.23 since we've dropped support for Python 2.7. Please rely on the official version of six (https://pypi.org/project/six/).\n",
      "  \"(https://pypi.org/project/six/).\", DeprecationWarning)\n"
     ]
    }
   ],
   "source": [
    "import csv\n",
    "import gzip\n",
    "import os\n",
    "import sys\n",
    "import scipy.io\n",
    "import matplotlib.pyplot as plt\n",
    "import seaborn as sns\n",
    "import numpy as np\n",
    "import pandas as pd\n",
    "import torch\n",
    "import time\n",
    "import scvi\n",
    "from scvi.dataset import GeneExpressionDataset, CellMeasurement, AnnDatasetFromAnnData\n",
    "from scvi.models import VAE, TOTALVI\n",
    "from scvi.inference import TotalPosterior, TotalTrainer, Posterior, UnsupervisedTrainer\n",
    "\n",
    "import anndata\n",
    "import scanpy as sc\n",
    "import umap\n",
    "import copy\n",
    "\n",
    "import scanorama\n",
    "from sklearn.preprocessing import normalize\n",
    "\n",
    "# Control UMAP numba warnings\n",
    "import warnings; warnings.simplefilter('ignore')\n",
    "\n",
    "import hotspot\n",
    "from sklearn.preprocessing import StandardScaler\n",
    "from sklearn.preprocessing import normalize\n",
    "\n",
    "sys.path.append(\"../utils/\")\n",
    "from utils import *\n",
    "\n",
    "save_path = \"/data/yosef2/users/adamgayoso/projects/totalVI_journal/data/\"\n",
    "%load_ext autoreload\n",
    "%autoreload 2\n",
    "%matplotlib inline\n",
    "\n",
    "overwrite=True\n",
    "\n",
    "set_seed(0)\n",
    "\n",
    "os.environ[\"CUDA_DEVICE_ORDER\"]=\"PCI_BUS_ID\" \n",
    "os.environ['CUDA_VISIBLE_DEVICES']='2'"
   ]
  },
  {
   "cell_type": "code",
   "execution_count": 2,
   "metadata": {},
   "outputs": [],
   "source": [
    "colors = [\"#3B7EA1\", \"#FDB515\", \"#D9661F\", \"#859438\", \"#EE1F60\", \"#00A598\"]\n",
    "sns.set(context=\"notebook\", font_scale=1.3, style=\"ticks\")\n",
    "sns.set_palette(sns.color_palette(colors))\n",
    "plt.rcParams['svg.fonttype'] = 'none'\n",
    "plt.rcParams['pdf.fonttype'] = 42\n",
    "plt.rcParams['savefig.transparent'] = True\n",
    "sc.settings._vector_friendly = True\n",
    "DPI = 300"
   ]
  },
  {
   "cell_type": "code",
   "execution_count": 3,
   "metadata": {},
   "outputs": [
    {
     "name": "stdout",
     "output_type": "stream",
     "text": [
      "[2020-03-04 09:29:59,629] INFO - scvi.dataset.dataset | Remapping labels to [0,N]\n",
      "[2020-03-04 09:29:59,634] INFO - scvi.dataset.dataset | Remapping batch_indices to [0,N]\n",
      "[2020-03-04 09:29:59,748] INFO - scvi.dataset.dataset | Computing the library size for the new data\n",
      "[2020-03-04 09:29:59,861] INFO - scvi.dataset.dataset | Downsampled from 16828 to 16828 cells\n",
      "[2020-03-04 09:30:00,845] INFO - scvi.dataset.dataset | Remapping labels to [0,N]\n",
      "[2020-03-04 09:30:00,849] INFO - scvi.dataset.dataset | Remapping batch_indices to [0,N]\n",
      "[2020-03-04 09:30:00,956] INFO - scvi.dataset.dataset | Computing the library size for the new data\n",
      "[2020-03-04 09:30:01,063] INFO - scvi.dataset.dataset | Downsampled from 15820 to 15820 cells\n",
      "[2020-03-04 09:30:01,357] INFO - scvi.dataset.dataset | Keeping 4005 genes\n",
      "[2020-03-04 09:30:01,604] INFO - scvi.dataset.dataset | Computing the library size for the new data\n",
      "[2020-03-04 09:30:01,781] INFO - scvi.dataset.dataset | Remapping labels to [0,N]\n",
      "[2020-03-04 09:30:01,785] INFO - scvi.dataset.dataset | Remapping batch_indices to [0,N]\n",
      "[2020-03-04 09:30:02,012] INFO - scvi.dataset.dataset | Computing the library size for the new data\n",
      "[2020-03-04 09:30:02,178] INFO - scvi.dataset.dataset | Remapping labels to [0,N]\n",
      "[2020-03-04 09:30:02,182] INFO - scvi.dataset.dataset | Remapping batch_indices to [0,N]\n",
      "[2020-03-04 09:30:02,861] INFO - scvi.dataset.dataset | Remapping labels to [0,N]\n",
      "[2020-03-04 09:30:02,864] INFO - scvi.dataset.dataset | Remapping batch_indices to [0,N]\n",
      "[2020-03-04 09:30:02,866] INFO - scvi.dataset.dataset | Keeping 110 columns in protein_expression\n"
     ]
    }
   ],
   "source": [
    "# Load anndata\n",
    "anndataset_111 = anndata.read(save_path + \"spleen_lymph_111.h5ad\")\n",
    "anndataset_206 = anndata.read(save_path + \"spleen_lymph_206.h5ad\")\n",
    "\n",
    "# Filter unwanted proteins (isotype controls and HTO)\n",
    "keep_pro_111 = np.array(\n",
    "    [not p.startswith(\"HTO\") for p in anndataset_111.uns[\"protein_names\"]]\n",
    ")\n",
    "keep_pro_206 = np.array(\n",
    "    [\n",
    "        not (p.startswith(\"HTO\") or p.startswith(\"ADT_Isotype\"))\n",
    "        for p in anndataset_206.uns[\"protein_names\"]\n",
    "    ]\n",
    ")\n",
    "\n",
    "anndataset_111.obsm[\"protein_expression\"] = anndataset_111.obsm[\"protein_expression\"][\n",
    "    :, keep_pro_111\n",
    "]\n",
    "anndataset_111.uns[\"protein_names\"] = anndataset_111.uns[\"protein_names\"][keep_pro_111]\n",
    "anndataset_206.obsm[\"protein_expression\"] = anndataset_206.obsm[\"protein_expression\"][\n",
    "    :, keep_pro_206\n",
    "]\n",
    "anndataset_206.uns[\"protein_names\"] = anndataset_206.uns[\"protein_names\"][keep_pro_206]\n",
    "\n",
    "# Organize and instantiate scVI dataset\n",
    "hvg_111 = anndataset_111.var[\"hvg_encode\"]\n",
    "hvg_206 = anndataset_206.var[\"hvg_encode\"]\n",
    "\n",
    "assert (hvg_111 == hvg_206).all()\n",
    "\n",
    "dataset_111 = AnnDatasetFromAnnData(ad=anndataset_111[:, hvg_111])\n",
    "protein_data_111 = CellMeasurement(\n",
    "    name=\"protein_expression\",\n",
    "    data=anndataset_111.obsm[\"protein_expression\"].astype(np.float32),\n",
    "    columns_attr_name=\"protein_names\",\n",
    "    columns=anndataset_111.uns[\"protein_names\"],\n",
    ")\n",
    "dataset_111.initialize_cell_measurement(protein_data_111)\n",
    "dataset_111.gene_names = anndataset_111[:, hvg_111].var_names.values\n",
    "\n",
    "dataset_206 = AnnDatasetFromAnnData(ad=anndataset_206[:, hvg_111])\n",
    "protein_data_206 = CellMeasurement(\n",
    "    name=\"protein_expression\",\n",
    "    data=anndataset_206.obsm[\"protein_expression\"].astype(np.float32),\n",
    "    columns_attr_name=\"protein_names\",\n",
    "    columns=anndataset_206.uns[\"protein_names\"],\n",
    ")\n",
    "dataset_206.initialize_cell_measurement(protein_data_206)\n",
    "dataset_206.gene_names = anndataset_206[:, hvg_206].var_names.values\n",
    "\n",
    "\n",
    "dataset = GeneExpressionDataset()\n",
    "dataset.populate_from_datasets([dataset_111, dataset_206])"
   ]
  },
  {
   "cell_type": "code",
   "execution_count": 4,
   "metadata": {},
   "outputs": [],
   "source": [
    "def create_dataset(dataset):\n",
    "    return copy.deepcopy(dataset)"
   ]
  },
  {
   "cell_type": "code",
   "execution_count": 5,
   "metadata": {},
   "outputs": [
    {
     "data": {
      "text/plain": [
       "[1200, 2400, 4800, 9600, 19200, 32648]"
      ]
     },
     "execution_count": 5,
     "metadata": {},
     "output_type": "execute_result"
    }
   ],
   "source": [
    "cell_numbers = [1200 * 2 ** i for i in range(5)] + [dataset.nb_cells]\n",
    "cell_numbers"
   ]
  },
  {
   "cell_type": "code",
   "execution_count": 7,
   "metadata": {},
   "outputs": [
    {
     "name": "stdout",
     "output_type": "stream",
     "text": [
      "[2020-03-04 09:35:16,815] INFO - scvi.dataset.dataset | Computing the library size for the new data\n",
      "[2020-03-04 09:35:16,825] INFO - scvi.dataset.dataset | Downsampled from 32648 to 1200 cells\n"
     ]
    },
    {
     "data": {
      "application/vnd.jupyter.widget-view+json": {
       "model_id": "5f7bd52c88994ef894034ca8257ffab5",
       "version_major": 2,
       "version_minor": 0
      },
      "text/plain": [
       "HBox(children=(IntProgress(value=0, description='training', max=500, style=ProgressStyle(description_width='in…"
      ]
     },
     "metadata": {},
     "output_type": "display_data"
    },
    {
     "name": "stdout",
     "output_type": "stream",
     "text": [
      "[2020-03-04 09:37:06,630] INFO - scvi.inference.trainer | Reducing LR on epoch 467.\n",
      "\n",
      "[2020-03-04 09:37:12,722] INFO - scvi.dataset.dataset | Computing the library size for the new data\n",
      "[2020-03-04 09:37:12,737] INFO - scvi.dataset.dataset | Downsampled from 32648 to 2400 cells\n"
     ]
    },
    {
     "data": {
      "application/vnd.jupyter.widget-view+json": {
       "model_id": "c09dc0c5b18944449d2ad2be00accd5f",
       "version_major": 2,
       "version_minor": 0
      },
      "text/plain": [
       "HBox(children=(IntProgress(value=0, description='training', max=500, style=ProgressStyle(description_width='in…"
      ]
     },
     "metadata": {},
     "output_type": "display_data"
    },
    {
     "name": "stdout",
     "output_type": "stream",
     "text": [
      "\n",
      "[2020-03-04 09:40:10,041] INFO - scvi.dataset.dataset | Computing the library size for the new data\n",
      "[2020-03-04 09:40:10,074] INFO - scvi.dataset.dataset | Downsampled from 32648 to 4800 cells\n"
     ]
    },
    {
     "data": {
      "application/vnd.jupyter.widget-view+json": {
       "model_id": "df1808f7633d43f6bd8e26a1d5e30429",
       "version_major": 2,
       "version_minor": 0
      },
      "text/plain": [
       "HBox(children=(IntProgress(value=0, description='training', max=500, style=ProgressStyle(description_width='in…"
      ]
     },
     "metadata": {},
     "output_type": "display_data"
    },
    {
     "name": "stdout",
     "output_type": "stream",
     "text": [
      "\n",
      "[2020-03-04 09:45:49,373] INFO - scvi.dataset.dataset | Computing the library size for the new data\n",
      "[2020-03-04 09:45:49,437] INFO - scvi.dataset.dataset | Downsampled from 32648 to 9600 cells\n"
     ]
    },
    {
     "data": {
      "application/vnd.jupyter.widget-view+json": {
       "model_id": "22b4fd8e5fd34ce68e2ce3b0a790bb54",
       "version_major": 2,
       "version_minor": 0
      },
      "text/plain": [
       "HBox(children=(IntProgress(value=0, description='training', max=500, style=ProgressStyle(description_width='in…"
      ]
     },
     "metadata": {},
     "output_type": "display_data"
    },
    {
     "name": "stdout",
     "output_type": "stream",
     "text": [
      "\n",
      "[2020-03-04 09:56:45,127] INFO - scvi.dataset.dataset | Computing the library size for the new data\n",
      "[2020-03-04 09:56:45,257] INFO - scvi.dataset.dataset | Downsampled from 32648 to 19200 cells\n"
     ]
    },
    {
     "data": {
      "application/vnd.jupyter.widget-view+json": {
       "model_id": "dd7391543ce741ce9f56a7402247955e",
       "version_major": 2,
       "version_minor": 0
      },
      "text/plain": [
       "HBox(children=(IntProgress(value=0, description='training', max=500, style=ProgressStyle(description_width='in…"
      ]
     },
     "metadata": {},
     "output_type": "display_data"
    },
    {
     "name": "stdout",
     "output_type": "stream",
     "text": [
      "\n",
      "[2020-03-04 10:19:10,180] INFO - scvi.dataset.dataset | Computing the library size for the new data\n",
      "[2020-03-04 10:19:10,392] INFO - scvi.dataset.dataset | Downsampled from 32648 to 32648 cells\n"
     ]
    },
    {
     "data": {
      "application/vnd.jupyter.widget-view+json": {
       "model_id": "bc6e983be92b4399a8af41db55f3f5ab",
       "version_major": 2,
       "version_minor": 0
      },
      "text/plain": [
       "HBox(children=(IntProgress(value=0, description='training', max=500, style=ProgressStyle(description_width='in…"
      ]
     },
     "metadata": {},
     "output_type": "display_data"
    },
    {
     "name": "stdout",
     "output_type": "stream",
     "text": [
      "[2020-03-04 10:54:38,511] INFO - scvi.inference.trainer | Reducing LR on epoch 454.\n",
      "\n"
     ]
    }
   ],
   "source": [
    "if overwrite is True:\n",
    "    inference_times = []\n",
    "    train_histories = []\n",
    "    for n_cells in cell_numbers:\n",
    "        d = create_dataset(dataset)\n",
    "        d.subsample_cells(n_cells)\n",
    "\n",
    "        m = TOTALVI(\n",
    "            d.nb_genes,\n",
    "            d.protein_expression.shape[1],\n",
    "            n_latent=20,\n",
    "            n_batch=d.n_batches,\n",
    "        )\n",
    "        use_cuda = True\n",
    "        lr = 4e-3\n",
    "        early_stopping_kwargs = {\n",
    "            \"early_stopping_metric\": \"elbo\",\n",
    "            \"save_best_state_metric\": \"elbo\",\n",
    "            \"patience\": 45,\n",
    "            \"threshold\": 0,\n",
    "            \"reduce_lr_on_plateau\": True,\n",
    "            \"lr_patience\": 30,\n",
    "            \"lr_factor\": 0.6,\n",
    "            \"posterior_class\": TotalPosterior,\n",
    "        }\n",
    "\n",
    "        trainer = TotalTrainer(\n",
    "            m,\n",
    "            d,\n",
    "            train_size=0.9,\n",
    "            test_size=0.1,\n",
    "            use_cuda=use_cuda,\n",
    "            frequency=1,\n",
    "            data_loader_kwargs={\"batch_size\": 256, \"pin_memory\":True},\n",
    "            early_stopping_kwargs=early_stopping_kwargs,\n",
    "        )\n",
    "\n",
    "        t0 = time.time()\n",
    "        trainer.train(n_epochs=500)\n",
    "        t = time.time() - t0\n",
    "\n",
    "        inference_times.append(t)\n",
    "        train_histories.append(trainer.history['elbo_train_set'])\n",
    "\n"
   ]
  },
  {
   "cell_type": "code",
   "execution_count": 42,
   "metadata": {},
   "outputs": [
    {
     "name": "stdout",
     "output_type": "stream",
     "text": [
      "[2020-03-04 12:29:24,982] INFO - scvi.dataset.dataset | Computing the library size for the new data\n",
      "[2020-03-04 12:29:24,990] INFO - scvi.dataset.dataset | Downsampled from 32648 to 1200 cells\n"
     ]
    },
    {
     "data": {
      "application/vnd.jupyter.widget-view+json": {
       "model_id": "a4a8bbc3bf3f408fa0ad6c390b426be9",
       "version_major": 2,
       "version_minor": 0
      },
      "text/plain": [
       "HBox(children=(IntProgress(value=0, description='training', max=500, style=ProgressStyle(description_width='in…"
      ]
     },
     "metadata": {},
     "output_type": "display_data"
    },
    {
     "name": "stdout",
     "output_type": "stream",
     "text": [
      "[2020-03-04 12:30:04,816] INFO - scvi.inference.trainer | Reducing LR on epoch 321.\n",
      "[2020-03-04 12:30:12,896] INFO - scvi.inference.trainer | Reducing LR on epoch 391.\n",
      "[2020-03-04 12:30:14,534] INFO - scvi.inference.trainer | \n",
      "Stopping early: no improvement of more than 0 nats in 45 epochs\n",
      "[2020-03-04 12:30:14,535] INFO - scvi.inference.trainer | If the early stopping criterion is too strong, please instantiate it with different parameters in the train method.\n",
      "[2020-03-04 12:30:14,889] INFO - scvi.dataset.dataset | Computing the library size for the new data\n",
      "[2020-03-04 12:30:14,906] INFO - scvi.dataset.dataset | Downsampled from 32648 to 2400 cells\n"
     ]
    },
    {
     "data": {
      "application/vnd.jupyter.widget-view+json": {
       "model_id": "53a7cfa40dc14b9cbe2ba10e478df0af",
       "version_major": 2,
       "version_minor": 0
      },
      "text/plain": [
       "HBox(children=(IntProgress(value=0, description='training', max=500, style=ProgressStyle(description_width='in…"
      ]
     },
     "metadata": {},
     "output_type": "display_data"
    },
    {
     "name": "stdout",
     "output_type": "stream",
     "text": [
      "[2020-03-04 12:31:13,136] INFO - scvi.inference.trainer | Reducing LR on epoch 256.\n",
      "[2020-03-04 12:31:27,523] INFO - scvi.inference.trainer | Reducing LR on epoch 319.\n",
      "[2020-03-04 12:31:30,842] INFO - scvi.inference.trainer | \n",
      "Stopping early: no improvement of more than 0 nats in 45 epochs\n",
      "[2020-03-04 12:31:30,842] INFO - scvi.inference.trainer | If the early stopping criterion is too strong, please instantiate it with different parameters in the train method.\n",
      "[2020-03-04 12:31:30,905] INFO - scvi.inference.inference | Training is still in warming up phase. If your applications rely on the posterior quality, consider training for more epochs or reducing the kl warmup.\n",
      "[2020-03-04 12:31:31,234] INFO - scvi.dataset.dataset | Computing the library size for the new data\n",
      "[2020-03-04 12:31:31,268] INFO - scvi.dataset.dataset | Downsampled from 32648 to 4800 cells\n"
     ]
    },
    {
     "data": {
      "application/vnd.jupyter.widget-view+json": {
       "model_id": "7a47ddfbe67a47ba8b4db480486f1399",
       "version_major": 2,
       "version_minor": 0
      },
      "text/plain": [
       "HBox(children=(IntProgress(value=0, description='training', max=500, style=ProgressStyle(description_width='in…"
      ]
     },
     "metadata": {},
     "output_type": "display_data"
    },
    {
     "name": "stdout",
     "output_type": "stream",
     "text": [
      "[2020-03-04 12:33:48,153] INFO - scvi.inference.trainer | Reducing LR on epoch 349.\n",
      "[2020-03-04 12:34:19,753] INFO - scvi.inference.trainer | Reducing LR on epoch 432.\n",
      "\n",
      "[2020-03-04 12:34:46,651] INFO - scvi.dataset.dataset | Computing the library size for the new data\n",
      "[2020-03-04 12:34:46,718] INFO - scvi.dataset.dataset | Downsampled from 32648 to 9600 cells\n"
     ]
    },
    {
     "data": {
      "application/vnd.jupyter.widget-view+json": {
       "model_id": "29f724c390d9413db494260af4d59575",
       "version_major": 2,
       "version_minor": 0
      },
      "text/plain": [
       "HBox(children=(IntProgress(value=0, description='training', max=500, style=ProgressStyle(description_width='in…"
      ]
     },
     "metadata": {},
     "output_type": "display_data"
    },
    {
     "name": "stdout",
     "output_type": "stream",
     "text": [
      "\n",
      "[2020-03-04 12:41:39,057] INFO - scvi.dataset.dataset | Computing the library size for the new data\n",
      "[2020-03-04 12:41:39,185] INFO - scvi.dataset.dataset | Downsampled from 32648 to 19200 cells\n"
     ]
    },
    {
     "data": {
      "application/vnd.jupyter.widget-view+json": {
       "model_id": "09e02fb4d81b4a5492241383d75ce9bc",
       "version_major": 2,
       "version_minor": 0
      },
      "text/plain": [
       "HBox(children=(IntProgress(value=0, description='training', max=500, style=ProgressStyle(description_width='in…"
      ]
     },
     "metadata": {},
     "output_type": "display_data"
    },
    {
     "name": "stdout",
     "output_type": "stream",
     "text": [
      "[2020-03-04 12:54:22,139] INFO - scvi.inference.trainer | Reducing LR on epoch 456.\n",
      "[2020-03-04 12:55:23,901] INFO - scvi.inference.trainer | Reducing LR on epoch 494.\n",
      "\n",
      "[2020-03-04 12:55:33,134] INFO - scvi.dataset.dataset | Computing the library size for the new data\n",
      "[2020-03-04 12:55:33,354] INFO - scvi.dataset.dataset | Downsampled from 32648 to 32648 cells\n"
     ]
    },
    {
     "data": {
      "application/vnd.jupyter.widget-view+json": {
       "model_id": "0e348e2920eb4f22bf2a0d4a0dd8c9ba",
       "version_major": 2,
       "version_minor": 0
      },
      "text/plain": [
       "HBox(children=(IntProgress(value=0, description='training', max=500, style=ProgressStyle(description_width='in…"
      ]
     },
     "metadata": {},
     "output_type": "display_data"
    },
    {
     "name": "stdout",
     "output_type": "stream",
     "text": [
      "[2020-03-04 13:16:12,917] INFO - scvi.inference.trainer | Reducing LR on epoch 450.\n",
      "\n"
     ]
    }
   ],
   "source": [
    "if overwrite is True:\n",
    "    inference_times_scvi = []\n",
    "    train_histories_scvi = []\n",
    "    for n_cells in cell_numbers:\n",
    "        d = create_dataset(dataset)\n",
    "        d.subsample_cells(n_cells)\n",
    "        \n",
    "        m = VAE(\n",
    "            d.nb_genes,\n",
    "            n_latent=20,\n",
    "            n_batch=d.n_batches,\n",
    "        )\n",
    "        use_cuda = True\n",
    "        lr = 4e-3\n",
    "        early_stopping_kwargs = {\n",
    "            \"early_stopping_metric\": \"elbo\",\n",
    "            \"save_best_state_metric\": \"elbo\",\n",
    "            \"patience\": 45,\n",
    "            \"threshold\": 0,\n",
    "            \"reduce_lr_on_plateau\": True,\n",
    "            \"lr_patience\": 30,\n",
    "            \"lr_factor\": 0.6,\n",
    "        }\n",
    "\n",
    "        trainer = UnsupervisedTrainer(\n",
    "            m,\n",
    "            d,\n",
    "            train_size=0.9,\n",
    "            test_size=0.1,\n",
    "            use_cuda=use_cuda,\n",
    "            frequency=1,\n",
    "            data_loader_kwargs={\"batch_size\": 256, \"pin_memory\":True},\n",
    "            early_stopping_kwargs=early_stopping_kwargs,\n",
    "        )\n",
    "\n",
    "        t0 = time.time()\n",
    "        trainer.train(n_epochs=500)\n",
    "        t = time.time() - t0\n",
    "\n",
    "        inference_times_scvi.append(t)\n",
    "        train_histories_scvi.append(trainer.history['elbo_train_set'])\n",
    "\n"
   ]
  },
  {
   "cell_type": "code",
   "execution_count": 43,
   "metadata": {},
   "outputs": [],
   "source": [
    "if overwrite is True:\n",
    "    infer_time_df = pd.DataFrame(\n",
    "        {\n",
    "            \"cell_numbers\": cell_numbers,\n",
    "            \"totalVI_inference_time\": inference_times,\n",
    "            \"scVI_inference_time\": inference_times_scvi,\n",
    "        }\n",
    "    )\n",
    "if overwrite is True:\n",
    "    infer_time_df.to_csv(\"sln_inference_times.csv\")\n",
    "else:\n",
    "    infer_time_df = pd.read_csv(\"sln_inference_times.csv\")"
   ]
  },
  {
   "cell_type": "code",
   "execution_count": 44,
   "metadata": {},
   "outputs": [
    {
     "data": {
      "text/plain": [
       "<matplotlib.collections.PathCollection at 0x7f9527e13da0>"
      ]
     },
     "execution_count": 44,
     "metadata": {},
     "output_type": "execute_result"
    },
    {
     "data": {
      "image/png": "[encoded data removed]",
      "text/plain": [
       "<Figure size 432x288 with 1 Axes>"
      ]
     },
     "metadata": {},
     "output_type": "display_data"
    }
   ],
   "source": [
    "plt.loglog()\n",
    "plt.scatter(cell_numbers, inference_times)\n",
    "# plt.scatter(cell_numbers, inference_times_cpu);\n",
    "# plt.ylim(bottom=5e0, top=1e4)\n",
    "# plt.xlim(left=1e3, right=3e6)"
   ]
  },
  {
   "cell_type": "code",
   "execution_count": 46,
   "metadata": {},
   "outputs": [
    {
     "data": {
      "image/png": "[encoded data removed]",
      "text/plain": [
       "<Figure size 432x288 with 1 Axes>"
      ]
     },
     "metadata": {},
     "output_type": "display_data"
    }
   ],
   "source": [
    "plt.loglog()\n",
    "\n",
    "label_ = \"totalVI\"\n",
    "plt.scatter(infer_time_df.cell_numbers, infer_time_df.totalVI_inference_time, label=label_)\n",
    "\n",
    "label_ = \"scVI (genes only)\"\n",
    "plt.scatter(infer_time_df.cell_numbers, infer_time_df.scVI_inference_time, label=label_)\n",
    "\n",
    "plt.legend(scatterpoints=3, loc='lower right')\n",
    "\n",
    "plt.xlabel('Number of cells')\n",
    "plt.ylabel('Inference time (seconds)');\n",
    "plt.axhline(60, lw=1, ls='--', c='k', zorder=-1);\n",
    "plt.axhline(60 * 60, lw=1, ls='--', c='k', zorder=-1);\n",
    "\n",
    "plt.annotate('1 hour', (1200, 2100));\n",
    "plt.annotate('1 minute', (1200, 30));\n",
    "\n",
    "plt.xlim(left=1000, right=36000)\n",
    "plt.ylim(bottom=5e0, top=2e4);\n",
    "\n",
    "sns.despine()\n",
    "plt.savefig('figures/cells-v-time.pdf', bbox_inches=\"tight\")"
   ]
  },
  {
   "cell_type": "code",
   "execution_count": null,
   "metadata": {},
   "outputs": [],
   "source": []
  }
 ],
 "metadata": {
  "kernelspec": {
   "display_name": "scvi",
   "language": "python",
   "name": "scvi"
  },
  "language_info": {
   "codemirror_mode": {
    "name": "ipython",
    "version": 3
   },
   "file_extension": ".py",
   "mimetype": "text/x-python",
   "name": "python",
   "nbconvert_exporter": "python",
   "pygments_lexer": "ipython3",
   "version": "3.7.3"
  },
  "toc": {
   "base_numbering": 1,
   "nav_menu": {},
   "number_sections": true,
   "sideBar": true,
   "skip_h1_title": false,
   "title_cell": "Table of Contents",
   "title_sidebar": "Contents",
   "toc_cell": false,
   "toc_position": {},
   "toc_section_display": true,
   "toc_window_display": false
  }
 },
 "nbformat": 4,
 "nbformat_minor": 2
}
