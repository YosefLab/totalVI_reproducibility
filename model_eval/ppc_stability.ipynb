{
 "cells": [
  {
   "cell_type": "markdown",
   "metadata": {},
   "source": [
    "## PPC"
   ]
  },
  {
   "cell_type": "code",
   "execution_count": 1,
   "metadata": {
    "scrolled": true
   },
   "outputs": [],
   "source": [
    "import sys\n",
    "import scipy.io\n",
    "import matplotlib.pyplot as plt\n",
    "import matplotlib.gridspec as gridspec\n",
    "import seaborn as sns\n",
    "import numpy as np\n",
    "import pandas as pd\n",
    "import torch\n",
    "\n",
    "import scvi\n",
    "from scvi.dataset import GeneExpressionDataset, CellMeasurement, AnnDatasetFromAnnData\n",
    "from scvi.models import VAE, TOTALVI\n",
    "from scvi.inference import TotalPosterior, TotalTrainer, Posterior, UnsupervisedTrainer\n",
    "\n",
    "import anndata\n",
    "import scanpy as sc\n",
    "import umap\n",
    "import sparse\n",
    "\n",
    "sns.set(context=\"notebook\", font_scale=1.3, style=\"ticks\")\n",
    "save_path = \"/data/yosef2/users/adamgayoso/projects/totalVI_journal/data/\"\n",
    "plt.rcParams['svg.fonttype'] = 'none'\n",
    "plt.rcParams['pdf.fonttype'] = 42\n",
    "%load_ext autoreload\n",
    "%autoreload 2\n",
    "%matplotlib inline\n",
    "overwrite=False\n",
    "\n",
    "sys.path.append(\"../utils/\")\n",
    "from totalppc import TotalPosteriorPredictiveCheck as totalPPC\n",
    "from scvi import set_seed\n",
    "\n",
    "# colors = [\"#9b59b6\", \"#3498db\", \"#95a5a6\", \"#34495e\", \"#e74c3c\", \"#2ecc71\"]\n",
    "# colors_3 = [\"#9b59b6\", \"#95a5a6\", \"#34495e\", \"#e74c3c\", \"#2ecc71\"]\n",
    "\n",
    "colors = [\"#3B7EA1\", \"#FDB515\", \"#D9661F\", \"#859438\", \"#EE1F60\", \"#00A598\"]\n",
    "colors_3 = [\"#3B7EA1\", \"#D9661F\", \"#859438\", \"#EE1F60\", \"#00A598\"]\n",
    "\n",
    "set_seed(0)"
   ]
  },
  {
   "cell_type": "code",
   "execution_count": 2,
   "metadata": {},
   "outputs": [],
   "source": [
    "anndataset_sln = anndata.read(save_path + \"spleen_lymph_111.h5ad\")\n",
    "anndataset_sln = anndataset_sln[anndataset_sln.obs[\"batch_indices\"] == 0]"
   ]
  },
  {
   "cell_type": "code",
   "execution_count": 3,
   "metadata": {},
   "outputs": [
    {
     "name": "stdout",
     "output_type": "stream",
     "text": [
      "[2020-09-01 16:26:03,893] INFO - scvi.dataset.dataset | Remapping batch_indices to [0,N]\n",
      "[2020-09-01 16:26:03,895] INFO - scvi.dataset.dataset | Remapping labels to [0,N]\n",
      "[2020-09-01 16:26:04,097] INFO - scvi.dataset.dataset | Computing the library size for the new data\n",
      "[2020-09-01 16:26:04,336] INFO - scvi.dataset.dataset | Downsampled from 9264 to 9264 cells\n"
     ]
    }
   ],
   "source": [
    "# Removes HTOs\n",
    "dataset_sln = AnnDatasetFromAnnData(ad=anndataset_sln)\n",
    "protein_data = CellMeasurement(\n",
    "    name=\"protein_expression\",\n",
    "    data=anndataset_sln.obsm[\"protein_expression\"][:, :-2].astype(np.float32),\n",
    "    columns_attr_name=\"protein_names\",\n",
    "    columns=anndataset_sln.uns[\"protein_names\"][:-2],\n",
    ")\n",
    "dataset_sln.initialize_cell_measurement(protein_data)\n",
    "\n",
    "datasets = [dataset_sln]"
   ]
  },
  {
   "cell_type": "code",
   "execution_count": 4,
   "metadata": {},
   "outputs": [
    {
     "name": "stdout",
     "output_type": "stream",
     "text": [
      "[2020-09-01 16:26:04,379] INFO - scvi.dataset.dataset | Downsampling from 13553 to 4000 genes\n",
      "[2020-09-01 16:26:04,523] INFO - scvi.dataset.dataset | Computing the library size for the new data\n",
      "[2020-09-01 16:26:04,621] INFO - scvi.dataset.dataset | Filtering non-expressing cells.\n",
      "[2020-09-01 16:26:04,718] INFO - scvi.dataset.dataset | Computing the library size for the new data\n",
      "[2020-09-01 16:26:04,779] INFO - scvi.dataset.dataset | Downsampled from 9264 to 9264 cells\n"
     ]
    }
   ],
   "source": [
    "for d in datasets:\n",
    "    d.update_genes(d.var[\"highly_variable\"])"
   ]
  },
  {
   "cell_type": "code",
   "execution_count": 5,
   "metadata": {},
   "outputs": [],
   "source": [
    "use_cuda = True\n",
    "lr = 4e-3\n",
    "early_stopping_kwargs = {\n",
    "    \"early_stopping_metric\": \"elbo\",\n",
    "    \"save_best_state_metric\": \"elbo\",\n",
    "    \"patience\": 45,\n",
    "    \"threshold\": 0,\n",
    "    \"reduce_lr_on_plateau\": True,\n",
    "    \"lr_patience\": 30,\n",
    "    \"lr_factor\": 0.6,\n",
    "    \"posterior_class\": TotalPosterior,\n",
    "}"
   ]
  },
  {
   "cell_type": "code",
   "execution_count": 8,
   "metadata": {},
   "outputs": [
    {
     "data": {
      "application/vnd.jupyter.widget-view+json": {
       "model_id": "22f432d0363b4bd486cc35e317e348ae",
       "version_major": 2,
       "version_minor": 0
      },
      "text/plain": [
       "HBox(children=(IntProgress(value=0, description='training', max=500, style=ProgressStyle(description_width='in…"
      ]
     },
     "metadata": {},
     "output_type": "display_data"
    },
    {
     "name": "stdout",
     "output_type": "stream",
     "text": [
      "[2020-09-01 16:42:25,112] INFO - scvi.inference.trainer | Reducing LR on epoch 431.\n",
      "[2020-09-01 16:43:44,682] INFO - scvi.inference.trainer | Reducing LR on epoch 475.\n",
      "\n"
     ]
    },
    {
     "data": {
      "application/vnd.jupyter.widget-view+json": {
       "model_id": "807ff20bb67a43b6823ebff95ed14c1c",
       "version_major": 2,
       "version_minor": 0
      },
      "text/plain": [
       "HBox(children=(IntProgress(value=0, description='training', max=500, style=ProgressStyle(description_width='in…"
      ]
     },
     "metadata": {},
     "output_type": "display_data"
    },
    {
     "name": "stdout",
     "output_type": "stream",
     "text": [
      "[2020-09-01 16:59:01,450] INFO - scvi.inference.trainer | Reducing LR on epoch 419.\n",
      "[2020-09-01 17:00:57,419] INFO - scvi.inference.trainer | Reducing LR on epoch 476.\n",
      "\n"
     ]
    },
    {
     "data": {
      "application/vnd.jupyter.widget-view+json": {
       "model_id": "b30d11259b404e1e87b2c5a169ab550d",
       "version_major": 2,
       "version_minor": 0
      },
      "text/plain": [
       "HBox(children=(IntProgress(value=0, description='training', max=500, style=ProgressStyle(description_width='in…"
      ]
     },
     "metadata": {},
     "output_type": "display_data"
    },
    {
     "name": "stdout",
     "output_type": "stream",
     "text": [
      "[2020-09-01 17:14:44,017] INFO - scvi.inference.trainer | Reducing LR on epoch 362.\n",
      "[2020-09-01 17:16:46,259] INFO - scvi.inference.trainer | Reducing LR on epoch 418.\n",
      "[2020-09-01 17:18:53,131] INFO - scvi.inference.trainer | Reducing LR on epoch 475.\n",
      "\n"
     ]
    },
    {
     "data": {
      "application/vnd.jupyter.widget-view+json": {
       "model_id": "78cc6cd99da44183ac2fa338d4d003d7",
       "version_major": 2,
       "version_minor": 0
      },
      "text/plain": [
       "HBox(children=(IntProgress(value=0, description='training', max=500, style=ProgressStyle(description_width='in…"
      ]
     },
     "metadata": {},
     "output_type": "display_data"
    },
    {
     "name": "stdout",
     "output_type": "stream",
     "text": [
      "[2020-09-01 17:33:55,380] INFO - scvi.inference.trainer | Reducing LR on epoch 446.\n",
      "[2020-09-01 17:34:39,364] INFO - scvi.inference.trainer | Reducing LR on epoch 483.\n",
      "\n"
     ]
    },
    {
     "data": {
      "application/vnd.jupyter.widget-view+json": {
       "model_id": "fa89c2460c96456283d184f8a59420e6",
       "version_major": 2,
       "version_minor": 0
      },
      "text/plain": [
       "HBox(children=(IntProgress(value=0, description='training', max=500, style=ProgressStyle(description_width='in…"
      ]
     },
     "metadata": {},
     "output_type": "display_data"
    },
    {
     "name": "stdout",
     "output_type": "stream",
     "text": [
      "[2020-09-01 17:44:07,795] INFO - scvi.inference.trainer | Reducing LR on epoch 468.\n",
      "\n"
     ]
    }
   ],
   "source": [
    "vaes = []\n",
    "trainers = []\n",
    "\n",
    "for i in range(5):\n",
    "    vae_pbmc = TOTALVI(dataset_sln.nb_genes, len(dataset_sln.protein_names))\n",
    "    vaes.append(vae_pbmc)\n",
    "    trainer_pbmc = TotalTrainer(\n",
    "        vae_pbmc,\n",
    "        dataset_sln,\n",
    "        train_size=0.80,\n",
    "        test_size=0.05,\n",
    "        use_cuda=use_cuda,\n",
    "        frequency=1,\n",
    "        data_loader_kwargs={\"batch_size\":256, \"pin_memory\":False},\n",
    "        early_stopping_kwargs=early_stopping_kwargs,\n",
    "        seed=i\n",
    "    )\n",
    "    trainer_pbmc.train(lr=lr, n_epochs=500)\n",
    "    trainers.append(trainer_pbmc)"
   ]
  },
  {
   "cell_type": "code",
   "execution_count": 9,
   "metadata": {},
   "outputs": [],
   "source": [
    "post_pbmcs = [t.train_set for t in trainers]"
   ]
  },
  {
   "cell_type": "code",
   "execution_count": 10,
   "metadata": {},
   "outputs": [],
   "source": [
    "ppc_helds_pbmc = []\n",
    "ppc_fulls_pbmc = []\n",
    "\n",
    "for i in range(5):\n",
    "    ppc_helds_pbmc.append(totalPPC(\n",
    "        posteriors_dict={\"totalVI_{}\".format(i): trainers[i].validation_set},\n",
    "        n_samples=150,\n",
    "    ))\n",
    "    ppc_fulls_pbmc.append(totalPPC(\n",
    "        posteriors_dict={\"totalVI_{}\".format(i): post_pbmcs[i]},\n",
    "        n_samples=25,\n",
    "    ))"
   ]
  },
  {
   "cell_type": "code",
   "execution_count": 11,
   "metadata": {},
   "outputs": [],
   "source": [
    "for p in ppc_helds_pbmc:\n",
    "    p.mean_absolute_error()"
   ]
  },
  {
   "cell_type": "code",
   "execution_count": 12,
   "metadata": {},
   "outputs": [
    {
     "name": "stdout",
     "output_type": "stream",
     "text": [
      "          totalVI_0\n",
      "genes      0.249036\n",
      "proteins   7.983588\n",
      "          totalVI_1\n",
      "genes      0.253682\n",
      "proteins   8.005488\n",
      "          totalVI_2\n",
      "genes      0.248409\n",
      "proteins   7.992900\n",
      "          totalVI_3\n",
      "genes      0.252388\n",
      "proteins   7.982646\n",
      "          totalVI_4\n",
      "genes      0.247666\n",
      "proteins   8.002186\n"
     ]
    },
    {
     "data": {
      "text/html": [
       "<div>\n",
       "<style scoped>\n",
       "    .dataframe tbody tr th:only-of-type {\n",
       "        vertical-align: middle;\n",
       "    }\n",
       "\n",
       "    .dataframe tbody tr th {\n",
       "        vertical-align: top;\n",
       "    }\n",
       "\n",
       "    .dataframe thead th {\n",
       "        text-align: right;\n",
       "    }\n",
       "</style>\n",
       "<table border=\"1\" class=\"dataframe\">\n",
       "  <thead>\n",
       "    <tr style=\"text-align: right;\">\n",
       "      <th></th>\n",
       "      <th>totalVI_0</th>\n",
       "      <th>totalVI_1</th>\n",
       "      <th>totalVI_2</th>\n",
       "      <th>totalVI_3</th>\n",
       "      <th>totalVI_4</th>\n",
       "    </tr>\n",
       "  </thead>\n",
       "  <tbody>\n",
       "    <tr>\n",
       "      <td>genes</td>\n",
       "      <td>0.249036</td>\n",
       "      <td>0.253682</td>\n",
       "      <td>0.248409</td>\n",
       "      <td>0.252388</td>\n",
       "      <td>0.247666</td>\n",
       "    </tr>\n",
       "    <tr>\n",
       "      <td>proteins</td>\n",
       "      <td>7.983588</td>\n",
       "      <td>8.005488</td>\n",
       "      <td>7.992900</td>\n",
       "      <td>7.982646</td>\n",
       "      <td>8.002186</td>\n",
       "    </tr>\n",
       "  </tbody>\n",
       "</table>\n",
       "</div>"
      ],
      "text/plain": [
       "          totalVI_0  totalVI_1  totalVI_2  totalVI_3  totalVI_4\n",
       "genes      0.249036   0.253682   0.248409   0.252388   0.247666\n",
       "proteins   7.983588   8.005488   7.992900   7.982646   8.002186"
      ]
     },
     "execution_count": 12,
     "metadata": {},
     "output_type": "execute_result"
    }
   ],
   "source": [
    "mean_ae_df = pd.DataFrame(index=[\"genes\", \"proteins\"])\n",
    "for i, p in enumerate(ppc_helds_pbmc):\n",
    "    print(p.metrics[\"mean_ae\"])\n",
    "    mean_ae_df[p.metrics[\"mean_ae\"].columns[0]] = p.metrics[\"mean_ae\"]\n",
    "    \n",
    "mean_ae_df"
   ]
  },
  {
   "cell_type": "code",
   "execution_count": 49,
   "metadata": {},
   "outputs": [
    {
     "data": {
      "image/png": "[encoded data removed]",
      "text/plain": [
       "<Figure size 432x288 with 2 Axes>"
      ]
     },
     "metadata": {
      "needs_background": "light"
     },
     "output_type": "display_data"
    }
   ],
   "source": [
    "fig, axarr = plt.subplots(1, 2, figsize=(6, 4))\n",
    "sns.boxplot(\n",
    "    data=mean_ae_df.transpose().iloc[:, 0], ax = axarr[0], width=0.6\n",
    ")\n",
    "axarr[0].set_title(\"Genes\")\n",
    "axarr[0].set_ylabel(\"Mean absolute error\")\n",
    "\n",
    "sns.boxplot(\n",
    "    data=mean_ae_df.transpose().iloc[:, 1], ax=axarr[1], width=0.6\n",
    ")\n",
    "axarr[1].set_title(\"Proteins\")\n",
    "# axarr[1].set_yscale('log')\n",
    "axarr[0].set_ylim(0.239, 0.26)\n",
    "axarr[1].set_ylim(7.93, 8.05)\n",
    "axarr[0].set_xticklabels([\"SLN111-D1\"])\n",
    "axarr[1].set_xticklabels([\"SLN111-D1\"])\n",
    "\n",
    "\n",
    "sns.despine()\n",
    "plt.tight_layout()\n",
    "fig.savefig(\"figures/ppc_stability_mae.pdf\", bbox_inches=\"tight\")"
   ]
  },
  {
   "cell_type": "code",
   "execution_count": 14,
   "metadata": {},
   "outputs": [],
   "source": [
    "for p in ppc_helds_pbmc:\n",
    "    p.calibration_error(confidence_intervals=[0.5, 99.5])"
   ]
  },
  {
   "cell_type": "code",
   "execution_count": 48,
   "metadata": {},
   "outputs": [
    {
     "name": "stdout",
     "output_type": "stream",
     "text": [
      "          totalVI_0\n",
      "genes      0.000035\n",
      "proteins   0.000001\n",
      "total      0.000032\n",
      "             totalVI_1\n",
      "genes     3.547922e-05\n",
      "proteins  2.415962e-07\n",
      "total     3.345315e-05\n",
      "          totalVI_2\n",
      "genes      0.000038\n",
      "proteins   0.000003\n",
      "total      0.000036\n",
      "          totalVI_3\n",
      "genes      0.000034\n",
      "proteins   0.000003\n",
      "total      0.000032\n",
      "             totalVI_4\n",
      "genes     3.607563e-05\n",
      "proteins  1.871600e-07\n",
      "total     3.403519e-05\n"
     ]
    },
    {
     "data": {
      "image/png": "[encoded data removed]",
      "text/plain": [
       "<Figure size 432x288 with 2 Axes>"
      ]
     },
     "metadata": {
      "needs_background": "light"
     },
     "output_type": "display_data"
    }
   ],
   "source": [
    "ppc_helds_pbmc[0].metrics[\"calibration\"]\n",
    "\n",
    "cal_df = pd.DataFrame(index=[\"genes\", \"proteins\"])\n",
    "for i, p in enumerate(ppc_helds_pbmc):\n",
    "    print(p.metrics[\"calibration\"])\n",
    "    cal_df[p.metrics[\"calibration\"].columns[0]] = p.metrics[\"calibration\"]\n",
    "    \n",
    "fig, axarr = plt.subplots(1, 2, figsize=(6, 4))\n",
    "sns.boxplot(\n",
    "    data=cal_df.transpose().iloc[:, 0], ax = axarr[0], width=0.6\n",
    ")\n",
    "axarr[0].set_title(\"Genes\")\n",
    "axarr[0].set_ylabel(\"Calibration error\")\n",
    "\n",
    "sns.boxplot(\n",
    "    data=cal_df.transpose().iloc[:, 1], ax=axarr[1], width=0.6\n",
    ")\n",
    "axarr[1].set_title(\"Proteins\")\n",
    "\n",
    "axarr[0].set_ylim(0.000031, 0.000039)\n",
    "axarr[1].set_ylim(0, 0.0000033)\n",
    "axarr[0].set_xticklabels([\"SLN111-D1\"])\n",
    "axarr[1].set_xticklabels([\"SLN111-D1\"])\n",
    "\n",
    "sns.despine()\n",
    "plt.tight_layout()\n",
    "fig.savefig(\"figures/ppc_stability_calibration.pdf\", bbox_inches=\"tight\")"
   ]
  }
 ],
 "metadata": {
  "kernelspec": {
   "display_name": "scvi",
   "language": "python",
   "name": "scvi"
  },
  "language_info": {
   "codemirror_mode": {
    "name": "ipython",
    "version": 3
   },
   "file_extension": ".py",
   "mimetype": "text/x-python",
   "name": "python",
   "nbconvert_exporter": "python",
   "pygments_lexer": "ipython3",
   "version": "3.7.3"
  },
  "toc": {
   "base_numbering": 1,
   "nav_menu": {},
   "number_sections": true,
   "sideBar": true,
   "skip_h1_title": false,
   "title_cell": "Table of Contents",
   "title_sidebar": "Contents",
   "toc_cell": false,
   "toc_position": {},
   "toc_section_display": true,
   "toc_window_display": true
  }
 },
 "nbformat": 4,
 "nbformat_minor": 4
}
