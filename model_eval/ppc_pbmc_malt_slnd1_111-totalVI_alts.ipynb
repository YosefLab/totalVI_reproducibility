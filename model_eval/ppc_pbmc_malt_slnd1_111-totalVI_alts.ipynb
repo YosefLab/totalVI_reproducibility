{
 "cells": [
  {
   "cell_type": "markdown",
   "metadata": {},
   "source": [
    "## PPC"
   ]
  },
  {
   "cell_type": "code",
   "execution_count": 1,
   "metadata": {
    "scrolled": true
   },
   "outputs": [],
   "source": [
    "import sys\n",
    "import scipy.io\n",
    "import matplotlib.pyplot as plt\n",
    "import matplotlib.gridspec as gridspec\n",
    "import seaborn as sns\n",
    "import numpy as np\n",
    "import pandas as pd\n",
    "import torch\n",
    "\n",
    "import scvi\n",
    "from scvi.dataset import GeneExpressionDataset, CellMeasurement, AnnDatasetFromAnnData\n",
    "from scvi.models import VAE, TOTALVI\n",
    "from scvi.inference import TotalPosterior, TotalTrainer, Posterior, UnsupervisedTrainer\n",
    "\n",
    "import anndata\n",
    "import scanpy as sc\n",
    "import umap\n",
    "import sparse\n",
    "\n",
    "sns.set(context=\"notebook\", font_scale=1.3, style=\"ticks\")\n",
    "save_path = \"/data/yosef2/users/adamgayoso/projects/totalVI_journal/data/\"\n",
    "plt.rcParams['svg.fonttype'] = 'none'\n",
    "plt.rcParams['pdf.fonttype'] = 42\n",
    "%load_ext autoreload\n",
    "%autoreload 2\n",
    "%matplotlib inline\n",
    "overwrite=False\n",
    "\n",
    "sys.path.append(\"../utils/\")\n",
    "from totalppc import TotalPosteriorPredictiveCheck as totalPPC\n",
    "from scvi import set_seed\n",
    "\n",
    "# colors = [\"#9b59b6\", \"#3498db\", \"#95a5a6\", \"#34495e\", \"#e74c3c\", \"#2ecc71\"]\n",
    "# colors_3 = [\"#9b59b6\", \"#95a5a6\", \"#34495e\", \"#e74c3c\", \"#2ecc71\"]\n",
    "\n",
    "colors = [\"#3B7EA1\", \"#FDB515\", \"#D9661F\", \"#859438\", \"#EE1F60\", \"#00A598\"]\n",
    "colors_3 = [\"#3B7EA1\", \"#D9661F\", \"#859438\", \"#EE1F60\", \"#00A598\"]\n",
    "\n",
    "set_seed(0)"
   ]
  },
  {
   "cell_type": "code",
   "execution_count": 2,
   "metadata": {},
   "outputs": [],
   "source": [
    "anndataset_pbmc = anndata.read(save_path + \"pbmc_10k_protein_v3.h5ad\")\n",
    "anndataset_malt = anndata.read(save_path + \"malt_10k_protein_v3.h5ad\")\n",
    "anndataset_sln = anndata.read(save_path + \"spleen_lymph_111.h5ad\")\n",
    "anndataset_sln = anndataset_sln[anndataset_sln.obs[\"batch_indices\"] == 0]"
   ]
  },
  {
   "cell_type": "code",
   "execution_count": 3,
   "metadata": {},
   "outputs": [
    {
     "name": "stdout",
     "output_type": "stream",
     "text": [
      "[2020-09-20 22:28:40,715] INFO - scvi.dataset.dataset | Remapping batch_indices to [0,N]\n",
      "[2020-09-20 22:28:40,718] INFO - scvi.dataset.dataset | Remapping labels to [0,N]\n",
      "[2020-09-20 22:28:40,900] INFO - scvi.dataset.dataset | Computing the library size for the new data\n",
      "[2020-09-20 22:28:41,082] INFO - scvi.dataset.dataset | Downsampled from 6855 to 6855 cells\n",
      "[2020-09-20 22:28:41,480] INFO - scvi.dataset.dataset | Remapping batch_indices to [0,N]\n",
      "[2020-09-20 22:28:41,483] INFO - scvi.dataset.dataset | Remapping labels to [0,N]\n",
      "[2020-09-20 22:28:41,664] INFO - scvi.dataset.dataset | Computing the library size for the new data\n",
      "[2020-09-20 22:28:41,845] INFO - scvi.dataset.dataset | Downsampled from 6838 to 6838 cells\n",
      "[2020-09-20 22:28:42,284] INFO - scvi.dataset.dataset | Remapping batch_indices to [0,N]\n",
      "[2020-09-20 22:28:42,286] INFO - scvi.dataset.dataset | Remapping labels to [0,N]\n",
      "[2020-09-20 22:28:42,488] INFO - scvi.dataset.dataset | Computing the library size for the new data\n",
      "[2020-09-20 22:28:42,689] INFO - scvi.dataset.dataset | Downsampled from 9264 to 9264 cells\n"
     ]
    }
   ],
   "source": [
    "dataset_pbmc = AnnDatasetFromAnnData(ad=anndataset_pbmc)\n",
    "protein_data = CellMeasurement(\n",
    "    name=\"protein_expression\",\n",
    "    data=anndataset_pbmc.obsm[\"protein_expression\"].astype(np.float32),\n",
    "    columns_attr_name=\"protein_names\",\n",
    "    columns=anndataset_pbmc.uns[\"protein_names\"],\n",
    ")\n",
    "dataset_pbmc.initialize_cell_measurement(protein_data)\n",
    "\n",
    "dataset_malt = AnnDatasetFromAnnData(ad=anndataset_malt)\n",
    "protein_data = CellMeasurement(\n",
    "    name=\"protein_expression\",\n",
    "    data=anndataset_malt.obsm[\"protein_expression\"].astype(np.float32),\n",
    "    columns_attr_name=\"protein_names\",\n",
    "    columns=anndataset_malt.uns[\"protein_names\"],\n",
    ")\n",
    "dataset_malt.initialize_cell_measurement(protein_data)\n",
    "\n",
    "# Removes HTOs\n",
    "dataset_sln = AnnDatasetFromAnnData(ad=anndataset_sln)\n",
    "protein_data = CellMeasurement(\n",
    "    name=\"protein_expression\",\n",
    "    data=anndataset_sln.obsm[\"protein_expression\"][:, :-2].astype(np.float32),\n",
    "    columns_attr_name=\"protein_names\",\n",
    "    columns=anndataset_sln.uns[\"protein_names\"][:-2],\n",
    ")\n",
    "dataset_sln.initialize_cell_measurement(protein_data)\n",
    "\n",
    "datasets = [dataset_pbmc, dataset_malt, dataset_sln]"
   ]
  },
  {
   "cell_type": "code",
   "execution_count": 4,
   "metadata": {},
   "outputs": [
    {
     "name": "stdout",
     "output_type": "stream",
     "text": [
      "[2020-09-20 22:28:42,735] INFO - scvi.dataset.dataset | Downsampling from 16727 to 4000 genes\n",
      "[2020-09-20 22:28:42,853] INFO - scvi.dataset.dataset | Computing the library size for the new data\n",
      "[2020-09-20 22:28:42,942] INFO - scvi.dataset.dataset | Filtering non-expressing cells.\n",
      "[2020-09-20 22:28:43,031] INFO - scvi.dataset.dataset | Computing the library size for the new data\n",
      "[2020-09-20 22:28:43,078] INFO - scvi.dataset.dataset | Downsampled from 6855 to 6855 cells\n",
      "[2020-09-20 22:28:43,079] INFO - scvi.dataset.dataset | Downsampling from 16659 to 4000 genes\n",
      "[2020-09-20 22:28:43,196] INFO - scvi.dataset.dataset | Computing the library size for the new data\n",
      "[2020-09-20 22:28:43,269] INFO - scvi.dataset.dataset | Filtering non-expressing cells.\n",
      "[2020-09-20 22:28:43,343] INFO - scvi.dataset.dataset | Computing the library size for the new data\n",
      "[2020-09-20 22:28:43,389] INFO - scvi.dataset.dataset | Downsampled from 6838 to 6838 cells\n",
      "[2020-09-20 22:28:43,391] INFO - scvi.dataset.dataset | Downsampling from 13553 to 4000 genes\n",
      "[2020-09-20 22:28:43,531] INFO - scvi.dataset.dataset | Computing the library size for the new data\n",
      "[2020-09-20 22:28:43,627] INFO - scvi.dataset.dataset | Filtering non-expressing cells.\n",
      "[2020-09-20 22:28:43,724] INFO - scvi.dataset.dataset | Computing the library size for the new data\n",
      "[2020-09-20 22:28:43,785] INFO - scvi.dataset.dataset | Downsampled from 9264 to 9264 cells\n"
     ]
    }
   ],
   "source": [
    "for d in datasets:\n",
    "    d.update_genes(d.var[\"highly_variable\"])"
   ]
  },
  {
   "cell_type": "code",
   "execution_count": 5,
   "metadata": {},
   "outputs": [],
   "source": [
    "use_cuda = True\n",
    "lr = 4e-3\n",
    "early_stopping_kwargs = {\n",
    "    \"early_stopping_metric\": \"elbo\",\n",
    "    \"save_best_state_metric\": \"elbo\",\n",
    "    \"patience\": 45,\n",
    "    \"threshold\": 0,\n",
    "    \"reduce_lr_on_plateau\": True,\n",
    "    \"lr_patience\": 30,\n",
    "    \"lr_factor\": 0.6,\n",
    "    \"posterior_class\": TotalPosterior,\n",
    "}"
   ]
  },
  {
   "cell_type": "code",
   "execution_count": 6,
   "metadata": {},
   "outputs": [
    {
     "data": {
      "application/vnd.jupyter.widget-view+json": {
       "model_id": "563f75211f9d4b18a272de3d42c0299f",
       "version_major": 2,
       "version_minor": 0
      },
      "text/plain": [
       "HBox(children=(IntProgress(value=0, description='training', max=500, style=ProgressStyle(description_width='in…"
      ]
     },
     "metadata": {},
     "output_type": "display_data"
    },
    {
     "name": "stdout",
     "output_type": "stream",
     "text": [
      "[2020-09-20 22:36:37,402] INFO - scvi.inference.trainer | Reducing LR on epoch 396.\n",
      "[2020-09-20 22:37:40,245] INFO - scvi.inference.trainer | Reducing LR on epoch 451.\n",
      "\n"
     ]
    },
    {
     "data": {
      "application/vnd.jupyter.widget-view+json": {
       "model_id": "a2f77ea56edd4e3f92d06b68cf99ed67",
       "version_major": 2,
       "version_minor": 0
      },
      "text/plain": [
       "HBox(children=(IntProgress(value=0, description='training', max=500, style=ProgressStyle(description_width='in…"
      ]
     },
     "metadata": {},
     "output_type": "display_data"
    },
    {
     "name": "stdout",
     "output_type": "stream",
     "text": [
      "[2020-09-20 22:45:05,035] INFO - scvi.inference.trainer | Reducing LR on epoch 421.\n",
      "[2020-09-20 22:46:11,455] INFO - scvi.inference.trainer | Reducing LR on epoch 485.\n",
      "\n"
     ]
    },
    {
     "data": {
      "application/vnd.jupyter.widget-view+json": {
       "model_id": "b374b6e3f6944d11aad53f668fb08ac5",
       "version_major": 2,
       "version_minor": 0
      },
      "text/plain": [
       "HBox(children=(IntProgress(value=0, description='training', max=500, style=ProgressStyle(description_width='in…"
      ]
     },
     "metadata": {},
     "output_type": "display_data"
    },
    {
     "name": "stdout",
     "output_type": "stream",
     "text": [
      "[2020-09-20 22:50:27,982] INFO - scvi.inference.trainer | Reducing LR on epoch 281.\n",
      "[2020-09-20 22:50:56,028] INFO - scvi.inference.trainer | Reducing LR on epoch 323.\n",
      "[2020-09-20 22:51:17,924] INFO - scvi.inference.trainer | Reducing LR on epoch 358.\n",
      "[2020-09-20 22:51:45,552] INFO - scvi.inference.trainer | Reducing LR on epoch 391.\n",
      "[2020-09-20 22:51:58,353] INFO - scvi.inference.trainer | \n",
      "Stopping early: no improvement of more than 0 nats in 45 epochs\n",
      "[2020-09-20 22:51:58,355] INFO - scvi.inference.trainer | If the early stopping criterion is too strong, please instantiate it with different parameters in the train method.\n"
     ]
    },
    {
     "data": {
      "application/vnd.jupyter.widget-view+json": {
       "model_id": "c13521746e0547c89c84b575efe6ef21",
       "version_major": 2,
       "version_minor": 0
      },
      "text/plain": [
       "HBox(children=(IntProgress(value=0, description='training', max=500, style=ProgressStyle(description_width='in…"
      ]
     },
     "metadata": {},
     "output_type": "display_data"
    },
    {
     "name": "stdout",
     "output_type": "stream",
     "text": [
      "[2020-09-20 22:58:11,159] INFO - scvi.inference.trainer | Reducing LR on epoch 357.\n",
      "[2020-09-20 22:59:56,392] INFO - scvi.inference.trainer | Reducing LR on epoch 458.\n",
      "\n"
     ]
    },
    {
     "data": {
      "application/vnd.jupyter.widget-view+json": {
       "model_id": "4a5e6339a2e94146ac5134d1b7f42c2d",
       "version_major": 2,
       "version_minor": 0
      },
      "text/plain": [
       "HBox(children=(IntProgress(value=0, description='training', max=500, style=ProgressStyle(description_width='in…"
      ]
     },
     "metadata": {},
     "output_type": "display_data"
    },
    {
     "name": "stdout",
     "output_type": "stream",
     "text": [
      "[2020-09-20 23:07:05,561] INFO - scvi.inference.trainer | Reducing LR on epoch 352.\n",
      "[2020-09-20 23:07:55,920] INFO - scvi.inference.trainer | Reducing LR on epoch 394.\n",
      "[2020-09-20 23:08:13,075] INFO - scvi.inference.trainer | \n",
      "Stopping early: no improvement of more than 0 nats in 45 epochs\n",
      "[2020-09-20 23:08:13,077] INFO - scvi.inference.trainer | If the early stopping criterion is too strong, please instantiate it with different parameters in the train method.\n"
     ]
    },
    {
     "data": {
      "application/vnd.jupyter.widget-view+json": {
       "model_id": "e4429f44c49d4aa7bea53c48116d2782",
       "version_major": 2,
       "version_minor": 0
      },
      "text/plain": [
       "HBox(children=(IntProgress(value=0, description='training', max=500, style=ProgressStyle(description_width='in…"
      ]
     },
     "metadata": {},
     "output_type": "display_data"
    },
    {
     "name": "stderr",
     "output_type": "stream",
     "text": [
      "IOPub message rate exceeded.\n",
      "The notebook server will temporarily stop sending output\n",
      "to the client in order to avoid crashing it.\n",
      "To change this limit, set the config variable\n",
      "`--NotebookApp.iopub_msg_rate_limit`.\n",
      "\n",
      "Current values:\n",
      "NotebookApp.iopub_msg_rate_limit=1000.0 (msgs/sec)\n",
      "NotebookApp.rate_limit_window=3.0 (secs)\n",
      "\n"
     ]
    },
    {
     "name": "stdout",
     "output_type": "stream",
     "text": [
      "[2020-09-20 23:21:06,359] INFO - scvi.inference.trainer | Reducing LR on epoch 407.\n",
      "\n"
     ]
    },
    {
     "data": {
      "application/vnd.jupyter.widget-view+json": {
       "model_id": "c2f118462fef4fbba538a37013ebe8c1",
       "version_major": 2,
       "version_minor": 0
      },
      "text/plain": [
       "HBox(children=(IntProgress(value=0, description='training', max=500, style=ProgressStyle(description_width='in…"
      ]
     },
     "metadata": {},
     "output_type": "display_data"
    },
    {
     "name": "stdout",
     "output_type": "stream",
     "text": [
      "[2020-09-20 23:28:55,165] INFO - scvi.inference.trainer | Reducing LR on epoch 374.\n",
      "[2020-09-20 23:30:15,912] INFO - scvi.inference.trainer | Reducing LR on epoch 449.\n",
      "[2020-09-20 23:30:53,835] INFO - scvi.inference.trainer | Reducing LR on epoch 482.\n",
      "\n"
     ]
    },
    {
     "data": {
      "application/vnd.jupyter.widget-view+json": {
       "model_id": "7a9bdfd4f5e24adb91ac506e6354760c",
       "version_major": 2,
       "version_minor": 0
      },
      "text/plain": [
       "HBox(children=(IntProgress(value=0, description='training', max=500, style=ProgressStyle(description_width='in…"
      ]
     },
     "metadata": {},
     "output_type": "display_data"
    },
    {
     "name": "stdout",
     "output_type": "stream",
     "text": [
      "[2020-09-20 23:41:29,603] INFO - scvi.inference.trainer | Reducing LR on epoch 447.\n",
      "[2020-09-20 23:42:23,587] INFO - scvi.inference.trainer | Reducing LR on epoch 491.\n",
      "\n"
     ]
    },
    {
     "data": {
      "application/vnd.jupyter.widget-view+json": {
       "model_id": "e060c24f66cb437180dd5e0ad4c029fd",
       "version_major": 2,
       "version_minor": 0
      },
      "text/plain": [
       "HBox(children=(IntProgress(value=0, description='training', max=500, style=ProgressStyle(description_width='in…"
      ]
     },
     "metadata": {},
     "output_type": "display_data"
    },
    {
     "name": "stdout",
     "output_type": "stream",
     "text": [
      "[2020-09-20 23:51:38,994] INFO - scvi.inference.trainer | \n",
      "Stopping early: no improvement of more than 0 nats in 45 epochs\n",
      "[2020-09-20 23:51:38,996] INFO - scvi.inference.trainer | If the early stopping criterion is too strong, please instantiate it with different parameters in the train method.\n"
     ]
    },
    {
     "data": {
      "application/vnd.jupyter.widget-view+json": {
       "model_id": "0d67775142e24f4caeeec47c8137b4f1",
       "version_major": 2,
       "version_minor": 0
      },
      "text/plain": [
       "HBox(children=(IntProgress(value=0, description='training', max=500, style=ProgressStyle(description_width='in…"
      ]
     },
     "metadata": {},
     "output_type": "display_data"
    },
    {
     "name": "stdout",
     "output_type": "stream",
     "text": [
      "[2020-09-20 23:57:21,092] INFO - scvi.inference.trainer | Reducing LR on epoch 315.\n",
      "[2020-09-20 23:58:51,140] INFO - scvi.inference.trainer | Reducing LR on epoch 389.\n",
      "[2020-09-20 23:59:40,950] INFO - scvi.inference.trainer | Reducing LR on epoch 432.\n",
      "[2020-09-21 00:00:48,618] INFO - scvi.inference.trainer | Reducing LR on epoch 492.\n",
      "\n"
     ]
    },
    {
     "data": {
      "application/vnd.jupyter.widget-view+json": {
       "model_id": "2c263b943375410086aba77942ea53eb",
       "version_major": 2,
       "version_minor": 0
      },
      "text/plain": [
       "HBox(children=(IntProgress(value=0, description='training', max=500, style=ProgressStyle(description_width='in…"
      ]
     },
     "metadata": {},
     "output_type": "display_data"
    },
    {
     "name": "stdout",
     "output_type": "stream",
     "text": [
      "[2020-09-21 00:09:49,217] INFO - scvi.inference.trainer | Reducing LR on epoch 382.\n",
      "[2020-09-21 00:10:57,499] INFO - scvi.inference.trainer | Reducing LR on epoch 427.\n",
      "[2020-09-21 00:11:54,145] INFO - scvi.inference.trainer | Reducing LR on epoch 469.\n",
      "\n"
     ]
    }
   ],
   "source": [
    "vae_pbmcs = {}\n",
    "vae_malts = {}\n",
    "vae_slns = {}\n",
    "\n",
    "for n, r in zip([\"NB Mixture\", \"NB\", \"Poisson\"], [\"nb_mixture\", \"nb\", \"poisson\"]):\n",
    "    vae_pbmcs[n] = TOTALVI(dataset_pbmc.nb_genes, len(dataset_pbmc.protein_names), reconstruction_loss_protein=r)\n",
    "    vae_malts[n] = TOTALVI(dataset_malt.nb_genes, len(dataset_malt.protein_names), reconstruction_loss_protein=r)\n",
    "    vae_slns[n] = TOTALVI(dataset_sln.nb_genes, len(dataset_sln.protein_names), reconstruction_loss_protein=r)\n",
    "\n",
    "vae_pbmcs[\"Constant BG\"] = TOTALVI(dataset_pbmc.nb_genes, len(dataset_pbmc.protein_names), constant_protein_background=True)\n",
    "vae_malts[\"Constant BG\"] = TOTALVI(dataset_pbmc.nb_genes, len(dataset_pbmc.protein_names), constant_protein_background=True)\n",
    "vae_slns[\"Constant BG\"] = TOTALVI(dataset_sln.nb_genes, len(dataset_sln.protein_names), constant_protein_background=True)\n",
    "\n",
    "\n",
    "trainer_pbmcs = {}\n",
    "trainer_malts = {}\n",
    "trainer_slns = {}\n",
    "             \n",
    "for key, val in vae_pbmcs.items():\n",
    "    t = TotalTrainer(\n",
    "        val,\n",
    "        dataset_pbmc,\n",
    "        train_size=0.80,\n",
    "        test_size=0.05,\n",
    "        use_cuda=use_cuda,\n",
    "        frequency=1,\n",
    "        data_loader_kwargs={\"batch_size\":256, \"pin_memory\": False},\n",
    "        early_stopping_kwargs=early_stopping_kwargs,\n",
    "    )\n",
    "    trainer_pbmcs[key] = t\n",
    "    t.train(lr=lr, n_epochs=500)\n",
    "\n",
    "for key, val in vae_malts.items():\n",
    "    t = TotalTrainer(\n",
    "        val,\n",
    "        dataset_malt,\n",
    "        train_size=0.80,\n",
    "        test_size=0.05,\n",
    "        use_cuda=use_cuda,\n",
    "        frequency=1,\n",
    "        data_loader_kwargs={\"batch_size\":256, \"pin_memory\": False},\n",
    "        early_stopping_kwargs=early_stopping_kwargs,\n",
    "    )\n",
    "    trainer_malts[key] = t\n",
    "    t.train(lr=lr, n_epochs=500)\n",
    "\n",
    "             \n",
    "for key, val in vae_slns.items():\n",
    "    t = TotalTrainer(\n",
    "        val,\n",
    "        dataset_sln,\n",
    "        train_size=0.80,\n",
    "        test_size=0.05,\n",
    "        use_cuda=use_cuda,\n",
    "        frequency=1,\n",
    "        data_loader_kwargs={\"batch_size\":256, \"pin_memory\": False},\n",
    "        early_stopping_kwargs=early_stopping_kwargs,\n",
    "    )\n",
    "    trainer_slns[key] = t\n",
    "    t.train(lr=lr, n_epochs=500)\n"
   ]
  },
  {
   "cell_type": "code",
   "execution_count": 7,
   "metadata": {},
   "outputs": [],
   "source": [
    "post_pbmc = {k : t.train_set for k, t in trainer_pbmcs.items()}\n",
    "post_malt = {k : t.train_set for k, t in trainer_malts.items()}\n",
    "post_sln = {k : t.train_set for k, t in trainer_slns.items()}"
   ]
  },
  {
   "cell_type": "code",
   "execution_count": 8,
   "metadata": {},
   "outputs": [],
   "source": [
    "ppc_held_pbmc = totalPPC(\n",
    "    posteriors_dict={k : t.validation_set for k, t in trainer_pbmcs.items()},\n",
    "    n_samples=150,\n",
    ")\n",
    "ppc_full_pbmc = totalPPC(\n",
    "    posteriors_dict=post_pbmc,\n",
    "    n_samples=25,\n",
    ")\n",
    "ppc_held_malt = totalPPC(\n",
    "    posteriors_dict={k : t.validation_set for k, t in trainer_malts.items()},\n",
    "    n_samples=150,\n",
    ")\n",
    "ppc_full_malt = totalPPC(\n",
    "    posteriors_dict=post_malt,\n",
    "    n_samples=25,\n",
    ")\n",
    "\n",
    "ppc_held_sln = totalPPC(\n",
    "    posteriors_dict={k : t.validation_set for k, t in trainer_slns.items()},\n",
    "    n_samples=150,\n",
    ")\n",
    "ppc_full_sln = totalPPC(\n",
    "    posteriors_dict=post_sln,\n",
    "    n_samples=25,\n",
    ")"
   ]
  },
  {
   "cell_type": "code",
   "execution_count": 9,
   "metadata": {},
   "outputs": [],
   "source": [
    "ppc_helds = [ppc_held_pbmc, ppc_held_malt, ppc_held_sln]"
   ]
  },
  {
   "cell_type": "code",
   "execution_count": 10,
   "metadata": {},
   "outputs": [],
   "source": [
    "for p in ppc_helds:\n",
    "    p.mean_absolute_error()"
   ]
  },
  {
   "cell_type": "code",
   "execution_count": 11,
   "metadata": {},
   "outputs": [
    {
     "name": "stdout",
     "output_type": "stream",
     "text": [
      "          NB Mixture          NB     Poisson  Constant BG\n",
      "genes       0.194546    0.194211    0.202287     0.196786\n",
      "proteins  148.685577  394.433685  355.728455   400.737640\n",
      "          NB Mixture          NB     Poisson  Constant BG\n",
      "genes        0.20729    0.209657    0.218024     0.208284\n",
      "proteins   111.79277  319.209625  250.833176   306.045258\n",
      "          NB Mixture         NB    Poisson  Constant BG\n",
      "genes       0.251304   0.254122   0.256438     0.248291\n",
      "proteins    8.000090  19.699322  21.298223  2301.576904\n"
     ]
    }
   ],
   "source": [
    "for p in ppc_helds:\n",
    "    print(p.metrics[\"mean_ae\"])"
   ]
  },
  {
   "cell_type": "code",
   "execution_count": 12,
   "metadata": {},
   "outputs": [],
   "source": [
    "for p in ppc_helds:\n",
    "    p.calibration_error(confidence_intervals=[0.5, 99.5])"
   ]
  },
  {
   "cell_type": "code",
   "execution_count": 13,
   "metadata": {},
   "outputs": [
    {
     "data": {
      "text/html": [
       "<div>\n",
       "<style scoped>\n",
       "    .dataframe tbody tr th:only-of-type {\n",
       "        vertical-align: middle;\n",
       "    }\n",
       "\n",
       "    .dataframe tbody tr th {\n",
       "        vertical-align: top;\n",
       "    }\n",
       "\n",
       "    .dataframe thead th {\n",
       "        text-align: right;\n",
       "    }\n",
       "</style>\n",
       "<table border=\"1\" class=\"dataframe\">\n",
       "  <thead>\n",
       "    <tr style=\"text-align: right;\">\n",
       "      <th></th>\n",
       "      <th>NB Mixture</th>\n",
       "      <th>NB</th>\n",
       "      <th>Poisson</th>\n",
       "      <th>Constant BG</th>\n",
       "    </tr>\n",
       "  </thead>\n",
       "  <tbody>\n",
       "    <tr>\n",
       "      <td>genes</td>\n",
       "      <td>0.000035</td>\n",
       "      <td>0.000035</td>\n",
       "      <td>0.000039</td>\n",
       "      <td>0.000040</td>\n",
       "    </tr>\n",
       "    <tr>\n",
       "      <td>proteins</td>\n",
       "      <td>0.000019</td>\n",
       "      <td>0.000066</td>\n",
       "      <td>0.000088</td>\n",
       "      <td>0.278938</td>\n",
       "    </tr>\n",
       "    <tr>\n",
       "      <td>total</td>\n",
       "      <td>0.000034</td>\n",
       "      <td>0.000035</td>\n",
       "      <td>0.000039</td>\n",
       "      <td>0.000020</td>\n",
       "    </tr>\n",
       "  </tbody>\n",
       "</table>\n",
       "</div>"
      ],
      "text/plain": [
       "          NB Mixture        NB   Poisson  Constant BG\n",
       "genes       0.000035  0.000035  0.000039     0.000040\n",
       "proteins    0.000019  0.000066  0.000088     0.278938\n",
       "total       0.000034  0.000035  0.000039     0.000020"
      ]
     },
     "execution_count": 13,
     "metadata": {},
     "output_type": "execute_result"
    }
   ],
   "source": [
    "ppc_held_pbmc.metrics[\"calibration\"]"
   ]
  },
  {
   "cell_type": "code",
   "execution_count": 14,
   "metadata": {},
   "outputs": [],
   "source": [
    "def ppc_bar_plots(key=\"mean_ae\"):\n",
    "#     cols = [\"totalVI\", \"totalVI\", \"FA (Log Rate)\", \"FA (Log)\"]\n",
    "    fig, ax = plt.subplots(2, 2, figsize=(9, 9))\n",
    "    mae_genes = pd.DataFrame(\n",
    "        columns=ppc_held_pbmc.metrics[key].columns, index=[\"PBMC\", \"MALT\", \"SLN111-D1\"]\n",
    "    )\n",
    "    mae_genes.loc[\"PBMC\", :] = ppc_held_pbmc.metrics[key].loc[\"genes\"]\n",
    "    mae_genes.loc[\"MALT\", :] = ppc_held_malt.metrics[key].loc[\"genes\"]\n",
    "    mae_genes.loc[\"SLN111-D1\", :] = ppc_held_sln.metrics[key].loc[\"genes\"]\n",
    "    mae_proteins = pd.DataFrame(\n",
    "        columns=ppc_held_pbmc.metrics[key].columns, index=[\"PBMC\", \"MALT\", \"SLN111-D1\"]\n",
    "    )\n",
    "    mae_proteins.loc[\"PBMC\", :] = ppc_held_pbmc.metrics[\"mean_ae\"].loc[\"proteins\"]\n",
    "    mae_proteins.loc[\"MALT\", :] = ppc_held_malt.metrics[\"mean_ae\"].loc[\"proteins\"]\n",
    "    mae_proteins.loc[\"SLN111-D1\", :] = ppc_held_sln.metrics[\"mean_ae\"].loc[\"proteins\"]\n",
    "\n",
    "\n",
    "#     mae_genes[cols].plot(kind=\"bar\", ax=ax.flat[0], legend=False, color=colors)\n",
    "    mae_genes.plot(kind=\"bar\", ax=ax.flat[0], legend=False, color=colors)\n",
    "    print(mae_proteins)\n",
    "    mae_proteins.plot(kind=\"bar\", ax=ax.flat[1], legend=False, color=colors)\n",
    "\n",
    "    cal_genes = pd.DataFrame(\n",
    "        columns=ppc_held_pbmc.metrics[key].columns, index=[\"PBMC\", \"MALT\", \"SLN111-D1\"]\n",
    "    )\n",
    "    cal_genes.loc[\"PBMC\", :] = ppc_held_pbmc.metrics[\"calibration\"].loc[\"genes\"]\n",
    "    cal_genes.loc[\"MALT\", :] = ppc_held_malt.metrics[\"calibration\"].loc[\"genes\"]\n",
    "    cal_genes.loc[\"SLN111-D1\", :] = ppc_held_sln.metrics[\"calibration\"].loc[\"genes\"]\n",
    "    cal_proteins = cal_genes.copy()\n",
    "    cal_proteins.loc[\"PBMC\", :] = ppc_held_pbmc.metrics[\"calibration\"].loc[\"proteins\"]\n",
    "    cal_proteins.loc[\"MALT\", :] = ppc_held_malt.metrics[\"calibration\"].loc[\"proteins\"]\n",
    "    cal_proteins.loc[\"SLN111-D1\", :] = ppc_held_sln.metrics[\"calibration\"].loc[\"proteins\"]\n",
    "\n",
    "    print(cal_proteins)\n",
    "#     cal_genes[cols].plot(kind=\"bar\", ax=ax.flat[2], legend=False, color=colors)\n",
    "    cal_genes.plot(kind=\"bar\", ax=ax.flat[2], legend=False, color=colors)\n",
    "    cal_proteins.plot(kind=\"bar\", ax=ax.flat[3], legend=False, color=colors)\n",
    "\n",
    "#     ax.flat[0].set_yscale('log')\n",
    "    ax.flat[1].set_yscale('log')\n",
    "#     ax.flat[2].set_yscale('log')\n",
    "    ax.flat[3].set_yscale('log')\n",
    "\n",
    "\n",
    "    ax.flat[2].legend(fancybox=True, shadow=True, bbox_to_anchor=(0.1, -0.4))\n",
    "    for a in ax.flat:\n",
    "        a.tick_params(axis=\"x\", rotation=0)\n",
    "    ax.flat[0].set_title(\"Genes\")\n",
    "    ax.flat[1].set_title(\"Proteins\")\n",
    "    ax.flat[0].set_ylabel(\"Mean Absolute Error\")\n",
    "    ax.flat[2].set_ylabel(\"Calibration Error\")\n",
    "    sns.despine()\n",
    "    "
   ]
  },
  {
   "cell_type": "code",
   "execution_count": 15,
   "metadata": {},
   "outputs": [
    {
     "name": "stdout",
     "output_type": "stream",
     "text": [
      "          NB Mixture       NB  Poisson Constant BG\n",
      "PBMC         148.686  394.434  355.728     400.738\n",
      "MALT         111.793   319.21  250.833     306.045\n",
      "SLN111-D1    8.00009  19.6993  21.2982     2301.58\n",
      "            NB Mixture           NB      Poisson Constant BG\n",
      "PBMC       1.92106e-05  6.59987e-05  8.78841e-05    0.278938\n",
      "MALT       1.88478e-05  7.89628e-05  9.72346e-05    0.366205\n",
      "SLN111-D1  1.53177e-06  9.00505e-05  9.67543e-05   0.0316874\n"
     ]
    },
    {
     "data": {
      "image/png": "[encoded data removed]",
      "text/plain": [
       "<Figure size 648x648 with 4 Axes>"
      ]
     },
     "metadata": {
      "needs_background": "light"
     },
     "output_type": "display_data"
    }
   ],
   "source": [
    "ppc_bar_plots(key=\"mean_ae\")\n",
    "plt.tight_layout()\n",
    "plt.savefig(\"figures/totalvi_ppc/mae_cal.pdf\")"
   ]
  },
  {
   "cell_type": "code",
   "execution_count": 16,
   "metadata": {},
   "outputs": [],
   "source": [
    "for p in ppc_helds:\n",
    "    del p"
   ]
  },
  {
   "cell_type": "code",
   "execution_count": 17,
   "metadata": {},
   "outputs": [],
   "source": [
    "# del p for p in ppc_helds\n",
    "ppc_fulls = [ppc_full_pbmc, ppc_full_malt, ppc_full_sln]"
   ]
  },
  {
   "cell_type": "code",
   "execution_count": 18,
   "metadata": {},
   "outputs": [
    {
     "name": "stderr",
     "output_type": "stream",
     "text": [
      "../utils/totalppc.py:115: RuntimeWarning: invalid value encountered in true_divide\n",
      "  np.std(samples, axis=axis) / np.mean(samples, axis=axis), axis=-1\n"
     ]
    }
   ],
   "source": [
    "# Runtime warning is when samples have all zeros, we consider this as 0 cv\n",
    "for p in ppc_fulls:\n",
    "    p.coeff_of_variation(cell_wise=False)"
   ]
  },
  {
   "cell_type": "code",
   "execution_count": 19,
   "metadata": {},
   "outputs": [],
   "source": [
    "cv_gene_mae_pbmc, cv_gene_mae_malt, cv_gene_mae_sln = {}, {}, {}\n",
    "cv_pro_mae_pbmc, cv_pro_mae_malt, cv_pro_mae_sln = {}, {}, {}\n",
    "cv_gene_maes = [cv_gene_mae_pbmc, cv_gene_mae_malt, cv_gene_mae_sln]\n",
    "cv_pro_maes = [cv_pro_mae_pbmc, cv_pro_mae_malt, cv_pro_mae_sln]\n",
    "\n",
    "for p, dataset, cv_gene_mae, cv_pro_mae in zip(ppc_fulls, datasets, cv_gene_maes, cv_pro_maes):\n",
    "    for m, samples in p.posterior_predictive_samples.items():\n",
    "        cv_gene_mae[m] = [np.mean(\n",
    "            np.abs(\n",
    "                p.metrics[\"cv_gene\"][m].iloc[: dataset.nb_genes]\n",
    "                - p.metrics[\"cv_gene\"][\"raw\"].iloc[: dataset.nb_genes]\n",
    "            )\n",
    "        )]\n",
    "        cv_pro_mae[m] = [np.mean(\n",
    "            np.abs(\n",
    "                p.metrics[\"cv_gene\"][m].iloc[dataset.nb_genes:]\n",
    "                - p.metrics[\"cv_gene\"][\"raw\"].iloc[dataset.nb_genes:]\n",
    "            )\n",
    "        )]\n",
    "    p.metrics[\"cv_gene_mae\"] = pd.DataFrame.from_dict(cv_gene_mae)\n",
    "    p.metrics[\"cv_pro_mae\"] = pd.DataFrame.from_dict(cv_pro_mae)"
   ]
  },
  {
   "cell_type": "code",
   "execution_count": 20,
   "metadata": {},
   "outputs": [
    {
     "data": {
      "text/plain": [
       "NB Mixture     0\n",
       "NB             0\n",
       "Poisson        0\n",
       "Constant BG    0\n",
       "dtype: int64"
      ]
     },
     "execution_count": 20,
     "metadata": {},
     "output_type": "execute_result"
    }
   ],
   "source": [
    "(p.metrics[\"cv_gene_mae\"].iloc[: dataset.nb_genes] == 0).sum(axis=0)"
   ]
  },
  {
   "cell_type": "code",
   "execution_count": 21,
   "metadata": {},
   "outputs": [
    {
     "name": "stdout",
     "output_type": "stream",
     "text": [
      "[[0.81 0.8  0.71 0.74]]\n",
      "[['0.81' '0.8' '0.71' '0.74' '--']]\n",
      "[[1.53 1.41 1.56 1.39]]\n",
      "[['1.53' '1.41' '1.56' '1.39' '--']]\n",
      "[[1.05 1.04 1.29 1.23]]\n",
      "[['1.05' '1.04' '1.29' '1.23' '--']]\n"
     ]
    },
    {
     "data": {
      "image/png": "[encoded data removed]",
      "text/plain": [
       "<Figure size 648x900 with 6 Axes>"
      ]
     },
     "metadata": {
      "needs_background": "light"
     },
     "output_type": "display_data"
    }
   ],
   "source": [
    "fig, ax = plt.subplots(3, 2, figsize=(9, 12.5), sharex=False)\n",
    "inds = [0, 2, 4]\n",
    "for i, p, dataset in zip(inds, ppc_fulls, datasets):\n",
    "    gene_table = np.round(p.metrics[\"cv_gene_mae\"].values, 2)\n",
    "    print(gene_table)\n",
    "    gene_table = np.concatenate([gene_table, np.array([\"--\"]).reshape(1, 1)], axis=1)\n",
    "    print(gene_table)\n",
    "    pro_table = np.round(p.metrics[\"cv_pro_mae\"].values, 2)\n",
    "    pro_table = np.concatenate([pro_table, np.array([\"--\"]).reshape(1, 1)], axis=1)\n",
    "    sns.set_palette(colors)\n",
    "    sns.violinplot(\n",
    "        data=p.metrics[\"cv_gene\"].iloc[: dataset.nb_genes],\n",
    "        ax=ax.flat[i],\n",
    "        cut=0,\n",
    "        scale=\"count\",\n",
    "#         order=[\"totalVI\", \"scVI\", \"FA (Log)\", \"FA (Log Rate)\", \"raw\"]\n",
    "    )\n",
    "    the_table = ax.flat[i].table(\n",
    "        cellText=gene_table, rowLabels=[\"MAE\"], loc=\"top\", cellLoc=\"center\"\n",
    "    )\n",
    "    the_table.scale(1, 2)\n",
    "    the_table.set_fontsize(12)\n",
    "    \n",
    "    sns.set_palette(colors)\n",
    "    sns.violinplot(\n",
    "        data=p.metrics[\"cv_gene\"].iloc[dataset.nb_genes :],\n",
    "        ax=ax.flat[i + 1],\n",
    "        cut=0,\n",
    "        scale=\"count\",\n",
    "#         order=[\"totalVI\", \"FA (Log)\", \"FA (Log Rate)\", \"raw\"]\n",
    "    )\n",
    "    the_table = ax.flat[i + 1].table(\n",
    "        cellText=pro_table,\n",
    "        loc=\"top\",\n",
    "        cellLoc=\"center\",\n",
    "        rowLabels=[\"MAE\"],\n",
    "    )\n",
    "    the_table.scale(1, 2)\n",
    "    the_table.set_fontsize(12)\n",
    "\n",
    "title = ax.flat[0].set_title(\"Coefficient of Variation (Genes)\")\n",
    "title.set_position([0.5, 1.15])\n",
    "title = ax.flat[1].set_title(\"Coefficient of Variation (Proteins)\")\n",
    "title.set_position([0.5, 1.15])\n",
    "ax.flat[1].set_ylim(0, 29)\n",
    "ax.flat[0].set_xticklabels([])\n",
    "ax.flat[1].set_xticklabels([])\n",
    "ax.flat[2].set_xticklabels([])\n",
    "ax.flat[3].set_xticklabels([])\n",
    "ax.flat[4].tick_params(axis=\"x\", rotation=45)\n",
    "ax.flat[5].tick_params(axis=\"x\", rotation=45)\n",
    "ax.flat[0].set_ylabel(\"PBMC10k\", labelpad=30)\n",
    "ax.flat[2].set_ylabel(\"MALT\", labelpad=22)\n",
    "ax.flat[4].set_ylabel(\"SLN111-D1\", labelpad=22)\n",
    "# sns.despine()\n",
    "\n",
    "# plt.tight_layout()\n",
    "plt.savefig(\"figures/totalvi_ppc/violins_cv.pdf\", bbox_inches=\"tight\")"
   ]
  },
  {
   "cell_type": "code",
   "execution_count": null,
   "metadata": {},
   "outputs": [],
   "source": []
  }
 ],
 "metadata": {
  "kernelspec": {
   "display_name": "scvi",
   "language": "python",
   "name": "scvi"
  },
  "language_info": {
   "codemirror_mode": {
    "name": "ipython",
    "version": 3
   },
   "file_extension": ".py",
   "mimetype": "text/x-python",
   "name": "python",
   "nbconvert_exporter": "python",
   "pygments_lexer": "ipython3",
   "version": "3.7.3"
  },
  "toc": {
   "base_numbering": 1,
   "nav_menu": {},
   "number_sections": true,
   "sideBar": true,
   "skip_h1_title": false,
   "title_cell": "Table of Contents",
   "title_sidebar": "Contents",
   "toc_cell": false,
   "toc_position": {},
   "toc_section_display": true,
   "toc_window_display": true
  }
 },
 "nbformat": 4,
 "nbformat_minor": 4
}
